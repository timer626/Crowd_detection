{
 "cells": [
  {
   "cell_type": "code",
   "execution_count": 2,
   "id": "09784631-0f87-4a03-8b1a-44f34b79eb64",
   "metadata": {},
   "outputs": [
    {
     "name": "stderr",
     "output_type": "stream",
     "text": [
      "2025-05-30 09:51:36,820 - INFO - Модели загружены\n"
     ]
    }
   ],
   "source": [
    "import logging\n",
    "from ultralytics import YOLO\n",
    "import cv2\n",
    "import numpy as np\n",
    "import matplotlib.pyplot as plt\n",
    "import plotly.express as px\n",
    "import pandas as pd\n",
    "import time\n",
    "\n",
    "%matplotlib inline\n",
    "\n",
    "# Логирование\n",
    "logging.basicConfig(level=logging.INFO, format='%(asctime)s - %(levelname)s - %(message)s')\n",
    "logger = logging.getLogger(__name__)\n",
    "\n",
    "# Пути\n",
    "video_path = \"crowd.mp4\"\n",
    "output_paths = {\"YOLOv8x\": \"output_yolov8x.mp4\", \"YOLO11x\": \"output_yolo11x.mp4\"}\n",
    "comparison_output = \"output_comparison.mp4\"\n",
    "\n",
    "# Модели\n",
    "models = {\"YOLOv8x\": YOLO(\"yolov8x.pt\"), \"YOLO11x\": YOLO(\"yolo11x.pt\")}\n",
    "logger.info(\"Модели загружены\")"
   ]
  },
  {
   "cell_type": "code",
   "execution_count": 5,
   "id": "b4594ba8-46de-433c-8273-30984fa8b364",
   "metadata": {},
   "outputs": [
    {
     "name": "stderr",
     "output_type": "stream",
     "text": [
      "2025-05-30 10:39:07,605 - INFO - Кадр 1\n"
     ]
    },
    {
     "name": "stdout",
     "output_type": "stream",
     "text": [
      "\n",
      "0: 384x640 6 persons, 1095.7ms\n",
      "Speed: 7.3ms preprocess, 1095.7ms inference, 2.7ms postprocess per image at shape (1, 3, 384, 640)\n",
      "\n",
      "0: 384x640 5 persons, 934.3ms\n",
      "Speed: 3.4ms preprocess, 934.3ms inference, 3.7ms postprocess per image at shape (1, 3, 384, 640)\n"
     ]
    },
    {
     "name": "stderr",
     "output_type": "stream",
     "text": [
      "2025-05-30 10:39:10,087 - INFO - Кадр 2\n"
     ]
    },
    {
     "name": "stdout",
     "output_type": "stream",
     "text": [
      "\n",
      "0: 384x640 12 persons, 925.4ms\n",
      "Speed: 3.3ms preprocess, 925.4ms inference, 2.9ms postprocess per image at shape (1, 3, 384, 640)\n",
      "\n",
      "0: 384x640 8 persons, 891.2ms\n",
      "Speed: 3.7ms preprocess, 891.2ms inference, 2.7ms postprocess per image at shape (1, 3, 384, 640)\n"
     ]
    },
    {
     "name": "stderr",
     "output_type": "stream",
     "text": [
      "2025-05-30 10:39:12,243 - INFO - Кадр 3\n"
     ]
    },
    {
     "name": "stdout",
     "output_type": "stream",
     "text": [
      "\n",
      "0: 384x640 13 persons, 1084.5ms\n",
      "Speed: 3.7ms preprocess, 1084.5ms inference, 2.8ms postprocess per image at shape (1, 3, 384, 640)\n",
      "\n",
      "0: 384x640 8 persons, 823.9ms\n",
      "Speed: 3.4ms preprocess, 823.9ms inference, 2.7ms postprocess per image at shape (1, 3, 384, 640)\n"
     ]
    },
    {
     "name": "stderr",
     "output_type": "stream",
     "text": [
      "2025-05-30 10:39:14,450 - INFO - Кадр 4\n"
     ]
    },
    {
     "name": "stdout",
     "output_type": "stream",
     "text": [
      "\n",
      "0: 384x640 12 persons, 1001.6ms\n",
      "Speed: 3.2ms preprocess, 1001.6ms inference, 2.7ms postprocess per image at shape (1, 3, 384, 640)\n",
      "\n",
      "0: 384x640 8 persons, 798.2ms\n",
      "Speed: 3.4ms preprocess, 798.2ms inference, 2.9ms postprocess per image at shape (1, 3, 384, 640)\n"
     ]
    },
    {
     "name": "stderr",
     "output_type": "stream",
     "text": [
      "2025-05-30 10:39:16,536 - INFO - Кадр 5\n"
     ]
    },
    {
     "name": "stdout",
     "output_type": "stream",
     "text": [
      "\n",
      "0: 384x640 12 persons, 888.5ms\n",
      "Speed: 3.3ms preprocess, 888.5ms inference, 2.9ms postprocess per image at shape (1, 3, 384, 640)\n",
      "\n",
      "0: 384x640 8 persons, 806.2ms\n",
      "Speed: 4.6ms preprocess, 806.2ms inference, 2.6ms postprocess per image at shape (1, 3, 384, 640)\n"
     ]
    },
    {
     "name": "stderr",
     "output_type": "stream",
     "text": [
      "2025-05-30 10:39:18,518 - INFO - Кадр 6\n"
     ]
    },
    {
     "name": "stdout",
     "output_type": "stream",
     "text": [
      "\n",
      "0: 384x640 12 persons, 887.9ms\n",
      "Speed: 3.2ms preprocess, 887.9ms inference, 2.8ms postprocess per image at shape (1, 3, 384, 640)\n",
      "\n",
      "0: 384x640 8 persons, 904.5ms\n",
      "Speed: 3.2ms preprocess, 904.5ms inference, 2.7ms postprocess per image at shape (1, 3, 384, 640)\n"
     ]
    },
    {
     "name": "stderr",
     "output_type": "stream",
     "text": [
      "2025-05-30 10:39:20,588 - INFO - Кадр 7\n"
     ]
    },
    {
     "name": "stdout",
     "output_type": "stream",
     "text": [
      "\n",
      "0: 384x640 12 persons, 892.1ms\n",
      "Speed: 3.0ms preprocess, 892.1ms inference, 2.6ms postprocess per image at shape (1, 3, 384, 640)\n",
      "\n",
      "0: 384x640 8 persons, 789.2ms\n",
      "Speed: 4.0ms preprocess, 789.2ms inference, 2.7ms postprocess per image at shape (1, 3, 384, 640)\n"
     ]
    },
    {
     "name": "stderr",
     "output_type": "stream",
     "text": [
      "2025-05-30 10:39:22,556 - INFO - Кадр 8\n"
     ]
    },
    {
     "name": "stdout",
     "output_type": "stream",
     "text": [
      "\n",
      "0: 384x640 12 persons, 879.4ms\n",
      "Speed: 3.1ms preprocess, 879.4ms inference, 2.7ms postprocess per image at shape (1, 3, 384, 640)\n",
      "\n",
      "0: 384x640 8 persons, 793.0ms\n",
      "Speed: 3.2ms preprocess, 793.0ms inference, 2.7ms postprocess per image at shape (1, 3, 384, 640)\n"
     ]
    },
    {
     "name": "stderr",
     "output_type": "stream",
     "text": [
      "2025-05-30 10:39:24,511 - INFO - Кадр 9\n"
     ]
    },
    {
     "name": "stdout",
     "output_type": "stream",
     "text": [
      "\n",
      "0: 384x640 11 persons, 972.9ms\n",
      "Speed: 3.3ms preprocess, 972.9ms inference, 2.7ms postprocess per image at shape (1, 3, 384, 640)\n",
      "\n",
      "0: 384x640 8 persons, 790.8ms\n",
      "Speed: 3.0ms preprocess, 790.8ms inference, 2.8ms postprocess per image at shape (1, 3, 384, 640)\n"
     ]
    },
    {
     "name": "stderr",
     "output_type": "stream",
     "text": [
      "2025-05-30 10:39:26,555 - INFO - Кадр 10\n"
     ]
    },
    {
     "name": "stdout",
     "output_type": "stream",
     "text": [
      "\n",
      "0: 384x640 10 persons, 875.2ms\n",
      "Speed: 3.2ms preprocess, 875.2ms inference, 2.8ms postprocess per image at shape (1, 3, 384, 640)\n",
      "\n",
      "0: 384x640 8 persons, 889.9ms\n",
      "Speed: 3.0ms preprocess, 889.9ms inference, 3.0ms postprocess per image at shape (1, 3, 384, 640)\n"
     ]
    },
    {
     "name": "stderr",
     "output_type": "stream",
     "text": [
      "2025-05-30 10:39:28,613 - INFO - Кадр 11\n"
     ]
    },
    {
     "name": "stdout",
     "output_type": "stream",
     "text": [
      "\n",
      "0: 384x640 11 persons, 881.0ms\n",
      "Speed: 3.2ms preprocess, 881.0ms inference, 2.6ms postprocess per image at shape (1, 3, 384, 640)\n",
      "\n",
      "0: 384x640 8 persons, 898.8ms\n",
      "Speed: 3.3ms preprocess, 898.8ms inference, 2.7ms postprocess per image at shape (1, 3, 384, 640)\n"
     ]
    },
    {
     "name": "stderr",
     "output_type": "stream",
     "text": [
      "2025-05-30 10:39:30,669 - INFO - Кадр 12\n"
     ]
    },
    {
     "name": "stdout",
     "output_type": "stream",
     "text": [
      "\n",
      "0: 384x640 11 persons, 879.2ms\n",
      "Speed: 3.1ms preprocess, 879.2ms inference, 2.6ms postprocess per image at shape (1, 3, 384, 640)\n",
      "\n",
      "0: 384x640 9 persons, 798.8ms\n",
      "Speed: 3.2ms preprocess, 798.8ms inference, 2.7ms postprocess per image at shape (1, 3, 384, 640)\n"
     ]
    },
    {
     "name": "stderr",
     "output_type": "stream",
     "text": [
      "2025-05-30 10:39:32,621 - INFO - Кадр 13\n"
     ]
    },
    {
     "name": "stdout",
     "output_type": "stream",
     "text": [
      "\n",
      "0: 384x640 12 persons, 888.5ms\n",
      "Speed: 3.3ms preprocess, 888.5ms inference, 3.6ms postprocess per image at shape (1, 3, 384, 640)\n",
      "\n",
      "0: 384x640 10 persons, 793.0ms\n",
      "Speed: 3.1ms preprocess, 793.0ms inference, 2.8ms postprocess per image at shape (1, 3, 384, 640)\n"
     ]
    },
    {
     "name": "stderr",
     "output_type": "stream",
     "text": [
      "2025-05-30 10:39:34,591 - INFO - Кадр 14\n"
     ]
    },
    {
     "name": "stdout",
     "output_type": "stream",
     "text": [
      "\n",
      "0: 384x640 12 persons, 955.3ms\n",
      "Speed: 3.4ms preprocess, 955.3ms inference, 3.2ms postprocess per image at shape (1, 3, 384, 640)\n",
      "\n",
      "0: 384x640 9 persons, 810.9ms\n",
      "Speed: 3.3ms preprocess, 810.9ms inference, 2.7ms postprocess per image at shape (1, 3, 384, 640)\n"
     ]
    },
    {
     "name": "stderr",
     "output_type": "stream",
     "text": [
      "2025-05-30 10:39:36,654 - INFO - Кадр 15\n"
     ]
    },
    {
     "name": "stdout",
     "output_type": "stream",
     "text": [
      "\n",
      "0: 384x640 12 persons, 877.1ms\n",
      "Speed: 3.4ms preprocess, 877.1ms inference, 2.9ms postprocess per image at shape (1, 3, 384, 640)\n",
      "\n",
      "0: 384x640 8 persons, 822.5ms\n",
      "Speed: 4.4ms preprocess, 822.5ms inference, 2.7ms postprocess per image at shape (1, 3, 384, 640)\n"
     ]
    },
    {
     "name": "stderr",
     "output_type": "stream",
     "text": [
      "2025-05-30 10:39:38,633 - INFO - Кадр 16\n"
     ]
    },
    {
     "name": "stdout",
     "output_type": "stream",
     "text": [
      "\n",
      "0: 384x640 13 persons, 889.5ms\n",
      "Speed: 3.1ms preprocess, 889.5ms inference, 2.7ms postprocess per image at shape (1, 3, 384, 640)\n",
      "\n",
      "0: 384x640 8 persons, 790.5ms\n",
      "Speed: 3.1ms preprocess, 790.5ms inference, 2.7ms postprocess per image at shape (1, 3, 384, 640)\n"
     ]
    },
    {
     "name": "stderr",
     "output_type": "stream",
     "text": [
      "2025-05-30 10:39:40,592 - INFO - Кадр 17\n"
     ]
    },
    {
     "name": "stdout",
     "output_type": "stream",
     "text": [
      "\n",
      "0: 384x640 13 persons, 967.2ms\n",
      "Speed: 3.2ms preprocess, 967.2ms inference, 3.7ms postprocess per image at shape (1, 3, 384, 640)\n",
      "\n",
      "0: 384x640 8 persons, 789.2ms\n",
      "Speed: 3.3ms preprocess, 789.2ms inference, 2.7ms postprocess per image at shape (1, 3, 384, 640)\n"
     ]
    },
    {
     "name": "stderr",
     "output_type": "stream",
     "text": [
      "2025-05-30 10:39:42,631 - INFO - Кадр 18\n"
     ]
    },
    {
     "name": "stdout",
     "output_type": "stream",
     "text": [
      "\n",
      "0: 384x640 13 persons, 883.3ms\n",
      "Speed: 3.5ms preprocess, 883.3ms inference, 2.7ms postprocess per image at shape (1, 3, 384, 640)\n",
      "\n",
      "0: 384x640 9 persons, 790.1ms\n",
      "Speed: 3.2ms preprocess, 790.1ms inference, 2.7ms postprocess per image at shape (1, 3, 384, 640)\n"
     ]
    },
    {
     "name": "stderr",
     "output_type": "stream",
     "text": [
      "2025-05-30 10:39:44,585 - INFO - Кадр 19\n"
     ]
    },
    {
     "name": "stdout",
     "output_type": "stream",
     "text": [
      "\n",
      "0: 384x640 13 persons, 878.6ms\n",
      "Speed: 3.2ms preprocess, 878.6ms inference, 2.7ms postprocess per image at shape (1, 3, 384, 640)\n",
      "\n",
      "0: 384x640 8 persons, 905.8ms\n",
      "Speed: 3.0ms preprocess, 905.8ms inference, 2.7ms postprocess per image at shape (1, 3, 384, 640)\n"
     ]
    },
    {
     "name": "stderr",
     "output_type": "stream",
     "text": [
      "2025-05-30 10:39:46,653 - INFO - Кадр 20\n"
     ]
    },
    {
     "name": "stdout",
     "output_type": "stream",
     "text": [
      "\n",
      "0: 384x640 12 persons, 899.1ms\n",
      "Speed: 3.1ms preprocess, 899.1ms inference, 2.7ms postprocess per image at shape (1, 3, 384, 640)\n",
      "\n",
      "0: 384x640 8 persons, 791.9ms\n",
      "Speed: 3.0ms preprocess, 791.9ms inference, 2.7ms postprocess per image at shape (1, 3, 384, 640)\n"
     ]
    },
    {
     "name": "stderr",
     "output_type": "stream",
     "text": [
      "2025-05-30 10:39:48,622 - INFO - Кадр 21\n"
     ]
    },
    {
     "name": "stdout",
     "output_type": "stream",
     "text": [
      "\n",
      "0: 384x640 13 persons, 877.4ms\n",
      "Speed: 3.3ms preprocess, 877.4ms inference, 2.7ms postprocess per image at shape (1, 3, 384, 640)\n",
      "\n",
      "0: 384x640 8 persons, 841.8ms\n",
      "Speed: 3.1ms preprocess, 841.8ms inference, 3.1ms postprocess per image at shape (1, 3, 384, 640)\n"
     ]
    },
    {
     "name": "stderr",
     "output_type": "stream",
     "text": [
      "2025-05-30 10:39:50,619 - INFO - Кадр 22\n"
     ]
    },
    {
     "name": "stdout",
     "output_type": "stream",
     "text": [
      "\n",
      "0: 384x640 12 persons, 972.2ms\n",
      "Speed: 3.3ms preprocess, 972.2ms inference, 2.6ms postprocess per image at shape (1, 3, 384, 640)\n",
      "\n",
      "0: 384x640 9 persons, 790.5ms\n",
      "Speed: 3.2ms preprocess, 790.5ms inference, 2.7ms postprocess per image at shape (1, 3, 384, 640)\n"
     ]
    },
    {
     "name": "stderr",
     "output_type": "stream",
     "text": [
      "2025-05-30 10:39:52,667 - INFO - Кадр 23\n"
     ]
    },
    {
     "name": "stdout",
     "output_type": "stream",
     "text": [
      "\n",
      "0: 384x640 12 persons, 872.4ms\n",
      "Speed: 3.1ms preprocess, 872.4ms inference, 2.6ms postprocess per image at shape (1, 3, 384, 640)\n",
      "\n",
      "0: 384x640 9 persons, 786.4ms\n",
      "Speed: 3.3ms preprocess, 786.4ms inference, 2.7ms postprocess per image at shape (1, 3, 384, 640)\n"
     ]
    },
    {
     "name": "stderr",
     "output_type": "stream",
     "text": [
      "2025-05-30 10:39:54,612 - INFO - Кадр 24\n"
     ]
    },
    {
     "name": "stdout",
     "output_type": "stream",
     "text": [
      "\n",
      "0: 384x640 11 persons, 894.0ms\n",
      "Speed: 3.3ms preprocess, 894.0ms inference, 2.7ms postprocess per image at shape (1, 3, 384, 640)\n",
      "\n",
      "0: 384x640 8 persons, 783.6ms\n",
      "Speed: 3.1ms preprocess, 783.6ms inference, 2.7ms postprocess per image at shape (1, 3, 384, 640)\n"
     ]
    },
    {
     "name": "stderr",
     "output_type": "stream",
     "text": [
      "2025-05-30 10:39:56,588 - INFO - Кадр 25\n"
     ]
    },
    {
     "name": "stdout",
     "output_type": "stream",
     "text": [
      "\n",
      "0: 384x640 11 persons, 947.6ms\n",
      "Speed: 3.7ms preprocess, 947.6ms inference, 2.7ms postprocess per image at shape (1, 3, 384, 640)\n",
      "\n",
      "0: 384x640 7 persons, 796.2ms\n",
      "Speed: 3.2ms preprocess, 796.2ms inference, 2.7ms postprocess per image at shape (1, 3, 384, 640)\n"
     ]
    },
    {
     "name": "stderr",
     "output_type": "stream",
     "text": [
      "2025-05-30 10:39:58,619 - INFO - Кадр 26\n"
     ]
    },
    {
     "name": "stdout",
     "output_type": "stream",
     "text": [
      "\n",
      "0: 384x640 10 persons, 878.0ms\n",
      "Speed: 3.1ms preprocess, 878.0ms inference, 2.7ms postprocess per image at shape (1, 3, 384, 640)\n",
      "\n",
      "0: 384x640 7 persons, 840.3ms\n",
      "Speed: 3.3ms preprocess, 840.3ms inference, 2.7ms postprocess per image at shape (1, 3, 384, 640)\n"
     ]
    },
    {
     "name": "stderr",
     "output_type": "stream",
     "text": [
      "2025-05-30 10:40:00,613 - INFO - Кадр 27\n"
     ]
    },
    {
     "name": "stdout",
     "output_type": "stream",
     "text": [
      "\n",
      "0: 384x640 10 persons, 873.4ms\n",
      "Speed: 3.1ms preprocess, 873.4ms inference, 2.7ms postprocess per image at shape (1, 3, 384, 640)\n",
      "\n",
      "0: 384x640 7 persons, 952.2ms\n",
      "Speed: 3.6ms preprocess, 952.2ms inference, 2.7ms postprocess per image at shape (1, 3, 384, 640)\n"
     ]
    },
    {
     "name": "stderr",
     "output_type": "stream",
     "text": [
      "2025-05-30 10:40:02,712 - INFO - Кадр 28\n"
     ]
    },
    {
     "name": "stdout",
     "output_type": "stream",
     "text": [
      "\n",
      "0: 384x640 10 persons, 885.9ms\n",
      "Speed: 3.1ms preprocess, 885.9ms inference, 2.7ms postprocess per image at shape (1, 3, 384, 640)\n",
      "\n",
      "0: 384x640 8 persons, 792.4ms\n",
      "Speed: 3.1ms preprocess, 792.4ms inference, 2.7ms postprocess per image at shape (1, 3, 384, 640)\n"
     ]
    },
    {
     "name": "stderr",
     "output_type": "stream",
     "text": [
      "2025-05-30 10:40:04,675 - INFO - Кадр 29\n"
     ]
    },
    {
     "name": "stdout",
     "output_type": "stream",
     "text": [
      "\n",
      "0: 384x640 10 persons, 901.2ms\n",
      "Speed: 3.1ms preprocess, 901.2ms inference, 2.8ms postprocess per image at shape (1, 3, 384, 640)\n",
      "\n",
      "0: 384x640 9 persons, 790.7ms\n",
      "Speed: 3.1ms preprocess, 790.7ms inference, 2.8ms postprocess per image at shape (1, 3, 384, 640)\n"
     ]
    },
    {
     "name": "stderr",
     "output_type": "stream",
     "text": [
      "2025-05-30 10:40:06,649 - INFO - Кадр 30\n"
     ]
    },
    {
     "name": "stdout",
     "output_type": "stream",
     "text": [
      "\n",
      "0: 384x640 10 persons, 995.3ms\n",
      "Speed: 3.0ms preprocess, 995.3ms inference, 2.9ms postprocess per image at shape (1, 3, 384, 640)\n",
      "\n",
      "0: 384x640 9 persons, 816.2ms\n",
      "Speed: 3.7ms preprocess, 816.2ms inference, 3.1ms postprocess per image at shape (1, 3, 384, 640)\n"
     ]
    },
    {
     "name": "stderr",
     "output_type": "stream",
     "text": [
      "2025-05-30 10:40:08,757 - INFO - Кадр 31\n"
     ]
    },
    {
     "name": "stdout",
     "output_type": "stream",
     "text": [
      "\n",
      "0: 384x640 10 persons, 935.0ms\n",
      "Speed: 3.6ms preprocess, 935.0ms inference, 2.7ms postprocess per image at shape (1, 3, 384, 640)\n",
      "\n",
      "0: 384x640 9 persons, 789.0ms\n",
      "Speed: 3.6ms preprocess, 789.0ms inference, 2.8ms postprocess per image at shape (1, 3, 384, 640)\n"
     ]
    },
    {
     "name": "stderr",
     "output_type": "stream",
     "text": [
      "2025-05-30 10:40:10,768 - INFO - Кадр 32\n"
     ]
    },
    {
     "name": "stdout",
     "output_type": "stream",
     "text": [
      "\n",
      "0: 384x640 10 persons, 877.7ms\n",
      "Speed: 3.1ms preprocess, 877.7ms inference, 2.7ms postprocess per image at shape (1, 3, 384, 640)\n",
      "\n",
      "0: 384x640 9 persons, 887.1ms\n",
      "Speed: 3.2ms preprocess, 887.1ms inference, 2.8ms postprocess per image at shape (1, 3, 384, 640)\n"
     ]
    },
    {
     "name": "stderr",
     "output_type": "stream",
     "text": [
      "2025-05-30 10:40:12,825 - INFO - Кадр 33\n"
     ]
    },
    {
     "name": "stdout",
     "output_type": "stream",
     "text": [
      "\n",
      "0: 384x640 10 persons, 873.5ms\n",
      "Speed: 3.8ms preprocess, 873.5ms inference, 2.7ms postprocess per image at shape (1, 3, 384, 640)\n",
      "\n",
      "0: 384x640 8 persons, 798.7ms\n",
      "Speed: 3.1ms preprocess, 798.7ms inference, 2.8ms postprocess per image at shape (1, 3, 384, 640)\n"
     ]
    },
    {
     "name": "stderr",
     "output_type": "stream",
     "text": [
      "2025-05-30 10:40:14,786 - INFO - Кадр 34\n"
     ]
    },
    {
     "name": "stdout",
     "output_type": "stream",
     "text": [
      "\n",
      "0: 384x640 10 persons, 870.5ms\n",
      "Speed: 4.1ms preprocess, 870.5ms inference, 2.7ms postprocess per image at shape (1, 3, 384, 640)\n",
      "\n",
      "0: 384x640 9 persons, 786.6ms\n",
      "Speed: 3.1ms preprocess, 786.6ms inference, 2.7ms postprocess per image at shape (1, 3, 384, 640)\n"
     ]
    },
    {
     "name": "stderr",
     "output_type": "stream",
     "text": [
      "2025-05-30 10:40:16,730 - INFO - Кадр 35\n"
     ]
    },
    {
     "name": "stdout",
     "output_type": "stream",
     "text": [
      "\n",
      "0: 384x640 10 persons, 932.9ms\n",
      "Speed: 3.1ms preprocess, 932.9ms inference, 3.6ms postprocess per image at shape (1, 3, 384, 640)\n",
      "\n",
      "0: 384x640 7 persons, 806.4ms\n",
      "Speed: 3.2ms preprocess, 806.4ms inference, 2.7ms postprocess per image at shape (1, 3, 384, 640)\n"
     ]
    },
    {
     "name": "stderr",
     "output_type": "stream",
     "text": [
      "2025-05-30 10:40:18,770 - INFO - Кадр 36\n"
     ]
    },
    {
     "name": "stdout",
     "output_type": "stream",
     "text": [
      "\n",
      "0: 384x640 10 persons, 884.3ms\n",
      "Speed: 3.0ms preprocess, 884.3ms inference, 2.7ms postprocess per image at shape (1, 3, 384, 640)\n",
      "\n",
      "0: 384x640 9 persons, 790.6ms\n",
      "Speed: 3.1ms preprocess, 790.6ms inference, 2.7ms postprocess per image at shape (1, 3, 384, 640)\n"
     ]
    },
    {
     "name": "stderr",
     "output_type": "stream",
     "text": [
      "2025-05-30 10:40:20,735 - INFO - Кадр 37\n"
     ]
    },
    {
     "name": "stdout",
     "output_type": "stream",
     "text": [
      "\n",
      "0: 384x640 11 persons, 875.3ms\n",
      "Speed: 3.1ms preprocess, 875.3ms inference, 2.7ms postprocess per image at shape (1, 3, 384, 640)\n",
      "\n",
      "0: 384x640 9 persons, 794.4ms\n",
      "Speed: 3.0ms preprocess, 794.4ms inference, 2.7ms postprocess per image at shape (1, 3, 384, 640)\n"
     ]
    },
    {
     "name": "stderr",
     "output_type": "stream",
     "text": [
      "2025-05-30 10:40:22,688 - INFO - Кадр 38\n"
     ]
    },
    {
     "name": "stdout",
     "output_type": "stream",
     "text": [
      "\n",
      "0: 384x640 11 persons, 980.4ms\n",
      "Speed: 3.2ms preprocess, 980.4ms inference, 2.6ms postprocess per image at shape (1, 3, 384, 640)\n",
      "\n",
      "0: 384x640 9 persons, 787.0ms\n",
      "Speed: 3.2ms preprocess, 787.0ms inference, 2.7ms postprocess per image at shape (1, 3, 384, 640)\n"
     ]
    },
    {
     "name": "stderr",
     "output_type": "stream",
     "text": [
      "2025-05-30 10:40:24,736 - INFO - Кадр 39\n"
     ]
    },
    {
     "name": "stdout",
     "output_type": "stream",
     "text": [
      "\n",
      "0: 384x640 11 persons, 876.4ms\n",
      "Speed: 3.1ms preprocess, 876.4ms inference, 2.7ms postprocess per image at shape (1, 3, 384, 640)\n",
      "\n",
      "0: 384x640 9 persons, 787.5ms\n",
      "Speed: 3.2ms preprocess, 787.5ms inference, 2.6ms postprocess per image at shape (1, 3, 384, 640)\n"
     ]
    },
    {
     "name": "stderr",
     "output_type": "stream",
     "text": [
      "2025-05-30 10:40:26,689 - INFO - Кадр 40\n"
     ]
    },
    {
     "name": "stdout",
     "output_type": "stream",
     "text": [
      "\n",
      "0: 384x640 10 persons, 888.9ms\n",
      "Speed: 3.2ms preprocess, 888.9ms inference, 2.7ms postprocess per image at shape (1, 3, 384, 640)\n",
      "\n",
      "0: 384x640 9 persons, 923.3ms\n",
      "Speed: 3.0ms preprocess, 923.3ms inference, 2.8ms postprocess per image at shape (1, 3, 384, 640)\n"
     ]
    },
    {
     "name": "stderr",
     "output_type": "stream",
     "text": [
      "2025-05-30 10:40:28,789 - INFO - Кадр 41\n"
     ]
    },
    {
     "name": "stdout",
     "output_type": "stream",
     "text": [
      "\n",
      "0: 384x640 12 persons, 889.0ms\n",
      "Speed: 3.1ms preprocess, 889.0ms inference, 2.7ms postprocess per image at shape (1, 3, 384, 640)\n",
      "\n",
      "0: 384x640 9 persons, 789.1ms\n",
      "Speed: 3.2ms preprocess, 789.1ms inference, 2.7ms postprocess per image at shape (1, 3, 384, 640)\n"
     ]
    },
    {
     "name": "stderr",
     "output_type": "stream",
     "text": [
      "2025-05-30 10:40:30,746 - INFO - Кадр 42\n"
     ]
    },
    {
     "name": "stdout",
     "output_type": "stream",
     "text": [
      "\n",
      "0: 384x640 12 persons, 873.5ms\n",
      "Speed: 3.2ms preprocess, 873.5ms inference, 2.9ms postprocess per image at shape (1, 3, 384, 640)\n",
      "\n",
      "0: 384x640 8 persons, 791.8ms\n",
      "Speed: 3.0ms preprocess, 791.8ms inference, 2.8ms postprocess per image at shape (1, 3, 384, 640)\n"
     ]
    },
    {
     "name": "stderr",
     "output_type": "stream",
     "text": [
      "2025-05-30 10:40:32,702 - INFO - Кадр 43\n"
     ]
    },
    {
     "name": "stdout",
     "output_type": "stream",
     "text": [
      "\n",
      "0: 384x640 12 persons, 1048.6ms\n",
      "Speed: 3.5ms preprocess, 1048.6ms inference, 2.7ms postprocess per image at shape (1, 3, 384, 640)\n",
      "\n",
      "0: 384x640 9 persons, 805.4ms\n",
      "Speed: 3.5ms preprocess, 805.4ms inference, 2.7ms postprocess per image at shape (1, 3, 384, 640)\n"
     ]
    },
    {
     "name": "stderr",
     "output_type": "stream",
     "text": [
      "2025-05-30 10:40:34,853 - INFO - Кадр 44\n"
     ]
    },
    {
     "name": "stdout",
     "output_type": "stream",
     "text": [
      "\n",
      "0: 384x640 12 persons, 899.3ms\n",
      "Speed: 3.2ms preprocess, 899.3ms inference, 2.7ms postprocess per image at shape (1, 3, 384, 640)\n",
      "\n",
      "0: 384x640 9 persons, 790.7ms\n",
      "Speed: 3.1ms preprocess, 790.7ms inference, 2.7ms postprocess per image at shape (1, 3, 384, 640)\n"
     ]
    },
    {
     "name": "stderr",
     "output_type": "stream",
     "text": [
      "2025-05-30 10:40:36,829 - INFO - Кадр 45\n"
     ]
    },
    {
     "name": "stdout",
     "output_type": "stream",
     "text": [
      "\n",
      "0: 384x640 11 persons, 894.7ms\n",
      "Speed: 3.1ms preprocess, 894.7ms inference, 3.2ms postprocess per image at shape (1, 3, 384, 640)\n",
      "\n",
      "0: 384x640 9 persons, 885.2ms\n",
      "Speed: 3.9ms preprocess, 885.2ms inference, 3.5ms postprocess per image at shape (1, 3, 384, 640)\n"
     ]
    },
    {
     "name": "stderr",
     "output_type": "stream",
     "text": [
      "2025-05-30 10:40:38,910 - INFO - Кадр 46\n"
     ]
    },
    {
     "name": "stdout",
     "output_type": "stream",
     "text": [
      "\n",
      "0: 384x640 11 persons, 885.1ms\n",
      "Speed: 3.2ms preprocess, 885.1ms inference, 2.7ms postprocess per image at shape (1, 3, 384, 640)\n",
      "\n",
      "0: 384x640 9 persons, 791.3ms\n",
      "Speed: 3.1ms preprocess, 791.3ms inference, 2.7ms postprocess per image at shape (1, 3, 384, 640)\n"
     ]
    },
    {
     "name": "stderr",
     "output_type": "stream",
     "text": [
      "2025-05-30 10:40:40,875 - INFO - Кадр 47\n"
     ]
    },
    {
     "name": "stdout",
     "output_type": "stream",
     "text": [
      "\n",
      "0: 384x640 10 persons, 877.1ms\n",
      "Speed: 3.1ms preprocess, 877.1ms inference, 2.8ms postprocess per image at shape (1, 3, 384, 640)\n",
      "\n",
      "0: 384x640 8 persons, 794.3ms\n",
      "Speed: 3.0ms preprocess, 794.3ms inference, 3.7ms postprocess per image at shape (1, 3, 384, 640)\n"
     ]
    },
    {
     "name": "stderr",
     "output_type": "stream",
     "text": [
      "2025-05-30 10:40:42,848 - INFO - Кадр 48\n"
     ]
    },
    {
     "name": "stdout",
     "output_type": "stream",
     "text": [
      "\n",
      "0: 384x640 10 persons, 871.4ms\n",
      "Speed: 3.1ms preprocess, 871.4ms inference, 2.7ms postprocess per image at shape (1, 3, 384, 640)\n",
      "\n",
      "0: 384x640 10 persons, 871.8ms\n",
      "Speed: 3.9ms preprocess, 871.8ms inference, 2.7ms postprocess per image at shape (1, 3, 384, 640)\n"
     ]
    },
    {
     "name": "stderr",
     "output_type": "stream",
     "text": [
      "2025-05-30 10:40:44,880 - INFO - Кадр 49\n"
     ]
    },
    {
     "name": "stdout",
     "output_type": "stream",
     "text": [
      "\n",
      "0: 384x640 10 persons, 914.2ms\n",
      "Speed: 3.2ms preprocess, 914.2ms inference, 2.7ms postprocess per image at shape (1, 3, 384, 640)\n",
      "\n",
      "0: 384x640 10 persons, 812.0ms\n",
      "Speed: 3.1ms preprocess, 812.0ms inference, 2.9ms postprocess per image at shape (1, 3, 384, 640)\n"
     ]
    },
    {
     "name": "stderr",
     "output_type": "stream",
     "text": [
      "2025-05-30 10:40:46,893 - INFO - Кадр 50\n"
     ]
    },
    {
     "name": "stdout",
     "output_type": "stream",
     "text": [
      "\n",
      "0: 384x640 10 persons, 887.2ms\n",
      "Speed: 3.5ms preprocess, 887.2ms inference, 2.6ms postprocess per image at shape (1, 3, 384, 640)\n",
      "\n",
      "0: 384x640 9 persons, 789.4ms\n",
      "Speed: 3.1ms preprocess, 789.4ms inference, 2.7ms postprocess per image at shape (1, 3, 384, 640)\n"
     ]
    },
    {
     "name": "stderr",
     "output_type": "stream",
     "text": [
      "2025-05-30 10:40:48,859 - INFO - Кадр 51\n"
     ]
    },
    {
     "name": "stdout",
     "output_type": "stream",
     "text": [
      "\n",
      "0: 384x640 10 persons, 1132.2ms\n",
      "Speed: 3.5ms preprocess, 1132.2ms inference, 2.7ms postprocess per image at shape (1, 3, 384, 640)\n",
      "\n",
      "0: 384x640 9 persons, 789.5ms\n",
      "Speed: 3.1ms preprocess, 789.5ms inference, 2.7ms postprocess per image at shape (1, 3, 384, 640)\n"
     ]
    },
    {
     "name": "stderr",
     "output_type": "stream",
     "text": [
      "2025-05-30 10:40:51,074 - INFO - Кадр 52\n"
     ]
    },
    {
     "name": "stdout",
     "output_type": "stream",
     "text": [
      "\n",
      "0: 384x640 10 persons, 874.1ms\n",
      "Speed: 3.2ms preprocess, 874.1ms inference, 2.7ms postprocess per image at shape (1, 3, 384, 640)\n",
      "\n",
      "0: 384x640 9 persons, 790.4ms\n",
      "Speed: 3.0ms preprocess, 790.4ms inference, 2.7ms postprocess per image at shape (1, 3, 384, 640)\n"
     ]
    },
    {
     "name": "stderr",
     "output_type": "stream",
     "text": [
      "2025-05-30 10:40:53,026 - INFO - Кадр 53\n"
     ]
    },
    {
     "name": "stdout",
     "output_type": "stream",
     "text": [
      "\n",
      "0: 384x640 9 persons, 886.0ms\n",
      "Speed: 3.1ms preprocess, 886.0ms inference, 2.6ms postprocess per image at shape (1, 3, 384, 640)\n",
      "\n",
      "0: 384x640 10 persons, 904.0ms\n",
      "Speed: 3.1ms preprocess, 904.0ms inference, 2.8ms postprocess per image at shape (1, 3, 384, 640)\n"
     ]
    },
    {
     "name": "stderr",
     "output_type": "stream",
     "text": [
      "2025-05-30 10:40:55,139 - INFO - Кадр 54\n"
     ]
    },
    {
     "name": "stdout",
     "output_type": "stream",
     "text": [
      "\n",
      "0: 384x640 9 persons, 889.9ms\n",
      "Speed: 3.2ms preprocess, 889.9ms inference, 2.7ms postprocess per image at shape (1, 3, 384, 640)\n",
      "\n",
      "0: 384x640 10 persons, 786.8ms\n",
      "Speed: 3.1ms preprocess, 786.8ms inference, 2.8ms postprocess per image at shape (1, 3, 384, 640)\n"
     ]
    },
    {
     "name": "stderr",
     "output_type": "stream",
     "text": [
      "2025-05-30 10:40:57,101 - INFO - Кадр 55\n"
     ]
    },
    {
     "name": "stdout",
     "output_type": "stream",
     "text": [
      "\n",
      "0: 384x640 9 persons, 872.7ms\n",
      "Speed: 3.2ms preprocess, 872.7ms inference, 2.7ms postprocess per image at shape (1, 3, 384, 640)\n",
      "\n",
      "0: 384x640 10 persons, 781.1ms\n",
      "Speed: 3.1ms preprocess, 781.1ms inference, 2.7ms postprocess per image at shape (1, 3, 384, 640)\n"
     ]
    },
    {
     "name": "stderr",
     "output_type": "stream",
     "text": [
      "2025-05-30 10:40:59,038 - INFO - Кадр 56\n"
     ]
    },
    {
     "name": "stdout",
     "output_type": "stream",
     "text": [
      "\n",
      "0: 384x640 9 persons, 1008.0ms\n",
      "Speed: 3.1ms preprocess, 1008.0ms inference, 3.4ms postprocess per image at shape (1, 3, 384, 640)\n",
      "\n",
      "0: 384x640 10 persons, 797.3ms\n",
      "Speed: 3.2ms preprocess, 797.3ms inference, 2.9ms postprocess per image at shape (1, 3, 384, 640)\n"
     ]
    },
    {
     "name": "stderr",
     "output_type": "stream",
     "text": [
      "2025-05-30 10:41:01,121 - INFO - Кадр 57\n"
     ]
    },
    {
     "name": "stdout",
     "output_type": "stream",
     "text": [
      "\n",
      "0: 384x640 9 persons, 874.2ms\n",
      "Speed: 3.1ms preprocess, 874.2ms inference, 2.8ms postprocess per image at shape (1, 3, 384, 640)\n",
      "\n",
      "0: 384x640 9 persons, 793.9ms\n",
      "Speed: 3.2ms preprocess, 793.9ms inference, 2.7ms postprocess per image at shape (1, 3, 384, 640)\n"
     ]
    },
    {
     "name": "stderr",
     "output_type": "stream",
     "text": [
      "2025-05-30 10:41:03,071 - INFO - Кадр 58\n"
     ]
    },
    {
     "name": "stdout",
     "output_type": "stream",
     "text": [
      "\n",
      "0: 384x640 9 persons, 888.9ms\n",
      "Speed: 3.3ms preprocess, 888.9ms inference, 2.7ms postprocess per image at shape (1, 3, 384, 640)\n",
      "\n",
      "0: 384x640 10 persons, 829.2ms\n",
      "Speed: 3.1ms preprocess, 829.2ms inference, 3.0ms postprocess per image at shape (1, 3, 384, 640)\n"
     ]
    },
    {
     "name": "stderr",
     "output_type": "stream",
     "text": [
      "2025-05-30 10:41:05,101 - INFO - Кадр 59\n"
     ]
    },
    {
     "name": "stdout",
     "output_type": "stream",
     "text": [
      "\n",
      "0: 384x640 10 persons, 1758.8ms\n",
      "Speed: 3.2ms preprocess, 1758.8ms inference, 2.7ms postprocess per image at shape (1, 3, 384, 640)\n",
      "\n",
      "0: 384x640 9 persons, 869.3ms\n",
      "Speed: 3.1ms preprocess, 869.3ms inference, 2.7ms postprocess per image at shape (1, 3, 384, 640)\n"
     ]
    },
    {
     "name": "stderr",
     "output_type": "stream",
     "text": [
      "2025-05-30 10:41:08,026 - INFO - Кадр 60\n"
     ]
    },
    {
     "name": "stdout",
     "output_type": "stream",
     "text": [
      "\n",
      "0: 384x640 10 persons, 954.1ms\n",
      "Speed: 3.8ms preprocess, 954.1ms inference, 2.7ms postprocess per image at shape (1, 3, 384, 640)\n",
      "\n",
      "0: 384x640 9 persons, 789.8ms\n",
      "Speed: 3.0ms preprocess, 789.8ms inference, 2.7ms postprocess per image at shape (1, 3, 384, 640)\n"
     ]
    },
    {
     "name": "stderr",
     "output_type": "stream",
     "text": [
      "2025-05-30 10:41:10,061 - INFO - Кадр 61\n"
     ]
    },
    {
     "name": "stdout",
     "output_type": "stream",
     "text": [
      "\n",
      "0: 384x640 10 persons, 1067.5ms\n",
      "Speed: 4.7ms preprocess, 1067.5ms inference, 2.8ms postprocess per image at shape (1, 3, 384, 640)\n",
      "\n",
      "0: 384x640 9 persons, 1254.6ms\n",
      "Speed: 3.6ms preprocess, 1254.6ms inference, 2.7ms postprocess per image at shape (1, 3, 384, 640)\n"
     ]
    },
    {
     "name": "stderr",
     "output_type": "stream",
     "text": [
      "2025-05-30 10:41:12,673 - INFO - Кадр 62\n"
     ]
    },
    {
     "name": "stdout",
     "output_type": "stream",
     "text": [
      "\n",
      "0: 384x640 10 persons, 987.1ms\n",
      "Speed: 3.4ms preprocess, 987.1ms inference, 2.9ms postprocess per image at shape (1, 3, 384, 640)\n",
      "\n",
      "0: 384x640 9 persons, 860.8ms\n",
      "Speed: 3.4ms preprocess, 860.8ms inference, 2.9ms postprocess per image at shape (1, 3, 384, 640)\n"
     ]
    },
    {
     "name": "stderr",
     "output_type": "stream",
     "text": [
      "2025-05-30 10:41:14,809 - INFO - Кадр 63\n"
     ]
    },
    {
     "name": "stdout",
     "output_type": "stream",
     "text": [
      "\n",
      "0: 384x640 10 persons, 1023.9ms\n",
      "Speed: 3.4ms preprocess, 1023.9ms inference, 2.7ms postprocess per image at shape (1, 3, 384, 640)\n",
      "\n",
      "0: 384x640 9 persons, 865.0ms\n",
      "Speed: 3.2ms preprocess, 865.0ms inference, 2.7ms postprocess per image at shape (1, 3, 384, 640)\n"
     ]
    },
    {
     "name": "stderr",
     "output_type": "stream",
     "text": [
      "2025-05-30 10:41:16,985 - INFO - Кадр 64\n"
     ]
    },
    {
     "name": "stdout",
     "output_type": "stream",
     "text": [
      "\n",
      "0: 384x640 11 persons, 886.9ms\n",
      "Speed: 3.1ms preprocess, 886.9ms inference, 2.7ms postprocess per image at shape (1, 3, 384, 640)\n",
      "\n",
      "0: 384x640 10 persons, 789.8ms\n",
      "Speed: 3.2ms preprocess, 789.8ms inference, 2.7ms postprocess per image at shape (1, 3, 384, 640)\n"
     ]
    },
    {
     "name": "stderr",
     "output_type": "stream",
     "text": [
      "2025-05-30 10:41:18,952 - INFO - Кадр 65\n"
     ]
    },
    {
     "name": "stdout",
     "output_type": "stream",
     "text": [
      "\n",
      "0: 384x640 12 persons, 878.9ms\n",
      "Speed: 3.1ms preprocess, 878.9ms inference, 2.7ms postprocess per image at shape (1, 3, 384, 640)\n",
      "\n",
      "0: 384x640 10 persons, 901.4ms\n",
      "Speed: 3.2ms preprocess, 901.4ms inference, 2.7ms postprocess per image at shape (1, 3, 384, 640)\n"
     ]
    },
    {
     "name": "stderr",
     "output_type": "stream",
     "text": [
      "2025-05-30 10:41:21,020 - INFO - Кадр 66\n"
     ]
    },
    {
     "name": "stdout",
     "output_type": "stream",
     "text": [
      "\n",
      "0: 384x640 11 persons, 883.0ms\n",
      "Speed: 3.2ms preprocess, 883.0ms inference, 3.0ms postprocess per image at shape (1, 3, 384, 640)\n",
      "\n",
      "0: 384x640 11 persons, 790.1ms\n",
      "Speed: 3.1ms preprocess, 790.1ms inference, 2.7ms postprocess per image at shape (1, 3, 384, 640)\n"
     ]
    },
    {
     "name": "stderr",
     "output_type": "stream",
     "text": [
      "2025-05-30 10:41:22,986 - INFO - Кадр 67\n"
     ]
    },
    {
     "name": "stdout",
     "output_type": "stream",
     "text": [
      "\n",
      "0: 384x640 11 persons, 875.1ms\n",
      "Speed: 3.2ms preprocess, 875.1ms inference, 2.7ms postprocess per image at shape (1, 3, 384, 640)\n",
      "\n",
      "0: 384x640 11 persons, 787.4ms\n",
      "Speed: 3.3ms preprocess, 787.4ms inference, 2.7ms postprocess per image at shape (1, 3, 384, 640)\n"
     ]
    },
    {
     "name": "stderr",
     "output_type": "stream",
     "text": [
      "2025-05-30 10:41:24,943 - INFO - Кадр 68\n"
     ]
    },
    {
     "name": "stdout",
     "output_type": "stream",
     "text": [
      "\n",
      "0: 384x640 11 persons, 887.7ms\n",
      "Speed: 3.1ms preprocess, 887.7ms inference, 2.7ms postprocess per image at shape (1, 3, 384, 640)\n",
      "\n",
      "0: 384x640 11 persons, 836.0ms\n",
      "Speed: 6.3ms preprocess, 836.0ms inference, 2.9ms postprocess per image at shape (1, 3, 384, 640)\n"
     ]
    },
    {
     "name": "stderr",
     "output_type": "stream",
     "text": [
      "2025-05-30 10:41:26,984 - INFO - Кадр 69\n"
     ]
    },
    {
     "name": "stdout",
     "output_type": "stream",
     "text": [
      "\n",
      "0: 384x640 10 persons, 880.1ms\n",
      "Speed: 3.3ms preprocess, 880.1ms inference, 2.6ms postprocess per image at shape (1, 3, 384, 640)\n",
      "\n",
      "0: 384x640 11 persons, 787.6ms\n",
      "Speed: 3.1ms preprocess, 787.6ms inference, 2.9ms postprocess per image at shape (1, 3, 384, 640)\n"
     ]
    },
    {
     "name": "stderr",
     "output_type": "stream",
     "text": [
      "2025-05-30 10:41:28,944 - INFO - Кадр 70\n"
     ]
    },
    {
     "name": "stdout",
     "output_type": "stream",
     "text": [
      "\n",
      "0: 384x640 11 persons, 875.4ms\n",
      "Speed: 3.2ms preprocess, 875.4ms inference, 2.8ms postprocess per image at shape (1, 3, 384, 640)\n",
      "\n",
      "0: 384x640 11 persons, 781.6ms\n",
      "Speed: 3.2ms preprocess, 781.6ms inference, 2.7ms postprocess per image at shape (1, 3, 384, 640)\n"
     ]
    },
    {
     "name": "stderr",
     "output_type": "stream",
     "text": [
      "2025-05-30 10:41:30,898 - INFO - Кадр 71\n"
     ]
    },
    {
     "name": "stdout",
     "output_type": "stream",
     "text": [
      "\n",
      "0: 384x640 12 persons, 972.7ms\n",
      "Speed: 3.2ms preprocess, 972.7ms inference, 3.4ms postprocess per image at shape (1, 3, 384, 640)\n",
      "\n",
      "0: 384x640 11 persons, 782.6ms\n",
      "Speed: 3.5ms preprocess, 782.6ms inference, 2.7ms postprocess per image at shape (1, 3, 384, 640)\n"
     ]
    },
    {
     "name": "stderr",
     "output_type": "stream",
     "text": [
      "2025-05-30 10:41:32,949 - INFO - Кадр 72\n"
     ]
    },
    {
     "name": "stdout",
     "output_type": "stream",
     "text": [
      "\n",
      "0: 384x640 12 persons, 877.2ms\n",
      "Speed: 4.0ms preprocess, 877.2ms inference, 3.2ms postprocess per image at shape (1, 3, 384, 640)\n",
      "\n",
      "0: 384x640 9 persons, 810.2ms\n",
      "Speed: 3.5ms preprocess, 810.2ms inference, 2.9ms postprocess per image at shape (1, 3, 384, 640)\n"
     ]
    },
    {
     "name": "stderr",
     "output_type": "stream",
     "text": [
      "2025-05-30 10:41:34,936 - INFO - Кадр 73\n"
     ]
    },
    {
     "name": "stdout",
     "output_type": "stream",
     "text": [
      "\n",
      "0: 384x640 13 persons, 874.9ms\n",
      "Speed: 3.3ms preprocess, 874.9ms inference, 2.9ms postprocess per image at shape (1, 3, 384, 640)\n",
      "\n",
      "0: 384x640 10 persons, 892.5ms\n",
      "Speed: 3.0ms preprocess, 892.5ms inference, 2.9ms postprocess per image at shape (1, 3, 384, 640)\n"
     ]
    },
    {
     "name": "stderr",
     "output_type": "stream",
     "text": [
      "2025-05-30 10:41:36,999 - INFO - Кадр 74\n"
     ]
    },
    {
     "name": "stdout",
     "output_type": "stream",
     "text": [
      "\n",
      "0: 384x640 13 persons, 890.0ms\n",
      "Speed: 3.5ms preprocess, 890.0ms inference, 2.7ms postprocess per image at shape (1, 3, 384, 640)\n",
      "\n",
      "0: 384x640 10 persons, 825.4ms\n",
      "Speed: 3.1ms preprocess, 825.4ms inference, 2.7ms postprocess per image at shape (1, 3, 384, 640)\n"
     ]
    },
    {
     "name": "stderr",
     "output_type": "stream",
     "text": [
      "2025-05-30 10:41:39,008 - INFO - Кадр 75\n"
     ]
    },
    {
     "name": "stdout",
     "output_type": "stream",
     "text": [
      "\n",
      "0: 384x640 12 persons, 1025.3ms\n",
      "Speed: 4.5ms preprocess, 1025.3ms inference, 2.8ms postprocess per image at shape (1, 3, 384, 640)\n",
      "\n",
      "0: 384x640 9 persons, 906.2ms\n",
      "Speed: 3.4ms preprocess, 906.2ms inference, 2.7ms postprocess per image at shape (1, 3, 384, 640)\n"
     ]
    },
    {
     "name": "stderr",
     "output_type": "stream",
     "text": [
      "2025-05-30 10:41:41,233 - INFO - Кадр 76\n"
     ]
    },
    {
     "name": "stdout",
     "output_type": "stream",
     "text": [
      "\n",
      "0: 384x640 11 persons, 1028.9ms\n",
      "Speed: 3.2ms preprocess, 1028.9ms inference, 2.7ms postprocess per image at shape (1, 3, 384, 640)\n",
      "\n",
      "0: 384x640 10 persons, 800.1ms\n",
      "Speed: 3.1ms preprocess, 800.1ms inference, 2.6ms postprocess per image at shape (1, 3, 384, 640)\n"
     ]
    },
    {
     "name": "stderr",
     "output_type": "stream",
     "text": [
      "2025-05-30 10:41:43,351 - INFO - Кадр 77\n"
     ]
    },
    {
     "name": "stdout",
     "output_type": "stream",
     "text": [
      "\n",
      "0: 384x640 10 persons, 876.7ms\n",
      "Speed: 3.1ms preprocess, 876.7ms inference, 2.6ms postprocess per image at shape (1, 3, 384, 640)\n",
      "\n",
      "0: 384x640 9 persons, 785.8ms\n",
      "Speed: 3.1ms preprocess, 785.8ms inference, 2.7ms postprocess per image at shape (1, 3, 384, 640)\n"
     ]
    },
    {
     "name": "stderr",
     "output_type": "stream",
     "text": [
      "2025-05-30 10:41:45,298 - INFO - Кадр 78\n"
     ]
    },
    {
     "name": "stdout",
     "output_type": "stream",
     "text": [
      "\n",
      "0: 384x640 11 persons, 885.2ms\n",
      "Speed: 3.3ms preprocess, 885.2ms inference, 2.7ms postprocess per image at shape (1, 3, 384, 640)\n",
      "\n",
      "0: 384x640 9 persons, 926.5ms\n",
      "Speed: 4.2ms preprocess, 926.5ms inference, 2.7ms postprocess per image at shape (1, 3, 384, 640)\n"
     ]
    },
    {
     "name": "stderr",
     "output_type": "stream",
     "text": [
      "2025-05-30 10:41:47,401 - INFO - Кадр 79\n"
     ]
    },
    {
     "name": "stdout",
     "output_type": "stream",
     "text": [
      "\n",
      "0: 384x640 10 persons, 876.8ms\n",
      "Speed: 3.3ms preprocess, 876.8ms inference, 2.7ms postprocess per image at shape (1, 3, 384, 640)\n",
      "\n",
      "0: 384x640 9 persons, 787.5ms\n",
      "Speed: 3.1ms preprocess, 787.5ms inference, 2.7ms postprocess per image at shape (1, 3, 384, 640)\n"
     ]
    },
    {
     "name": "stderr",
     "output_type": "stream",
     "text": [
      "2025-05-30 10:41:49,360 - INFO - Кадр 80\n"
     ]
    },
    {
     "name": "stdout",
     "output_type": "stream",
     "text": [
      "\n",
      "0: 384x640 9 persons, 877.6ms\n",
      "Speed: 3.1ms preprocess, 877.6ms inference, 2.6ms postprocess per image at shape (1, 3, 384, 640)\n",
      "\n",
      "0: 384x640 9 persons, 789.0ms\n",
      "Speed: 3.0ms preprocess, 789.0ms inference, 2.7ms postprocess per image at shape (1, 3, 384, 640)\n"
     ]
    },
    {
     "name": "stderr",
     "output_type": "stream",
     "text": [
      "2025-05-30 10:41:51,320 - INFO - Кадр 81\n"
     ]
    },
    {
     "name": "stdout",
     "output_type": "stream",
     "text": [
      "\n",
      "0: 384x640 10 persons, 1033.6ms\n",
      "Speed: 3.4ms preprocess, 1033.6ms inference, 4.7ms postprocess per image at shape (1, 3, 384, 640)\n",
      "\n",
      "0: 384x640 8 persons, 823.4ms\n",
      "Speed: 3.3ms preprocess, 823.4ms inference, 2.7ms postprocess per image at shape (1, 3, 384, 640)\n"
     ]
    },
    {
     "name": "stderr",
     "output_type": "stream",
     "text": [
      "2025-05-30 10:41:53,481 - INFO - Кадр 82\n"
     ]
    },
    {
     "name": "stdout",
     "output_type": "stream",
     "text": [
      "\n",
      "0: 384x640 12 persons, 874.5ms\n",
      "Speed: 3.3ms preprocess, 874.5ms inference, 2.7ms postprocess per image at shape (1, 3, 384, 640)\n",
      "\n",
      "0: 384x640 7 persons, 802.5ms\n",
      "Speed: 3.1ms preprocess, 802.5ms inference, 2.7ms postprocess per image at shape (1, 3, 384, 640)\n"
     ]
    },
    {
     "name": "stderr",
     "output_type": "stream",
     "text": [
      "2025-05-30 10:41:55,452 - INFO - Кадр 83\n"
     ]
    },
    {
     "name": "stdout",
     "output_type": "stream",
     "text": [
      "\n",
      "0: 384x640 13 persons, 892.8ms\n",
      "Speed: 3.7ms preprocess, 892.8ms inference, 2.6ms postprocess per image at shape (1, 3, 384, 640)\n",
      "\n",
      "0: 384x640 7 persons, 786.4ms\n",
      "Speed: 3.3ms preprocess, 786.4ms inference, 2.7ms postprocess per image at shape (1, 3, 384, 640)\n"
     ]
    },
    {
     "name": "stderr",
     "output_type": "stream",
     "text": [
      "2025-05-30 10:41:57,429 - INFO - Кадр 84\n"
     ]
    },
    {
     "name": "stdout",
     "output_type": "stream",
     "text": [
      "\n",
      "0: 384x640 12 persons, 975.8ms\n",
      "Speed: 9.5ms preprocess, 975.8ms inference, 2.7ms postprocess per image at shape (1, 3, 384, 640)\n",
      "\n",
      "0: 384x640 7 persons, 783.5ms\n",
      "Speed: 3.2ms preprocess, 783.5ms inference, 2.7ms postprocess per image at shape (1, 3, 384, 640)\n"
     ]
    },
    {
     "name": "stderr",
     "output_type": "stream",
     "text": [
      "2025-05-30 10:41:59,487 - INFO - Кадр 85\n"
     ]
    },
    {
     "name": "stdout",
     "output_type": "stream",
     "text": [
      "\n",
      "0: 384x640 10 persons, 892.0ms\n",
      "Speed: 3.3ms preprocess, 892.0ms inference, 2.7ms postprocess per image at shape (1, 3, 384, 640)\n",
      "\n",
      "0: 384x640 8 persons, 801.1ms\n",
      "Speed: 3.6ms preprocess, 801.1ms inference, 2.7ms postprocess per image at shape (1, 3, 384, 640)\n"
     ]
    },
    {
     "name": "stderr",
     "output_type": "stream",
     "text": [
      "2025-05-30 10:42:01,468 - INFO - Кадр 86\n"
     ]
    },
    {
     "name": "stdout",
     "output_type": "stream",
     "text": [
      "\n",
      "0: 384x640 10 persons, 874.9ms\n",
      "Speed: 4.7ms preprocess, 874.9ms inference, 2.6ms postprocess per image at shape (1, 3, 384, 640)\n",
      "\n",
      "0: 384x640 8 persons, 886.1ms\n",
      "Speed: 3.1ms preprocess, 886.1ms inference, 2.7ms postprocess per image at shape (1, 3, 384, 640)\n"
     ]
    },
    {
     "name": "stderr",
     "output_type": "stream",
     "text": [
      "2025-05-30 10:42:03,516 - INFO - Кадр 87\n"
     ]
    },
    {
     "name": "stdout",
     "output_type": "stream",
     "text": [
      "\n",
      "0: 384x640 12 persons, 922.2ms\n",
      "Speed: 3.1ms preprocess, 922.2ms inference, 2.7ms postprocess per image at shape (1, 3, 384, 640)\n",
      "\n",
      "0: 384x640 9 persons, 840.3ms\n",
      "Speed: 3.0ms preprocess, 840.3ms inference, 2.7ms postprocess per image at shape (1, 3, 384, 640)\n"
     ]
    },
    {
     "name": "stderr",
     "output_type": "stream",
     "text": [
      "2025-05-30 10:42:05,566 - INFO - Кадр 88\n"
     ]
    },
    {
     "name": "stdout",
     "output_type": "stream",
     "text": [
      "\n",
      "0: 384x640 9 persons, 920.7ms\n",
      "Speed: 3.3ms preprocess, 920.7ms inference, 2.6ms postprocess per image at shape (1, 3, 384, 640)\n",
      "\n",
      "0: 384x640 9 persons, 793.5ms\n",
      "Speed: 3.4ms preprocess, 793.5ms inference, 3.1ms postprocess per image at shape (1, 3, 384, 640)\n"
     ]
    },
    {
     "name": "stderr",
     "output_type": "stream",
     "text": [
      "2025-05-30 10:42:07,581 - INFO - Кадр 89\n"
     ]
    },
    {
     "name": "stdout",
     "output_type": "stream",
     "text": [
      "\n",
      "0: 384x640 10 persons, 992.1ms\n",
      "Speed: 3.2ms preprocess, 992.1ms inference, 2.7ms postprocess per image at shape (1, 3, 384, 640)\n",
      "\n",
      "0: 384x640 9 persons, 789.7ms\n",
      "Speed: 3.2ms preprocess, 789.7ms inference, 2.7ms postprocess per image at shape (1, 3, 384, 640)\n"
     ]
    },
    {
     "name": "stderr",
     "output_type": "stream",
     "text": [
      "2025-05-30 10:42:09,651 - INFO - Кадр 90\n"
     ]
    },
    {
     "name": "stdout",
     "output_type": "stream",
     "text": [
      "\n",
      "0: 384x640 10 persons, 882.0ms\n",
      "Speed: 4.0ms preprocess, 882.0ms inference, 2.8ms postprocess per image at shape (1, 3, 384, 640)\n",
      "\n",
      "0: 384x640 9 persons, 790.8ms\n",
      "Speed: 3.3ms preprocess, 790.8ms inference, 2.7ms postprocess per image at shape (1, 3, 384, 640)\n"
     ]
    },
    {
     "name": "stderr",
     "output_type": "stream",
     "text": [
      "2025-05-30 10:42:11,617 - INFO - Кадр 91\n"
     ]
    },
    {
     "name": "stdout",
     "output_type": "stream",
     "text": [
      "\n",
      "0: 384x640 10 persons, 876.5ms\n",
      "Speed: 3.6ms preprocess, 876.5ms inference, 3.0ms postprocess per image at shape (1, 3, 384, 640)\n",
      "\n",
      "0: 384x640 10 persons, 891.5ms\n",
      "Speed: 3.2ms preprocess, 891.5ms inference, 2.7ms postprocess per image at shape (1, 3, 384, 640)\n"
     ]
    },
    {
     "name": "stderr",
     "output_type": "stream",
     "text": [
      "2025-05-30 10:42:13,680 - INFO - Кадр 92\n"
     ]
    },
    {
     "name": "stdout",
     "output_type": "stream",
     "text": [
      "\n",
      "0: 384x640 9 persons, 875.3ms\n",
      "Speed: 3.2ms preprocess, 875.3ms inference, 2.8ms postprocess per image at shape (1, 3, 384, 640)\n",
      "\n",
      "0: 384x640 10 persons, 788.0ms\n",
      "Speed: 4.1ms preprocess, 788.0ms inference, 2.7ms postprocess per image at shape (1, 3, 384, 640)\n"
     ]
    },
    {
     "name": "stderr",
     "output_type": "stream",
     "text": [
      "2025-05-30 10:42:15,644 - INFO - Кадр 93\n"
     ]
    },
    {
     "name": "stdout",
     "output_type": "stream",
     "text": [
      "\n",
      "0: 384x640 9 persons, 906.2ms\n",
      "Speed: 3.5ms preprocess, 906.2ms inference, 2.6ms postprocess per image at shape (1, 3, 384, 640)\n",
      "\n",
      "0: 384x640 9 persons, 1393.7ms\n",
      "Speed: 3.0ms preprocess, 1393.7ms inference, 2.7ms postprocess per image at shape (1, 3, 384, 640)\n"
     ]
    },
    {
     "name": "stderr",
     "output_type": "stream",
     "text": [
      "2025-05-30 10:42:18,235 - INFO - Кадр 94\n"
     ]
    },
    {
     "name": "stdout",
     "output_type": "stream",
     "text": [
      "\n",
      "0: 384x640 11 persons, 1138.4ms\n",
      "Speed: 3.6ms preprocess, 1138.4ms inference, 3.3ms postprocess per image at shape (1, 3, 384, 640)\n",
      "\n",
      "0: 384x640 9 persons, 1007.0ms\n",
      "Speed: 3.5ms preprocess, 1007.0ms inference, 2.7ms postprocess per image at shape (1, 3, 384, 640)\n"
     ]
    },
    {
     "name": "stderr",
     "output_type": "stream",
     "text": [
      "2025-05-30 10:42:20,681 - INFO - Кадр 95\n"
     ]
    },
    {
     "name": "stdout",
     "output_type": "stream",
     "text": [
      "\n",
      "0: 384x640 11 persons, 1012.8ms\n",
      "Speed: 3.3ms preprocess, 1012.8ms inference, 2.7ms postprocess per image at shape (1, 3, 384, 640)\n",
      "\n",
      "0: 384x640 8 persons, 994.2ms\n",
      "Speed: 3.0ms preprocess, 994.2ms inference, 2.7ms postprocess per image at shape (1, 3, 384, 640)\n"
     ]
    },
    {
     "name": "stderr",
     "output_type": "stream",
     "text": [
      "2025-05-30 10:42:22,984 - INFO - Кадр 96\n"
     ]
    },
    {
     "name": "stdout",
     "output_type": "stream",
     "text": [
      "\n",
      "0: 384x640 11 persons, 1140.8ms\n",
      "Speed: 3.8ms preprocess, 1140.8ms inference, 2.7ms postprocess per image at shape (1, 3, 384, 640)\n",
      "\n",
      "0: 384x640 10 persons, 875.1ms\n",
      "Speed: 3.0ms preprocess, 875.1ms inference, 2.7ms postprocess per image at shape (1, 3, 384, 640)\n"
     ]
    },
    {
     "name": "stderr",
     "output_type": "stream",
     "text": [
      "2025-05-30 10:42:25,316 - INFO - Кадр 97\n"
     ]
    },
    {
     "name": "stdout",
     "output_type": "stream",
     "text": [
      "\n",
      "0: 384x640 12 persons, 1148.5ms\n",
      "Speed: 3.3ms preprocess, 1148.5ms inference, 2.7ms postprocess per image at shape (1, 3, 384, 640)\n",
      "\n",
      "0: 384x640 10 persons, 1302.8ms\n",
      "Speed: 3.0ms preprocess, 1302.8ms inference, 3.0ms postprocess per image at shape (1, 3, 384, 640)\n"
     ]
    },
    {
     "name": "stderr",
     "output_type": "stream",
     "text": [
      "2025-05-30 10:42:28,077 - INFO - Кадр 98\n"
     ]
    },
    {
     "name": "stdout",
     "output_type": "stream",
     "text": [
      "\n",
      "0: 384x640 12 persons, 1387.2ms\n",
      "Speed: 4.8ms preprocess, 1387.2ms inference, 3.0ms postprocess per image at shape (1, 3, 384, 640)\n",
      "\n",
      "0: 384x640 9 persons, 876.2ms\n",
      "Speed: 3.4ms preprocess, 876.2ms inference, 2.8ms postprocess per image at shape (1, 3, 384, 640)\n"
     ]
    },
    {
     "name": "stderr",
     "output_type": "stream",
     "text": [
      "2025-05-30 10:42:30,642 - INFO - Кадр 99\n"
     ]
    },
    {
     "name": "stdout",
     "output_type": "stream",
     "text": [
      "\n",
      "0: 384x640 12 persons, 885.2ms\n",
      "Speed: 3.3ms preprocess, 885.2ms inference, 3.0ms postprocess per image at shape (1, 3, 384, 640)\n",
      "\n",
      "0: 384x640 10 persons, 826.0ms\n",
      "Speed: 3.1ms preprocess, 826.0ms inference, 2.7ms postprocess per image at shape (1, 3, 384, 640)\n"
     ]
    },
    {
     "name": "stderr",
     "output_type": "stream",
     "text": [
      "2025-05-30 10:42:32,658 - INFO - Кадр 100\n"
     ]
    },
    {
     "name": "stdout",
     "output_type": "stream",
     "text": [
      "\n",
      "0: 384x640 12 persons, 1038.3ms\n",
      "Speed: 3.6ms preprocess, 1038.3ms inference, 2.9ms postprocess per image at shape (1, 3, 384, 640)\n",
      "\n",
      "0: 384x640 10 persons, 930.0ms\n",
      "Speed: 3.1ms preprocess, 930.0ms inference, 4.0ms postprocess per image at shape (1, 3, 384, 640)\n"
     ]
    },
    {
     "name": "stderr",
     "output_type": "stream",
     "text": [
      "2025-05-30 10:42:34,925 - INFO - Кадр 101\n"
     ]
    },
    {
     "name": "stdout",
     "output_type": "stream",
     "text": [
      "\n",
      "0: 384x640 11 persons, 907.5ms\n",
      "Speed: 3.2ms preprocess, 907.5ms inference, 2.7ms postprocess per image at shape (1, 3, 384, 640)\n",
      "\n",
      "0: 384x640 10 persons, 818.5ms\n",
      "Speed: 3.3ms preprocess, 818.5ms inference, 2.7ms postprocess per image at shape (1, 3, 384, 640)\n"
     ]
    },
    {
     "name": "stderr",
     "output_type": "stream",
     "text": [
      "2025-05-30 10:42:36,938 - INFO - Кадр 102\n"
     ]
    },
    {
     "name": "stdout",
     "output_type": "stream",
     "text": [
      "\n",
      "0: 384x640 11 persons, 898.5ms\n",
      "Speed: 3.2ms preprocess, 898.5ms inference, 2.9ms postprocess per image at shape (1, 3, 384, 640)\n",
      "\n",
      "0: 384x640 9 persons, 810.2ms\n",
      "Speed: 3.1ms preprocess, 810.2ms inference, 2.7ms postprocess per image at shape (1, 3, 384, 640)\n"
     ]
    },
    {
     "name": "stderr",
     "output_type": "stream",
     "text": [
      "2025-05-30 10:42:38,939 - INFO - Кадр 103\n"
     ]
    },
    {
     "name": "stdout",
     "output_type": "stream",
     "text": [
      "\n",
      "0: 384x640 11 persons, 1337.3ms\n",
      "Speed: 3.4ms preprocess, 1337.3ms inference, 40.7ms postprocess per image at shape (1, 3, 384, 640)\n",
      "\n",
      "0: 384x640 10 persons, 886.2ms\n",
      "Speed: 69.3ms preprocess, 886.2ms inference, 2.2ms postprocess per image at shape (1, 3, 384, 640)\n"
     ]
    },
    {
     "name": "stderr",
     "output_type": "stream",
     "text": [
      "2025-05-30 10:42:41,504 - INFO - Кадр 104\n"
     ]
    },
    {
     "name": "stdout",
     "output_type": "stream",
     "text": [
      "\n",
      "0: 384x640 11 persons, 717.3ms\n",
      "Speed: 2.3ms preprocess, 717.3ms inference, 2.3ms postprocess per image at shape (1, 3, 384, 640)\n",
      "\n",
      "0: 384x640 8 persons, 1009.9ms\n",
      "Speed: 2.0ms preprocess, 1009.9ms inference, 2.1ms postprocess per image at shape (1, 3, 384, 640)\n"
     ]
    },
    {
     "name": "stderr",
     "output_type": "stream",
     "text": [
      "2025-05-30 10:42:43,425 - INFO - Кадр 105\n"
     ]
    },
    {
     "name": "stdout",
     "output_type": "stream",
     "text": [
      "\n",
      "0: 384x640 11 persons, 816.6ms\n",
      "Speed: 2.7ms preprocess, 816.6ms inference, 2.6ms postprocess per image at shape (1, 3, 384, 640)\n",
      "\n",
      "0: 384x640 10 persons, 843.9ms\n",
      "Speed: 2.6ms preprocess, 843.9ms inference, 2.2ms postprocess per image at shape (1, 3, 384, 640)\n"
     ]
    },
    {
     "name": "stderr",
     "output_type": "stream",
     "text": [
      "2025-05-30 10:42:45,282 - INFO - Кадр 106\n"
     ]
    },
    {
     "name": "stdout",
     "output_type": "stream",
     "text": [
      "\n",
      "0: 384x640 10 persons, 852.0ms\n",
      "Speed: 2.3ms preprocess, 852.0ms inference, 2.4ms postprocess per image at shape (1, 3, 384, 640)\n",
      "\n",
      "0: 384x640 9 persons, 633.0ms\n",
      "Speed: 2.0ms preprocess, 633.0ms inference, 2.0ms postprocess per image at shape (1, 3, 384, 640)\n"
     ]
    },
    {
     "name": "stderr",
     "output_type": "stream",
     "text": [
      "2025-05-30 10:42:46,954 - INFO - Кадр 107\n"
     ]
    },
    {
     "name": "stdout",
     "output_type": "stream",
     "text": [
      "\n",
      "0: 384x640 10 persons, 673.8ms\n",
      "Speed: 2.1ms preprocess, 673.8ms inference, 2.0ms postprocess per image at shape (1, 3, 384, 640)\n",
      "\n",
      "0: 384x640 10 persons, 589.5ms\n",
      "Speed: 2.0ms preprocess, 589.5ms inference, 2.1ms postprocess per image at shape (1, 3, 384, 640)\n"
     ]
    },
    {
     "name": "stderr",
     "output_type": "stream",
     "text": [
      "2025-05-30 10:42:48,404 - INFO - Кадр 108\n"
     ]
    },
    {
     "name": "stdout",
     "output_type": "stream",
     "text": [
      "\n",
      "0: 384x640 9 persons, 649.0ms\n",
      "Speed: 2.2ms preprocess, 649.0ms inference, 2.0ms postprocess per image at shape (1, 3, 384, 640)\n",
      "\n",
      "0: 384x640 10 persons, 598.4ms\n",
      "Speed: 2.0ms preprocess, 598.4ms inference, 2.0ms postprocess per image at shape (1, 3, 384, 640)\n"
     ]
    },
    {
     "name": "stderr",
     "output_type": "stream",
     "text": [
      "2025-05-30 10:42:49,833 - INFO - Кадр 109\n"
     ]
    },
    {
     "name": "stdout",
     "output_type": "stream",
     "text": [
      "\n",
      "0: 384x640 10 persons, 725.1ms\n",
      "Speed: 1.9ms preprocess, 725.1ms inference, 2.1ms postprocess per image at shape (1, 3, 384, 640)\n",
      "\n",
      "0: 384x640 8 persons, 587.5ms\n",
      "Speed: 2.0ms preprocess, 587.5ms inference, 2.0ms postprocess per image at shape (1, 3, 384, 640)\n"
     ]
    },
    {
     "name": "stderr",
     "output_type": "stream",
     "text": [
      "2025-05-30 10:42:51,330 - INFO - Кадр 110\n"
     ]
    },
    {
     "name": "stdout",
     "output_type": "stream",
     "text": [
      "\n",
      "0: 384x640 11 persons, 656.0ms\n",
      "Speed: 2.1ms preprocess, 656.0ms inference, 2.3ms postprocess per image at shape (1, 3, 384, 640)\n",
      "\n",
      "0: 384x640 9 persons, 591.6ms\n",
      "Speed: 1.9ms preprocess, 591.6ms inference, 2.1ms postprocess per image at shape (1, 3, 384, 640)\n"
     ]
    },
    {
     "name": "stderr",
     "output_type": "stream",
     "text": [
      "2025-05-30 10:42:52,771 - INFO - Кадр 111\n"
     ]
    },
    {
     "name": "stdout",
     "output_type": "stream",
     "text": [
      "\n",
      "0: 384x640 11 persons, 657.5ms\n",
      "Speed: 1.9ms preprocess, 657.5ms inference, 2.1ms postprocess per image at shape (1, 3, 384, 640)\n",
      "\n",
      "0: 384x640 9 persons, 717.3ms\n",
      "Speed: 1.9ms preprocess, 717.3ms inference, 2.0ms postprocess per image at shape (1, 3, 384, 640)\n"
     ]
    },
    {
     "name": "stderr",
     "output_type": "stream",
     "text": [
      "2025-05-30 10:42:54,337 - INFO - Кадр 112\n"
     ]
    },
    {
     "name": "stdout",
     "output_type": "stream",
     "text": [
      "\n",
      "0: 384x640 11 persons, 810.8ms\n",
      "Speed: 2.0ms preprocess, 810.8ms inference, 2.1ms postprocess per image at shape (1, 3, 384, 640)\n",
      "\n",
      "0: 384x640 9 persons, 661.6ms\n",
      "Speed: 1.9ms preprocess, 661.6ms inference, 2.0ms postprocess per image at shape (1, 3, 384, 640)\n"
     ]
    },
    {
     "name": "stderr",
     "output_type": "stream",
     "text": [
      "2025-05-30 10:42:56,002 - INFO - Кадр 113\n"
     ]
    },
    {
     "name": "stdout",
     "output_type": "stream",
     "text": [
      "\n",
      "0: 384x640 11 persons, 657.0ms\n",
      "Speed: 2.4ms preprocess, 657.0ms inference, 2.2ms postprocess per image at shape (1, 3, 384, 640)\n",
      "\n",
      "0: 384x640 9 persons, 588.3ms\n",
      "Speed: 1.9ms preprocess, 588.3ms inference, 2.1ms postprocess per image at shape (1, 3, 384, 640)\n"
     ]
    },
    {
     "name": "stderr",
     "output_type": "stream",
     "text": [
      "2025-05-30 10:42:57,441 - INFO - Кадр 114\n"
     ]
    },
    {
     "name": "stdout",
     "output_type": "stream",
     "text": [
      "\n",
      "0: 384x640 11 persons, 738.5ms\n",
      "Speed: 2.2ms preprocess, 738.5ms inference, 2.3ms postprocess per image at shape (1, 3, 384, 640)\n",
      "\n",
      "0: 384x640 9 persons, 851.0ms\n",
      "Speed: 2.1ms preprocess, 851.0ms inference, 2.1ms postprocess per image at shape (1, 3, 384, 640)\n"
     ]
    },
    {
     "name": "stderr",
     "output_type": "stream",
     "text": [
      "2025-05-30 10:42:59,232 - INFO - Кадр 115\n"
     ]
    },
    {
     "name": "stdout",
     "output_type": "stream",
     "text": [
      "\n",
      "0: 384x640 11 persons, 783.0ms\n",
      "Speed: 2.0ms preprocess, 783.0ms inference, 2.3ms postprocess per image at shape (1, 3, 384, 640)\n",
      "\n",
      "0: 384x640 10 persons, 716.0ms\n",
      "Speed: 2.0ms preprocess, 716.0ms inference, 2.1ms postprocess per image at shape (1, 3, 384, 640)\n"
     ]
    },
    {
     "name": "stderr",
     "output_type": "stream",
     "text": [
      "2025-05-30 10:43:00,928 - INFO - Кадр 116\n"
     ]
    },
    {
     "name": "stdout",
     "output_type": "stream",
     "text": [
      "\n",
      "0: 384x640 11 persons, 662.8ms\n",
      "Speed: 2.1ms preprocess, 662.8ms inference, 2.1ms postprocess per image at shape (1, 3, 384, 640)\n",
      "\n",
      "0: 384x640 9 persons, 593.1ms\n",
      "Speed: 2.0ms preprocess, 593.1ms inference, 2.0ms postprocess per image at shape (1, 3, 384, 640)\n"
     ]
    },
    {
     "name": "stderr",
     "output_type": "stream",
     "text": [
      "2025-05-30 10:43:02,381 - INFO - Кадр 117\n"
     ]
    },
    {
     "name": "stdout",
     "output_type": "stream",
     "text": [
      "\n",
      "0: 384x640 11 persons, 660.7ms\n",
      "Speed: 2.2ms preprocess, 660.7ms inference, 2.4ms postprocess per image at shape (1, 3, 384, 640)\n",
      "\n",
      "0: 384x640 9 persons, 595.1ms\n",
      "Speed: 2.1ms preprocess, 595.1ms inference, 2.0ms postprocess per image at shape (1, 3, 384, 640)\n"
     ]
    },
    {
     "name": "stderr",
     "output_type": "stream",
     "text": [
      "2025-05-30 10:43:03,831 - INFO - Кадр 118\n"
     ]
    },
    {
     "name": "stdout",
     "output_type": "stream",
     "text": [
      "\n",
      "0: 384x640 11 persons, 655.9ms\n",
      "Speed: 2.3ms preprocess, 655.9ms inference, 2.2ms postprocess per image at shape (1, 3, 384, 640)\n",
      "\n",
      "0: 384x640 9 persons, 593.1ms\n",
      "Speed: 1.9ms preprocess, 593.1ms inference, 2.0ms postprocess per image at shape (1, 3, 384, 640)\n"
     ]
    },
    {
     "name": "stderr",
     "output_type": "stream",
     "text": [
      "2025-05-30 10:43:05,269 - INFO - Кадр 119\n"
     ]
    },
    {
     "name": "stdout",
     "output_type": "stream",
     "text": [
      "\n",
      "0: 384x640 11 persons, 727.8ms\n",
      "Speed: 2.2ms preprocess, 727.8ms inference, 2.4ms postprocess per image at shape (1, 3, 384, 640)\n",
      "\n",
      "0: 384x640 9 persons, 585.9ms\n",
      "Speed: 2.0ms preprocess, 585.9ms inference, 2.2ms postprocess per image at shape (1, 3, 384, 640)\n"
     ]
    },
    {
     "name": "stderr",
     "output_type": "stream",
     "text": [
      "2025-05-30 10:43:06,777 - INFO - Кадр 120\n"
     ]
    },
    {
     "name": "stdout",
     "output_type": "stream",
     "text": [
      "\n",
      "0: 384x640 11 persons, 662.3ms\n",
      "Speed: 2.1ms preprocess, 662.3ms inference, 2.2ms postprocess per image at shape (1, 3, 384, 640)\n",
      "\n",
      "0: 384x640 9 persons, 591.0ms\n",
      "Speed: 1.8ms preprocess, 591.0ms inference, 2.0ms postprocess per image at shape (1, 3, 384, 640)\n"
     ]
    },
    {
     "name": "stderr",
     "output_type": "stream",
     "text": [
      "2025-05-30 10:43:08,230 - INFO - Кадр 121\n"
     ]
    },
    {
     "name": "stdout",
     "output_type": "stream",
     "text": [
      "\n",
      "0: 384x640 11 persons, 658.5ms\n",
      "Speed: 2.1ms preprocess, 658.5ms inference, 2.2ms postprocess per image at shape (1, 3, 384, 640)\n",
      "\n",
      "0: 384x640 9 persons, 607.4ms\n",
      "Speed: 2.0ms preprocess, 607.4ms inference, 2.0ms postprocess per image at shape (1, 3, 384, 640)\n"
     ]
    },
    {
     "name": "stderr",
     "output_type": "stream",
     "text": [
      "2025-05-30 10:43:09,681 - INFO - Кадр 122\n"
     ]
    },
    {
     "name": "stdout",
     "output_type": "stream",
     "text": [
      "\n",
      "0: 384x640 11 persons, 665.1ms\n",
      "Speed: 2.2ms preprocess, 665.1ms inference, 2.1ms postprocess per image at shape (1, 3, 384, 640)\n",
      "\n",
      "0: 384x640 9 persons, 689.1ms\n",
      "Speed: 2.0ms preprocess, 689.1ms inference, 2.1ms postprocess per image at shape (1, 3, 384, 640)\n"
     ]
    },
    {
     "name": "stderr",
     "output_type": "stream",
     "text": [
      "2025-05-30 10:43:11,227 - INFO - Кадр 123\n"
     ]
    },
    {
     "name": "stdout",
     "output_type": "stream",
     "text": [
      "\n",
      "0: 384x640 11 persons, 681.5ms\n",
      "Speed: 2.7ms preprocess, 681.5ms inference, 2.2ms postprocess per image at shape (1, 3, 384, 640)\n",
      "\n",
      "0: 384x640 9 persons, 594.8ms\n",
      "Speed: 2.0ms preprocess, 594.8ms inference, 2.0ms postprocess per image at shape (1, 3, 384, 640)\n"
     ]
    },
    {
     "name": "stderr",
     "output_type": "stream",
     "text": [
      "2025-05-30 10:43:12,698 - INFO - Кадр 124\n"
     ]
    },
    {
     "name": "stdout",
     "output_type": "stream",
     "text": [
      "\n",
      "0: 384x640 11 persons, 696.9ms\n",
      "Speed: 2.1ms preprocess, 696.9ms inference, 2.4ms postprocess per image at shape (1, 3, 384, 640)\n",
      "\n",
      "0: 384x640 10 persons, 607.1ms\n",
      "Speed: 2.2ms preprocess, 607.1ms inference, 2.1ms postprocess per image at shape (1, 3, 384, 640)\n"
     ]
    },
    {
     "name": "stderr",
     "output_type": "stream",
     "text": [
      "2025-05-30 10:43:14,200 - INFO - Кадр 125\n"
     ]
    },
    {
     "name": "stdout",
     "output_type": "stream",
     "text": [
      "\n",
      "0: 384x640 12 persons, 693.5ms\n",
      "Speed: 2.4ms preprocess, 693.5ms inference, 2.3ms postprocess per image at shape (1, 3, 384, 640)\n",
      "\n",
      "0: 384x640 10 persons, 597.3ms\n",
      "Speed: 2.1ms preprocess, 597.3ms inference, 2.1ms postprocess per image at shape (1, 3, 384, 640)\n"
     ]
    },
    {
     "name": "stderr",
     "output_type": "stream",
     "text": [
      "2025-05-30 10:43:15,677 - INFO - Кадр 126\n"
     ]
    },
    {
     "name": "stdout",
     "output_type": "stream",
     "text": [
      "\n",
      "0: 384x640 13 persons, 749.2ms\n",
      "Speed: 2.0ms preprocess, 749.2ms inference, 2.4ms postprocess per image at shape (1, 3, 384, 640)\n",
      "\n",
      "0: 384x640 10 persons, 600.7ms\n",
      "Speed: 2.0ms preprocess, 600.7ms inference, 2.0ms postprocess per image at shape (1, 3, 384, 640)\n"
     ]
    },
    {
     "name": "stderr",
     "output_type": "stream",
     "text": [
      "2025-05-30 10:43:17,229 - INFO - Кадр 127\n"
     ]
    },
    {
     "name": "stdout",
     "output_type": "stream",
     "text": [
      "\n",
      "0: 384x640 12 persons, 663.6ms\n",
      "Speed: 2.1ms preprocess, 663.6ms inference, 2.2ms postprocess per image at shape (1, 3, 384, 640)\n",
      "\n",
      "0: 384x640 10 persons, 602.4ms\n",
      "Speed: 2.1ms preprocess, 602.4ms inference, 2.1ms postprocess per image at shape (1, 3, 384, 640)\n"
     ]
    },
    {
     "name": "stderr",
     "output_type": "stream",
     "text": [
      "2025-05-30 10:43:18,687 - INFO - Кадр 128\n"
     ]
    },
    {
     "name": "stdout",
     "output_type": "stream",
     "text": [
      "\n",
      "0: 384x640 12 persons, 670.8ms\n",
      "Speed: 2.0ms preprocess, 670.8ms inference, 2.2ms postprocess per image at shape (1, 3, 384, 640)\n",
      "\n",
      "0: 384x640 10 persons, 686.0ms\n",
      "Speed: 2.0ms preprocess, 686.0ms inference, 2.1ms postprocess per image at shape (1, 3, 384, 640)\n"
     ]
    },
    {
     "name": "stderr",
     "output_type": "stream",
     "text": [
      "2025-05-30 10:43:20,236 - INFO - Кадр 129\n"
     ]
    },
    {
     "name": "stdout",
     "output_type": "stream",
     "text": [
      "\n",
      "0: 384x640 12 persons, 682.9ms\n",
      "Speed: 2.1ms preprocess, 682.9ms inference, 2.2ms postprocess per image at shape (1, 3, 384, 640)\n",
      "\n",
      "0: 384x640 10 persons, 680.4ms\n",
      "Speed: 2.0ms preprocess, 680.4ms inference, 2.1ms postprocess per image at shape (1, 3, 384, 640)\n"
     ]
    },
    {
     "name": "stderr",
     "output_type": "stream",
     "text": [
      "2025-05-30 10:43:21,798 - INFO - Кадр 130\n"
     ]
    },
    {
     "name": "stdout",
     "output_type": "stream",
     "text": [
      "\n",
      "0: 384x640 11 persons, 675.9ms\n",
      "Speed: 2.3ms preprocess, 675.9ms inference, 2.1ms postprocess per image at shape (1, 3, 384, 640)\n",
      "\n",
      "0: 384x640 10 persons, 601.4ms\n",
      "Speed: 2.0ms preprocess, 601.4ms inference, 2.1ms postprocess per image at shape (1, 3, 384, 640)\n"
     ]
    },
    {
     "name": "stderr",
     "output_type": "stream",
     "text": [
      "2025-05-30 10:43:23,268 - INFO - Кадр 131\n"
     ]
    },
    {
     "name": "stdout",
     "output_type": "stream",
     "text": [
      "\n",
      "0: 384x640 12 persons, 664.9ms\n",
      "Speed: 2.1ms preprocess, 664.9ms inference, 2.2ms postprocess per image at shape (1, 3, 384, 640)\n",
      "\n",
      "0: 384x640 10 persons, 594.9ms\n",
      "Speed: 2.1ms preprocess, 594.9ms inference, 2.1ms postprocess per image at shape (1, 3, 384, 640)\n"
     ]
    },
    {
     "name": "stderr",
     "output_type": "stream",
     "text": [
      "2025-05-30 10:43:24,717 - INFO - Кадр 132\n"
     ]
    },
    {
     "name": "stdout",
     "output_type": "stream",
     "text": [
      "\n",
      "0: 384x640 13 persons, 669.5ms\n",
      "Speed: 2.0ms preprocess, 669.5ms inference, 2.2ms postprocess per image at shape (1, 3, 384, 640)\n",
      "\n",
      "0: 384x640 10 persons, 607.2ms\n",
      "Speed: 2.0ms preprocess, 607.2ms inference, 2.1ms postprocess per image at shape (1, 3, 384, 640)\n"
     ]
    },
    {
     "name": "stderr",
     "output_type": "stream",
     "text": [
      "2025-05-30 10:43:26,188 - INFO - Кадр 133\n"
     ]
    },
    {
     "name": "stdout",
     "output_type": "stream",
     "text": [
      "\n",
      "0: 384x640 12 persons, 749.0ms\n",
      "Speed: 2.2ms preprocess, 749.0ms inference, 2.2ms postprocess per image at shape (1, 3, 384, 640)\n",
      "\n",
      "0: 384x640 10 persons, 605.3ms\n",
      "Speed: 1.9ms preprocess, 605.3ms inference, 2.1ms postprocess per image at shape (1, 3, 384, 640)\n"
     ]
    },
    {
     "name": "stderr",
     "output_type": "stream",
     "text": [
      "2025-05-30 10:43:27,732 - INFO - Кадр 134\n"
     ]
    },
    {
     "name": "stdout",
     "output_type": "stream",
     "text": [
      "\n",
      "0: 384x640 12 persons, 674.2ms\n",
      "Speed: 2.2ms preprocess, 674.2ms inference, 2.3ms postprocess per image at shape (1, 3, 384, 640)\n",
      "\n",
      "0: 384x640 10 persons, 597.2ms\n",
      "Speed: 2.0ms preprocess, 597.2ms inference, 2.2ms postprocess per image at shape (1, 3, 384, 640)\n"
     ]
    },
    {
     "name": "stderr",
     "output_type": "stream",
     "text": [
      "2025-05-30 10:43:29,198 - INFO - Кадр 135\n"
     ]
    },
    {
     "name": "stdout",
     "output_type": "stream",
     "text": [
      "\n",
      "0: 384x640 12 persons, 663.9ms\n",
      "Speed: 2.1ms preprocess, 663.9ms inference, 2.2ms postprocess per image at shape (1, 3, 384, 640)\n",
      "\n",
      "0: 384x640 10 persons, 606.5ms\n",
      "Speed: 2.0ms preprocess, 606.5ms inference, 2.0ms postprocess per image at shape (1, 3, 384, 640)\n"
     ]
    },
    {
     "name": "stderr",
     "output_type": "stream",
     "text": [
      "2025-05-30 10:43:30,662 - INFO - Кадр 136\n"
     ]
    },
    {
     "name": "stdout",
     "output_type": "stream",
     "text": [
      "\n",
      "0: 384x640 12 persons, 679.0ms\n",
      "Speed: 2.1ms preprocess, 679.0ms inference, 2.1ms postprocess per image at shape (1, 3, 384, 640)\n",
      "\n",
      "0: 384x640 10 persons, 692.6ms\n",
      "Speed: 1.8ms preprocess, 692.6ms inference, 2.1ms postprocess per image at shape (1, 3, 384, 640)\n"
     ]
    },
    {
     "name": "stderr",
     "output_type": "stream",
     "text": [
      "2025-05-30 10:43:32,222 - INFO - Кадр 137\n"
     ]
    },
    {
     "name": "stdout",
     "output_type": "stream",
     "text": [
      "\n",
      "0: 384x640 12 persons, 670.9ms\n",
      "Speed: 2.0ms preprocess, 670.9ms inference, 2.2ms postprocess per image at shape (1, 3, 384, 640)\n",
      "\n",
      "0: 384x640 9 persons, 606.3ms\n",
      "Speed: 2.0ms preprocess, 606.3ms inference, 2.3ms postprocess per image at shape (1, 3, 384, 640)\n"
     ]
    },
    {
     "name": "stderr",
     "output_type": "stream",
     "text": [
      "2025-05-30 10:43:33,698 - INFO - Кадр 138\n"
     ]
    },
    {
     "name": "stdout",
     "output_type": "stream",
     "text": [
      "\n",
      "0: 384x640 12 persons, 675.0ms\n",
      "Speed: 2.3ms preprocess, 675.0ms inference, 2.2ms postprocess per image at shape (1, 3, 384, 640)\n",
      "\n",
      "0: 384x640 10 persons, 626.0ms\n",
      "Speed: 1.9ms preprocess, 626.0ms inference, 2.1ms postprocess per image at shape (1, 3, 384, 640)\n"
     ]
    },
    {
     "name": "stderr",
     "output_type": "stream",
     "text": [
      "2025-05-30 10:43:35,194 - INFO - Кадр 139\n"
     ]
    },
    {
     "name": "stdout",
     "output_type": "stream",
     "text": [
      "\n",
      "0: 384x640 10 persons, 676.5ms\n",
      "Speed: 2.0ms preprocess, 676.5ms inference, 2.2ms postprocess per image at shape (1, 3, 384, 640)\n",
      "\n",
      "0: 384x640 10 persons, 610.6ms\n",
      "Speed: 1.9ms preprocess, 610.6ms inference, 2.1ms postprocess per image at shape (1, 3, 384, 640)\n"
     ]
    },
    {
     "name": "stderr",
     "output_type": "stream",
     "text": [
      "2025-05-30 10:43:36,680 - INFO - Кадр 140\n"
     ]
    },
    {
     "name": "stdout",
     "output_type": "stream",
     "text": [
      "\n",
      "0: 384x640 10 persons, 782.8ms\n",
      "Speed: 2.0ms preprocess, 782.8ms inference, 2.2ms postprocess per image at shape (1, 3, 384, 640)\n",
      "\n",
      "0: 384x640 10 persons, 609.2ms\n",
      "Speed: 2.0ms preprocess, 609.2ms inference, 2.0ms postprocess per image at shape (1, 3, 384, 640)\n"
     ]
    },
    {
     "name": "stderr",
     "output_type": "stream",
     "text": [
      "2025-05-30 10:43:38,273 - INFO - Кадр 141\n"
     ]
    },
    {
     "name": "stdout",
     "output_type": "stream",
     "text": [
      "\n",
      "0: 384x640 10 persons, 673.2ms\n",
      "Speed: 2.1ms preprocess, 673.2ms inference, 2.2ms postprocess per image at shape (1, 3, 384, 640)\n",
      "\n",
      "0: 384x640 10 persons, 610.5ms\n",
      "Speed: 1.9ms preprocess, 610.5ms inference, 2.1ms postprocess per image at shape (1, 3, 384, 640)\n"
     ]
    },
    {
     "name": "stderr",
     "output_type": "stream",
     "text": [
      "2025-05-30 10:43:39,755 - INFO - Кадр 142\n"
     ]
    },
    {
     "name": "stdout",
     "output_type": "stream",
     "text": [
      "\n",
      "0: 384x640 11 persons, 678.5ms\n",
      "Speed: 2.2ms preprocess, 678.5ms inference, 2.2ms postprocess per image at shape (1, 3, 384, 640)\n",
      "\n",
      "0: 384x640 11 persons, 603.2ms\n",
      "Speed: 1.9ms preprocess, 603.2ms inference, 2.4ms postprocess per image at shape (1, 3, 384, 640)\n"
     ]
    },
    {
     "name": "stderr",
     "output_type": "stream",
     "text": [
      "2025-05-30 10:43:41,239 - INFO - Кадр 143\n"
     ]
    },
    {
     "name": "stdout",
     "output_type": "stream",
     "text": [
      "\n",
      "0: 384x640 11 persons, 680.9ms\n",
      "Speed: 3.1ms preprocess, 680.9ms inference, 2.2ms postprocess per image at shape (1, 3, 384, 640)\n",
      "\n",
      "0: 384x640 10 persons, 687.7ms\n",
      "Speed: 2.2ms preprocess, 687.7ms inference, 2.0ms postprocess per image at shape (1, 3, 384, 640)\n"
     ]
    },
    {
     "name": "stderr",
     "output_type": "stream",
     "text": [
      "2025-05-30 10:43:42,805 - INFO - Кадр 144\n"
     ]
    },
    {
     "name": "stdout",
     "output_type": "stream",
     "text": [
      "\n",
      "0: 384x640 11 persons, 688.9ms\n",
      "Speed: 1.9ms preprocess, 688.9ms inference, 2.2ms postprocess per image at shape (1, 3, 384, 640)\n",
      "\n",
      "0: 384x640 10 persons, 604.4ms\n",
      "Speed: 2.1ms preprocess, 604.4ms inference, 2.2ms postprocess per image at shape (1, 3, 384, 640)\n"
     ]
    },
    {
     "name": "stderr",
     "output_type": "stream",
     "text": [
      "2025-05-30 10:43:44,305 - INFO - Кадр 145\n"
     ]
    },
    {
     "name": "stdout",
     "output_type": "stream",
     "text": [
      "\n",
      "0: 384x640 13 persons, 665.7ms\n",
      "Speed: 2.3ms preprocess, 665.7ms inference, 2.3ms postprocess per image at shape (1, 3, 384, 640)\n",
      "\n",
      "0: 384x640 11 persons, 605.9ms\n",
      "Speed: 2.0ms preprocess, 605.9ms inference, 2.2ms postprocess per image at shape (1, 3, 384, 640)\n"
     ]
    },
    {
     "name": "stderr",
     "output_type": "stream",
     "text": [
      "2025-05-30 10:43:45,777 - INFO - Кадр 146\n"
     ]
    },
    {
     "name": "stdout",
     "output_type": "stream",
     "text": [
      "\n",
      "0: 384x640 12 persons, 681.7ms\n",
      "Speed: 2.5ms preprocess, 681.7ms inference, 2.2ms postprocess per image at shape (1, 3, 384, 640)\n",
      "\n",
      "0: 384x640 11 persons, 601.7ms\n",
      "Speed: 2.0ms preprocess, 601.7ms inference, 2.0ms postprocess per image at shape (1, 3, 384, 640)\n"
     ]
    },
    {
     "name": "stderr",
     "output_type": "stream",
     "text": [
      "2025-05-30 10:43:47,264 - INFO - Кадр 147\n"
     ]
    },
    {
     "name": "stdout",
     "output_type": "stream",
     "text": [
      "\n",
      "0: 384x640 11 persons, 758.2ms\n",
      "Speed: 2.2ms preprocess, 758.2ms inference, 2.4ms postprocess per image at shape (1, 3, 384, 640)\n",
      "\n",
      "0: 384x640 11 persons, 610.5ms\n",
      "Speed: 1.9ms preprocess, 610.5ms inference, 2.1ms postprocess per image at shape (1, 3, 384, 640)\n"
     ]
    },
    {
     "name": "stderr",
     "output_type": "stream",
     "text": [
      "2025-05-30 10:43:48,828 - INFO - Кадр 148\n"
     ]
    },
    {
     "name": "stdout",
     "output_type": "stream",
     "text": [
      "\n",
      "0: 384x640 12 persons, 699.3ms\n",
      "Speed: 2.0ms preprocess, 699.3ms inference, 2.4ms postprocess per image at shape (1, 3, 384, 640)\n",
      "\n",
      "0: 384x640 11 persons, 608.7ms\n",
      "Speed: 1.9ms preprocess, 608.7ms inference, 2.1ms postprocess per image at shape (1, 3, 384, 640)\n"
     ]
    },
    {
     "name": "stderr",
     "output_type": "stream",
     "text": [
      "2025-05-30 10:43:50,340 - INFO - Кадр 149\n"
     ]
    },
    {
     "name": "stdout",
     "output_type": "stream",
     "text": [
      "\n",
      "0: 384x640 11 persons, 677.0ms\n",
      "Speed: 2.2ms preprocess, 677.0ms inference, 2.2ms postprocess per image at shape (1, 3, 384, 640)\n",
      "\n",
      "0: 384x640 11 persons, 612.5ms\n",
      "Speed: 2.1ms preprocess, 612.5ms inference, 2.1ms postprocess per image at shape (1, 3, 384, 640)\n"
     ]
    },
    {
     "name": "stderr",
     "output_type": "stream",
     "text": [
      "2025-05-30 10:43:51,827 - INFO - Кадр 150\n"
     ]
    },
    {
     "name": "stdout",
     "output_type": "stream",
     "text": [
      "\n",
      "0: 384x640 11 persons, 692.5ms\n",
      "Speed: 2.1ms preprocess, 692.5ms inference, 8.9ms postprocess per image at shape (1, 3, 384, 640)\n",
      "\n",
      "0: 384x640 11 persons, 627.5ms\n",
      "Speed: 2.3ms preprocess, 627.5ms inference, 2.1ms postprocess per image at shape (1, 3, 384, 640)\n"
     ]
    },
    {
     "name": "stderr",
     "output_type": "stream",
     "text": [
      "2025-05-30 10:43:53,379 - INFO - Кадр 151\n"
     ]
    },
    {
     "name": "stdout",
     "output_type": "stream",
     "text": [
      "\n",
      "0: 384x640 12 persons, 688.9ms\n",
      "Speed: 2.2ms preprocess, 688.9ms inference, 2.2ms postprocess per image at shape (1, 3, 384, 640)\n",
      "\n",
      "0: 384x640 10 persons, 628.3ms\n",
      "Speed: 2.4ms preprocess, 628.3ms inference, 2.3ms postprocess per image at shape (1, 3, 384, 640)\n"
     ]
    },
    {
     "name": "stderr",
     "output_type": "stream",
     "text": [
      "2025-05-30 10:43:54,899 - INFO - Кадр 152\n"
     ]
    },
    {
     "name": "stdout",
     "output_type": "stream",
     "text": [
      "\n",
      "0: 384x640 11 persons, 686.4ms\n",
      "Speed: 2.2ms preprocess, 686.4ms inference, 2.5ms postprocess per image at shape (1, 3, 384, 640)\n",
      "\n",
      "0: 384x640 11 persons, 611.8ms\n",
      "Speed: 1.9ms preprocess, 611.8ms inference, 2.1ms postprocess per image at shape (1, 3, 384, 640)\n"
     ]
    },
    {
     "name": "stderr",
     "output_type": "stream",
     "text": [
      "2025-05-30 10:43:56,411 - INFO - Кадр 153\n"
     ]
    },
    {
     "name": "stdout",
     "output_type": "stream",
     "text": [
      "\n",
      "0: 384x640 12 persons, 680.3ms\n",
      "Speed: 2.3ms preprocess, 680.3ms inference, 2.3ms postprocess per image at shape (1, 3, 384, 640)\n",
      "\n",
      "0: 384x640 11 persons, 684.7ms\n",
      "Speed: 2.2ms preprocess, 684.7ms inference, 2.1ms postprocess per image at shape (1, 3, 384, 640)\n"
     ]
    },
    {
     "name": "stderr",
     "output_type": "stream",
     "text": [
      "2025-05-30 10:43:57,993 - INFO - Кадр 154\n"
     ]
    },
    {
     "name": "stdout",
     "output_type": "stream",
     "text": [
      "\n",
      "0: 384x640 13 persons, 683.2ms\n",
      "Speed: 2.5ms preprocess, 683.2ms inference, 2.2ms postprocess per image at shape (1, 3, 384, 640)\n",
      "\n",
      "0: 384x640 11 persons, 606.9ms\n",
      "Speed: 2.1ms preprocess, 606.9ms inference, 2.1ms postprocess per image at shape (1, 3, 384, 640)\n"
     ]
    },
    {
     "name": "stderr",
     "output_type": "stream",
     "text": [
      "2025-05-30 10:43:59,481 - INFO - Кадр 155\n"
     ]
    },
    {
     "name": "stdout",
     "output_type": "stream",
     "text": [
      "\n",
      "0: 384x640 12 persons, 688.8ms\n",
      "Speed: 2.1ms preprocess, 688.8ms inference, 2.3ms postprocess per image at shape (1, 3, 384, 640)\n",
      "\n",
      "0: 384x640 11 persons, 613.0ms\n",
      "Speed: 2.2ms preprocess, 613.0ms inference, 2.2ms postprocess per image at shape (1, 3, 384, 640)\n"
     ]
    },
    {
     "name": "stderr",
     "output_type": "stream",
     "text": [
      "2025-05-30 10:44:00,984 - INFO - Кадр 156\n"
     ]
    },
    {
     "name": "stdout",
     "output_type": "stream",
     "text": [
      "\n",
      "0: 384x640 12 persons, 686.4ms\n",
      "Speed: 2.3ms preprocess, 686.4ms inference, 2.2ms postprocess per image at shape (1, 3, 384, 640)\n",
      "\n",
      "0: 384x640 10 persons, 612.4ms\n",
      "Speed: 1.9ms preprocess, 612.4ms inference, 2.2ms postprocess per image at shape (1, 3, 384, 640)\n"
     ]
    },
    {
     "name": "stderr",
     "output_type": "stream",
     "text": [
      "2025-05-30 10:44:02,488 - INFO - Кадр 157\n"
     ]
    },
    {
     "name": "stdout",
     "output_type": "stream",
     "text": [
      "\n",
      "0: 384x640 12 persons, 763.9ms\n",
      "Speed: 2.3ms preprocess, 763.9ms inference, 2.3ms postprocess per image at shape (1, 3, 384, 640)\n",
      "\n",
      "0: 384x640 10 persons, 608.8ms\n",
      "Speed: 2.0ms preprocess, 608.8ms inference, 2.1ms postprocess per image at shape (1, 3, 384, 640)\n"
     ]
    },
    {
     "name": "stderr",
     "output_type": "stream",
     "text": [
      "2025-05-30 10:44:04,070 - INFO - Кадр 158\n"
     ]
    },
    {
     "name": "stdout",
     "output_type": "stream",
     "text": [
      "\n",
      "0: 384x640 13 persons, 685.0ms\n",
      "Speed: 2.1ms preprocess, 685.0ms inference, 3.0ms postprocess per image at shape (1, 3, 384, 640)\n",
      "\n",
      "0: 384x640 11 persons, 606.9ms\n",
      "Speed: 2.2ms preprocess, 606.9ms inference, 2.0ms postprocess per image at shape (1, 3, 384, 640)\n"
     ]
    },
    {
     "name": "stderr",
     "output_type": "stream",
     "text": [
      "2025-05-30 10:44:05,566 - INFO - Кадр 159\n"
     ]
    },
    {
     "name": "stdout",
     "output_type": "stream",
     "text": [
      "\n",
      "0: 384x640 13 persons, 731.2ms\n",
      "Speed: 2.2ms preprocess, 731.2ms inference, 2.4ms postprocess per image at shape (1, 3, 384, 640)\n",
      "\n",
      "0: 384x640 12 persons, 628.2ms\n",
      "Speed: 2.2ms preprocess, 628.2ms inference, 2.2ms postprocess per image at shape (1, 3, 384, 640)\n"
     ]
    },
    {
     "name": "stderr",
     "output_type": "stream",
     "text": [
      "2025-05-30 10:44:07,135 - INFO - Кадр 160\n"
     ]
    },
    {
     "name": "stdout",
     "output_type": "stream",
     "text": [
      "\n",
      "0: 384x640 13 persons, 681.6ms\n",
      "Speed: 2.1ms preprocess, 681.6ms inference, 2.2ms postprocess per image at shape (1, 3, 384, 640)\n",
      "\n",
      "0: 384x640 12 persons, 695.0ms\n",
      "Speed: 2.0ms preprocess, 695.0ms inference, 2.2ms postprocess per image at shape (1, 3, 384, 640)\n"
     ]
    },
    {
     "name": "stderr",
     "output_type": "stream",
     "text": [
      "2025-05-30 10:44:08,715 - INFO - Кадр 161\n"
     ]
    },
    {
     "name": "stdout",
     "output_type": "stream",
     "text": [
      "\n",
      "0: 384x640 13 persons, 676.0ms\n",
      "Speed: 2.3ms preprocess, 676.0ms inference, 2.2ms postprocess per image at shape (1, 3, 384, 640)\n",
      "\n",
      "0: 384x640 11 persons, 613.7ms\n",
      "Speed: 1.9ms preprocess, 613.7ms inference, 2.0ms postprocess per image at shape (1, 3, 384, 640)\n"
     ]
    },
    {
     "name": "stderr",
     "output_type": "stream",
     "text": [
      "2025-05-30 10:44:10,195 - INFO - Кадр 162\n"
     ]
    },
    {
     "name": "stdout",
     "output_type": "stream",
     "text": [
      "\n",
      "0: 384x640 13 persons, 697.4ms\n",
      "Speed: 2.1ms preprocess, 697.4ms inference, 2.3ms postprocess per image at shape (1, 3, 384, 640)\n",
      "\n",
      "0: 384x640 11 persons, 613.9ms\n",
      "Speed: 2.1ms preprocess, 613.9ms inference, 2.1ms postprocess per image at shape (1, 3, 384, 640)\n"
     ]
    },
    {
     "name": "stderr",
     "output_type": "stream",
     "text": [
      "2025-05-30 10:44:11,710 - INFO - Кадр 163\n"
     ]
    },
    {
     "name": "stdout",
     "output_type": "stream",
     "text": [
      "\n",
      "0: 384x640 13 persons, 693.9ms\n",
      "Speed: 2.4ms preprocess, 693.9ms inference, 2.3ms postprocess per image at shape (1, 3, 384, 640)\n",
      "\n",
      "0: 384x640 12 persons, 625.8ms\n",
      "Speed: 1.9ms preprocess, 625.8ms inference, 2.1ms postprocess per image at shape (1, 3, 384, 640)\n"
     ]
    },
    {
     "name": "stderr",
     "output_type": "stream",
     "text": [
      "2025-05-30 10:44:13,230 - INFO - Кадр 164\n"
     ]
    },
    {
     "name": "stdout",
     "output_type": "stream",
     "text": [
      "\n",
      "0: 384x640 13 persons, 759.8ms\n",
      "Speed: 2.1ms preprocess, 759.8ms inference, 2.4ms postprocess per image at shape (1, 3, 384, 640)\n",
      "\n",
      "0: 384x640 11 persons, 636.5ms\n",
      "Speed: 2.0ms preprocess, 636.5ms inference, 2.1ms postprocess per image at shape (1, 3, 384, 640)\n"
     ]
    },
    {
     "name": "stderr",
     "output_type": "stream",
     "text": [
      "2025-05-30 10:44:14,831 - INFO - Кадр 165\n"
     ]
    },
    {
     "name": "stdout",
     "output_type": "stream",
     "text": [
      "\n",
      "0: 384x640 12 persons, 697.9ms\n",
      "Speed: 2.1ms preprocess, 697.9ms inference, 2.2ms postprocess per image at shape (1, 3, 384, 640)\n",
      "\n",
      "0: 384x640 11 persons, 615.6ms\n",
      "Speed: 2.1ms preprocess, 615.6ms inference, 2.2ms postprocess per image at shape (1, 3, 384, 640)\n"
     ]
    },
    {
     "name": "stderr",
     "output_type": "stream",
     "text": [
      "2025-05-30 10:44:16,346 - INFO - Кадр 166\n"
     ]
    },
    {
     "name": "stdout",
     "output_type": "stream",
     "text": [
      "\n",
      "0: 384x640 12 persons, 691.2ms\n",
      "Speed: 2.3ms preprocess, 691.2ms inference, 2.3ms postprocess per image at shape (1, 3, 384, 640)\n",
      "\n",
      "0: 384x640 12 persons, 621.4ms\n",
      "Speed: 1.9ms preprocess, 621.4ms inference, 2.1ms postprocess per image at shape (1, 3, 384, 640)\n"
     ]
    },
    {
     "name": "stderr",
     "output_type": "stream",
     "text": [
      "2025-05-30 10:44:17,852 - INFO - Кадр 167\n"
     ]
    },
    {
     "name": "stdout",
     "output_type": "stream",
     "text": [
      "\n",
      "0: 384x640 12 persons, 722.0ms\n",
      "Speed: 2.0ms preprocess, 722.0ms inference, 4.6ms postprocess per image at shape (1, 3, 384, 640)\n",
      "\n",
      "0: 384x640 12 persons, 620.5ms\n",
      "Speed: 2.3ms preprocess, 620.5ms inference, 2.1ms postprocess per image at shape (1, 3, 384, 640)\n"
     ]
    },
    {
     "name": "stderr",
     "output_type": "stream",
     "text": [
      "2025-05-30 10:44:19,410 - INFO - Кадр 168\n"
     ]
    },
    {
     "name": "stdout",
     "output_type": "stream",
     "text": [
      "\n",
      "0: 384x640 12 persons, 688.9ms\n",
      "Speed: 2.1ms preprocess, 688.9ms inference, 2.2ms postprocess per image at shape (1, 3, 384, 640)\n",
      "\n",
      "0: 384x640 11 persons, 621.7ms\n",
      "Speed: 2.0ms preprocess, 621.7ms inference, 2.2ms postprocess per image at shape (1, 3, 384, 640)\n"
     ]
    },
    {
     "name": "stderr",
     "output_type": "stream",
     "text": [
      "2025-05-30 10:44:20,922 - INFO - Кадр 169\n"
     ]
    },
    {
     "name": "stdout",
     "output_type": "stream",
     "text": [
      "\n",
      "0: 384x640 12 persons, 693.4ms\n",
      "Speed: 2.0ms preprocess, 693.4ms inference, 2.2ms postprocess per image at shape (1, 3, 384, 640)\n",
      "\n",
      "0: 384x640 11 persons, 619.6ms\n",
      "Speed: 2.4ms preprocess, 619.6ms inference, 2.2ms postprocess per image at shape (1, 3, 384, 640)\n"
     ]
    },
    {
     "name": "stderr",
     "output_type": "stream",
     "text": [
      "2025-05-30 10:44:22,429 - INFO - Кадр 170\n"
     ]
    },
    {
     "name": "stdout",
     "output_type": "stream",
     "text": [
      "\n",
      "0: 384x640 12 persons, 691.1ms\n",
      "Speed: 2.2ms preprocess, 691.1ms inference, 2.3ms postprocess per image at shape (1, 3, 384, 640)\n",
      "\n",
      "0: 384x640 12 persons, 697.6ms\n",
      "Speed: 2.1ms preprocess, 697.6ms inference, 2.4ms postprocess per image at shape (1, 3, 384, 640)\n"
     ]
    },
    {
     "name": "stderr",
     "output_type": "stream",
     "text": [
      "2025-05-30 10:44:24,027 - INFO - Кадр 171\n"
     ]
    },
    {
     "name": "stdout",
     "output_type": "stream",
     "text": [
      "\n",
      "0: 384x640 12 persons, 687.6ms\n",
      "Speed: 2.0ms preprocess, 687.6ms inference, 2.3ms postprocess per image at shape (1, 3, 384, 640)\n",
      "\n",
      "0: 384x640 11 persons, 615.3ms\n",
      "Speed: 1.9ms preprocess, 615.3ms inference, 2.2ms postprocess per image at shape (1, 3, 384, 640)\n"
     ]
    },
    {
     "name": "stderr",
     "output_type": "stream",
     "text": [
      "2025-05-30 10:44:25,530 - INFO - Кадр 172\n"
     ]
    },
    {
     "name": "stdout",
     "output_type": "stream",
     "text": [
      "\n",
      "0: 384x640 12 persons, 696.7ms\n",
      "Speed: 1.9ms preprocess, 696.7ms inference, 2.3ms postprocess per image at shape (1, 3, 384, 640)\n",
      "\n",
      "0: 384x640 11 persons, 619.0ms\n",
      "Speed: 2.1ms preprocess, 619.0ms inference, 2.2ms postprocess per image at shape (1, 3, 384, 640)\n"
     ]
    },
    {
     "name": "stderr",
     "output_type": "stream",
     "text": [
      "2025-05-30 10:44:27,046 - INFO - Кадр 173\n"
     ]
    },
    {
     "name": "stdout",
     "output_type": "stream",
     "text": [
      "\n",
      "0: 384x640 11 persons, 746.0ms\n",
      "Speed: 2.2ms preprocess, 746.0ms inference, 2.4ms postprocess per image at shape (1, 3, 384, 640)\n",
      "\n",
      "0: 384x640 12 persons, 612.2ms\n",
      "Speed: 2.0ms preprocess, 612.2ms inference, 2.1ms postprocess per image at shape (1, 3, 384, 640)\n"
     ]
    },
    {
     "name": "stderr",
     "output_type": "stream",
     "text": [
      "2025-05-30 10:44:28,605 - INFO - Кадр 174\n"
     ]
    },
    {
     "name": "stdout",
     "output_type": "stream",
     "text": [
      "\n",
      "0: 384x640 11 persons, 774.6ms\n",
      "Speed: 2.2ms preprocess, 774.6ms inference, 2.4ms postprocess per image at shape (1, 3, 384, 640)\n",
      "\n",
      "0: 384x640 12 persons, 621.9ms\n",
      "Speed: 1.9ms preprocess, 621.9ms inference, 2.3ms postprocess per image at shape (1, 3, 384, 640)\n"
     ]
    },
    {
     "name": "stderr",
     "output_type": "stream",
     "text": [
      "2025-05-30 10:44:30,196 - INFO - Кадр 175\n"
     ]
    },
    {
     "name": "stdout",
     "output_type": "stream",
     "text": [
      "\n",
      "0: 384x640 13 persons, 696.9ms\n",
      "Speed: 2.0ms preprocess, 696.9ms inference, 2.2ms postprocess per image at shape (1, 3, 384, 640)\n",
      "\n",
      "0: 384x640 12 persons, 642.5ms\n",
      "Speed: 2.4ms preprocess, 642.5ms inference, 2.1ms postprocess per image at shape (1, 3, 384, 640)\n"
     ]
    },
    {
     "name": "stderr",
     "output_type": "stream",
     "text": [
      "2025-05-30 10:44:31,753 - INFO - Кадр 176\n"
     ]
    },
    {
     "name": "stdout",
     "output_type": "stream",
     "text": [
      "\n",
      "0: 384x640 12 persons, 905.4ms\n",
      "Speed: 2.4ms preprocess, 905.4ms inference, 2.3ms postprocess per image at shape (1, 3, 384, 640)\n",
      "\n",
      "0: 384x640 12 persons, 625.3ms\n",
      "Speed: 2.0ms preprocess, 625.3ms inference, 2.2ms postprocess per image at shape (1, 3, 384, 640)\n"
     ]
    },
    {
     "name": "stderr",
     "output_type": "stream",
     "text": [
      "2025-05-30 10:44:33,488 - INFO - Кадр 177\n"
     ]
    },
    {
     "name": "stdout",
     "output_type": "stream",
     "text": [
      "\n",
      "0: 384x640 12 persons, 768.8ms\n",
      "Speed: 2.1ms preprocess, 768.8ms inference, 2.3ms postprocess per image at shape (1, 3, 384, 640)\n",
      "\n",
      "0: 384x640 12 persons, 652.9ms\n",
      "Speed: 2.1ms preprocess, 652.9ms inference, 2.3ms postprocess per image at shape (1, 3, 384, 640)\n"
     ]
    },
    {
     "name": "stderr",
     "output_type": "stream",
     "text": [
      "2025-05-30 10:44:35,098 - INFO - Кадр 178\n"
     ]
    },
    {
     "name": "stdout",
     "output_type": "stream",
     "text": [
      "\n",
      "0: 384x640 12 persons, 700.8ms\n",
      "Speed: 2.0ms preprocess, 700.8ms inference, 2.3ms postprocess per image at shape (1, 3, 384, 640)\n",
      "\n",
      "0: 384x640 12 persons, 621.5ms\n",
      "Speed: 2.0ms preprocess, 621.5ms inference, 2.2ms postprocess per image at shape (1, 3, 384, 640)\n"
     ]
    },
    {
     "name": "stderr",
     "output_type": "stream",
     "text": [
      "2025-05-30 10:44:36,629 - INFO - Кадр 179\n"
     ]
    },
    {
     "name": "stdout",
     "output_type": "stream",
     "text": [
      "\n",
      "0: 384x640 15 persons, 696.1ms\n",
      "Speed: 2.2ms preprocess, 696.1ms inference, 2.2ms postprocess per image at shape (1, 3, 384, 640)\n",
      "\n",
      "0: 384x640 12 persons, 630.3ms\n",
      "Speed: 2.1ms preprocess, 630.3ms inference, 2.2ms postprocess per image at shape (1, 3, 384, 640)\n"
     ]
    },
    {
     "name": "stderr",
     "output_type": "stream",
     "text": [
      "2025-05-30 10:44:38,164 - INFO - Кадр 180\n"
     ]
    },
    {
     "name": "stdout",
     "output_type": "stream",
     "text": [
      "\n",
      "0: 384x640 14 persons, 696.6ms\n",
      "Speed: 2.0ms preprocess, 696.6ms inference, 2.3ms postprocess per image at shape (1, 3, 384, 640)\n",
      "\n",
      "0: 384x640 13 persons, 706.4ms\n",
      "Speed: 2.1ms preprocess, 706.4ms inference, 2.3ms postprocess per image at shape (1, 3, 384, 640)\n"
     ]
    },
    {
     "name": "stderr",
     "output_type": "stream",
     "text": [
      "2025-05-30 10:44:39,783 - INFO - Кадр 181\n"
     ]
    },
    {
     "name": "stdout",
     "output_type": "stream",
     "text": [
      "\n",
      "0: 384x640 12 persons, 866.6ms\n",
      "Speed: 2.2ms preprocess, 866.6ms inference, 2.8ms postprocess per image at shape (1, 3, 384, 640)\n",
      "\n",
      "0: 384x640 13 persons, 781.3ms\n",
      "Speed: 2.1ms preprocess, 781.3ms inference, 2.1ms postprocess per image at shape (1, 3, 384, 640)\n"
     ]
    },
    {
     "name": "stderr",
     "output_type": "stream",
     "text": [
      "2025-05-30 10:44:41,621 - INFO - Кадр 182\n"
     ]
    },
    {
     "name": "stdout",
     "output_type": "stream",
     "text": [
      "\n",
      "0: 384x640 12 persons, 705.8ms\n",
      "Speed: 2.2ms preprocess, 705.8ms inference, 2.4ms postprocess per image at shape (1, 3, 384, 640)\n",
      "\n",
      "0: 384x640 13 persons, 646.3ms\n",
      "Speed: 2.5ms preprocess, 646.3ms inference, 2.2ms postprocess per image at shape (1, 3, 384, 640)\n"
     ]
    },
    {
     "name": "stderr",
     "output_type": "stream",
     "text": [
      "2025-05-30 10:44:43,179 - INFO - Кадр 183\n"
     ]
    },
    {
     "name": "stdout",
     "output_type": "stream",
     "text": [
      "\n",
      "0: 384x640 12 persons, 694.4ms\n",
      "Speed: 2.1ms preprocess, 694.4ms inference, 2.4ms postprocess per image at shape (1, 3, 384, 640)\n",
      "\n",
      "0: 384x640 13 persons, 703.9ms\n",
      "Speed: 1.9ms preprocess, 703.9ms inference, 2.2ms postprocess per image at shape (1, 3, 384, 640)\n"
     ]
    },
    {
     "name": "stderr",
     "output_type": "stream",
     "text": [
      "2025-05-30 10:44:44,784 - INFO - Кадр 184\n"
     ]
    },
    {
     "name": "stdout",
     "output_type": "stream",
     "text": [
      "\n",
      "0: 384x640 12 persons, 705.5ms\n",
      "Speed: 2.4ms preprocess, 705.5ms inference, 2.3ms postprocess per image at shape (1, 3, 384, 640)\n",
      "\n",
      "0: 384x640 13 persons, 632.3ms\n",
      "Speed: 2.1ms preprocess, 632.3ms inference, 2.2ms postprocess per image at shape (1, 3, 384, 640)\n"
     ]
    },
    {
     "name": "stderr",
     "output_type": "stream",
     "text": [
      "2025-05-30 10:44:46,329 - INFO - Кадр 185\n"
     ]
    },
    {
     "name": "stdout",
     "output_type": "stream",
     "text": [
      "\n",
      "0: 384x640 12 persons, 692.6ms\n",
      "Speed: 2.3ms preprocess, 692.6ms inference, 2.2ms postprocess per image at shape (1, 3, 384, 640)\n",
      "\n",
      "0: 384x640 12 persons, 641.7ms\n",
      "Speed: 2.1ms preprocess, 641.7ms inference, 2.1ms postprocess per image at shape (1, 3, 384, 640)\n"
     ]
    },
    {
     "name": "stderr",
     "output_type": "stream",
     "text": [
      "2025-05-30 10:44:47,869 - INFO - Кадр 186\n"
     ]
    },
    {
     "name": "stdout",
     "output_type": "stream",
     "text": [
      "\n",
      "0: 384x640 12 persons, 718.4ms\n",
      "Speed: 2.2ms preprocess, 718.4ms inference, 2.2ms postprocess per image at shape (1, 3, 384, 640)\n",
      "\n",
      "0: 384x640 13 persons, 628.5ms\n",
      "Speed: 1.9ms preprocess, 628.5ms inference, 2.1ms postprocess per image at shape (1, 3, 384, 640)\n"
     ]
    },
    {
     "name": "stderr",
     "output_type": "stream",
     "text": [
      "2025-05-30 10:44:49,421 - INFO - Кадр 187\n"
     ]
    },
    {
     "name": "stdout",
     "output_type": "stream",
     "text": [
      "\n",
      "0: 384x640 12 persons, 767.5ms\n",
      "Speed: 2.0ms preprocess, 767.5ms inference, 2.3ms postprocess per image at shape (1, 3, 384, 640)\n",
      "\n",
      "0: 384x640 12 persons, 624.1ms\n",
      "Speed: 2.1ms preprocess, 624.1ms inference, 2.1ms postprocess per image at shape (1, 3, 384, 640)\n"
     ]
    },
    {
     "name": "stderr",
     "output_type": "stream",
     "text": [
      "2025-05-30 10:44:51,026 - INFO - Кадр 188\n"
     ]
    },
    {
     "name": "stdout",
     "output_type": "stream",
     "text": [
      "\n",
      "0: 384x640 13 persons, 714.0ms\n",
      "Speed: 2.2ms preprocess, 714.0ms inference, 2.3ms postprocess per image at shape (1, 3, 384, 640)\n",
      "\n",
      "0: 384x640 11 persons, 628.6ms\n",
      "Speed: 2.0ms preprocess, 628.6ms inference, 2.1ms postprocess per image at shape (1, 3, 384, 640)\n"
     ]
    },
    {
     "name": "stderr",
     "output_type": "stream",
     "text": [
      "2025-05-30 10:44:52,576 - INFO - Кадр 189\n"
     ]
    },
    {
     "name": "stdout",
     "output_type": "stream",
     "text": [
      "\n",
      "0: 384x640 13 persons, 700.6ms\n",
      "Speed: 2.2ms preprocess, 700.6ms inference, 2.3ms postprocess per image at shape (1, 3, 384, 640)\n",
      "\n",
      "0: 384x640 12 persons, 620.9ms\n",
      "Speed: 1.9ms preprocess, 620.9ms inference, 2.4ms postprocess per image at shape (1, 3, 384, 640)\n"
     ]
    },
    {
     "name": "stderr",
     "output_type": "stream",
     "text": [
      "2025-05-30 10:44:54,101 - INFO - Кадр 190\n"
     ]
    },
    {
     "name": "stdout",
     "output_type": "stream",
     "text": [
      "\n",
      "0: 384x640 12 persons, 726.2ms\n",
      "Speed: 2.3ms preprocess, 726.2ms inference, 2.3ms postprocess per image at shape (1, 3, 384, 640)\n",
      "\n",
      "0: 384x640 12 persons, 666.1ms\n",
      "Speed: 2.5ms preprocess, 666.1ms inference, 2.2ms postprocess per image at shape (1, 3, 384, 640)\n"
     ]
    },
    {
     "name": "stderr",
     "output_type": "stream",
     "text": [
      "2025-05-30 10:44:55,709 - INFO - Кадр 191\n"
     ]
    },
    {
     "name": "stdout",
     "output_type": "stream",
     "text": [
      "\n",
      "0: 384x640 12 persons, 704.9ms\n",
      "Speed: 2.3ms preprocess, 704.9ms inference, 2.4ms postprocess per image at shape (1, 3, 384, 640)\n",
      "\n",
      "0: 384x640 12 persons, 625.1ms\n",
      "Speed: 2.1ms preprocess, 625.1ms inference, 2.2ms postprocess per image at shape (1, 3, 384, 640)\n"
     ]
    },
    {
     "name": "stderr",
     "output_type": "stream",
     "text": [
      "2025-05-30 10:44:57,244 - INFO - Кадр 192\n"
     ]
    },
    {
     "name": "stdout",
     "output_type": "stream",
     "text": [
      "\n",
      "0: 384x640 14 persons, 706.4ms\n",
      "Speed: 1.9ms preprocess, 706.4ms inference, 2.3ms postprocess per image at shape (1, 3, 384, 640)\n",
      "\n",
      "0: 384x640 12 persons, 627.2ms\n",
      "Speed: 2.0ms preprocess, 627.2ms inference, 2.3ms postprocess per image at shape (1, 3, 384, 640)\n"
     ]
    },
    {
     "name": "stderr",
     "output_type": "stream",
     "text": [
      "2025-05-30 10:44:58,791 - INFO - Кадр 193\n"
     ]
    },
    {
     "name": "stdout",
     "output_type": "stream",
     "text": [
      "\n",
      "0: 384x640 13 persons, 703.7ms\n",
      "Speed: 2.1ms preprocess, 703.7ms inference, 2.3ms postprocess per image at shape (1, 3, 384, 640)\n",
      "\n",
      "0: 384x640 12 persons, 728.4ms\n",
      "Speed: 1.9ms preprocess, 728.4ms inference, 2.3ms postprocess per image at shape (1, 3, 384, 640)\n"
     ]
    },
    {
     "name": "stderr",
     "output_type": "stream",
     "text": [
      "2025-05-30 10:45:00,417 - INFO - Кадр 194\n"
     ]
    },
    {
     "name": "stdout",
     "output_type": "stream",
     "text": [
      "\n",
      "0: 384x640 11 persons, 707.3ms\n",
      "Speed: 2.2ms preprocess, 707.3ms inference, 2.2ms postprocess per image at shape (1, 3, 384, 640)\n",
      "\n",
      "0: 384x640 12 persons, 632.0ms\n",
      "Speed: 2.1ms preprocess, 632.0ms inference, 2.2ms postprocess per image at shape (1, 3, 384, 640)\n"
     ]
    },
    {
     "name": "stderr",
     "output_type": "stream",
     "text": [
      "2025-05-30 10:45:01,963 - INFO - Кадр 195\n"
     ]
    },
    {
     "name": "stdout",
     "output_type": "stream",
     "text": [
      "\n",
      "0: 384x640 11 persons, 866.2ms\n",
      "Speed: 2.4ms preprocess, 866.2ms inference, 2.5ms postprocess per image at shape (1, 3, 384, 640)\n",
      "\n",
      "0: 384x640 12 persons, 875.8ms\n",
      "Speed: 2.3ms preprocess, 875.8ms inference, 2.2ms postprocess per image at shape (1, 3, 384, 640)\n"
     ]
    },
    {
     "name": "stderr",
     "output_type": "stream",
     "text": [
      "2025-05-30 10:45:03,926 - INFO - Кадр 196\n"
     ]
    },
    {
     "name": "stdout",
     "output_type": "stream",
     "text": [
      "\n",
      "0: 384x640 12 persons, 774.7ms\n",
      "Speed: 2.3ms preprocess, 774.7ms inference, 2.3ms postprocess per image at shape (1, 3, 384, 640)\n",
      "\n",
      "0: 384x640 11 persons, 792.5ms\n",
      "Speed: 2.0ms preprocess, 792.5ms inference, 3.1ms postprocess per image at shape (1, 3, 384, 640)\n"
     ]
    },
    {
     "name": "stderr",
     "output_type": "stream",
     "text": [
      "2025-05-30 10:45:05,720 - INFO - Кадр 197\n"
     ]
    },
    {
     "name": "stdout",
     "output_type": "stream",
     "text": [
      "\n",
      "0: 384x640 12 persons, 821.7ms\n",
      "Speed: 3.0ms preprocess, 821.7ms inference, 2.5ms postprocess per image at shape (1, 3, 384, 640)\n",
      "\n",
      "0: 384x640 12 persons, 726.6ms\n",
      "Speed: 2.1ms preprocess, 726.6ms inference, 2.4ms postprocess per image at shape (1, 3, 384, 640)\n"
     ]
    },
    {
     "name": "stderr",
     "output_type": "stream",
     "text": [
      "2025-05-30 10:45:07,489 - INFO - Кадр 198\n"
     ]
    },
    {
     "name": "stdout",
     "output_type": "stream",
     "text": [
      "\n",
      "0: 384x640 12 persons, 720.8ms\n",
      "Speed: 2.5ms preprocess, 720.8ms inference, 2.4ms postprocess per image at shape (1, 3, 384, 640)\n",
      "\n",
      "0: 384x640 11 persons, 646.6ms\n",
      "Speed: 2.1ms preprocess, 646.6ms inference, 2.1ms postprocess per image at shape (1, 3, 384, 640)\n"
     ]
    },
    {
     "name": "stderr",
     "output_type": "stream",
     "text": [
      "2025-05-30 10:45:09,069 - INFO - Кадр 199\n"
     ]
    },
    {
     "name": "stdout",
     "output_type": "stream",
     "text": [
      "\n",
      "0: 384x640 13 persons, 728.1ms\n",
      "Speed: 2.1ms preprocess, 728.1ms inference, 2.4ms postprocess per image at shape (1, 3, 384, 640)\n",
      "\n",
      "0: 384x640 10 persons, 812.2ms\n",
      "Speed: 2.5ms preprocess, 812.2ms inference, 2.5ms postprocess per image at shape (1, 3, 384, 640)\n"
     ]
    },
    {
     "name": "stderr",
     "output_type": "stream",
     "text": [
      "2025-05-30 10:45:10,839 - INFO - Кадр 200\n"
     ]
    },
    {
     "name": "stdout",
     "output_type": "stream",
     "text": [
      "\n",
      "0: 384x640 13 persons, 1247.3ms\n",
      "Speed: 2.5ms preprocess, 1247.3ms inference, 2.8ms postprocess per image at shape (1, 3, 384, 640)\n",
      "\n",
      "0: 384x640 11 persons, 789.9ms\n",
      "Speed: 2.6ms preprocess, 789.9ms inference, 2.9ms postprocess per image at shape (1, 3, 384, 640)\n"
     ]
    },
    {
     "name": "stderr",
     "output_type": "stream",
     "text": [
      "2025-05-30 10:45:13,124 - INFO - Кадр 201\n"
     ]
    },
    {
     "name": "stdout",
     "output_type": "stream",
     "text": [
      "\n",
      "0: 384x640 13 persons, 889.3ms\n",
      "Speed: 3.3ms preprocess, 889.3ms inference, 2.5ms postprocess per image at shape (1, 3, 384, 640)\n",
      "\n",
      "0: 384x640 11 persons, 720.8ms\n",
      "Speed: 2.3ms preprocess, 720.8ms inference, 2.3ms postprocess per image at shape (1, 3, 384, 640)\n"
     ]
    },
    {
     "name": "stderr",
     "output_type": "stream",
     "text": [
      "2025-05-30 10:45:14,967 - INFO - Кадр 202\n"
     ]
    },
    {
     "name": "stdout",
     "output_type": "stream",
     "text": [
      "\n",
      "0: 384x640 12 persons, 949.3ms\n",
      "Speed: 2.4ms preprocess, 949.3ms inference, 4.6ms postprocess per image at shape (1, 3, 384, 640)\n",
      "\n",
      "0: 384x640 11 persons, 793.0ms\n",
      "Speed: 2.1ms preprocess, 793.0ms inference, 2.4ms postprocess per image at shape (1, 3, 384, 640)\n"
     ]
    },
    {
     "name": "stderr",
     "output_type": "stream",
     "text": [
      "2025-05-30 10:45:16,937 - INFO - Кадр 203\n"
     ]
    },
    {
     "name": "stdout",
     "output_type": "stream",
     "text": [
      "\n",
      "0: 384x640 11 persons, 803.4ms\n",
      "Speed: 2.8ms preprocess, 803.4ms inference, 2.5ms postprocess per image at shape (1, 3, 384, 640)\n",
      "\n",
      "0: 384x640 11 persons, 804.7ms\n",
      "Speed: 2.0ms preprocess, 804.7ms inference, 2.3ms postprocess per image at shape (1, 3, 384, 640)\n"
     ]
    },
    {
     "name": "stderr",
     "output_type": "stream",
     "text": [
      "2025-05-30 10:45:18,769 - INFO - Кадр 204\n"
     ]
    },
    {
     "name": "stdout",
     "output_type": "stream",
     "text": [
      "\n",
      "0: 384x640 11 persons, 1092.5ms\n",
      "Speed: 2.1ms preprocess, 1092.5ms inference, 3.0ms postprocess per image at shape (1, 3, 384, 640)\n",
      "\n",
      "0: 384x640 11 persons, 812.2ms\n",
      "Speed: 2.2ms preprocess, 812.2ms inference, 2.3ms postprocess per image at shape (1, 3, 384, 640)\n"
     ]
    },
    {
     "name": "stderr",
     "output_type": "stream",
     "text": [
      "2025-05-30 10:45:20,916 - INFO - Кадр 205\n"
     ]
    },
    {
     "name": "stdout",
     "output_type": "stream",
     "text": [
      "\n",
      "0: 384x640 13 persons, 1409.6ms\n",
      "Speed: 6.7ms preprocess, 1409.6ms inference, 2.4ms postprocess per image at shape (1, 3, 384, 640)\n",
      "\n",
      "0: 384x640 10 persons, 927.0ms\n",
      "Speed: 2.2ms preprocess, 927.0ms inference, 2.3ms postprocess per image at shape (1, 3, 384, 640)\n"
     ]
    },
    {
     "name": "stderr",
     "output_type": "stream",
     "text": [
      "2025-05-30 10:45:23,493 - INFO - Кадр 206\n"
     ]
    },
    {
     "name": "stdout",
     "output_type": "stream",
     "text": [
      "\n",
      "0: 384x640 14 persons, 2336.1ms\n",
      "Speed: 2.5ms preprocess, 2336.1ms inference, 2.6ms postprocess per image at shape (1, 3, 384, 640)\n",
      "\n",
      "0: 384x640 10 persons, 1446.0ms\n",
      "Speed: 2.9ms preprocess, 1446.0ms inference, 2.9ms postprocess per image at shape (1, 3, 384, 640)\n"
     ]
    },
    {
     "name": "stderr",
     "output_type": "stream",
     "text": [
      "2025-05-30 10:45:27,555 - INFO - Кадр 207\n"
     ]
    },
    {
     "name": "stdout",
     "output_type": "stream",
     "text": [
      "\n",
      "0: 384x640 14 persons, 1517.6ms\n",
      "Speed: 2.9ms preprocess, 1517.6ms inference, 2.3ms postprocess per image at shape (1, 3, 384, 640)\n",
      "\n",
      "0: 384x640 11 persons, 927.6ms\n",
      "Speed: 8.3ms preprocess, 927.6ms inference, 2.3ms postprocess per image at shape (1, 3, 384, 640)\n"
     ]
    },
    {
     "name": "stderr",
     "output_type": "stream",
     "text": [
      "2025-05-30 10:45:30,276 - INFO - Кадр 208\n"
     ]
    },
    {
     "name": "stdout",
     "output_type": "stream",
     "text": [
      "\n",
      "0: 384x640 14 persons, 1273.2ms\n",
      "Speed: 2.5ms preprocess, 1273.2ms inference, 2.7ms postprocess per image at shape (1, 3, 384, 640)\n",
      "\n",
      "0: 384x640 11 persons, 788.0ms\n",
      "Speed: 2.5ms preprocess, 788.0ms inference, 2.2ms postprocess per image at shape (1, 3, 384, 640)\n"
     ]
    },
    {
     "name": "stderr",
     "output_type": "stream",
     "text": [
      "2025-05-30 10:45:32,562 - INFO - Кадр 209\n"
     ]
    },
    {
     "name": "stdout",
     "output_type": "stream",
     "text": [
      "\n",
      "0: 384x640 14 persons, 936.4ms\n",
      "Speed: 2.4ms preprocess, 936.4ms inference, 2.5ms postprocess per image at shape (1, 3, 384, 640)\n",
      "\n",
      "0: 384x640 11 persons, 771.4ms\n",
      "Speed: 2.2ms preprocess, 771.4ms inference, 2.5ms postprocess per image at shape (1, 3, 384, 640)\n"
     ]
    },
    {
     "name": "stderr",
     "output_type": "stream",
     "text": [
      "2025-05-30 10:45:34,512 - INFO - Кадр 210\n"
     ]
    },
    {
     "name": "stdout",
     "output_type": "stream",
     "text": [
      "\n",
      "0: 384x640 15 persons, 811.9ms\n",
      "Speed: 2.4ms preprocess, 811.9ms inference, 2.3ms postprocess per image at shape (1, 3, 384, 640)\n",
      "\n",
      "0: 384x640 11 persons, 917.3ms\n",
      "Speed: 2.2ms preprocess, 917.3ms inference, 4.2ms postprocess per image at shape (1, 3, 384, 640)\n"
     ]
    },
    {
     "name": "stderr",
     "output_type": "stream",
     "text": [
      "2025-05-30 10:45:36,491 - INFO - Кадр 211\n"
     ]
    },
    {
     "name": "stdout",
     "output_type": "stream",
     "text": [
      "\n",
      "0: 384x640 15 persons, 2042.1ms\n",
      "Speed: 2.6ms preprocess, 2042.1ms inference, 5.0ms postprocess per image at shape (1, 3, 384, 640)\n",
      "\n",
      "0: 384x640 11 persons, 857.7ms\n",
      "Speed: 2.2ms preprocess, 857.7ms inference, 2.3ms postprocess per image at shape (1, 3, 384, 640)\n"
     ]
    },
    {
     "name": "stderr",
     "output_type": "stream",
     "text": [
      "2025-05-30 10:45:39,622 - INFO - Кадр 212\n"
     ]
    },
    {
     "name": "stdout",
     "output_type": "stream",
     "text": [
      "\n",
      "0: 384x640 13 persons, 966.9ms\n",
      "Speed: 2.3ms preprocess, 966.9ms inference, 3.0ms postprocess per image at shape (1, 3, 384, 640)\n",
      "\n",
      "0: 384x640 11 persons, 914.3ms\n",
      "Speed: 2.5ms preprocess, 914.3ms inference, 4.5ms postprocess per image at shape (1, 3, 384, 640)\n"
     ]
    },
    {
     "name": "stderr",
     "output_type": "stream",
     "text": [
      "2025-05-30 10:45:41,743 - INFO - Кадр 213\n"
     ]
    },
    {
     "name": "stdout",
     "output_type": "stream",
     "text": [
      "\n",
      "0: 384x640 14 persons, 970.0ms\n",
      "Speed: 2.6ms preprocess, 970.0ms inference, 3.5ms postprocess per image at shape (1, 3, 384, 640)\n",
      "\n",
      "0: 384x640 11 persons, 1084.1ms\n",
      "Speed: 2.2ms preprocess, 1084.1ms inference, 3.0ms postprocess per image at shape (1, 3, 384, 640)\n"
     ]
    },
    {
     "name": "stderr",
     "output_type": "stream",
     "text": [
      "2025-05-30 10:45:44,035 - INFO - Кадр 214\n"
     ]
    },
    {
     "name": "stdout",
     "output_type": "stream",
     "text": [
      "\n",
      "0: 384x640 14 persons, 1114.7ms\n",
      "Speed: 3.5ms preprocess, 1114.7ms inference, 2.2ms postprocess per image at shape (1, 3, 384, 640)\n",
      "\n",
      "0: 384x640 11 persons, 701.0ms\n",
      "Speed: 2.2ms preprocess, 701.0ms inference, 2.1ms postprocess per image at shape (1, 3, 384, 640)\n"
     ]
    },
    {
     "name": "stderr",
     "output_type": "stream",
     "text": [
      "2025-05-30 10:45:46,084 - INFO - Кадр 215\n"
     ]
    },
    {
     "name": "stdout",
     "output_type": "stream",
     "text": [
      "\n",
      "0: 384x640 14 persons, 1671.2ms\n",
      "Speed: 2.5ms preprocess, 1671.2ms inference, 5.4ms postprocess per image at shape (1, 3, 384, 640)\n",
      "\n",
      "0: 384x640 11 persons, 1340.4ms\n",
      "Speed: 2.8ms preprocess, 1340.4ms inference, 2.6ms postprocess per image at shape (1, 3, 384, 640)\n"
     ]
    },
    {
     "name": "stderr",
     "output_type": "stream",
     "text": [
      "2025-05-30 10:45:49,382 - INFO - Кадр 216\n"
     ]
    },
    {
     "name": "stdout",
     "output_type": "stream",
     "text": [
      "\n",
      "0: 384x640 14 persons, 1232.6ms\n",
      "Speed: 4.5ms preprocess, 1232.6ms inference, 2.6ms postprocess per image at shape (1, 3, 384, 640)\n",
      "\n",
      "0: 384x640 11 persons, 778.1ms\n",
      "Speed: 2.2ms preprocess, 778.1ms inference, 2.5ms postprocess per image at shape (1, 3, 384, 640)\n"
     ]
    },
    {
     "name": "stderr",
     "output_type": "stream",
     "text": [
      "2025-05-30 10:45:51,634 - INFO - Кадр 217\n"
     ]
    },
    {
     "name": "stdout",
     "output_type": "stream",
     "text": [
      "\n",
      "0: 384x640 15 persons, 1019.3ms\n",
      "Speed: 2.5ms preprocess, 1019.3ms inference, 3.2ms postprocess per image at shape (1, 3, 384, 640)\n",
      "\n",
      "0: 384x640 11 persons, 1056.1ms\n",
      "Speed: 2.1ms preprocess, 1056.1ms inference, 2.3ms postprocess per image at shape (1, 3, 384, 640)\n"
     ]
    },
    {
     "name": "stderr",
     "output_type": "stream",
     "text": [
      "2025-05-30 10:45:53,955 - INFO - Кадр 218\n"
     ]
    },
    {
     "name": "stdout",
     "output_type": "stream",
     "text": [
      "\n",
      "0: 384x640 15 persons, 1511.8ms\n",
      "Speed: 4.9ms preprocess, 1511.8ms inference, 2.7ms postprocess per image at shape (1, 3, 384, 640)\n",
      "\n",
      "0: 384x640 12 persons, 1272.0ms\n",
      "Speed: 2.5ms preprocess, 1272.0ms inference, 3.0ms postprocess per image at shape (1, 3, 384, 640)\n"
     ]
    },
    {
     "name": "stderr",
     "output_type": "stream",
     "text": [
      "2025-05-30 10:45:57,046 - INFO - Кадр 219\n"
     ]
    },
    {
     "name": "stdout",
     "output_type": "stream",
     "text": [
      "\n",
      "0: 384x640 13 persons, 2072.8ms\n",
      "Speed: 3.0ms preprocess, 2072.8ms inference, 2.5ms postprocess per image at shape (1, 3, 384, 640)\n",
      "\n",
      "0: 384x640 12 persons, 1232.8ms\n",
      "Speed: 4.3ms preprocess, 1232.8ms inference, 3.1ms postprocess per image at shape (1, 3, 384, 640)\n"
     ]
    },
    {
     "name": "stderr",
     "output_type": "stream",
     "text": [
      "2025-05-30 10:46:00,655 - INFO - Кадр 220\n"
     ]
    },
    {
     "name": "stdout",
     "output_type": "stream",
     "text": [
      "\n",
      "0: 384x640 13 persons, 1302.4ms\n",
      "Speed: 2.7ms preprocess, 1302.4ms inference, 4.5ms postprocess per image at shape (1, 3, 384, 640)\n",
      "\n",
      "0: 384x640 12 persons, 1206.5ms\n",
      "Speed: 11.9ms preprocess, 1206.5ms inference, 4.0ms postprocess per image at shape (1, 3, 384, 640)\n"
     ]
    },
    {
     "name": "stderr",
     "output_type": "stream",
     "text": [
      "2025-05-30 10:46:03,419 - INFO - Кадр 221\n"
     ]
    },
    {
     "name": "stdout",
     "output_type": "stream",
     "text": [
      "\n",
      "0: 384x640 14 persons, 938.4ms\n",
      "Speed: 2.2ms preprocess, 938.4ms inference, 3.1ms postprocess per image at shape (1, 3, 384, 640)\n",
      "\n",
      "0: 384x640 12 persons, 893.4ms\n",
      "Speed: 2.1ms preprocess, 893.4ms inference, 3.0ms postprocess per image at shape (1, 3, 384, 640)\n"
     ]
    },
    {
     "name": "stderr",
     "output_type": "stream",
     "text": [
      "2025-05-30 10:46:05,497 - INFO - Кадр 222\n"
     ]
    },
    {
     "name": "stdout",
     "output_type": "stream",
     "text": [
      "\n",
      "0: 384x640 14 persons, 872.1ms\n",
      "Speed: 2.6ms preprocess, 872.1ms inference, 2.7ms postprocess per image at shape (1, 3, 384, 640)\n",
      "\n",
      "0: 384x640 12 persons, 739.4ms\n",
      "Speed: 2.3ms preprocess, 739.4ms inference, 2.5ms postprocess per image at shape (1, 3, 384, 640)\n"
     ]
    },
    {
     "name": "stderr",
     "output_type": "stream",
     "text": [
      "2025-05-30 10:46:07,432 - INFO - Кадр 223\n"
     ]
    },
    {
     "name": "stdout",
     "output_type": "stream",
     "text": [
      "\n",
      "0: 384x640 14 persons, 771.3ms\n",
      "Speed: 2.2ms preprocess, 771.3ms inference, 2.3ms postprocess per image at shape (1, 3, 384, 640)\n",
      "\n",
      "0: 384x640 13 persons, 784.7ms\n",
      "Speed: 2.3ms preprocess, 784.7ms inference, 2.4ms postprocess per image at shape (1, 3, 384, 640)\n"
     ]
    },
    {
     "name": "stderr",
     "output_type": "stream",
     "text": [
      "2025-05-30 10:46:09,213 - INFO - Кадр 224\n"
     ]
    },
    {
     "name": "stdout",
     "output_type": "stream",
     "text": [
      "\n",
      "0: 384x640 14 persons, 785.6ms\n",
      "Speed: 2.1ms preprocess, 785.6ms inference, 3.0ms postprocess per image at shape (1, 3, 384, 640)\n",
      "\n",
      "0: 384x640 13 persons, 808.5ms\n",
      "Speed: 2.2ms preprocess, 808.5ms inference, 2.4ms postprocess per image at shape (1, 3, 384, 640)\n"
     ]
    },
    {
     "name": "stderr",
     "output_type": "stream",
     "text": [
      "2025-05-30 10:46:11,049 - INFO - Кадр 225\n"
     ]
    },
    {
     "name": "stdout",
     "output_type": "stream",
     "text": [
      "\n",
      "0: 384x640 15 persons, 1038.1ms\n",
      "Speed: 2.4ms preprocess, 1038.1ms inference, 2.7ms postprocess per image at shape (1, 3, 384, 640)\n",
      "\n",
      "0: 384x640 13 persons, 957.7ms\n",
      "Speed: 2.3ms preprocess, 957.7ms inference, 2.7ms postprocess per image at shape (1, 3, 384, 640)\n"
     ]
    },
    {
     "name": "stderr",
     "output_type": "stream",
     "text": [
      "2025-05-30 10:46:13,291 - INFO - Кадр 226\n"
     ]
    },
    {
     "name": "stdout",
     "output_type": "stream",
     "text": [
      "\n",
      "0: 384x640 15 persons, 1017.6ms\n",
      "Speed: 2.7ms preprocess, 1017.6ms inference, 2.5ms postprocess per image at shape (1, 3, 384, 640)\n",
      "\n",
      "0: 384x640 12 persons, 870.6ms\n",
      "Speed: 2.9ms preprocess, 870.6ms inference, 2.4ms postprocess per image at shape (1, 3, 384, 640)\n"
     ]
    },
    {
     "name": "stderr",
     "output_type": "stream",
     "text": [
      "2025-05-30 10:46:15,409 - INFO - Кадр 227\n"
     ]
    },
    {
     "name": "stdout",
     "output_type": "stream",
     "text": [
      "\n",
      "0: 384x640 16 persons, 831.2ms\n",
      "Speed: 2.4ms preprocess, 831.2ms inference, 2.3ms postprocess per image at shape (1, 3, 384, 640)\n",
      "\n",
      "0: 384x640 11 persons, 904.3ms\n",
      "Speed: 2.6ms preprocess, 904.3ms inference, 2.4ms postprocess per image at shape (1, 3, 384, 640)\n"
     ]
    },
    {
     "name": "stderr",
     "output_type": "stream",
     "text": [
      "2025-05-30 10:46:17,370 - INFO - Кадр 228\n"
     ]
    },
    {
     "name": "stdout",
     "output_type": "stream",
     "text": [
      "\n",
      "0: 384x640 16 persons, 890.9ms\n",
      "Speed: 2.2ms preprocess, 890.9ms inference, 2.8ms postprocess per image at shape (1, 3, 384, 640)\n",
      "\n",
      "0: 384x640 12 persons, 922.2ms\n",
      "Speed: 2.3ms preprocess, 922.2ms inference, 2.9ms postprocess per image at shape (1, 3, 384, 640)\n"
     ]
    },
    {
     "name": "stderr",
     "output_type": "stream",
     "text": [
      "2025-05-30 10:46:19,454 - INFO - Кадр 229\n"
     ]
    },
    {
     "name": "stdout",
     "output_type": "stream",
     "text": [
      "\n",
      "0: 384x640 14 persons, 1067.3ms\n",
      "Speed: 2.8ms preprocess, 1067.3ms inference, 2.6ms postprocess per image at shape (1, 3, 384, 640)\n",
      "\n",
      "0: 384x640 13 persons, 1418.0ms\n",
      "Speed: 4.3ms preprocess, 1418.0ms inference, 2.7ms postprocess per image at shape (1, 3, 384, 640)\n"
     ]
    },
    {
     "name": "stderr",
     "output_type": "stream",
     "text": [
      "2025-05-30 10:46:22,206 - INFO - Кадр 230\n"
     ]
    },
    {
     "name": "stdout",
     "output_type": "stream",
     "text": [
      "\n",
      "0: 384x640 13 persons, 2725.6ms\n",
      "Speed: 2.7ms preprocess, 2725.6ms inference, 4.3ms postprocess per image at shape (1, 3, 384, 640)\n",
      "\n",
      "0: 384x640 13 persons, 1625.8ms\n",
      "Speed: 6.2ms preprocess, 1625.8ms inference, 2.4ms postprocess per image at shape (1, 3, 384, 640)\n"
     ]
    },
    {
     "name": "stderr",
     "output_type": "stream",
     "text": [
      "2025-05-30 10:46:26,799 - INFO - Кадр 231\n"
     ]
    },
    {
     "name": "stdout",
     "output_type": "stream",
     "text": [
      "\n",
      "0: 384x640 12 persons, 865.5ms\n",
      "Speed: 3.0ms preprocess, 865.5ms inference, 3.6ms postprocess per image at shape (1, 3, 384, 640)\n",
      "\n",
      "0: 384x640 13 persons, 713.4ms\n",
      "Speed: 2.1ms preprocess, 713.4ms inference, 2.3ms postprocess per image at shape (1, 3, 384, 640)\n"
     ]
    },
    {
     "name": "stderr",
     "output_type": "stream",
     "text": [
      "2025-05-30 10:46:28,620 - INFO - Кадр 232\n"
     ]
    },
    {
     "name": "stdout",
     "output_type": "stream",
     "text": [
      "\n",
      "0: 384x640 12 persons, 827.9ms\n",
      "Speed: 2.3ms preprocess, 827.9ms inference, 2.4ms postprocess per image at shape (1, 3, 384, 640)\n",
      "\n",
      "0: 384x640 13 persons, 795.3ms\n",
      "Speed: 2.1ms preprocess, 795.3ms inference, 3.1ms postprocess per image at shape (1, 3, 384, 640)\n"
     ]
    },
    {
     "name": "stderr",
     "output_type": "stream",
     "text": [
      "2025-05-30 10:46:30,473 - INFO - Кадр 233\n"
     ]
    },
    {
     "name": "stdout",
     "output_type": "stream",
     "text": [
      "\n",
      "0: 384x640 13 persons, 743.2ms\n",
      "Speed: 2.2ms preprocess, 743.2ms inference, 3.2ms postprocess per image at shape (1, 3, 384, 640)\n",
      "\n",
      "0: 384x640 12 persons, 688.6ms\n",
      "Speed: 2.1ms preprocess, 688.6ms inference, 2.3ms postprocess per image at shape (1, 3, 384, 640)\n"
     ]
    },
    {
     "name": "stderr",
     "output_type": "stream",
     "text": [
      "2025-05-30 10:46:32,118 - INFO - Кадр 234\n"
     ]
    },
    {
     "name": "stdout",
     "output_type": "stream",
     "text": [
      "\n",
      "0: 384x640 13 persons, 798.7ms\n",
      "Speed: 2.2ms preprocess, 798.7ms inference, 2.3ms postprocess per image at shape (1, 3, 384, 640)\n",
      "\n",
      "0: 384x640 12 persons, 751.3ms\n",
      "Speed: 2.7ms preprocess, 751.3ms inference, 2.2ms postprocess per image at shape (1, 3, 384, 640)\n"
     ]
    },
    {
     "name": "stderr",
     "output_type": "stream",
     "text": [
      "2025-05-30 10:46:33,886 - INFO - Кадр 235\n"
     ]
    },
    {
     "name": "stdout",
     "output_type": "stream",
     "text": [
      "\n",
      "0: 384x640 14 persons, 790.7ms\n",
      "Speed: 2.2ms preprocess, 790.7ms inference, 2.3ms postprocess per image at shape (1, 3, 384, 640)\n",
      "\n",
      "0: 384x640 12 persons, 886.3ms\n",
      "Speed: 3.0ms preprocess, 886.3ms inference, 2.2ms postprocess per image at shape (1, 3, 384, 640)\n"
     ]
    },
    {
     "name": "stderr",
     "output_type": "stream",
     "text": [
      "2025-05-30 10:46:35,787 - INFO - Кадр 236\n"
     ]
    },
    {
     "name": "stdout",
     "output_type": "stream",
     "text": [
      "\n",
      "0: 384x640 14 persons, 784.2ms\n",
      "Speed: 2.3ms preprocess, 784.2ms inference, 2.4ms postprocess per image at shape (1, 3, 384, 640)\n",
      "\n",
      "0: 384x640 12 persons, 694.8ms\n",
      "Speed: 1.9ms preprocess, 694.8ms inference, 2.4ms postprocess per image at shape (1, 3, 384, 640)\n"
     ]
    },
    {
     "name": "stderr",
     "output_type": "stream",
     "text": [
      "2025-05-30 10:46:37,484 - INFO - Кадр 237\n"
     ]
    },
    {
     "name": "stdout",
     "output_type": "stream",
     "text": [
      "\n",
      "0: 384x640 14 persons, 819.4ms\n",
      "Speed: 2.1ms preprocess, 819.4ms inference, 2.6ms postprocess per image at shape (1, 3, 384, 640)\n",
      "\n",
      "0: 384x640 12 persons, 1051.3ms\n",
      "Speed: 2.1ms preprocess, 1051.3ms inference, 4.1ms postprocess per image at shape (1, 3, 384, 640)\n"
     ]
    },
    {
     "name": "stderr",
     "output_type": "stream",
     "text": [
      "2025-05-30 10:46:39,634 - INFO - Кадр 238\n"
     ]
    },
    {
     "name": "stdout",
     "output_type": "stream",
     "text": [
      "\n",
      "0: 384x640 14 persons, 2480.2ms\n",
      "Speed: 5.2ms preprocess, 2480.2ms inference, 2.6ms postprocess per image at shape (1, 3, 384, 640)\n",
      "\n",
      "0: 384x640 12 persons, 1045.1ms\n",
      "Speed: 2.1ms preprocess, 1045.1ms inference, 2.4ms postprocess per image at shape (1, 3, 384, 640)\n"
     ]
    },
    {
     "name": "stderr",
     "output_type": "stream",
     "text": [
      "2025-05-30 10:46:43,399 - INFO - Кадр 239\n"
     ]
    },
    {
     "name": "stdout",
     "output_type": "stream",
     "text": [
      "\n",
      "0: 384x640 14 persons, 876.1ms\n",
      "Speed: 2.5ms preprocess, 876.1ms inference, 2.6ms postprocess per image at shape (1, 3, 384, 640)\n",
      "\n",
      "0: 384x640 12 persons, 679.8ms\n",
      "Speed: 2.1ms preprocess, 679.8ms inference, 2.2ms postprocess per image at shape (1, 3, 384, 640)\n"
     ]
    },
    {
     "name": "stderr",
     "output_type": "stream",
     "text": [
      "2025-05-30 10:46:45,180 - INFO - Кадр 240\n"
     ]
    },
    {
     "name": "stdout",
     "output_type": "stream",
     "text": [
      "\n",
      "0: 384x640 14 persons, 758.3ms\n",
      "Speed: 3.0ms preprocess, 758.3ms inference, 2.5ms postprocess per image at shape (1, 3, 384, 640)\n",
      "\n",
      "0: 384x640 13 persons, 824.9ms\n",
      "Speed: 2.1ms preprocess, 824.9ms inference, 2.6ms postprocess per image at shape (1, 3, 384, 640)\n"
     ]
    },
    {
     "name": "stderr",
     "output_type": "stream",
     "text": [
      "2025-05-30 10:46:47,030 - INFO - Кадр 241\n"
     ]
    },
    {
     "name": "stdout",
     "output_type": "stream",
     "text": [
      "\n",
      "0: 384x640 14 persons, 1096.4ms\n",
      "Speed: 3.1ms preprocess, 1096.4ms inference, 2.5ms postprocess per image at shape (1, 3, 384, 640)\n",
      "\n",
      "0: 384x640 13 persons, 1036.0ms\n",
      "Speed: 1.9ms preprocess, 1036.0ms inference, 2.4ms postprocess per image at shape (1, 3, 384, 640)\n"
     ]
    },
    {
     "name": "stderr",
     "output_type": "stream",
     "text": [
      "2025-05-30 10:46:49,399 - INFO - Кадр 242\n"
     ]
    },
    {
     "name": "stdout",
     "output_type": "stream",
     "text": [
      "\n",
      "0: 384x640 14 persons, 957.9ms\n",
      "Speed: 2.6ms preprocess, 957.9ms inference, 3.3ms postprocess per image at shape (1, 3, 384, 640)\n",
      "\n",
      "0: 384x640 12 persons, 974.2ms\n",
      "Speed: 2.0ms preprocess, 974.2ms inference, 2.5ms postprocess per image at shape (1, 3, 384, 640)\n"
     ]
    },
    {
     "name": "stderr",
     "output_type": "stream",
     "text": [
      "2025-05-30 10:46:51,617 - INFO - Кадр 243\n"
     ]
    },
    {
     "name": "stdout",
     "output_type": "stream",
     "text": [
      "\n",
      "0: 384x640 14 persons, 1008.7ms\n",
      "Speed: 3.5ms preprocess, 1008.7ms inference, 2.5ms postprocess per image at shape (1, 3, 384, 640)\n",
      "\n",
      "0: 384x640 12 persons, 1084.6ms\n",
      "Speed: 2.2ms preprocess, 1084.6ms inference, 2.4ms postprocess per image at shape (1, 3, 384, 640)\n"
     ]
    },
    {
     "name": "stderr",
     "output_type": "stream",
     "text": [
      "2025-05-30 10:46:53,943 - INFO - Кадр 244\n"
     ]
    },
    {
     "name": "stdout",
     "output_type": "stream",
     "text": [
      "\n",
      "0: 384x640 14 persons, 1989.7ms\n",
      "Speed: 3.0ms preprocess, 1989.7ms inference, 15.1ms postprocess per image at shape (1, 3, 384, 640)\n",
      "\n",
      "0: 384x640 13 persons, 1441.5ms\n",
      "Speed: 2.7ms preprocess, 1441.5ms inference, 2.7ms postprocess per image at shape (1, 3, 384, 640)\n"
     ]
    },
    {
     "name": "stderr",
     "output_type": "stream",
     "text": [
      "2025-05-30 10:46:57,717 - INFO - Кадр 245\n"
     ]
    },
    {
     "name": "stdout",
     "output_type": "stream",
     "text": [
      "\n",
      "0: 384x640 14 persons, 1430.5ms\n",
      "Speed: 2.7ms preprocess, 1430.5ms inference, 2.4ms postprocess per image at shape (1, 3, 384, 640)\n",
      "\n",
      "0: 384x640 13 persons, 714.2ms\n",
      "Speed: 1.9ms preprocess, 714.2ms inference, 2.3ms postprocess per image at shape (1, 3, 384, 640)\n"
     ]
    },
    {
     "name": "stderr",
     "output_type": "stream",
     "text": [
      "2025-05-30 10:47:00,138 - INFO - Кадр 246\n"
     ]
    },
    {
     "name": "stdout",
     "output_type": "stream",
     "text": [
      "\n",
      "0: 384x640 13 persons, 741.7ms\n",
      "Speed: 2.5ms preprocess, 741.7ms inference, 2.3ms postprocess per image at shape (1, 3, 384, 640)\n",
      "\n",
      "0: 384x640 13 persons, 651.8ms\n",
      "Speed: 2.4ms preprocess, 651.8ms inference, 2.4ms postprocess per image at shape (1, 3, 384, 640)\n"
     ]
    },
    {
     "name": "stderr",
     "output_type": "stream",
     "text": [
      "2025-05-30 10:47:01,759 - INFO - Кадр 247\n"
     ]
    },
    {
     "name": "stdout",
     "output_type": "stream",
     "text": [
      "\n",
      "0: 384x640 13 persons, 846.9ms\n",
      "Speed: 2.5ms preprocess, 846.9ms inference, 2.3ms postprocess per image at shape (1, 3, 384, 640)\n",
      "\n",
      "0: 384x640 12 persons, 689.9ms\n",
      "Speed: 2.4ms preprocess, 689.9ms inference, 2.3ms postprocess per image at shape (1, 3, 384, 640)\n"
     ]
    },
    {
     "name": "stderr",
     "output_type": "stream",
     "text": [
      "2025-05-30 10:47:03,518 - INFO - Кадр 248\n"
     ]
    },
    {
     "name": "stdout",
     "output_type": "stream",
     "text": [
      "\n",
      "0: 384x640 14 persons, 766.6ms\n",
      "Speed: 2.2ms preprocess, 766.6ms inference, 2.5ms postprocess per image at shape (1, 3, 384, 640)\n",
      "\n",
      "0: 384x640 11 persons, 649.2ms\n",
      "Speed: 1.9ms preprocess, 649.2ms inference, 2.3ms postprocess per image at shape (1, 3, 384, 640)\n"
     ]
    },
    {
     "name": "stderr",
     "output_type": "stream",
     "text": [
      "2025-05-30 10:47:05,161 - INFO - Кадр 249\n"
     ]
    },
    {
     "name": "stdout",
     "output_type": "stream",
     "text": [
      "\n",
      "0: 384x640 14 persons, 735.6ms\n",
      "Speed: 2.1ms preprocess, 735.6ms inference, 2.4ms postprocess per image at shape (1, 3, 384, 640)\n",
      "\n",
      "0: 384x640 12 persons, 653.2ms\n",
      "Speed: 2.4ms preprocess, 653.2ms inference, 2.2ms postprocess per image at shape (1, 3, 384, 640)\n"
     ]
    },
    {
     "name": "stderr",
     "output_type": "stream",
     "text": [
      "2025-05-30 10:47:06,759 - INFO - Кадр 250\n"
     ]
    },
    {
     "name": "stdout",
     "output_type": "stream",
     "text": [
      "\n",
      "0: 384x640 14 persons, 810.4ms\n",
      "Speed: 2.3ms preprocess, 810.4ms inference, 2.4ms postprocess per image at shape (1, 3, 384, 640)\n",
      "\n",
      "0: 384x640 12 persons, 701.8ms\n",
      "Speed: 2.1ms preprocess, 701.8ms inference, 2.3ms postprocess per image at shape (1, 3, 384, 640)\n"
     ]
    },
    {
     "name": "stderr",
     "output_type": "stream",
     "text": [
      "2025-05-30 10:47:08,485 - INFO - Кадр 251\n"
     ]
    },
    {
     "name": "stdout",
     "output_type": "stream",
     "text": [
      "\n",
      "0: 384x640 12 persons, 780.1ms\n",
      "Speed: 2.2ms preprocess, 780.1ms inference, 2.3ms postprocess per image at shape (1, 3, 384, 640)\n",
      "\n",
      "0: 384x640 11 persons, 653.1ms\n",
      "Speed: 2.1ms preprocess, 653.1ms inference, 2.9ms postprocess per image at shape (1, 3, 384, 640)\n"
     ]
    },
    {
     "name": "stderr",
     "output_type": "stream",
     "text": [
      "2025-05-30 10:47:10,141 - INFO - Кадр 252\n"
     ]
    },
    {
     "name": "stdout",
     "output_type": "stream",
     "text": [
      "\n",
      "0: 384x640 13 persons, 722.4ms\n",
      "Speed: 2.4ms preprocess, 722.4ms inference, 2.4ms postprocess per image at shape (1, 3, 384, 640)\n",
      "\n",
      "0: 384x640 10 persons, 666.1ms\n",
      "Speed: 2.1ms preprocess, 666.1ms inference, 2.2ms postprocess per image at shape (1, 3, 384, 640)\n"
     ]
    },
    {
     "name": "stderr",
     "output_type": "stream",
     "text": [
      "2025-05-30 10:47:11,750 - INFO - Кадр 253\n"
     ]
    },
    {
     "name": "stdout",
     "output_type": "stream",
     "text": [
      "\n",
      "0: 384x640 13 persons, 770.4ms\n",
      "Speed: 2.3ms preprocess, 770.4ms inference, 5.3ms postprocess per image at shape (1, 3, 384, 640)\n",
      "\n",
      "0: 384x640 12 persons, 657.3ms\n",
      "Speed: 2.2ms preprocess, 657.3ms inference, 2.3ms postprocess per image at shape (1, 3, 384, 640)\n"
     ]
    },
    {
     "name": "stderr",
     "output_type": "stream",
     "text": [
      "2025-05-30 10:47:13,399 - INFO - Кадр 254\n"
     ]
    },
    {
     "name": "stdout",
     "output_type": "stream",
     "text": [
      "\n",
      "0: 384x640 14 persons, 727.9ms\n",
      "Speed: 2.2ms preprocess, 727.9ms inference, 2.2ms postprocess per image at shape (1, 3, 384, 640)\n",
      "\n",
      "0: 384x640 11 persons, 696.4ms\n",
      "Speed: 2.1ms preprocess, 696.4ms inference, 2.3ms postprocess per image at shape (1, 3, 384, 640)\n"
     ]
    },
    {
     "name": "stderr",
     "output_type": "stream",
     "text": [
      "2025-05-30 10:47:15,037 - INFO - Кадр 255\n"
     ]
    },
    {
     "name": "stdout",
     "output_type": "stream",
     "text": [
      "\n",
      "0: 384x640 14 persons, 840.1ms\n",
      "Speed: 2.3ms preprocess, 840.1ms inference, 2.5ms postprocess per image at shape (1, 3, 384, 640)\n",
      "\n",
      "0: 384x640 11 persons, 708.9ms\n",
      "Speed: 2.6ms preprocess, 708.9ms inference, 2.2ms postprocess per image at shape (1, 3, 384, 640)\n"
     ]
    },
    {
     "name": "stderr",
     "output_type": "stream",
     "text": [
      "2025-05-30 10:47:16,801 - INFO - Кадр 256\n"
     ]
    },
    {
     "name": "stdout",
     "output_type": "stream",
     "text": [
      "\n",
      "0: 384x640 14 persons, 747.0ms\n",
      "Speed: 2.0ms preprocess, 747.0ms inference, 2.5ms postprocess per image at shape (1, 3, 384, 640)\n",
      "\n",
      "0: 384x640 12 persons, 728.4ms\n",
      "Speed: 2.4ms preprocess, 728.4ms inference, 2.2ms postprocess per image at shape (1, 3, 384, 640)\n"
     ]
    },
    {
     "name": "stderr",
     "output_type": "stream",
     "text": [
      "2025-05-30 10:47:18,507 - INFO - Кадр 257\n"
     ]
    },
    {
     "name": "stdout",
     "output_type": "stream",
     "text": [
      "\n",
      "0: 384x640 13 persons, 724.1ms\n",
      "Speed: 2.4ms preprocess, 724.1ms inference, 2.3ms postprocess per image at shape (1, 3, 384, 640)\n",
      "\n",
      "0: 384x640 11 persons, 647.9ms\n",
      "Speed: 1.9ms preprocess, 647.9ms inference, 2.3ms postprocess per image at shape (1, 3, 384, 640)\n"
     ]
    },
    {
     "name": "stderr",
     "output_type": "stream",
     "text": [
      "2025-05-30 10:47:20,092 - INFO - Кадр 258\n"
     ]
    },
    {
     "name": "stdout",
     "output_type": "stream",
     "text": [
      "\n",
      "0: 384x640 13 persons, 828.5ms\n",
      "Speed: 2.2ms preprocess, 828.5ms inference, 2.9ms postprocess per image at shape (1, 3, 384, 640)\n",
      "\n",
      "0: 384x640 11 persons, 867.0ms\n",
      "Speed: 3.0ms preprocess, 867.0ms inference, 2.7ms postprocess per image at shape (1, 3, 384, 640)\n"
     ]
    },
    {
     "name": "stderr",
     "output_type": "stream",
     "text": [
      "2025-05-30 10:47:22,026 - INFO - Кадр 259\n"
     ]
    },
    {
     "name": "stdout",
     "output_type": "stream",
     "text": [
      "\n",
      "0: 384x640 13 persons, 1472.5ms\n",
      "Speed: 2.3ms preprocess, 1472.5ms inference, 2.9ms postprocess per image at shape (1, 3, 384, 640)\n",
      "\n",
      "0: 384x640 10 persons, 1218.2ms\n",
      "Speed: 2.8ms preprocess, 1218.2ms inference, 2.6ms postprocess per image at shape (1, 3, 384, 640)\n"
     ]
    },
    {
     "name": "stderr",
     "output_type": "stream",
     "text": [
      "2025-05-30 10:47:24,959 - INFO - Кадр 260\n"
     ]
    },
    {
     "name": "stdout",
     "output_type": "stream",
     "text": [
      "\n",
      "0: 384x640 12 persons, 1009.5ms\n",
      "Speed: 3.1ms preprocess, 1009.5ms inference, 3.8ms postprocess per image at shape (1, 3, 384, 640)\n",
      "\n",
      "0: 384x640 10 persons, 937.9ms\n",
      "Speed: 2.7ms preprocess, 937.9ms inference, 2.6ms postprocess per image at shape (1, 3, 384, 640)\n"
     ]
    },
    {
     "name": "stderr",
     "output_type": "stream",
     "text": [
      "2025-05-30 10:47:27,144 - INFO - Кадр 261\n"
     ]
    },
    {
     "name": "stdout",
     "output_type": "stream",
     "text": [
      "\n",
      "0: 384x640 13 persons, 846.7ms\n",
      "Speed: 2.8ms preprocess, 846.7ms inference, 2.5ms postprocess per image at shape (1, 3, 384, 640)\n",
      "\n",
      "0: 384x640 10 persons, 748.6ms\n",
      "Speed: 2.4ms preprocess, 748.6ms inference, 2.2ms postprocess per image at shape (1, 3, 384, 640)\n"
     ]
    },
    {
     "name": "stderr",
     "output_type": "stream",
     "text": [
      "2025-05-30 10:47:28,957 - INFO - Кадр 262\n"
     ]
    },
    {
     "name": "stdout",
     "output_type": "stream",
     "text": [
      "\n",
      "0: 384x640 13 persons, 743.4ms\n",
      "Speed: 2.3ms preprocess, 743.4ms inference, 2.4ms postprocess per image at shape (1, 3, 384, 640)\n",
      "\n",
      "0: 384x640 10 persons, 753.5ms\n",
      "Speed: 2.0ms preprocess, 753.5ms inference, 2.5ms postprocess per image at shape (1, 3, 384, 640)\n"
     ]
    },
    {
     "name": "stderr",
     "output_type": "stream",
     "text": [
      "2025-05-30 10:47:30,686 - INFO - Кадр 263\n"
     ]
    },
    {
     "name": "stdout",
     "output_type": "stream",
     "text": [
      "\n",
      "0: 384x640 13 persons, 1128.6ms\n",
      "Speed: 2.3ms preprocess, 1128.6ms inference, 2.8ms postprocess per image at shape (1, 3, 384, 640)\n",
      "\n",
      "0: 384x640 10 persons, 868.6ms\n",
      "Speed: 2.0ms preprocess, 868.6ms inference, 2.3ms postprocess per image at shape (1, 3, 384, 640)\n"
     ]
    },
    {
     "name": "stderr",
     "output_type": "stream",
     "text": [
      "2025-05-30 10:47:32,913 - INFO - Кадр 264\n"
     ]
    },
    {
     "name": "stdout",
     "output_type": "stream",
     "text": [
      "\n",
      "0: 384x640 14 persons, 1235.3ms\n",
      "Speed: 2.4ms preprocess, 1235.3ms inference, 2.8ms postprocess per image at shape (1, 3, 384, 640)\n",
      "\n",
      "0: 384x640 11 persons, 775.9ms\n",
      "Speed: 2.1ms preprocess, 775.9ms inference, 2.2ms postprocess per image at shape (1, 3, 384, 640)\n"
     ]
    },
    {
     "name": "stderr",
     "output_type": "stream",
     "text": [
      "2025-05-30 10:47:35,153 - INFO - Кадр 265\n"
     ]
    },
    {
     "name": "stdout",
     "output_type": "stream",
     "text": [
      "\n",
      "0: 384x640 13 persons, 737.3ms\n",
      "Speed: 2.2ms preprocess, 737.3ms inference, 2.6ms postprocess per image at shape (1, 3, 384, 640)\n",
      "\n",
      "0: 384x640 11 persons, 681.2ms\n",
      "Speed: 2.0ms preprocess, 681.2ms inference, 2.7ms postprocess per image at shape (1, 3, 384, 640)\n"
     ]
    },
    {
     "name": "stderr",
     "output_type": "stream",
     "text": [
      "2025-05-30 10:47:36,788 - INFO - Кадр 266\n"
     ]
    },
    {
     "name": "stdout",
     "output_type": "stream",
     "text": [
      "\n",
      "0: 384x640 13 persons, 1066.9ms\n",
      "Speed: 2.2ms preprocess, 1066.9ms inference, 2.9ms postprocess per image at shape (1, 3, 384, 640)\n",
      "\n",
      "0: 384x640 11 persons, 2101.9ms\n",
      "Speed: 2.1ms preprocess, 2101.9ms inference, 4.3ms postprocess per image at shape (1, 3, 384, 640)\n"
     ]
    },
    {
     "name": "stderr",
     "output_type": "stream",
     "text": [
      "2025-05-30 10:47:40,197 - INFO - Кадр 267\n"
     ]
    },
    {
     "name": "stdout",
     "output_type": "stream",
     "text": [
      "\n",
      "0: 384x640 13 persons, 876.5ms\n",
      "Speed: 7.8ms preprocess, 876.5ms inference, 2.4ms postprocess per image at shape (1, 3, 384, 640)\n",
      "\n",
      "0: 384x640 10 persons, 682.8ms\n",
      "Speed: 2.3ms preprocess, 682.8ms inference, 2.2ms postprocess per image at shape (1, 3, 384, 640)\n"
     ]
    },
    {
     "name": "stderr",
     "output_type": "stream",
     "text": [
      "2025-05-30 10:47:41,987 - INFO - Кадр 268\n"
     ]
    },
    {
     "name": "stdout",
     "output_type": "stream",
     "text": [
      "\n",
      "0: 384x640 13 persons, 773.2ms\n",
      "Speed: 2.2ms preprocess, 773.2ms inference, 2.5ms postprocess per image at shape (1, 3, 384, 640)\n",
      "\n",
      "0: 384x640 12 persons, 675.4ms\n",
      "Speed: 2.1ms preprocess, 675.4ms inference, 2.2ms postprocess per image at shape (1, 3, 384, 640)\n"
     ]
    },
    {
     "name": "stderr",
     "output_type": "stream",
     "text": [
      "2025-05-30 10:47:43,652 - INFO - Кадр 269\n"
     ]
    },
    {
     "name": "stdout",
     "output_type": "stream",
     "text": [
      "\n",
      "0: 384x640 12 persons, 837.2ms\n",
      "Speed: 2.8ms preprocess, 837.2ms inference, 2.3ms postprocess per image at shape (1, 3, 384, 640)\n",
      "\n",
      "0: 384x640 12 persons, 672.1ms\n",
      "Speed: 2.0ms preprocess, 672.1ms inference, 2.2ms postprocess per image at shape (1, 3, 384, 640)\n"
     ]
    },
    {
     "name": "stderr",
     "output_type": "stream",
     "text": [
      "2025-05-30 10:47:45,371 - INFO - Кадр 270\n"
     ]
    },
    {
     "name": "stdout",
     "output_type": "stream",
     "text": [
      "\n",
      "0: 384x640 12 persons, 746.2ms\n",
      "Speed: 2.3ms preprocess, 746.2ms inference, 3.1ms postprocess per image at shape (1, 3, 384, 640)\n",
      "\n",
      "0: 384x640 11 persons, 799.5ms\n",
      "Speed: 2.6ms preprocess, 799.5ms inference, 2.5ms postprocess per image at shape (1, 3, 384, 640)\n"
     ]
    },
    {
     "name": "stderr",
     "output_type": "stream",
     "text": [
      "2025-05-30 10:47:47,136 - INFO - Кадр 271\n"
     ]
    },
    {
     "name": "stdout",
     "output_type": "stream",
     "text": [
      "\n",
      "0: 384x640 11 persons, 839.7ms\n",
      "Speed: 2.5ms preprocess, 839.7ms inference, 2.2ms postprocess per image at shape (1, 3, 384, 640)\n",
      "\n",
      "0: 384x640 11 persons, 784.9ms\n",
      "Speed: 2.3ms preprocess, 784.9ms inference, 2.3ms postprocess per image at shape (1, 3, 384, 640)\n"
     ]
    },
    {
     "name": "stderr",
     "output_type": "stream",
     "text": [
      "2025-05-30 10:47:48,985 - INFO - Кадр 272\n"
     ]
    },
    {
     "name": "stdout",
     "output_type": "stream",
     "text": [
      "\n",
      "0: 384x640 12 persons, 832.2ms\n",
      "Speed: 2.6ms preprocess, 832.2ms inference, 2.5ms postprocess per image at shape (1, 3, 384, 640)\n",
      "\n",
      "0: 384x640 11 persons, 651.7ms\n",
      "Speed: 2.2ms preprocess, 651.7ms inference, 2.2ms postprocess per image at shape (1, 3, 384, 640)\n"
     ]
    },
    {
     "name": "stderr",
     "output_type": "stream",
     "text": [
      "2025-05-30 10:47:50,682 - INFO - Кадр 273\n"
     ]
    },
    {
     "name": "stdout",
     "output_type": "stream",
     "text": [
      "\n",
      "0: 384x640 13 persons, 728.1ms\n",
      "Speed: 2.2ms preprocess, 728.1ms inference, 2.3ms postprocess per image at shape (1, 3, 384, 640)\n",
      "\n",
      "0: 384x640 11 persons, 669.8ms\n",
      "Speed: 2.0ms preprocess, 669.8ms inference, 2.2ms postprocess per image at shape (1, 3, 384, 640)\n"
     ]
    },
    {
     "name": "stderr",
     "output_type": "stream",
     "text": [
      "2025-05-30 10:47:52,291 - INFO - Кадр 274\n"
     ]
    },
    {
     "name": "stdout",
     "output_type": "stream",
     "text": [
      "\n",
      "0: 384x640 13 persons, 792.1ms\n",
      "Speed: 2.2ms preprocess, 792.1ms inference, 2.4ms postprocess per image at shape (1, 3, 384, 640)\n",
      "\n",
      "0: 384x640 12 persons, 759.3ms\n",
      "Speed: 2.0ms preprocess, 759.3ms inference, 2.0ms postprocess per image at shape (1, 3, 384, 640)\n"
     ]
    },
    {
     "name": "stderr",
     "output_type": "stream",
     "text": [
      "2025-05-30 10:47:54,075 - INFO - Кадр 275\n"
     ]
    },
    {
     "name": "stdout",
     "output_type": "stream",
     "text": [
      "\n",
      "0: 384x640 14 persons, 1236.5ms\n",
      "Speed: 2.6ms preprocess, 1236.5ms inference, 2.8ms postprocess per image at shape (1, 3, 384, 640)\n",
      "\n",
      "0: 384x640 13 persons, 1268.0ms\n",
      "Speed: 2.2ms preprocess, 1268.0ms inference, 2.5ms postprocess per image at shape (1, 3, 384, 640)\n"
     ]
    },
    {
     "name": "stderr",
     "output_type": "stream",
     "text": [
      "2025-05-30 10:47:56,826 - INFO - Кадр 276\n"
     ]
    },
    {
     "name": "stdout",
     "output_type": "stream",
     "text": [
      "\n",
      "0: 384x640 15 persons, 1315.1ms\n",
      "Speed: 2.5ms preprocess, 1315.1ms inference, 2.4ms postprocess per image at shape (1, 3, 384, 640)\n",
      "\n",
      "0: 384x640 12 persons, 705.7ms\n",
      "Speed: 5.3ms preprocess, 705.7ms inference, 2.3ms postprocess per image at shape (1, 3, 384, 640)\n"
     ]
    },
    {
     "name": "stderr",
     "output_type": "stream",
     "text": [
      "2025-05-30 10:47:59,082 - INFO - Кадр 277\n"
     ]
    },
    {
     "name": "stdout",
     "output_type": "stream",
     "text": [
      "\n",
      "0: 384x640 15 persons, 949.0ms\n",
      "Speed: 2.2ms preprocess, 949.0ms inference, 2.5ms postprocess per image at shape (1, 3, 384, 640)\n",
      "\n",
      "0: 384x640 12 persons, 659.3ms\n",
      "Speed: 2.0ms preprocess, 659.3ms inference, 2.3ms postprocess per image at shape (1, 3, 384, 640)\n"
     ]
    },
    {
     "name": "stderr",
     "output_type": "stream",
     "text": [
      "2025-05-30 10:48:00,893 - INFO - Кадр 278\n"
     ]
    },
    {
     "name": "stdout",
     "output_type": "stream",
     "text": [
      "\n",
      "0: 384x640 15 persons, 750.0ms\n",
      "Speed: 2.2ms preprocess, 750.0ms inference, 2.4ms postprocess per image at shape (1, 3, 384, 640)\n",
      "\n",
      "0: 384x640 12 persons, 662.8ms\n",
      "Speed: 1.9ms preprocess, 662.8ms inference, 2.2ms postprocess per image at shape (1, 3, 384, 640)\n"
     ]
    },
    {
     "name": "stderr",
     "output_type": "stream",
     "text": [
      "2025-05-30 10:48:02,523 - INFO - Кадр 279\n"
     ]
    },
    {
     "name": "stdout",
     "output_type": "stream",
     "text": [
      "\n",
      "0: 384x640 13 persons, 745.9ms\n",
      "Speed: 2.4ms preprocess, 745.9ms inference, 2.4ms postprocess per image at shape (1, 3, 384, 640)\n",
      "\n",
      "0: 384x640 12 persons, 712.3ms\n",
      "Speed: 2.0ms preprocess, 712.3ms inference, 2.1ms postprocess per image at shape (1, 3, 384, 640)\n"
     ]
    },
    {
     "name": "stderr",
     "output_type": "stream",
     "text": [
      "2025-05-30 10:48:04,199 - INFO - Кадр 280\n"
     ]
    },
    {
     "name": "stdout",
     "output_type": "stream",
     "text": [
      "\n",
      "0: 384x640 12 persons, 825.0ms\n",
      "Speed: 2.1ms preprocess, 825.0ms inference, 2.3ms postprocess per image at shape (1, 3, 384, 640)\n",
      "\n",
      "0: 384x640 12 persons, 657.6ms\n",
      "Speed: 2.2ms preprocess, 657.6ms inference, 2.3ms postprocess per image at shape (1, 3, 384, 640)\n"
     ]
    },
    {
     "name": "stderr",
     "output_type": "stream",
     "text": [
      "2025-05-30 10:48:05,913 - INFO - Кадр 281\n"
     ]
    },
    {
     "name": "stdout",
     "output_type": "stream",
     "text": [
      "\n",
      "0: 384x640 11 persons, 735.9ms\n",
      "Speed: 2.4ms preprocess, 735.9ms inference, 2.4ms postprocess per image at shape (1, 3, 384, 640)\n",
      "\n",
      "0: 384x640 10 persons, 682.0ms\n",
      "Speed: 1.9ms preprocess, 682.0ms inference, 2.2ms postprocess per image at shape (1, 3, 384, 640)\n"
     ]
    },
    {
     "name": "stderr",
     "output_type": "stream",
     "text": [
      "2025-05-30 10:48:07,548 - INFO - Кадр 282\n"
     ]
    },
    {
     "name": "stdout",
     "output_type": "stream",
     "text": [
      "\n",
      "0: 384x640 11 persons, 756.5ms\n",
      "Speed: 2.2ms preprocess, 756.5ms inference, 2.5ms postprocess per image at shape (1, 3, 384, 640)\n",
      "\n",
      "0: 384x640 10 persons, 674.3ms\n",
      "Speed: 2.0ms preprocess, 674.3ms inference, 2.2ms postprocess per image at shape (1, 3, 384, 640)\n"
     ]
    },
    {
     "name": "stderr",
     "output_type": "stream",
     "text": [
      "2025-05-30 10:48:09,199 - INFO - Кадр 283\n"
     ]
    },
    {
     "name": "stdout",
     "output_type": "stream",
     "text": [
      "\n",
      "0: 384x640 11 persons, 758.8ms\n",
      "Speed: 2.4ms preprocess, 758.8ms inference, 2.3ms postprocess per image at shape (1, 3, 384, 640)\n",
      "\n",
      "0: 384x640 10 persons, 1595.3ms\n",
      "Speed: 2.3ms preprocess, 1595.3ms inference, 2.4ms postprocess per image at shape (1, 3, 384, 640)\n"
     ]
    },
    {
     "name": "stderr",
     "output_type": "stream",
     "text": [
      "2025-05-30 10:48:11,783 - INFO - Кадр 284\n"
     ]
    },
    {
     "name": "stdout",
     "output_type": "stream",
     "text": [
      "\n",
      "0: 384x640 12 persons, 1073.6ms\n",
      "Speed: 2.4ms preprocess, 1073.6ms inference, 2.8ms postprocess per image at shape (1, 3, 384, 640)\n",
      "\n",
      "0: 384x640 10 persons, 738.3ms\n",
      "Speed: 2.4ms preprocess, 738.3ms inference, 2.3ms postprocess per image at shape (1, 3, 384, 640)\n"
     ]
    },
    {
     "name": "stderr",
     "output_type": "stream",
     "text": [
      "2025-05-30 10:48:13,828 - INFO - Кадр 285\n"
     ]
    },
    {
     "name": "stdout",
     "output_type": "stream",
     "text": [
      "\n",
      "0: 384x640 12 persons, 954.4ms\n",
      "Speed: 2.5ms preprocess, 954.4ms inference, 3.3ms postprocess per image at shape (1, 3, 384, 640)\n",
      "\n",
      "0: 384x640 10 persons, 1336.6ms\n",
      "Speed: 7.5ms preprocess, 1336.6ms inference, 2.6ms postprocess per image at shape (1, 3, 384, 640)\n"
     ]
    },
    {
     "name": "stderr",
     "output_type": "stream",
     "text": [
      "2025-05-30 10:48:16,381 - INFO - Кадр 286\n"
     ]
    },
    {
     "name": "stdout",
     "output_type": "stream",
     "text": [
      "\n",
      "0: 384x640 12 persons, 1588.9ms\n",
      "Speed: 3.9ms preprocess, 1588.9ms inference, 2.3ms postprocess per image at shape (1, 3, 384, 640)\n",
      "\n",
      "0: 384x640 9 persons, 821.5ms\n",
      "Speed: 2.1ms preprocess, 821.5ms inference, 2.4ms postprocess per image at shape (1, 3, 384, 640)\n"
     ]
    },
    {
     "name": "stderr",
     "output_type": "stream",
     "text": [
      "2025-05-30 10:48:19,026 - INFO - Кадр 287\n"
     ]
    },
    {
     "name": "stdout",
     "output_type": "stream",
     "text": [
      "\n",
      "0: 384x640 12 persons, 981.3ms\n",
      "Speed: 2.6ms preprocess, 981.3ms inference, 2.9ms postprocess per image at shape (1, 3, 384, 640)\n",
      "\n",
      "0: 384x640 9 persons, 834.3ms\n",
      "Speed: 2.7ms preprocess, 834.3ms inference, 2.5ms postprocess per image at shape (1, 3, 384, 640)\n"
     ]
    },
    {
     "name": "stderr",
     "output_type": "stream",
     "text": [
      "2025-05-30 10:48:21,116 - INFO - Кадр 288\n"
     ]
    },
    {
     "name": "stdout",
     "output_type": "stream",
     "text": [
      "\n",
      "0: 384x640 12 persons, 1197.1ms\n",
      "Speed: 5.2ms preprocess, 1197.1ms inference, 2.8ms postprocess per image at shape (1, 3, 384, 640)\n",
      "\n",
      "0: 384x640 10 persons, 735.2ms\n",
      "Speed: 2.0ms preprocess, 735.2ms inference, 3.1ms postprocess per image at shape (1, 3, 384, 640)\n"
     ]
    },
    {
     "name": "stderr",
     "output_type": "stream",
     "text": [
      "2025-05-30 10:48:23,293 - INFO - Кадр 289\n"
     ]
    },
    {
     "name": "stdout",
     "output_type": "stream",
     "text": [
      "\n",
      "0: 384x640 12 persons, 1219.0ms\n",
      "Speed: 2.6ms preprocess, 1219.0ms inference, 2.4ms postprocess per image at shape (1, 3, 384, 640)\n",
      "\n",
      "0: 384x640 10 persons, 866.2ms\n",
      "Speed: 2.8ms preprocess, 866.2ms inference, 2.2ms postprocess per image at shape (1, 3, 384, 640)\n"
     ]
    },
    {
     "name": "stderr",
     "output_type": "stream",
     "text": [
      "2025-05-30 10:48:25,602 - INFO - Кадр 290\n"
     ]
    },
    {
     "name": "stdout",
     "output_type": "stream",
     "text": [
      "\n",
      "0: 384x640 12 persons, 1067.1ms\n",
      "Speed: 2.4ms preprocess, 1067.1ms inference, 3.1ms postprocess per image at shape (1, 3, 384, 640)\n",
      "\n",
      "0: 384x640 9 persons, 1045.2ms\n",
      "Speed: 2.5ms preprocess, 1045.2ms inference, 2.2ms postprocess per image at shape (1, 3, 384, 640)\n"
     ]
    },
    {
     "name": "stderr",
     "output_type": "stream",
     "text": [
      "2025-05-30 10:48:27,975 - INFO - Кадр 291\n"
     ]
    },
    {
     "name": "stdout",
     "output_type": "stream",
     "text": [
      "\n",
      "0: 384x640 12 persons, 955.8ms\n",
      "Speed: 2.6ms preprocess, 955.8ms inference, 3.1ms postprocess per image at shape (1, 3, 384, 640)\n",
      "\n",
      "0: 384x640 9 persons, 776.9ms\n",
      "Speed: 2.1ms preprocess, 776.9ms inference, 2.3ms postprocess per image at shape (1, 3, 384, 640)\n"
     ]
    },
    {
     "name": "stderr",
     "output_type": "stream",
     "text": [
      "2025-05-30 10:48:29,956 - INFO - Кадр 292\n"
     ]
    },
    {
     "name": "stdout",
     "output_type": "stream",
     "text": [
      "\n",
      "0: 384x640 12 persons, 1042.7ms\n",
      "Speed: 2.2ms preprocess, 1042.7ms inference, 5.4ms postprocess per image at shape (1, 3, 384, 640)\n",
      "\n",
      "0: 384x640 9 persons, 950.5ms\n",
      "Speed: 7.1ms preprocess, 950.5ms inference, 2.4ms postprocess per image at shape (1, 3, 384, 640)\n"
     ]
    },
    {
     "name": "stderr",
     "output_type": "stream",
     "text": [
      "2025-05-30 10:48:32,221 - INFO - Кадр 293\n"
     ]
    },
    {
     "name": "stdout",
     "output_type": "stream",
     "text": [
      "\n",
      "0: 384x640 12 persons, 750.1ms\n",
      "Speed: 2.4ms preprocess, 750.1ms inference, 2.4ms postprocess per image at shape (1, 3, 384, 640)\n",
      "\n",
      "0: 384x640 9 persons, 712.2ms\n",
      "Speed: 2.2ms preprocess, 712.2ms inference, 2.4ms postprocess per image at shape (1, 3, 384, 640)\n"
     ]
    },
    {
     "name": "stderr",
     "output_type": "stream",
     "text": [
      "2025-05-30 10:48:33,919 - INFO - Кадр 294\n"
     ]
    },
    {
     "name": "stdout",
     "output_type": "stream",
     "text": [
      "\n",
      "0: 384x640 12 persons, 851.1ms\n",
      "Speed: 2.2ms preprocess, 851.1ms inference, 2.4ms postprocess per image at shape (1, 3, 384, 640)\n",
      "\n",
      "0: 384x640 9 persons, 701.8ms\n",
      "Speed: 2.2ms preprocess, 701.8ms inference, 2.1ms postprocess per image at shape (1, 3, 384, 640)\n"
     ]
    },
    {
     "name": "stderr",
     "output_type": "stream",
     "text": [
      "2025-05-30 10:48:35,714 - INFO - Кадр 295\n"
     ]
    },
    {
     "name": "stdout",
     "output_type": "stream",
     "text": [
      "\n",
      "0: 384x640 12 persons, 815.6ms\n",
      "Speed: 2.6ms preprocess, 815.6ms inference, 2.4ms postprocess per image at shape (1, 3, 384, 640)\n",
      "\n",
      "0: 384x640 11 persons, 693.5ms\n",
      "Speed: 2.2ms preprocess, 693.5ms inference, 2.3ms postprocess per image at shape (1, 3, 384, 640)\n"
     ]
    },
    {
     "name": "stderr",
     "output_type": "stream",
     "text": [
      "2025-05-30 10:48:37,453 - INFO - Кадр 296\n"
     ]
    },
    {
     "name": "stdout",
     "output_type": "stream",
     "text": [
      "\n",
      "0: 384x640 10 persons, 776.3ms\n",
      "Speed: 2.8ms preprocess, 776.3ms inference, 2.4ms postprocess per image at shape (1, 3, 384, 640)\n",
      "\n",
      "0: 384x640 9 persons, 670.6ms\n",
      "Speed: 2.1ms preprocess, 670.6ms inference, 2.5ms postprocess per image at shape (1, 3, 384, 640)\n"
     ]
    },
    {
     "name": "stderr",
     "output_type": "stream",
     "text": [
      "2025-05-30 10:48:39,131 - INFO - Кадр 297\n"
     ]
    },
    {
     "name": "stdout",
     "output_type": "stream",
     "text": [
      "\n",
      "0: 384x640 12 persons, 791.0ms\n",
      "Speed: 2.3ms preprocess, 791.0ms inference, 2.5ms postprocess per image at shape (1, 3, 384, 640)\n",
      "\n",
      "0: 384x640 9 persons, 672.4ms\n",
      "Speed: 2.3ms preprocess, 672.4ms inference, 2.4ms postprocess per image at shape (1, 3, 384, 640)\n"
     ]
    },
    {
     "name": "stderr",
     "output_type": "stream",
     "text": [
      "2025-05-30 10:48:40,812 - INFO - Кадр 298\n"
     ]
    },
    {
     "name": "stdout",
     "output_type": "stream",
     "text": [
      "\n",
      "0: 384x640 12 persons, 837.9ms\n",
      "Speed: 2.4ms preprocess, 837.9ms inference, 4.8ms postprocess per image at shape (1, 3, 384, 640)\n",
      "\n",
      "0: 384x640 8 persons, 692.2ms\n",
      "Speed: 4.8ms preprocess, 692.2ms inference, 2.2ms postprocess per image at shape (1, 3, 384, 640)\n"
     ]
    },
    {
     "name": "stderr",
     "output_type": "stream",
     "text": [
      "2025-05-30 10:48:42,585 - INFO - Кадр 299\n"
     ]
    },
    {
     "name": "stdout",
     "output_type": "stream",
     "text": [
      "\n",
      "0: 384x640 10 persons, 758.6ms\n",
      "Speed: 2.5ms preprocess, 758.6ms inference, 2.4ms postprocess per image at shape (1, 3, 384, 640)\n",
      "\n",
      "0: 384x640 9 persons, 681.1ms\n",
      "Speed: 2.2ms preprocess, 681.1ms inference, 2.2ms postprocess per image at shape (1, 3, 384, 640)\n"
     ]
    },
    {
     "name": "stderr",
     "output_type": "stream",
     "text": [
      "2025-05-30 10:48:44,243 - INFO - Кадр 300\n"
     ]
    },
    {
     "name": "stdout",
     "output_type": "stream",
     "text": [
      "\n",
      "0: 384x640 10 persons, 866.0ms\n",
      "Speed: 2.4ms preprocess, 866.0ms inference, 2.4ms postprocess per image at shape (1, 3, 384, 640)\n",
      "\n",
      "0: 384x640 9 persons, 744.3ms\n",
      "Speed: 2.0ms preprocess, 744.3ms inference, 2.3ms postprocess per image at shape (1, 3, 384, 640)\n"
     ]
    },
    {
     "name": "stderr",
     "output_type": "stream",
     "text": [
      "2025-05-30 10:48:46,077 - INFO - Кадр 301\n"
     ]
    },
    {
     "name": "stdout",
     "output_type": "stream",
     "text": [
      "\n",
      "0: 384x640 10 persons, 766.3ms\n",
      "Speed: 2.7ms preprocess, 766.3ms inference, 3.6ms postprocess per image at shape (1, 3, 384, 640)\n",
      "\n",
      "0: 384x640 9 persons, 777.2ms\n",
      "Speed: 10.2ms preprocess, 777.2ms inference, 2.4ms postprocess per image at shape (1, 3, 384, 640)\n"
     ]
    },
    {
     "name": "stderr",
     "output_type": "stream",
     "text": [
      "2025-05-30 10:48:47,853 - INFO - Кадр 302\n"
     ]
    },
    {
     "name": "stdout",
     "output_type": "stream",
     "text": [
      "\n",
      "0: 384x640 10 persons, 1068.3ms\n",
      "Speed: 2.3ms preprocess, 1068.3ms inference, 2.9ms postprocess per image at shape (1, 3, 384, 640)\n",
      "\n",
      "0: 384x640 9 persons, 709.9ms\n",
      "Speed: 2.2ms preprocess, 709.9ms inference, 2.6ms postprocess per image at shape (1, 3, 384, 640)\n"
     ]
    },
    {
     "name": "stderr",
     "output_type": "stream",
     "text": [
      "2025-05-30 10:48:49,876 - INFO - Кадр 303\n"
     ]
    },
    {
     "name": "stdout",
     "output_type": "stream",
     "text": [
      "\n",
      "0: 384x640 12 persons, 900.0ms\n",
      "Speed: 4.2ms preprocess, 900.0ms inference, 2.2ms postprocess per image at shape (1, 3, 384, 640)\n",
      "\n",
      "0: 384x640 9 persons, 667.6ms\n",
      "Speed: 2.7ms preprocess, 667.6ms inference, 2.2ms postprocess per image at shape (1, 3, 384, 640)\n"
     ]
    },
    {
     "name": "stderr",
     "output_type": "stream",
     "text": [
      "2025-05-30 10:48:51,672 - INFO - Кадр 304\n"
     ]
    },
    {
     "name": "stdout",
     "output_type": "stream",
     "text": [
      "\n",
      "0: 384x640 11 persons, 1212.5ms\n",
      "Speed: 3.0ms preprocess, 1212.5ms inference, 2.8ms postprocess per image at shape (1, 3, 384, 640)\n",
      "\n",
      "0: 384x640 9 persons, 953.9ms\n",
      "Speed: 2.9ms preprocess, 953.9ms inference, 2.6ms postprocess per image at shape (1, 3, 384, 640)\n"
     ]
    },
    {
     "name": "stderr",
     "output_type": "stream",
     "text": [
      "2025-05-30 10:48:54,093 - INFO - Кадр 305\n"
     ]
    },
    {
     "name": "stdout",
     "output_type": "stream",
     "text": [
      "\n",
      "0: 384x640 10 persons, 1305.7ms\n",
      "Speed: 2.6ms preprocess, 1305.7ms inference, 2.8ms postprocess per image at shape (1, 3, 384, 640)\n",
      "\n",
      "0: 384x640 9 persons, 770.5ms\n",
      "Speed: 2.3ms preprocess, 770.5ms inference, 2.3ms postprocess per image at shape (1, 3, 384, 640)\n"
     ]
    },
    {
     "name": "stderr",
     "output_type": "stream",
     "text": [
      "2025-05-30 10:48:56,405 - INFO - Кадр 306\n"
     ]
    },
    {
     "name": "stdout",
     "output_type": "stream",
     "text": [
      "\n",
      "0: 384x640 10 persons, 919.7ms\n",
      "Speed: 2.2ms preprocess, 919.7ms inference, 2.5ms postprocess per image at shape (1, 3, 384, 640)\n",
      "\n",
      "0: 384x640 9 persons, 839.3ms\n",
      "Speed: 2.9ms preprocess, 839.3ms inference, 2.4ms postprocess per image at shape (1, 3, 384, 640)\n"
     ]
    },
    {
     "name": "stderr",
     "output_type": "stream",
     "text": [
      "2025-05-30 10:48:58,410 - INFO - Кадр 307\n"
     ]
    },
    {
     "name": "stdout",
     "output_type": "stream",
     "text": [
      "\n",
      "0: 384x640 10 persons, 973.5ms\n",
      "Speed: 2.5ms preprocess, 973.5ms inference, 2.3ms postprocess per image at shape (1, 3, 384, 640)\n",
      "\n",
      "0: 384x640 9 persons, 699.3ms\n",
      "Speed: 2.2ms preprocess, 699.3ms inference, 2.1ms postprocess per image at shape (1, 3, 384, 640)\n"
     ]
    },
    {
     "name": "stderr",
     "output_type": "stream",
     "text": [
      "2025-05-30 10:49:00,306 - INFO - Кадр 308\n"
     ]
    },
    {
     "name": "stdout",
     "output_type": "stream",
     "text": [
      "\n",
      "0: 384x640 10 persons, 860.3ms\n",
      "Speed: 2.3ms preprocess, 860.3ms inference, 2.9ms postprocess per image at shape (1, 3, 384, 640)\n",
      "\n",
      "0: 384x640 9 persons, 673.0ms\n",
      "Speed: 2.4ms preprocess, 673.0ms inference, 2.4ms postprocess per image at shape (1, 3, 384, 640)\n"
     ]
    },
    {
     "name": "stderr",
     "output_type": "stream",
     "text": [
      "2025-05-30 10:49:02,072 - INFO - Кадр 309\n"
     ]
    },
    {
     "name": "stdout",
     "output_type": "stream",
     "text": [
      "\n",
      "0: 384x640 10 persons, 863.5ms\n",
      "Speed: 2.2ms preprocess, 863.5ms inference, 2.5ms postprocess per image at shape (1, 3, 384, 640)\n",
      "\n",
      "0: 384x640 9 persons, 662.2ms\n",
      "Speed: 2.2ms preprocess, 662.2ms inference, 2.2ms postprocess per image at shape (1, 3, 384, 640)\n"
     ]
    },
    {
     "name": "stderr",
     "output_type": "stream",
     "text": [
      "2025-05-30 10:49:03,814 - INFO - Кадр 310\n"
     ]
    },
    {
     "name": "stdout",
     "output_type": "stream",
     "text": [
      "\n",
      "0: 384x640 10 persons, 739.8ms\n",
      "Speed: 2.2ms preprocess, 739.8ms inference, 2.5ms postprocess per image at shape (1, 3, 384, 640)\n",
      "\n",
      "0: 384x640 9 persons, 665.4ms\n",
      "Speed: 2.1ms preprocess, 665.4ms inference, 2.2ms postprocess per image at shape (1, 3, 384, 640)\n"
     ]
    },
    {
     "name": "stderr",
     "output_type": "stream",
     "text": [
      "2025-05-30 10:49:05,434 - INFO - Кадр 311\n"
     ]
    },
    {
     "name": "stdout",
     "output_type": "stream",
     "text": [
      "\n",
      "0: 384x640 11 persons, 910.7ms\n",
      "Speed: 2.4ms preprocess, 910.7ms inference, 2.4ms postprocess per image at shape (1, 3, 384, 640)\n",
      "\n",
      "0: 384x640 9 persons, 734.2ms\n",
      "Speed: 2.3ms preprocess, 734.2ms inference, 2.3ms postprocess per image at shape (1, 3, 384, 640)\n"
     ]
    },
    {
     "name": "stderr",
     "output_type": "stream",
     "text": [
      "2025-05-30 10:49:07,317 - INFO - Кадр 312\n"
     ]
    },
    {
     "name": "stdout",
     "output_type": "stream",
     "text": [
      "\n",
      "0: 384x640 11 persons, 822.7ms\n",
      "Speed: 2.5ms preprocess, 822.7ms inference, 2.3ms postprocess per image at shape (1, 3, 384, 640)\n",
      "\n",
      "0: 384x640 10 persons, 660.6ms\n",
      "Speed: 2.3ms preprocess, 660.6ms inference, 2.3ms postprocess per image at shape (1, 3, 384, 640)\n"
     ]
    },
    {
     "name": "stderr",
     "output_type": "stream",
     "text": [
      "2025-05-30 10:49:09,030 - INFO - Кадр 313\n"
     ]
    },
    {
     "name": "stdout",
     "output_type": "stream",
     "text": [
      "\n",
      "0: 384x640 12 persons, 742.9ms\n",
      "Speed: 2.3ms preprocess, 742.9ms inference, 2.4ms postprocess per image at shape (1, 3, 384, 640)\n",
      "\n",
      "0: 384x640 10 persons, 664.3ms\n",
      "Speed: 2.2ms preprocess, 664.3ms inference, 2.3ms postprocess per image at shape (1, 3, 384, 640)\n"
     ]
    },
    {
     "name": "stderr",
     "output_type": "stream",
     "text": [
      "2025-05-30 10:49:10,637 - INFO - Кадр 314\n"
     ]
    },
    {
     "name": "stdout",
     "output_type": "stream",
     "text": [
      "\n",
      "0: 384x640 12 persons, 750.1ms\n",
      "Speed: 2.0ms preprocess, 750.1ms inference, 2.5ms postprocess per image at shape (1, 3, 384, 640)\n",
      "\n",
      "0: 384x640 9 persons, 665.9ms\n",
      "Speed: 2.2ms preprocess, 665.9ms inference, 2.5ms postprocess per image at shape (1, 3, 384, 640)\n"
     ]
    },
    {
     "name": "stderr",
     "output_type": "stream",
     "text": [
      "2025-05-30 10:49:12,278 - INFO - Кадр 315\n"
     ]
    },
    {
     "name": "stdout",
     "output_type": "stream",
     "text": [
      "\n",
      "0: 384x640 13 persons, 741.4ms\n",
      "Speed: 2.4ms preprocess, 741.4ms inference, 2.4ms postprocess per image at shape (1, 3, 384, 640)\n",
      "\n",
      "0: 384x640 10 persons, 763.6ms\n",
      "Speed: 2.0ms preprocess, 763.6ms inference, 2.2ms postprocess per image at shape (1, 3, 384, 640)\n"
     ]
    },
    {
     "name": "stderr",
     "output_type": "stream",
     "text": [
      "2025-05-30 10:49:13,994 - INFO - Кадр 316\n"
     ]
    },
    {
     "name": "stdout",
     "output_type": "stream",
     "text": [
      "\n",
      "0: 384x640 12 persons, 765.6ms\n",
      "Speed: 2.5ms preprocess, 765.6ms inference, 2.3ms postprocess per image at shape (1, 3, 384, 640)\n",
      "\n",
      "0: 384x640 10 persons, 672.2ms\n",
      "Speed: 2.0ms preprocess, 672.2ms inference, 2.2ms postprocess per image at shape (1, 3, 384, 640)\n"
     ]
    },
    {
     "name": "stderr",
     "output_type": "stream",
     "text": [
      "2025-05-30 10:49:15,640 - INFO - Кадр 317\n"
     ]
    },
    {
     "name": "stdout",
     "output_type": "stream",
     "text": [
      "\n",
      "0: 384x640 12 persons, 759.1ms\n",
      "Speed: 1.9ms preprocess, 759.1ms inference, 2.4ms postprocess per image at shape (1, 3, 384, 640)\n",
      "\n",
      "0: 384x640 10 persons, 651.3ms\n",
      "Speed: 2.0ms preprocess, 651.3ms inference, 2.1ms postprocess per image at shape (1, 3, 384, 640)\n"
     ]
    },
    {
     "name": "stderr",
     "output_type": "stream",
     "text": [
      "2025-05-30 10:49:17,254 - INFO - Кадр 318\n"
     ]
    },
    {
     "name": "stdout",
     "output_type": "stream",
     "text": [
      "\n",
      "0: 384x640 12 persons, 803.5ms\n",
      "Speed: 2.8ms preprocess, 803.5ms inference, 2.3ms postprocess per image at shape (1, 3, 384, 640)\n",
      "\n",
      "0: 384x640 10 persons, 734.7ms\n",
      "Speed: 2.1ms preprocess, 734.7ms inference, 2.2ms postprocess per image at shape (1, 3, 384, 640)\n"
     ]
    },
    {
     "name": "stderr",
     "output_type": "stream",
     "text": [
      "2025-05-30 10:49:19,007 - INFO - Кадр 319\n"
     ]
    },
    {
     "name": "stdout",
     "output_type": "stream",
     "text": [
      "\n",
      "0: 384x640 12 persons, 745.6ms\n",
      "Speed: 2.5ms preprocess, 745.6ms inference, 2.4ms postprocess per image at shape (1, 3, 384, 640)\n",
      "\n",
      "0: 384x640 10 persons, 651.5ms\n",
      "Speed: 2.1ms preprocess, 651.5ms inference, 2.2ms postprocess per image at shape (1, 3, 384, 640)\n"
     ]
    },
    {
     "name": "stderr",
     "output_type": "stream",
     "text": [
      "2025-05-30 10:49:20,614 - INFO - Кадр 320\n"
     ]
    },
    {
     "name": "stdout",
     "output_type": "stream",
     "text": [
      "\n",
      "0: 384x640 12 persons, 741.0ms\n",
      "Speed: 2.0ms preprocess, 741.0ms inference, 2.4ms postprocess per image at shape (1, 3, 384, 640)\n",
      "\n",
      "0: 384x640 10 persons, 945.1ms\n",
      "Speed: 2.0ms preprocess, 945.1ms inference, 2.4ms postprocess per image at shape (1, 3, 384, 640)\n"
     ]
    },
    {
     "name": "stderr",
     "output_type": "stream",
     "text": [
      "2025-05-30 10:49:22,524 - INFO - Кадр 321\n"
     ]
    },
    {
     "name": "stdout",
     "output_type": "stream",
     "text": [
      "\n",
      "0: 384x640 12 persons, 856.2ms\n",
      "Speed: 3.0ms preprocess, 856.2ms inference, 2.4ms postprocess per image at shape (1, 3, 384, 640)\n",
      "\n",
      "0: 384x640 11 persons, 804.9ms\n",
      "Speed: 2.3ms preprocess, 804.9ms inference, 2.4ms postprocess per image at shape (1, 3, 384, 640)\n"
     ]
    },
    {
     "name": "stderr",
     "output_type": "stream",
     "text": [
      "2025-05-30 10:49:24,422 - INFO - Кадр 322\n"
     ]
    },
    {
     "name": "stdout",
     "output_type": "stream",
     "text": [
      "\n",
      "0: 384x640 12 persons, 735.6ms\n",
      "Speed: 2.4ms preprocess, 735.6ms inference, 2.4ms postprocess per image at shape (1, 3, 384, 640)\n",
      "\n",
      "0: 384x640 11 persons, 680.6ms\n",
      "Speed: 2.1ms preprocess, 680.6ms inference, 2.2ms postprocess per image at shape (1, 3, 384, 640)\n"
     ]
    },
    {
     "name": "stderr",
     "output_type": "stream",
     "text": [
      "2025-05-30 10:49:26,064 - INFO - Кадр 323\n"
     ]
    },
    {
     "name": "stdout",
     "output_type": "stream",
     "text": [
      "\n",
      "0: 384x640 12 persons, 777.4ms\n",
      "Speed: 2.4ms preprocess, 777.4ms inference, 2.0ms postprocess per image at shape (1, 3, 384, 640)\n",
      "\n",
      "0: 384x640 10 persons, 735.5ms\n",
      "Speed: 2.5ms preprocess, 735.5ms inference, 2.3ms postprocess per image at shape (1, 3, 384, 640)\n"
     ]
    },
    {
     "name": "stderr",
     "output_type": "stream",
     "text": [
      "2025-05-30 10:49:27,798 - INFO - Кадр 324\n"
     ]
    },
    {
     "name": "stdout",
     "output_type": "stream",
     "text": [
      "\n",
      "0: 384x640 13 persons, 779.7ms\n",
      "Speed: 2.0ms preprocess, 779.7ms inference, 2.3ms postprocess per image at shape (1, 3, 384, 640)\n",
      "\n",
      "0: 384x640 10 persons, 751.0ms\n",
      "Speed: 2.2ms preprocess, 751.0ms inference, 2.4ms postprocess per image at shape (1, 3, 384, 640)\n"
     ]
    },
    {
     "name": "stderr",
     "output_type": "stream",
     "text": [
      "2025-05-30 10:49:29,561 - INFO - Кадр 325\n"
     ]
    },
    {
     "name": "stdout",
     "output_type": "stream",
     "text": [
      "\n",
      "0: 384x640 13 persons, 739.8ms\n",
      "Speed: 2.3ms preprocess, 739.8ms inference, 2.4ms postprocess per image at shape (1, 3, 384, 640)\n",
      "\n",
      "0: 384x640 10 persons, 662.5ms\n",
      "Speed: 2.1ms preprocess, 662.5ms inference, 2.2ms postprocess per image at shape (1, 3, 384, 640)\n"
     ]
    },
    {
     "name": "stderr",
     "output_type": "stream",
     "text": [
      "2025-05-30 10:49:31,163 - INFO - Кадр 326\n"
     ]
    },
    {
     "name": "stdout",
     "output_type": "stream",
     "text": [
      "\n",
      "0: 384x640 12 persons, 756.5ms\n",
      "Speed: 2.1ms preprocess, 756.5ms inference, 2.4ms postprocess per image at shape (1, 3, 384, 640)\n",
      "\n",
      "0: 384x640 10 persons, 689.2ms\n",
      "Speed: 2.0ms preprocess, 689.2ms inference, 2.2ms postprocess per image at shape (1, 3, 384, 640)\n"
     ]
    },
    {
     "name": "stderr",
     "output_type": "stream",
     "text": [
      "2025-05-30 10:49:32,825 - INFO - Кадр 327\n"
     ]
    },
    {
     "name": "stdout",
     "output_type": "stream",
     "text": [
      "\n",
      "0: 384x640 12 persons, 909.1ms\n",
      "Speed: 2.5ms preprocess, 909.1ms inference, 2.6ms postprocess per image at shape (1, 3, 384, 640)\n",
      "\n",
      "0: 384x640 9 persons, 940.0ms\n",
      "Speed: 2.3ms preprocess, 940.0ms inference, 4.0ms postprocess per image at shape (1, 3, 384, 640)\n"
     ]
    },
    {
     "name": "stderr",
     "output_type": "stream",
     "text": [
      "2025-05-30 10:49:34,914 - INFO - Кадр 328\n"
     ]
    },
    {
     "name": "stdout",
     "output_type": "stream",
     "text": [
      "\n",
      "0: 384x640 12 persons, 816.2ms\n",
      "Speed: 2.8ms preprocess, 816.2ms inference, 2.3ms postprocess per image at shape (1, 3, 384, 640)\n",
      "\n",
      "0: 384x640 9 persons, 666.0ms\n",
      "Speed: 2.0ms preprocess, 666.0ms inference, 2.3ms postprocess per image at shape (1, 3, 384, 640)\n"
     ]
    },
    {
     "name": "stderr",
     "output_type": "stream",
     "text": [
      "2025-05-30 10:49:36,609 - INFO - Кадр 329\n"
     ]
    },
    {
     "name": "stdout",
     "output_type": "stream",
     "text": [
      "\n",
      "0: 384x640 13 persons, 746.6ms\n",
      "Speed: 2.0ms preprocess, 746.6ms inference, 2.4ms postprocess per image at shape (1, 3, 384, 640)\n",
      "\n",
      "0: 384x640 9 persons, 677.9ms\n",
      "Speed: 2.1ms preprocess, 677.9ms inference, 2.2ms postprocess per image at shape (1, 3, 384, 640)\n"
     ]
    },
    {
     "name": "stderr",
     "output_type": "stream",
     "text": [
      "2025-05-30 10:49:38,252 - INFO - Кадр 330\n"
     ]
    },
    {
     "name": "stdout",
     "output_type": "stream",
     "text": [
      "\n",
      "0: 384x640 11 persons, 929.7ms\n",
      "Speed: 2.4ms preprocess, 929.7ms inference, 2.6ms postprocess per image at shape (1, 3, 384, 640)\n",
      "\n",
      "0: 384x640 9 persons, 832.0ms\n",
      "Speed: 2.2ms preprocess, 832.0ms inference, 2.2ms postprocess per image at shape (1, 3, 384, 640)\n"
     ]
    },
    {
     "name": "stderr",
     "output_type": "stream",
     "text": [
      "2025-05-30 10:49:40,236 - INFO - Кадр 331\n"
     ]
    },
    {
     "name": "stdout",
     "output_type": "stream",
     "text": [
      "\n",
      "0: 384x640 12 persons, 853.1ms\n",
      "Speed: 2.4ms preprocess, 853.1ms inference, 3.0ms postprocess per image at shape (1, 3, 384, 640)\n",
      "\n",
      "0: 384x640 9 persons, 792.3ms\n",
      "Speed: 2.3ms preprocess, 792.3ms inference, 2.7ms postprocess per image at shape (1, 3, 384, 640)\n"
     ]
    },
    {
     "name": "stderr",
     "output_type": "stream",
     "text": [
      "2025-05-30 10:49:42,097 - INFO - Кадр 332\n"
     ]
    },
    {
     "name": "stdout",
     "output_type": "stream",
     "text": [
      "\n",
      "0: 384x640 12 persons, 786.5ms\n",
      "Speed: 2.6ms preprocess, 786.5ms inference, 2.4ms postprocess per image at shape (1, 3, 384, 640)\n",
      "\n",
      "0: 384x640 9 persons, 739.7ms\n",
      "Speed: 2.2ms preprocess, 739.7ms inference, 2.3ms postprocess per image at shape (1, 3, 384, 640)\n"
     ]
    },
    {
     "name": "stderr",
     "output_type": "stream",
     "text": [
      "2025-05-30 10:49:43,855 - INFO - Кадр 333\n"
     ]
    },
    {
     "name": "stdout",
     "output_type": "stream",
     "text": [
      "\n",
      "0: 384x640 12 persons, 815.6ms\n",
      "Speed: 2.5ms preprocess, 815.6ms inference, 2.5ms postprocess per image at shape (1, 3, 384, 640)\n",
      "\n",
      "0: 384x640 9 persons, 838.3ms\n",
      "Speed: 5.5ms preprocess, 838.3ms inference, 2.4ms postprocess per image at shape (1, 3, 384, 640)\n"
     ]
    },
    {
     "name": "stderr",
     "output_type": "stream",
     "text": [
      "2025-05-30 10:49:45,759 - INFO - Кадр 334\n"
     ]
    },
    {
     "name": "stdout",
     "output_type": "stream",
     "text": [
      "\n",
      "0: 384x640 12 persons, 787.1ms\n",
      "Speed: 2.3ms preprocess, 787.1ms inference, 2.4ms postprocess per image at shape (1, 3, 384, 640)\n",
      "\n",
      "0: 384x640 9 persons, 721.0ms\n",
      "Speed: 2.1ms preprocess, 721.0ms inference, 2.2ms postprocess per image at shape (1, 3, 384, 640)\n"
     ]
    },
    {
     "name": "stderr",
     "output_type": "stream",
     "text": [
      "2025-05-30 10:49:47,474 - INFO - Кадр 335\n"
     ]
    },
    {
     "name": "stdout",
     "output_type": "stream",
     "text": [
      "\n",
      "0: 384x640 14 persons, 858.9ms\n",
      "Speed: 3.0ms preprocess, 858.9ms inference, 2.5ms postprocess per image at shape (1, 3, 384, 640)\n",
      "\n",
      "0: 384x640 9 persons, 729.3ms\n",
      "Speed: 2.2ms preprocess, 729.3ms inference, 2.3ms postprocess per image at shape (1, 3, 384, 640)\n"
     ]
    },
    {
     "name": "stderr",
     "output_type": "stream",
     "text": [
      "2025-05-30 10:49:49,282 - INFO - Кадр 336\n"
     ]
    },
    {
     "name": "stdout",
     "output_type": "stream",
     "text": [
      "\n",
      "0: 384x640 13 persons, 848.4ms\n",
      "Speed: 2.1ms preprocess, 848.4ms inference, 2.5ms postprocess per image at shape (1, 3, 384, 640)\n",
      "\n",
      "0: 384x640 9 persons, 784.6ms\n",
      "Speed: 2.1ms preprocess, 784.6ms inference, 2.4ms postprocess per image at shape (1, 3, 384, 640)\n"
     ]
    },
    {
     "name": "stderr",
     "output_type": "stream",
     "text": [
      "2025-05-30 10:49:51,202 - INFO - Кадр 337\n"
     ]
    },
    {
     "name": "stdout",
     "output_type": "stream",
     "text": [
      "\n",
      "0: 384x640 13 persons, 838.2ms\n",
      "Speed: 2.3ms preprocess, 838.2ms inference, 2.4ms postprocess per image at shape (1, 3, 384, 640)\n",
      "\n",
      "0: 384x640 9 persons, 738.9ms\n",
      "Speed: 2.5ms preprocess, 738.9ms inference, 2.2ms postprocess per image at shape (1, 3, 384, 640)\n"
     ]
    },
    {
     "name": "stderr",
     "output_type": "stream",
     "text": [
      "2025-05-30 10:49:52,995 - INFO - Кадр 338\n"
     ]
    },
    {
     "name": "stdout",
     "output_type": "stream",
     "text": [
      "\n",
      "0: 384x640 13 persons, 847.2ms\n",
      "Speed: 2.6ms preprocess, 847.2ms inference, 3.2ms postprocess per image at shape (1, 3, 384, 640)\n",
      "\n",
      "0: 384x640 9 persons, 977.4ms\n",
      "Speed: 2.2ms preprocess, 977.4ms inference, 3.3ms postprocess per image at shape (1, 3, 384, 640)\n"
     ]
    },
    {
     "name": "stderr",
     "output_type": "stream",
     "text": [
      "2025-05-30 10:49:55,083 - INFO - Кадр 339\n"
     ]
    },
    {
     "name": "stdout",
     "output_type": "stream",
     "text": [
      "\n",
      "0: 384x640 12 persons, 1339.5ms\n",
      "Speed: 6.8ms preprocess, 1339.5ms inference, 3.8ms postprocess per image at shape (1, 3, 384, 640)\n",
      "\n",
      "0: 384x640 10 persons, 989.8ms\n",
      "Speed: 2.9ms preprocess, 989.8ms inference, 2.6ms postprocess per image at shape (1, 3, 384, 640)\n"
     ]
    },
    {
     "name": "stderr",
     "output_type": "stream",
     "text": [
      "2025-05-30 10:49:57,666 - INFO - Кадр 340\n"
     ]
    },
    {
     "name": "stdout",
     "output_type": "stream",
     "text": [
      "\n",
      "0: 384x640 10 persons, 1146.5ms\n",
      "Speed: 3.1ms preprocess, 1146.5ms inference, 3.4ms postprocess per image at shape (1, 3, 384, 640)\n",
      "\n",
      "0: 384x640 10 persons, 972.4ms\n",
      "Speed: 2.5ms preprocess, 972.4ms inference, 3.2ms postprocess per image at shape (1, 3, 384, 640)\n"
     ]
    },
    {
     "name": "stderr",
     "output_type": "stream",
     "text": [
      "2025-05-30 10:50:00,052 - INFO - Кадр 341\n"
     ]
    },
    {
     "name": "stdout",
     "output_type": "stream",
     "text": [
      "\n",
      "0: 384x640 12 persons, 1270.9ms\n",
      "Speed: 2.6ms preprocess, 1270.9ms inference, 3.0ms postprocess per image at shape (1, 3, 384, 640)\n",
      "\n",
      "0: 384x640 10 persons, 780.2ms\n",
      "Speed: 2.2ms preprocess, 780.2ms inference, 2.2ms postprocess per image at shape (1, 3, 384, 640)\n"
     ]
    },
    {
     "name": "stderr",
     "output_type": "stream",
     "text": [
      "2025-05-30 10:50:02,330 - INFO - Кадр 342\n"
     ]
    },
    {
     "name": "stdout",
     "output_type": "stream",
     "text": [
      "\n",
      "0: 384x640 12 persons, 828.1ms\n",
      "Speed: 2.8ms preprocess, 828.1ms inference, 2.4ms postprocess per image at shape (1, 3, 384, 640)\n",
      "\n",
      "0: 384x640 9 persons, 720.2ms\n",
      "Speed: 2.1ms preprocess, 720.2ms inference, 2.3ms postprocess per image at shape (1, 3, 384, 640)\n"
     ]
    },
    {
     "name": "stderr",
     "output_type": "stream",
     "text": [
      "2025-05-30 10:50:04,101 - INFO - Кадр 343\n"
     ]
    },
    {
     "name": "stdout",
     "output_type": "stream",
     "text": [
      "\n",
      "0: 384x640 13 persons, 935.2ms\n",
      "Speed: 2.5ms preprocess, 935.2ms inference, 2.9ms postprocess per image at shape (1, 3, 384, 640)\n",
      "\n",
      "0: 384x640 9 persons, 870.0ms\n",
      "Speed: 2.2ms preprocess, 870.0ms inference, 2.3ms postprocess per image at shape (1, 3, 384, 640)\n"
     ]
    },
    {
     "name": "stderr",
     "output_type": "stream",
     "text": [
      "2025-05-30 10:50:06,125 - INFO - Кадр 344\n"
     ]
    },
    {
     "name": "stdout",
     "output_type": "stream",
     "text": [
      "\n",
      "0: 384x640 13 persons, 860.0ms\n",
      "Speed: 2.2ms preprocess, 860.0ms inference, 2.4ms postprocess per image at shape (1, 3, 384, 640)\n",
      "\n",
      "0: 384x640 9 persons, 693.0ms\n",
      "Speed: 2.1ms preprocess, 693.0ms inference, 2.4ms postprocess per image at shape (1, 3, 384, 640)\n"
     ]
    },
    {
     "name": "stderr",
     "output_type": "stream",
     "text": [
      "2025-05-30 10:50:07,898 - INFO - Кадр 345\n"
     ]
    },
    {
     "name": "stdout",
     "output_type": "stream",
     "text": [
      "\n",
      "0: 384x640 12 persons, 815.8ms\n",
      "Speed: 2.4ms preprocess, 815.8ms inference, 2.5ms postprocess per image at shape (1, 3, 384, 640)\n",
      "\n",
      "0: 384x640 10 persons, 758.8ms\n",
      "Speed: 2.3ms preprocess, 758.8ms inference, 2.9ms postprocess per image at shape (1, 3, 384, 640)\n"
     ]
    },
    {
     "name": "stderr",
     "output_type": "stream",
     "text": [
      "2025-05-30 10:50:09,702 - INFO - Кадр 346\n"
     ]
    },
    {
     "name": "stdout",
     "output_type": "stream",
     "text": [
      "\n",
      "0: 384x640 12 persons, 936.4ms\n",
      "Speed: 2.9ms preprocess, 936.4ms inference, 2.4ms postprocess per image at shape (1, 3, 384, 640)\n",
      "\n",
      "0: 384x640 10 persons, 929.5ms\n",
      "Speed: 2.3ms preprocess, 929.5ms inference, 2.8ms postprocess per image at shape (1, 3, 384, 640)\n"
     ]
    },
    {
     "name": "stderr",
     "output_type": "stream",
     "text": [
      "2025-05-30 10:50:11,794 - INFO - Кадр 347\n"
     ]
    },
    {
     "name": "stdout",
     "output_type": "stream",
     "text": [
      "\n",
      "0: 384x640 11 persons, 930.2ms\n",
      "Speed: 2.6ms preprocess, 930.2ms inference, 2.4ms postprocess per image at shape (1, 3, 384, 640)\n",
      "\n",
      "0: 384x640 9 persons, 729.1ms\n",
      "Speed: 2.2ms preprocess, 729.1ms inference, 2.6ms postprocess per image at shape (1, 3, 384, 640)\n"
     ]
    },
    {
     "name": "stderr",
     "output_type": "stream",
     "text": [
      "2025-05-30 10:50:13,678 - INFO - Кадр 348\n"
     ]
    },
    {
     "name": "stdout",
     "output_type": "stream",
     "text": [
      "\n",
      "0: 384x640 12 persons, 834.1ms\n",
      "Speed: 2.2ms preprocess, 834.1ms inference, 2.8ms postprocess per image at shape (1, 3, 384, 640)\n",
      "\n",
      "0: 384x640 9 persons, 828.2ms\n",
      "Speed: 2.1ms preprocess, 828.2ms inference, 2.6ms postprocess per image at shape (1, 3, 384, 640)\n"
     ]
    },
    {
     "name": "stderr",
     "output_type": "stream",
     "text": [
      "2025-05-30 10:50:15,562 - INFO - Кадр 349\n"
     ]
    },
    {
     "name": "stdout",
     "output_type": "stream",
     "text": [
      "\n",
      "0: 384x640 12 persons, 852.2ms\n",
      "Speed: 2.5ms preprocess, 852.2ms inference, 2.9ms postprocess per image at shape (1, 3, 384, 640)\n",
      "\n",
      "0: 384x640 9 persons, 692.9ms\n",
      "Speed: 2.2ms preprocess, 692.9ms inference, 2.2ms postprocess per image at shape (1, 3, 384, 640)\n"
     ]
    },
    {
     "name": "stderr",
     "output_type": "stream",
     "text": [
      "2025-05-30 10:50:17,315 - INFO - Кадр 350\n"
     ]
    },
    {
     "name": "stdout",
     "output_type": "stream",
     "text": [
      "\n",
      "0: 384x640 12 persons, 794.5ms\n",
      "Speed: 2.3ms preprocess, 794.5ms inference, 2.4ms postprocess per image at shape (1, 3, 384, 640)\n",
      "\n",
      "0: 384x640 9 persons, 699.5ms\n",
      "Speed: 2.5ms preprocess, 699.5ms inference, 2.3ms postprocess per image at shape (1, 3, 384, 640)\n"
     ]
    },
    {
     "name": "stderr",
     "output_type": "stream",
     "text": [
      "2025-05-30 10:50:19,031 - INFO - Кадр 351\n"
     ]
    },
    {
     "name": "stdout",
     "output_type": "stream",
     "text": [
      "\n",
      "0: 384x640 10 persons, 756.1ms\n",
      "Speed: 3.0ms preprocess, 756.1ms inference, 2.5ms postprocess per image at shape (1, 3, 384, 640)\n",
      "\n",
      "0: 384x640 9 persons, 682.5ms\n",
      "Speed: 2.2ms preprocess, 682.5ms inference, 2.9ms postprocess per image at shape (1, 3, 384, 640)\n"
     ]
    },
    {
     "name": "stderr",
     "output_type": "stream",
     "text": [
      "2025-05-30 10:50:20,700 - INFO - Кадр 352\n"
     ]
    },
    {
     "name": "stdout",
     "output_type": "stream",
     "text": [
      "\n",
      "0: 384x640 13 persons, 1134.7ms\n",
      "Speed: 2.4ms preprocess, 1134.7ms inference, 3.1ms postprocess per image at shape (1, 3, 384, 640)\n",
      "\n",
      "0: 384x640 9 persons, 1149.2ms\n",
      "Speed: 8.0ms preprocess, 1149.2ms inference, 2.6ms postprocess per image at shape (1, 3, 384, 640)\n"
     ]
    },
    {
     "name": "stderr",
     "output_type": "stream",
     "text": [
      "2025-05-30 10:50:23,243 - INFO - Кадр 353\n"
     ]
    },
    {
     "name": "stdout",
     "output_type": "stream",
     "text": [
      "\n",
      "0: 384x640 13 persons, 1296.8ms\n",
      "Speed: 3.2ms preprocess, 1296.8ms inference, 2.8ms postprocess per image at shape (1, 3, 384, 640)\n",
      "\n",
      "0: 384x640 9 persons, 1704.2ms\n",
      "Speed: 2.3ms preprocess, 1704.2ms inference, 2.6ms postprocess per image at shape (1, 3, 384, 640)\n"
     ]
    },
    {
     "name": "stderr",
     "output_type": "stream",
     "text": [
      "2025-05-30 10:50:26,498 - INFO - Кадр 354\n"
     ]
    },
    {
     "name": "stdout",
     "output_type": "stream",
     "text": [
      "\n",
      "0: 384x640 11 persons, 1392.0ms\n",
      "Speed: 2.7ms preprocess, 1392.0ms inference, 2.9ms postprocess per image at shape (1, 3, 384, 640)\n",
      "\n",
      "0: 384x640 9 persons, 1077.3ms\n",
      "Speed: 2.4ms preprocess, 1077.3ms inference, 2.8ms postprocess per image at shape (1, 3, 384, 640)\n"
     ]
    },
    {
     "name": "stderr",
     "output_type": "stream",
     "text": [
      "2025-05-30 10:50:29,224 - INFO - Кадр 355\n"
     ]
    },
    {
     "name": "stdout",
     "output_type": "stream",
     "text": [
      "\n",
      "0: 384x640 11 persons, 1800.8ms\n",
      "Speed: 28.3ms preprocess, 1800.8ms inference, 2.9ms postprocess per image at shape (1, 3, 384, 640)\n",
      "\n",
      "0: 384x640 9 persons, 2797.6ms\n",
      "Speed: 10.8ms preprocess, 2797.6ms inference, 3.0ms postprocess per image at shape (1, 3, 384, 640)\n"
     ]
    },
    {
     "name": "stderr",
     "output_type": "stream",
     "text": [
      "2025-05-30 10:50:34,350 - INFO - Кадр 356\n"
     ]
    },
    {
     "name": "stdout",
     "output_type": "stream",
     "text": [
      "\n",
      "0: 384x640 9 persons, 3383.7ms\n",
      "Speed: 11.4ms preprocess, 3383.7ms inference, 2.7ms postprocess per image at shape (1, 3, 384, 640)\n",
      "\n",
      "0: 384x640 9 persons, 1521.8ms\n",
      "Speed: 2.6ms preprocess, 1521.8ms inference, 3.1ms postprocess per image at shape (1, 3, 384, 640)\n"
     ]
    },
    {
     "name": "stderr",
     "output_type": "stream",
     "text": [
      "2025-05-30 10:50:39,517 - INFO - Кадр 357\n"
     ]
    },
    {
     "name": "stdout",
     "output_type": "stream",
     "text": [
      "\n",
      "0: 384x640 9 persons, 1645.2ms\n",
      "Speed: 4.2ms preprocess, 1645.2ms inference, 3.0ms postprocess per image at shape (1, 3, 384, 640)\n",
      "\n",
      "0: 384x640 10 persons, 1703.6ms\n",
      "Speed: 4.1ms preprocess, 1703.6ms inference, 2.4ms postprocess per image at shape (1, 3, 384, 640)\n"
     ]
    },
    {
     "name": "stderr",
     "output_type": "stream",
     "text": [
      "2025-05-30 10:50:43,133 - INFO - Кадр 358\n"
     ]
    },
    {
     "name": "stdout",
     "output_type": "stream",
     "text": [
      "\n",
      "0: 384x640 10 persons, 2189.1ms\n",
      "Speed: 53.7ms preprocess, 2189.1ms inference, 3.5ms postprocess per image at shape (1, 3, 384, 640)\n",
      "\n",
      "0: 384x640 10 persons, 720.2ms\n",
      "Speed: 2.1ms preprocess, 720.2ms inference, 2.3ms postprocess per image at shape (1, 3, 384, 640)\n"
     ]
    },
    {
     "name": "stderr",
     "output_type": "stream",
     "text": [
      "2025-05-30 10:50:46,359 - INFO - Кадр 359\n"
     ]
    },
    {
     "name": "stdout",
     "output_type": "stream",
     "text": [
      "\n",
      "0: 384x640 10 persons, 1518.4ms\n",
      "Speed: 4.4ms preprocess, 1518.4ms inference, 3.1ms postprocess per image at shape (1, 3, 384, 640)\n",
      "\n",
      "0: 384x640 10 persons, 729.2ms\n",
      "Speed: 2.0ms preprocess, 729.2ms inference, 2.4ms postprocess per image at shape (1, 3, 384, 640)\n"
     ]
    },
    {
     "name": "stderr",
     "output_type": "stream",
     "text": [
      "2025-05-30 10:50:48,828 - INFO - Кадр 360\n"
     ]
    },
    {
     "name": "stdout",
     "output_type": "stream",
     "text": [
      "\n",
      "0: 384x640 11 persons, 883.1ms\n",
      "Speed: 3.7ms preprocess, 883.1ms inference, 2.6ms postprocess per image at shape (1, 3, 384, 640)\n",
      "\n",
      "0: 384x640 10 persons, 691.6ms\n",
      "Speed: 2.1ms preprocess, 691.6ms inference, 2.2ms postprocess per image at shape (1, 3, 384, 640)\n"
     ]
    },
    {
     "name": "stderr",
     "output_type": "stream",
     "text": [
      "2025-05-30 10:50:50,634 - INFO - Кадр 361\n"
     ]
    },
    {
     "name": "stdout",
     "output_type": "stream",
     "text": [
      "\n",
      "0: 384x640 11 persons, 775.3ms\n",
      "Speed: 2.4ms preprocess, 775.3ms inference, 2.8ms postprocess per image at shape (1, 3, 384, 640)\n",
      "\n",
      "0: 384x640 10 persons, 695.9ms\n",
      "Speed: 2.0ms preprocess, 695.9ms inference, 2.4ms postprocess per image at shape (1, 3, 384, 640)\n"
     ]
    },
    {
     "name": "stderr",
     "output_type": "stream",
     "text": [
      "2025-05-30 10:50:52,320 - INFO - Кадр 362\n"
     ]
    },
    {
     "name": "stdout",
     "output_type": "stream",
     "text": [
      "\n",
      "0: 384x640 11 persons, 762.5ms\n",
      "Speed: 2.4ms preprocess, 762.5ms inference, 2.5ms postprocess per image at shape (1, 3, 384, 640)\n",
      "\n",
      "0: 384x640 9 persons, 680.7ms\n",
      "Speed: 1.9ms preprocess, 680.7ms inference, 2.2ms postprocess per image at shape (1, 3, 384, 640)\n"
     ]
    },
    {
     "name": "stderr",
     "output_type": "stream",
     "text": [
      "2025-05-30 10:50:53,991 - INFO - Кадр 363\n"
     ]
    },
    {
     "name": "stdout",
     "output_type": "stream",
     "text": [
      "\n",
      "0: 384x640 11 persons, 885.4ms\n",
      "Speed: 3.4ms preprocess, 885.4ms inference, 2.6ms postprocess per image at shape (1, 3, 384, 640)\n",
      "\n",
      "0: 384x640 9 persons, 685.7ms\n",
      "Speed: 2.1ms preprocess, 685.7ms inference, 2.8ms postprocess per image at shape (1, 3, 384, 640)\n"
     ]
    },
    {
     "name": "stderr",
     "output_type": "stream",
     "text": [
      "2025-05-30 10:50:55,789 - INFO - Кадр 364\n"
     ]
    },
    {
     "name": "stdout",
     "output_type": "stream",
     "text": [
      "\n",
      "0: 384x640 9 persons, 769.9ms\n",
      "Speed: 2.3ms preprocess, 769.9ms inference, 2.4ms postprocess per image at shape (1, 3, 384, 640)\n",
      "\n",
      "0: 384x640 9 persons, 681.8ms\n",
      "Speed: 2.1ms preprocess, 681.8ms inference, 2.3ms postprocess per image at shape (1, 3, 384, 640)\n"
     ]
    },
    {
     "name": "stderr",
     "output_type": "stream",
     "text": [
      "2025-05-30 10:50:57,459 - INFO - Кадр 365\n"
     ]
    },
    {
     "name": "stdout",
     "output_type": "stream",
     "text": [
      "\n",
      "0: 384x640 10 persons, 752.9ms\n",
      "Speed: 2.1ms preprocess, 752.9ms inference, 2.3ms postprocess per image at shape (1, 3, 384, 640)\n",
      "\n",
      "0: 384x640 9 persons, 666.7ms\n",
      "Speed: 2.2ms preprocess, 666.7ms inference, 2.4ms postprocess per image at shape (1, 3, 384, 640)\n"
     ]
    },
    {
     "name": "stderr",
     "output_type": "stream",
     "text": [
      "2025-05-30 10:50:59,096 - INFO - Кадр 366\n"
     ]
    },
    {
     "name": "stdout",
     "output_type": "stream",
     "text": [
      "\n",
      "0: 384x640 9 persons, 827.7ms\n",
      "Speed: 2.5ms preprocess, 827.7ms inference, 2.7ms postprocess per image at shape (1, 3, 384, 640)\n",
      "\n",
      "0: 384x640 8 persons, 666.6ms\n",
      "Speed: 2.3ms preprocess, 666.6ms inference, 2.3ms postprocess per image at shape (1, 3, 384, 640)\n"
     ]
    },
    {
     "name": "stderr",
     "output_type": "stream",
     "text": [
      "2025-05-30 10:51:00,820 - INFO - Кадр 367\n"
     ]
    },
    {
     "name": "stdout",
     "output_type": "stream",
     "text": [
      "\n",
      "0: 384x640 10 persons, 754.5ms\n",
      "Speed: 2.3ms preprocess, 754.5ms inference, 2.4ms postprocess per image at shape (1, 3, 384, 640)\n",
      "\n",
      "0: 384x640 10 persons, 669.5ms\n",
      "Speed: 2.1ms preprocess, 669.5ms inference, 2.5ms postprocess per image at shape (1, 3, 384, 640)\n"
     ]
    },
    {
     "name": "stderr",
     "output_type": "stream",
     "text": [
      "2025-05-30 10:51:02,468 - INFO - Кадр 368\n"
     ]
    },
    {
     "name": "stdout",
     "output_type": "stream",
     "text": [
      "\n",
      "0: 384x640 10 persons, 766.7ms\n",
      "Speed: 2.2ms preprocess, 766.7ms inference, 2.6ms postprocess per image at shape (1, 3, 384, 640)\n",
      "\n",
      "0: 384x640 8 persons, 805.8ms\n",
      "Speed: 94.4ms preprocess, 805.8ms inference, 2.3ms postprocess per image at shape (1, 3, 384, 640)\n"
     ]
    },
    {
     "name": "stderr",
     "output_type": "stream",
     "text": [
      "2025-05-30 10:51:04,349 - INFO - Кадр 369\n"
     ]
    },
    {
     "name": "stdout",
     "output_type": "stream",
     "text": [
      "\n",
      "0: 384x640 11 persons, 848.5ms\n",
      "Speed: 2.0ms preprocess, 848.5ms inference, 2.4ms postprocess per image at shape (1, 3, 384, 640)\n",
      "\n",
      "0: 384x640 8 persons, 739.0ms\n",
      "Speed: 2.1ms preprocess, 739.0ms inference, 2.2ms postprocess per image at shape (1, 3, 384, 640)\n"
     ]
    },
    {
     "name": "stderr",
     "output_type": "stream",
     "text": [
      "2025-05-30 10:51:06,151 - INFO - Кадр 370\n"
     ]
    },
    {
     "name": "stdout",
     "output_type": "stream",
     "text": [
      "\n",
      "0: 384x640 12 persons, 765.2ms\n",
      "Speed: 2.3ms preprocess, 765.2ms inference, 2.7ms postprocess per image at shape (1, 3, 384, 640)\n",
      "\n",
      "0: 384x640 10 persons, 671.5ms\n",
      "Speed: 2.2ms preprocess, 671.5ms inference, 2.3ms postprocess per image at shape (1, 3, 384, 640)\n"
     ]
    },
    {
     "name": "stderr",
     "output_type": "stream",
     "text": [
      "2025-05-30 10:51:07,820 - INFO - Кадр 371\n"
     ]
    },
    {
     "name": "stdout",
     "output_type": "stream",
     "text": [
      "\n",
      "0: 384x640 12 persons, 759.7ms\n",
      "Speed: 2.5ms preprocess, 759.7ms inference, 2.5ms postprocess per image at shape (1, 3, 384, 640)\n",
      "\n",
      "0: 384x640 10 persons, 673.9ms\n",
      "Speed: 2.2ms preprocess, 673.9ms inference, 2.2ms postprocess per image at shape (1, 3, 384, 640)\n"
     ]
    },
    {
     "name": "stderr",
     "output_type": "stream",
     "text": [
      "2025-05-30 10:51:09,468 - INFO - Кадр 372\n"
     ]
    },
    {
     "name": "stdout",
     "output_type": "stream",
     "text": [
      "\n",
      "0: 384x640 12 persons, 830.6ms\n",
      "Speed: 2.2ms preprocess, 830.6ms inference, 2.5ms postprocess per image at shape (1, 3, 384, 640)\n",
      "\n",
      "0: 384x640 11 persons, 679.0ms\n",
      "Speed: 2.0ms preprocess, 679.0ms inference, 2.3ms postprocess per image at shape (1, 3, 384, 640)\n"
     ]
    },
    {
     "name": "stderr",
     "output_type": "stream",
     "text": [
      "2025-05-30 10:51:11,197 - INFO - Кадр 373\n"
     ]
    },
    {
     "name": "stdout",
     "output_type": "stream",
     "text": [
      "\n",
      "0: 384x640 11 persons, 744.2ms\n",
      "Speed: 2.4ms preprocess, 744.2ms inference, 2.4ms postprocess per image at shape (1, 3, 384, 640)\n",
      "\n",
      "0: 384x640 11 persons, 914.5ms\n",
      "Speed: 2.0ms preprocess, 914.5ms inference, 2.1ms postprocess per image at shape (1, 3, 384, 640)\n"
     ]
    },
    {
     "name": "stderr",
     "output_type": "stream",
     "text": [
      "2025-05-30 10:51:13,061 - INFO - Кадр 374\n"
     ]
    },
    {
     "name": "stdout",
     "output_type": "stream",
     "text": [
      "\n",
      "0: 384x640 9 persons, 749.4ms\n",
      "Speed: 2.4ms preprocess, 749.4ms inference, 2.2ms postprocess per image at shape (1, 3, 384, 640)\n",
      "\n",
      "0: 384x640 9 persons, 678.1ms\n",
      "Speed: 2.2ms preprocess, 678.1ms inference, 2.2ms postprocess per image at shape (1, 3, 384, 640)\n"
     ]
    },
    {
     "name": "stderr",
     "output_type": "stream",
     "text": [
      "2025-05-30 10:51:14,711 - INFO - Кадр 375\n"
     ]
    },
    {
     "name": "stdout",
     "output_type": "stream",
     "text": [
      "\n",
      "0: 384x640 9 persons, 838.4ms\n",
      "Speed: 5.8ms preprocess, 838.4ms inference, 2.4ms postprocess per image at shape (1, 3, 384, 640)\n",
      "\n",
      "0: 384x640 10 persons, 674.7ms\n",
      "Speed: 2.1ms preprocess, 674.7ms inference, 2.3ms postprocess per image at shape (1, 3, 384, 640)\n"
     ]
    },
    {
     "name": "stderr",
     "output_type": "stream",
     "text": [
      "2025-05-30 10:51:16,439 - INFO - Кадр 376\n"
     ]
    },
    {
     "name": "stdout",
     "output_type": "stream",
     "text": [
      "\n",
      "0: 384x640 10 persons, 757.0ms\n",
      "Speed: 2.5ms preprocess, 757.0ms inference, 2.5ms postprocess per image at shape (1, 3, 384, 640)\n",
      "\n",
      "0: 384x640 10 persons, 661.7ms\n",
      "Speed: 2.0ms preprocess, 661.7ms inference, 2.3ms postprocess per image at shape (1, 3, 384, 640)\n"
     ]
    },
    {
     "name": "stderr",
     "output_type": "stream",
     "text": [
      "2025-05-30 10:51:18,075 - INFO - Кадр 377\n"
     ]
    },
    {
     "name": "stdout",
     "output_type": "stream",
     "text": [
      "\n",
      "0: 384x640 10 persons, 751.7ms\n",
      "Speed: 2.3ms preprocess, 751.7ms inference, 2.4ms postprocess per image at shape (1, 3, 384, 640)\n",
      "\n",
      "0: 384x640 10 persons, 696.4ms\n",
      "Speed: 2.5ms preprocess, 696.4ms inference, 3.1ms postprocess per image at shape (1, 3, 384, 640)\n"
     ]
    },
    {
     "name": "stderr",
     "output_type": "stream",
     "text": [
      "2025-05-30 10:51:19,730 - INFO - Кадр 378\n"
     ]
    },
    {
     "name": "stdout",
     "output_type": "stream",
     "text": [
      "\n",
      "0: 384x640 10 persons, 841.1ms\n",
      "Speed: 2.5ms preprocess, 841.1ms inference, 2.5ms postprocess per image at shape (1, 3, 384, 640)\n",
      "\n",
      "0: 384x640 9 persons, 670.3ms\n",
      "Speed: 2.1ms preprocess, 670.3ms inference, 2.4ms postprocess per image at shape (1, 3, 384, 640)\n"
     ]
    },
    {
     "name": "stderr",
     "output_type": "stream",
     "text": [
      "2025-05-30 10:51:21,471 - INFO - Кадр 379\n"
     ]
    },
    {
     "name": "stdout",
     "output_type": "stream",
     "text": [
      "\n",
      "0: 384x640 7 persons, 763.7ms\n",
      "Speed: 2.2ms preprocess, 763.7ms inference, 2.5ms postprocess per image at shape (1, 3, 384, 640)\n",
      "\n",
      "0: 384x640 9 persons, 665.6ms\n",
      "Speed: 2.2ms preprocess, 665.6ms inference, 2.6ms postprocess per image at shape (1, 3, 384, 640)\n"
     ]
    },
    {
     "name": "stderr",
     "output_type": "stream",
     "text": [
      "2025-05-30 10:51:23,115 - INFO - Кадр 380\n"
     ]
    },
    {
     "name": "stdout",
     "output_type": "stream",
     "text": [
      "\n",
      "0: 384x640 9 persons, 776.4ms\n",
      "Speed: 2.5ms preprocess, 776.4ms inference, 2.5ms postprocess per image at shape (1, 3, 384, 640)\n",
      "\n",
      "0: 384x640 10 persons, 683.8ms\n",
      "Speed: 2.3ms preprocess, 683.8ms inference, 2.3ms postprocess per image at shape (1, 3, 384, 640)\n"
     ]
    },
    {
     "name": "stderr",
     "output_type": "stream",
     "text": [
      "2025-05-30 10:51:24,789 - INFO - Кадр 381\n"
     ]
    },
    {
     "name": "stdout",
     "output_type": "stream",
     "text": [
      "\n",
      "0: 384x640 10 persons, 827.4ms\n",
      "Speed: 2.2ms preprocess, 827.4ms inference, 2.4ms postprocess per image at shape (1, 3, 384, 640)\n",
      "\n",
      "0: 384x640 10 persons, 670.8ms\n",
      "Speed: 2.1ms preprocess, 670.8ms inference, 2.3ms postprocess per image at shape (1, 3, 384, 640)\n"
     ]
    },
    {
     "name": "stderr",
     "output_type": "stream",
     "text": [
      "2025-05-30 10:51:26,502 - INFO - Кадр 382\n"
     ]
    },
    {
     "name": "stdout",
     "output_type": "stream",
     "text": [
      "\n",
      "0: 384x640 10 persons, 767.8ms\n",
      "Speed: 2.4ms preprocess, 767.8ms inference, 2.4ms postprocess per image at shape (1, 3, 384, 640)\n",
      "\n",
      "0: 384x640 9 persons, 691.3ms\n",
      "Speed: 2.1ms preprocess, 691.3ms inference, 2.3ms postprocess per image at shape (1, 3, 384, 640)\n"
     ]
    },
    {
     "name": "stderr",
     "output_type": "stream",
     "text": [
      "2025-05-30 10:51:28,186 - INFO - Кадр 383\n"
     ]
    },
    {
     "name": "stdout",
     "output_type": "stream",
     "text": [
      "\n",
      "0: 384x640 9 persons, 763.6ms\n",
      "Speed: 2.2ms preprocess, 763.6ms inference, 2.4ms postprocess per image at shape (1, 3, 384, 640)\n",
      "\n",
      "0: 384x640 10 persons, 667.4ms\n",
      "Speed: 2.3ms preprocess, 667.4ms inference, 2.3ms postprocess per image at shape (1, 3, 384, 640)\n"
     ]
    },
    {
     "name": "stderr",
     "output_type": "stream",
     "text": [
      "2025-05-30 10:51:29,833 - INFO - Кадр 384\n"
     ]
    },
    {
     "name": "stdout",
     "output_type": "stream",
     "text": [
      "\n",
      "0: 384x640 11 persons, 785.6ms\n",
      "Speed: 2.2ms preprocess, 785.6ms inference, 3.5ms postprocess per image at shape (1, 3, 384, 640)\n",
      "\n",
      "0: 384x640 10 persons, 680.6ms\n",
      "Speed: 2.3ms preprocess, 680.6ms inference, 2.3ms postprocess per image at shape (1, 3, 384, 640)\n"
     ]
    },
    {
     "name": "stderr",
     "output_type": "stream",
     "text": [
      "2025-05-30 10:51:31,524 - INFO - Кадр 385\n"
     ]
    },
    {
     "name": "stdout",
     "output_type": "stream",
     "text": [
      "\n",
      "0: 384x640 11 persons, 751.1ms\n",
      "Speed: 2.2ms preprocess, 751.1ms inference, 2.6ms postprocess per image at shape (1, 3, 384, 640)\n",
      "\n",
      "0: 384x640 10 persons, 669.4ms\n",
      "Speed: 2.2ms preprocess, 669.4ms inference, 2.2ms postprocess per image at shape (1, 3, 384, 640)\n"
     ]
    },
    {
     "name": "stderr",
     "output_type": "stream",
     "text": [
      "2025-05-30 10:51:33,148 - INFO - Кадр 386\n"
     ]
    },
    {
     "name": "stdout",
     "output_type": "stream",
     "text": [
      "\n",
      "0: 384x640 11 persons, 751.9ms\n",
      "Speed: 2.5ms preprocess, 751.9ms inference, 2.5ms postprocess per image at shape (1, 3, 384, 640)\n",
      "\n",
      "0: 384x640 10 persons, 705.1ms\n",
      "Speed: 2.2ms preprocess, 705.1ms inference, 2.4ms postprocess per image at shape (1, 3, 384, 640)\n"
     ]
    },
    {
     "name": "stderr",
     "output_type": "stream",
     "text": [
      "2025-05-30 10:51:34,830 - INFO - Кадр 387\n"
     ]
    },
    {
     "name": "stdout",
     "output_type": "stream",
     "text": [
      "\n",
      "0: 384x640 13 persons, 780.4ms\n",
      "Speed: 2.6ms preprocess, 780.4ms inference, 2.3ms postprocess per image at shape (1, 3, 384, 640)\n",
      "\n",
      "0: 384x640 9 persons, 742.5ms\n",
      "Speed: 2.0ms preprocess, 742.5ms inference, 2.7ms postprocess per image at shape (1, 3, 384, 640)\n"
     ]
    },
    {
     "name": "stderr",
     "output_type": "stream",
     "text": [
      "2025-05-30 10:51:36,567 - INFO - Кадр 388\n"
     ]
    },
    {
     "name": "stdout",
     "output_type": "stream",
     "text": [
      "\n",
      "0: 384x640 12 persons, 767.6ms\n",
      "Speed: 2.3ms preprocess, 767.6ms inference, 3.0ms postprocess per image at shape (1, 3, 384, 640)\n",
      "\n",
      "0: 384x640 11 persons, 718.0ms\n",
      "Speed: 2.1ms preprocess, 718.0ms inference, 2.4ms postprocess per image at shape (1, 3, 384, 640)\n"
     ]
    },
    {
     "name": "stderr",
     "output_type": "stream",
     "text": [
      "2025-05-30 10:51:38,280 - INFO - Кадр 389\n"
     ]
    },
    {
     "name": "stdout",
     "output_type": "stream",
     "text": [
      "\n",
      "0: 384x640 12 persons, 775.7ms\n",
      "Speed: 2.0ms preprocess, 775.7ms inference, 2.7ms postprocess per image at shape (1, 3, 384, 640)\n",
      "\n",
      "0: 384x640 11 persons, 673.0ms\n",
      "Speed: 2.0ms preprocess, 673.0ms inference, 2.3ms postprocess per image at shape (1, 3, 384, 640)\n"
     ]
    },
    {
     "name": "stderr",
     "output_type": "stream",
     "text": [
      "2025-05-30 10:51:39,948 - INFO - Кадр 390\n"
     ]
    },
    {
     "name": "stdout",
     "output_type": "stream",
     "text": [
      "\n",
      "0: 384x640 12 persons, 771.1ms\n",
      "Speed: 2.5ms preprocess, 771.1ms inference, 2.5ms postprocess per image at shape (1, 3, 384, 640)\n",
      "\n",
      "0: 384x640 11 persons, 730.4ms\n",
      "Speed: 2.1ms preprocess, 730.4ms inference, 2.3ms postprocess per image at shape (1, 3, 384, 640)\n"
     ]
    },
    {
     "name": "stderr",
     "output_type": "stream",
     "text": [
      "2025-05-30 10:51:41,665 - INFO - Кадр 391\n"
     ]
    },
    {
     "name": "stdout",
     "output_type": "stream",
     "text": [
      "\n",
      "0: 384x640 11 persons, 752.3ms\n",
      "Speed: 2.3ms preprocess, 752.3ms inference, 2.5ms postprocess per image at shape (1, 3, 384, 640)\n",
      "\n",
      "0: 384x640 11 persons, 681.6ms\n",
      "Speed: 2.1ms preprocess, 681.6ms inference, 2.4ms postprocess per image at shape (1, 3, 384, 640)\n"
     ]
    },
    {
     "name": "stderr",
     "output_type": "stream",
     "text": [
      "2025-05-30 10:51:43,311 - INFO - Кадр 392\n"
     ]
    },
    {
     "name": "stdout",
     "output_type": "stream",
     "text": [
      "\n",
      "0: 384x640 11 persons, 779.8ms\n",
      "Speed: 2.3ms preprocess, 779.8ms inference, 2.4ms postprocess per image at shape (1, 3, 384, 640)\n",
      "\n",
      "0: 384x640 11 persons, 668.5ms\n",
      "Speed: 2.3ms preprocess, 668.5ms inference, 2.4ms postprocess per image at shape (1, 3, 384, 640)\n"
     ]
    },
    {
     "name": "stderr",
     "output_type": "stream",
     "text": [
      "2025-05-30 10:51:44,978 - INFO - Кадр 393\n"
     ]
    },
    {
     "name": "stdout",
     "output_type": "stream",
     "text": [
      "\n",
      "0: 384x640 12 persons, 779.0ms\n",
      "Speed: 2.6ms preprocess, 779.0ms inference, 2.5ms postprocess per image at shape (1, 3, 384, 640)\n",
      "\n",
      "0: 384x640 11 persons, 750.6ms\n",
      "Speed: 2.1ms preprocess, 750.6ms inference, 2.3ms postprocess per image at shape (1, 3, 384, 640)\n"
     ]
    },
    {
     "name": "stderr",
     "output_type": "stream",
     "text": [
      "2025-05-30 10:51:46,729 - INFO - Кадр 394\n"
     ]
    },
    {
     "name": "stdout",
     "output_type": "stream",
     "text": [
      "\n",
      "0: 384x640 12 persons, 775.8ms\n",
      "Speed: 2.4ms preprocess, 775.8ms inference, 2.8ms postprocess per image at shape (1, 3, 384, 640)\n",
      "\n",
      "0: 384x640 11 persons, 680.7ms\n",
      "Speed: 2.0ms preprocess, 680.7ms inference, 2.2ms postprocess per image at shape (1, 3, 384, 640)\n"
     ]
    },
    {
     "name": "stderr",
     "output_type": "stream",
     "text": [
      "2025-05-30 10:51:48,406 - INFO - Кадр 395\n"
     ]
    },
    {
     "name": "stdout",
     "output_type": "stream",
     "text": [
      "\n",
      "0: 384x640 12 persons, 785.5ms\n",
      "Speed: 2.0ms preprocess, 785.5ms inference, 2.5ms postprocess per image at shape (1, 3, 384, 640)\n",
      "\n",
      "0: 384x640 11 persons, 678.2ms\n",
      "Speed: 2.6ms preprocess, 678.2ms inference, 2.3ms postprocess per image at shape (1, 3, 384, 640)\n"
     ]
    },
    {
     "name": "stderr",
     "output_type": "stream",
     "text": [
      "2025-05-30 10:51:50,088 - INFO - Кадр 396\n"
     ]
    },
    {
     "name": "stdout",
     "output_type": "stream",
     "text": [
      "\n",
      "0: 384x640 12 persons, 769.8ms\n",
      "Speed: 2.1ms preprocess, 769.8ms inference, 2.4ms postprocess per image at shape (1, 3, 384, 640)\n",
      "\n",
      "0: 384x640 11 persons, 726.7ms\n",
      "Speed: 2.1ms preprocess, 726.7ms inference, 2.3ms postprocess per image at shape (1, 3, 384, 640)\n"
     ]
    },
    {
     "name": "stderr",
     "output_type": "stream",
     "text": [
      "2025-05-30 10:51:51,807 - INFO - Кадр 397\n"
     ]
    },
    {
     "name": "stdout",
     "output_type": "stream",
     "text": [
      "\n",
      "0: 384x640 12 persons, 755.0ms\n",
      "Speed: 2.3ms preprocess, 755.0ms inference, 2.5ms postprocess per image at shape (1, 3, 384, 640)\n",
      "\n",
      "0: 384x640 11 persons, 680.4ms\n",
      "Speed: 2.1ms preprocess, 680.4ms inference, 2.3ms postprocess per image at shape (1, 3, 384, 640)\n"
     ]
    },
    {
     "name": "stderr",
     "output_type": "stream",
     "text": [
      "2025-05-30 10:51:53,445 - INFO - Кадр 398\n"
     ]
    },
    {
     "name": "stdout",
     "output_type": "stream",
     "text": [
      "\n",
      "0: 384x640 12 persons, 773.3ms\n",
      "Speed: 2.3ms preprocess, 773.3ms inference, 2.5ms postprocess per image at shape (1, 3, 384, 640)\n",
      "\n",
      "0: 384x640 11 persons, 705.2ms\n",
      "Speed: 2.3ms preprocess, 705.2ms inference, 2.6ms postprocess per image at shape (1, 3, 384, 640)\n"
     ]
    },
    {
     "name": "stderr",
     "output_type": "stream",
     "text": [
      "2025-05-30 10:51:55,149 - INFO - Кадр 399\n"
     ]
    },
    {
     "name": "stdout",
     "output_type": "stream",
     "text": [
      "\n",
      "0: 384x640 12 persons, 757.1ms\n",
      "Speed: 2.3ms preprocess, 757.1ms inference, 2.5ms postprocess per image at shape (1, 3, 384, 640)\n",
      "\n",
      "0: 384x640 9 persons, 693.5ms\n",
      "Speed: 2.3ms preprocess, 693.5ms inference, 2.3ms postprocess per image at shape (1, 3, 384, 640)\n"
     ]
    },
    {
     "name": "stderr",
     "output_type": "stream",
     "text": [
      "2025-05-30 10:51:56,825 - INFO - Кадр 400\n"
     ]
    },
    {
     "name": "stdout",
     "output_type": "stream",
     "text": [
      "\n",
      "0: 384x640 12 persons, 778.2ms\n",
      "Speed: 2.4ms preprocess, 778.2ms inference, 2.5ms postprocess per image at shape (1, 3, 384, 640)\n",
      "\n",
      "0: 384x640 8 persons, 683.4ms\n",
      "Speed: 2.1ms preprocess, 683.4ms inference, 2.4ms postprocess per image at shape (1, 3, 384, 640)\n"
     ]
    },
    {
     "name": "stderr",
     "output_type": "stream",
     "text": [
      "2025-05-30 10:51:58,498 - INFO - Кадр 401\n"
     ]
    },
    {
     "name": "stdout",
     "output_type": "stream",
     "text": [
      "\n",
      "0: 384x640 12 persons, 771.1ms\n",
      "Speed: 2.5ms preprocess, 771.1ms inference, 2.5ms postprocess per image at shape (1, 3, 384, 640)\n",
      "\n",
      "0: 384x640 9 persons, 683.6ms\n",
      "Speed: 2.2ms preprocess, 683.6ms inference, 2.2ms postprocess per image at shape (1, 3, 384, 640)\n"
     ]
    },
    {
     "name": "stderr",
     "output_type": "stream",
     "text": [
      "2025-05-30 10:52:00,168 - INFO - Кадр 402\n"
     ]
    },
    {
     "name": "stdout",
     "output_type": "stream",
     "text": [
      "\n",
      "0: 384x640 11 persons, 786.0ms\n",
      "Speed: 2.3ms preprocess, 786.0ms inference, 2.6ms postprocess per image at shape (1, 3, 384, 640)\n",
      "\n",
      "0: 384x640 10 persons, 678.6ms\n",
      "Speed: 2.1ms preprocess, 678.6ms inference, 2.2ms postprocess per image at shape (1, 3, 384, 640)\n"
     ]
    },
    {
     "name": "stderr",
     "output_type": "stream",
     "text": [
      "2025-05-30 10:52:01,865 - INFO - Кадр 403\n"
     ]
    },
    {
     "name": "stdout",
     "output_type": "stream",
     "text": [
      "\n",
      "0: 384x640 11 persons, 802.5ms\n",
      "Speed: 3.5ms preprocess, 802.5ms inference, 2.6ms postprocess per image at shape (1, 3, 384, 640)\n",
      "\n",
      "0: 384x640 10 persons, 667.4ms\n",
      "Speed: 2.1ms preprocess, 667.4ms inference, 2.4ms postprocess per image at shape (1, 3, 384, 640)\n"
     ]
    },
    {
     "name": "stderr",
     "output_type": "stream",
     "text": [
      "2025-05-30 10:52:03,558 - INFO - Кадр 404\n"
     ]
    },
    {
     "name": "stdout",
     "output_type": "stream",
     "text": [
      "\n",
      "0: 384x640 13 persons, 769.3ms\n",
      "Speed: 2.3ms preprocess, 769.3ms inference, 2.7ms postprocess per image at shape (1, 3, 384, 640)\n",
      "\n",
      "0: 384x640 9 persons, 670.6ms\n",
      "Speed: 2.0ms preprocess, 670.6ms inference, 2.2ms postprocess per image at shape (1, 3, 384, 640)\n"
     ]
    },
    {
     "name": "stderr",
     "output_type": "stream",
     "text": [
      "2025-05-30 10:52:05,215 - INFO - Кадр 405\n"
     ]
    },
    {
     "name": "stdout",
     "output_type": "stream",
     "text": [
      "\n",
      "0: 384x640 13 persons, 768.1ms\n",
      "Speed: 2.5ms preprocess, 768.1ms inference, 2.7ms postprocess per image at shape (1, 3, 384, 640)\n",
      "\n",
      "0: 384x640 7 persons, 719.3ms\n",
      "Speed: 2.0ms preprocess, 719.3ms inference, 2.3ms postprocess per image at shape (1, 3, 384, 640)\n"
     ]
    },
    {
     "name": "stderr",
     "output_type": "stream",
     "text": [
      "2025-05-30 10:52:06,918 - INFO - Кадр 406\n"
     ]
    },
    {
     "name": "stdout",
     "output_type": "stream",
     "text": [
      "\n",
      "0: 384x640 13 persons, 827.4ms\n",
      "Speed: 2.2ms preprocess, 827.4ms inference, 2.5ms postprocess per image at shape (1, 3, 384, 640)\n",
      "\n",
      "0: 384x640 7 persons, 668.7ms\n",
      "Speed: 2.1ms preprocess, 668.7ms inference, 2.1ms postprocess per image at shape (1, 3, 384, 640)\n"
     ]
    },
    {
     "name": "stderr",
     "output_type": "stream",
     "text": [
      "2025-05-30 10:52:08,629 - INFO - Кадр 407\n"
     ]
    },
    {
     "name": "stdout",
     "output_type": "stream",
     "text": [
      "\n",
      "0: 384x640 14 persons, 756.7ms\n",
      "Speed: 2.5ms preprocess, 756.7ms inference, 2.5ms postprocess per image at shape (1, 3, 384, 640)\n",
      "\n",
      "0: 384x640 7 persons, 671.0ms\n",
      "Speed: 2.1ms preprocess, 671.0ms inference, 2.3ms postprocess per image at shape (1, 3, 384, 640)\n"
     ]
    },
    {
     "name": "stderr",
     "output_type": "stream",
     "text": [
      "2025-05-30 10:52:10,271 - INFO - Кадр 408\n"
     ]
    },
    {
     "name": "stdout",
     "output_type": "stream",
     "text": [
      "\n",
      "0: 384x640 13 persons, 758.6ms\n",
      "Speed: 2.2ms preprocess, 758.6ms inference, 2.8ms postprocess per image at shape (1, 3, 384, 640)\n",
      "\n",
      "0: 384x640 9 persons, 672.9ms\n",
      "Speed: 2.2ms preprocess, 672.9ms inference, 2.4ms postprocess per image at shape (1, 3, 384, 640)\n"
     ]
    },
    {
     "name": "stderr",
     "output_type": "stream",
     "text": [
      "2025-05-30 10:52:11,918 - INFO - Кадр 409\n"
     ]
    },
    {
     "name": "stdout",
     "output_type": "stream",
     "text": [
      "\n",
      "0: 384x640 14 persons, 820.1ms\n",
      "Speed: 2.2ms preprocess, 820.1ms inference, 2.6ms postprocess per image at shape (1, 3, 384, 640)\n",
      "\n",
      "0: 384x640 8 persons, 752.5ms\n",
      "Speed: 2.0ms preprocess, 752.5ms inference, 2.2ms postprocess per image at shape (1, 3, 384, 640)\n"
     ]
    },
    {
     "name": "stderr",
     "output_type": "stream",
     "text": [
      "2025-05-30 10:52:13,694 - INFO - Кадр 410\n"
     ]
    },
    {
     "name": "stdout",
     "output_type": "stream",
     "text": [
      "\n",
      "0: 384x640 14 persons, 768.7ms\n",
      "Speed: 2.4ms preprocess, 768.7ms inference, 2.5ms postprocess per image at shape (1, 3, 384, 640)\n",
      "\n",
      "0: 384x640 8 persons, 696.5ms\n",
      "Speed: 2.1ms preprocess, 696.5ms inference, 2.3ms postprocess per image at shape (1, 3, 384, 640)\n"
     ]
    },
    {
     "name": "stderr",
     "output_type": "stream",
     "text": [
      "2025-05-30 10:52:15,381 - INFO - Кадр 411\n"
     ]
    },
    {
     "name": "stdout",
     "output_type": "stream",
     "text": [
      "\n",
      "0: 384x640 13 persons, 760.4ms\n",
      "Speed: 2.1ms preprocess, 760.4ms inference, 2.4ms postprocess per image at shape (1, 3, 384, 640)\n",
      "\n",
      "0: 384x640 8 persons, 678.9ms\n",
      "Speed: 2.0ms preprocess, 678.9ms inference, 2.2ms postprocess per image at shape (1, 3, 384, 640)\n"
     ]
    },
    {
     "name": "stderr",
     "output_type": "stream",
     "text": [
      "2025-05-30 10:52:17,029 - INFO - Кадр 412\n"
     ]
    },
    {
     "name": "stdout",
     "output_type": "stream",
     "text": [
      "\n",
      "0: 384x640 13 persons, 814.4ms\n",
      "Speed: 2.4ms preprocess, 814.4ms inference, 2.6ms postprocess per image at shape (1, 3, 384, 640)\n",
      "\n",
      "0: 384x640 9 persons, 670.8ms\n",
      "Speed: 2.0ms preprocess, 670.8ms inference, 2.2ms postprocess per image at shape (1, 3, 384, 640)\n"
     ]
    },
    {
     "name": "stderr",
     "output_type": "stream",
     "text": [
      "2025-05-30 10:52:18,735 - INFO - Кадр 413\n"
     ]
    },
    {
     "name": "stdout",
     "output_type": "stream",
     "text": [
      "\n",
      "0: 384x640 14 persons, 749.4ms\n",
      "Speed: 2.2ms preprocess, 749.4ms inference, 2.5ms postprocess per image at shape (1, 3, 384, 640)\n",
      "\n",
      "0: 384x640 10 persons, 693.8ms\n",
      "Speed: 2.3ms preprocess, 693.8ms inference, 2.2ms postprocess per image at shape (1, 3, 384, 640)\n"
     ]
    },
    {
     "name": "stderr",
     "output_type": "stream",
     "text": [
      "2025-05-30 10:52:20,392 - INFO - Кадр 414\n"
     ]
    },
    {
     "name": "stdout",
     "output_type": "stream",
     "text": [
      "\n",
      "0: 384x640 15 persons, 758.6ms\n",
      "Speed: 2.4ms preprocess, 758.6ms inference, 2.6ms postprocess per image at shape (1, 3, 384, 640)\n",
      "\n",
      "0: 384x640 11 persons, 679.9ms\n",
      "Speed: 2.1ms preprocess, 679.9ms inference, 2.3ms postprocess per image at shape (1, 3, 384, 640)\n"
     ]
    },
    {
     "name": "stderr",
     "output_type": "stream",
     "text": [
      "2025-05-30 10:52:22,056 - INFO - Кадр 415\n"
     ]
    },
    {
     "name": "stdout",
     "output_type": "stream",
     "text": [
      "\n",
      "0: 384x640 14 persons, 810.9ms\n",
      "Speed: 2.2ms preprocess, 810.9ms inference, 2.6ms postprocess per image at shape (1, 3, 384, 640)\n",
      "\n",
      "0: 384x640 11 persons, 685.6ms\n",
      "Speed: 2.1ms preprocess, 685.6ms inference, 2.2ms postprocess per image at shape (1, 3, 384, 640)\n"
     ]
    },
    {
     "name": "stderr",
     "output_type": "stream",
     "text": [
      "2025-05-30 10:52:23,780 - INFO - Кадр 416\n"
     ]
    },
    {
     "name": "stdout",
     "output_type": "stream",
     "text": [
      "\n",
      "0: 384x640 15 persons, 1072.5ms\n",
      "Speed: 2.3ms preprocess, 1072.5ms inference, 2.7ms postprocess per image at shape (1, 3, 384, 640)\n",
      "\n",
      "0: 384x640 11 persons, 687.1ms\n",
      "Speed: 2.2ms preprocess, 687.1ms inference, 2.2ms postprocess per image at shape (1, 3, 384, 640)\n"
     ]
    },
    {
     "name": "stderr",
     "output_type": "stream",
     "text": [
      "2025-05-30 10:52:25,766 - INFO - Кадр 417\n"
     ]
    },
    {
     "name": "stdout",
     "output_type": "stream",
     "text": [
      "\n",
      "0: 384x640 12 persons, 764.1ms\n",
      "Speed: 2.2ms preprocess, 764.1ms inference, 2.5ms postprocess per image at shape (1, 3, 384, 640)\n",
      "\n",
      "0: 384x640 11 persons, 666.7ms\n",
      "Speed: 2.1ms preprocess, 666.7ms inference, 2.5ms postprocess per image at shape (1, 3, 384, 640)\n"
     ]
    },
    {
     "name": "stderr",
     "output_type": "stream",
     "text": [
      "2025-05-30 10:52:27,413 - INFO - Кадр 418\n"
     ]
    },
    {
     "name": "stdout",
     "output_type": "stream",
     "text": [
      "\n",
      "0: 384x640 12 persons, 821.0ms\n",
      "Speed: 2.3ms preprocess, 821.0ms inference, 2.6ms postprocess per image at shape (1, 3, 384, 640)\n",
      "\n",
      "0: 384x640 11 persons, 684.6ms\n",
      "Speed: 2.1ms preprocess, 684.6ms inference, 2.2ms postprocess per image at shape (1, 3, 384, 640)\n"
     ]
    },
    {
     "name": "stderr",
     "output_type": "stream",
     "text": [
      "2025-05-30 10:52:29,135 - INFO - Кадр 419\n"
     ]
    },
    {
     "name": "stdout",
     "output_type": "stream",
     "text": [
      "\n",
      "0: 384x640 12 persons, 765.9ms\n",
      "Speed: 2.3ms preprocess, 765.9ms inference, 2.5ms postprocess per image at shape (1, 3, 384, 640)\n",
      "\n",
      "0: 384x640 11 persons, 674.1ms\n",
      "Speed: 2.2ms preprocess, 674.1ms inference, 2.3ms postprocess per image at shape (1, 3, 384, 640)\n"
     ]
    },
    {
     "name": "stderr",
     "output_type": "stream",
     "text": [
      "2025-05-30 10:52:30,792 - INFO - Кадр 420\n"
     ]
    },
    {
     "name": "stdout",
     "output_type": "stream",
     "text": [
      "\n",
      "0: 384x640 13 persons, 768.3ms\n",
      "Speed: 2.1ms preprocess, 768.3ms inference, 2.4ms postprocess per image at shape (1, 3, 384, 640)\n",
      "\n",
      "0: 384x640 12 persons, 686.4ms\n",
      "Speed: 2.0ms preprocess, 686.4ms inference, 2.5ms postprocess per image at shape (1, 3, 384, 640)\n"
     ]
    },
    {
     "name": "stderr",
     "output_type": "stream",
     "text": [
      "2025-05-30 10:52:32,463 - INFO - Кадр 421\n"
     ]
    },
    {
     "name": "stdout",
     "output_type": "stream",
     "text": [
      "\n",
      "0: 384x640 15 persons, 779.3ms\n",
      "Speed: 2.2ms preprocess, 779.3ms inference, 2.5ms postprocess per image at shape (1, 3, 384, 640)\n",
      "\n",
      "0: 384x640 10 persons, 666.4ms\n",
      "Speed: 2.1ms preprocess, 666.4ms inference, 2.2ms postprocess per image at shape (1, 3, 384, 640)\n"
     ]
    },
    {
     "name": "stderr",
     "output_type": "stream",
     "text": [
      "2025-05-30 10:52:34,117 - INFO - Кадр 422\n"
     ]
    },
    {
     "name": "stdout",
     "output_type": "stream",
     "text": [
      "\n",
      "0: 384x640 15 persons, 788.8ms\n",
      "Speed: 2.4ms preprocess, 788.8ms inference, 2.4ms postprocess per image at shape (1, 3, 384, 640)\n",
      "\n",
      "0: 384x640 10 persons, 670.3ms\n",
      "Speed: 2.3ms preprocess, 670.3ms inference, 2.3ms postprocess per image at shape (1, 3, 384, 640)\n"
     ]
    },
    {
     "name": "stderr",
     "output_type": "stream",
     "text": [
      "2025-05-30 10:52:35,796 - INFO - Кадр 423\n"
     ]
    },
    {
     "name": "stdout",
     "output_type": "stream",
     "text": [
      "\n",
      "0: 384x640 15 persons, 765.1ms\n",
      "Speed: 2.0ms preprocess, 765.1ms inference, 2.7ms postprocess per image at shape (1, 3, 384, 640)\n",
      "\n",
      "0: 384x640 10 persons, 674.0ms\n",
      "Speed: 2.0ms preprocess, 674.0ms inference, 2.3ms postprocess per image at shape (1, 3, 384, 640)\n"
     ]
    },
    {
     "name": "stderr",
     "output_type": "stream",
     "text": [
      "2025-05-30 10:52:37,451 - INFO - Кадр 424\n"
     ]
    },
    {
     "name": "stdout",
     "output_type": "stream",
     "text": [
      "\n",
      "0: 384x640 15 persons, 799.5ms\n",
      "Speed: 2.3ms preprocess, 799.5ms inference, 2.8ms postprocess per image at shape (1, 3, 384, 640)\n",
      "\n",
      "0: 384x640 13 persons, 699.5ms\n",
      "Speed: 2.8ms preprocess, 699.5ms inference, 2.3ms postprocess per image at shape (1, 3, 384, 640)\n"
     ]
    },
    {
     "name": "stderr",
     "output_type": "stream",
     "text": [
      "2025-05-30 10:52:39,182 - INFO - Кадр 425\n"
     ]
    },
    {
     "name": "stdout",
     "output_type": "stream",
     "text": [
      "\n",
      "0: 384x640 13 persons, 759.1ms\n",
      "Speed: 2.1ms preprocess, 759.1ms inference, 2.4ms postprocess per image at shape (1, 3, 384, 640)\n",
      "\n",
      "0: 384x640 12 persons, 677.0ms\n",
      "Speed: 2.1ms preprocess, 677.0ms inference, 2.3ms postprocess per image at shape (1, 3, 384, 640)\n"
     ]
    },
    {
     "name": "stderr",
     "output_type": "stream",
     "text": [
      "2025-05-30 10:52:40,829 - INFO - Кадр 426\n"
     ]
    },
    {
     "name": "stdout",
     "output_type": "stream",
     "text": [
      "\n",
      "0: 384x640 13 persons, 760.4ms\n",
      "Speed: 2.5ms preprocess, 760.4ms inference, 2.5ms postprocess per image at shape (1, 3, 384, 640)\n",
      "\n",
      "0: 384x640 13 persons, 688.9ms\n",
      "Speed: 2.1ms preprocess, 688.9ms inference, 2.3ms postprocess per image at shape (1, 3, 384, 640)\n"
     ]
    },
    {
     "name": "stderr",
     "output_type": "stream",
     "text": [
      "2025-05-30 10:52:42,511 - INFO - Кадр 427\n"
     ]
    },
    {
     "name": "stdout",
     "output_type": "stream",
     "text": [
      "\n",
      "0: 384x640 13 persons, 751.8ms\n",
      "Speed: 2.4ms preprocess, 751.8ms inference, 2.7ms postprocess per image at shape (1, 3, 384, 640)\n",
      "\n",
      "0: 384x640 12 persons, 751.2ms\n",
      "Speed: 2.0ms preprocess, 751.2ms inference, 2.3ms postprocess per image at shape (1, 3, 384, 640)\n"
     ]
    },
    {
     "name": "stderr",
     "output_type": "stream",
     "text": [
      "2025-05-30 10:52:44,236 - INFO - Кадр 428\n"
     ]
    },
    {
     "name": "stdout",
     "output_type": "stream",
     "text": [
      "\n",
      "0: 384x640 13 persons, 823.9ms\n",
      "Speed: 2.3ms preprocess, 823.9ms inference, 2.5ms postprocess per image at shape (1, 3, 384, 640)\n",
      "\n",
      "0: 384x640 11 persons, 669.7ms\n",
      "Speed: 2.1ms preprocess, 669.7ms inference, 2.6ms postprocess per image at shape (1, 3, 384, 640)\n"
     ]
    },
    {
     "name": "stderr",
     "output_type": "stream",
     "text": [
      "2025-05-30 10:52:45,952 - INFO - Кадр 429\n"
     ]
    },
    {
     "name": "stdout",
     "output_type": "stream",
     "text": [
      "\n",
      "0: 384x640 12 persons, 776.7ms\n",
      "Speed: 2.2ms preprocess, 776.7ms inference, 2.5ms postprocess per image at shape (1, 3, 384, 640)\n",
      "\n",
      "0: 384x640 11 persons, 673.9ms\n",
      "Speed: 2.2ms preprocess, 673.9ms inference, 2.3ms postprocess per image at shape (1, 3, 384, 640)\n"
     ]
    },
    {
     "name": "stderr",
     "output_type": "stream",
     "text": [
      "2025-05-30 10:52:47,614 - INFO - Кадр 430\n"
     ]
    },
    {
     "name": "stdout",
     "output_type": "stream",
     "text": [
      "\n",
      "0: 384x640 12 persons, 760.8ms\n",
      "Speed: 2.4ms preprocess, 760.8ms inference, 2.4ms postprocess per image at shape (1, 3, 384, 640)\n",
      "\n",
      "0: 384x640 10 persons, 733.8ms\n",
      "Speed: 2.2ms preprocess, 733.8ms inference, 2.3ms postprocess per image at shape (1, 3, 384, 640)\n"
     ]
    },
    {
     "name": "stderr",
     "output_type": "stream",
     "text": [
      "2025-05-30 10:52:49,330 - INFO - Кадр 431\n"
     ]
    },
    {
     "name": "stdout",
     "output_type": "stream",
     "text": [
      "\n",
      "0: 384x640 13 persons, 758.3ms\n",
      "Speed: 2.3ms preprocess, 758.3ms inference, 2.4ms postprocess per image at shape (1, 3, 384, 640)\n",
      "\n",
      "0: 384x640 10 persons, 720.5ms\n",
      "Speed: 2.4ms preprocess, 720.5ms inference, 2.3ms postprocess per image at shape (1, 3, 384, 640)\n"
     ]
    },
    {
     "name": "stderr",
     "output_type": "stream",
     "text": [
      "2025-05-30 10:52:51,024 - INFO - Кадр 432\n"
     ]
    },
    {
     "name": "stdout",
     "output_type": "stream",
     "text": [
      "\n",
      "0: 384x640 13 persons, 789.8ms\n",
      "Speed: 2.1ms preprocess, 789.8ms inference, 2.6ms postprocess per image at shape (1, 3, 384, 640)\n",
      "\n",
      "0: 384x640 11 persons, 671.3ms\n",
      "Speed: 2.0ms preprocess, 671.3ms inference, 2.3ms postprocess per image at shape (1, 3, 384, 640)\n"
     ]
    },
    {
     "name": "stderr",
     "output_type": "stream",
     "text": [
      "2025-05-30 10:52:52,710 - INFO - Кадр 433\n"
     ]
    },
    {
     "name": "stdout",
     "output_type": "stream",
     "text": [
      "\n",
      "0: 384x640 13 persons, 755.0ms\n",
      "Speed: 2.2ms preprocess, 755.0ms inference, 2.4ms postprocess per image at shape (1, 3, 384, 640)\n",
      "\n",
      "0: 384x640 11 persons, 741.3ms\n",
      "Speed: 2.1ms preprocess, 741.3ms inference, 2.4ms postprocess per image at shape (1, 3, 384, 640)\n"
     ]
    },
    {
     "name": "stderr",
     "output_type": "stream",
     "text": [
      "2025-05-30 10:52:54,420 - INFO - Кадр 434\n"
     ]
    },
    {
     "name": "stdout",
     "output_type": "stream",
     "text": [
      "\n",
      "0: 384x640 15 persons, 782.4ms\n",
      "Speed: 2.4ms preprocess, 782.4ms inference, 2.5ms postprocess per image at shape (1, 3, 384, 640)\n",
      "\n",
      "0: 384x640 11 persons, 666.4ms\n",
      "Speed: 2.0ms preprocess, 666.4ms inference, 2.4ms postprocess per image at shape (1, 3, 384, 640)\n"
     ]
    },
    {
     "name": "stderr",
     "output_type": "stream",
     "text": [
      "2025-05-30 10:52:56,095 - INFO - Кадр 435\n"
     ]
    },
    {
     "name": "stdout",
     "output_type": "stream",
     "text": [
      "\n",
      "0: 384x640 15 persons, 748.7ms\n",
      "Speed: 2.5ms preprocess, 748.7ms inference, 2.4ms postprocess per image at shape (1, 3, 384, 640)\n",
      "\n",
      "0: 384x640 11 persons, 677.1ms\n",
      "Speed: 2.1ms preprocess, 677.1ms inference, 2.2ms postprocess per image at shape (1, 3, 384, 640)\n"
     ]
    },
    {
     "name": "stderr",
     "output_type": "stream",
     "text": [
      "2025-05-30 10:52:57,734 - INFO - Кадр 436\n"
     ]
    },
    {
     "name": "stdout",
     "output_type": "stream",
     "text": [
      "\n",
      "0: 384x640 13 persons, 750.6ms\n",
      "Speed: 2.1ms preprocess, 750.6ms inference, 2.6ms postprocess per image at shape (1, 3, 384, 640)\n",
      "\n",
      "0: 384x640 11 persons, 732.5ms\n",
      "Speed: 2.0ms preprocess, 732.5ms inference, 2.4ms postprocess per image at shape (1, 3, 384, 640)\n"
     ]
    },
    {
     "name": "stderr",
     "output_type": "stream",
     "text": [
      "2025-05-30 10:52:59,447 - INFO - Кадр 437\n"
     ]
    },
    {
     "name": "stdout",
     "output_type": "stream",
     "text": [
      "\n",
      "0: 384x640 14 persons, 783.6ms\n",
      "Speed: 2.1ms preprocess, 783.6ms inference, 2.6ms postprocess per image at shape (1, 3, 384, 640)\n",
      "\n",
      "0: 384x640 11 persons, 667.4ms\n",
      "Speed: 2.0ms preprocess, 667.4ms inference, 2.3ms postprocess per image at shape (1, 3, 384, 640)\n"
     ]
    },
    {
     "name": "stderr",
     "output_type": "stream",
     "text": [
      "2025-05-30 10:53:01,115 - INFO - Кадр 438\n"
     ]
    },
    {
     "name": "stdout",
     "output_type": "stream",
     "text": [
      "\n",
      "0: 384x640 14 persons, 775.2ms\n",
      "Speed: 2.2ms preprocess, 775.2ms inference, 2.5ms postprocess per image at shape (1, 3, 384, 640)\n",
      "\n",
      "0: 384x640 11 persons, 681.2ms\n",
      "Speed: 2.1ms preprocess, 681.2ms inference, 3.1ms postprocess per image at shape (1, 3, 384, 640)\n"
     ]
    },
    {
     "name": "stderr",
     "output_type": "stream",
     "text": [
      "2025-05-30 10:53:02,789 - INFO - Кадр 439\n"
     ]
    },
    {
     "name": "stdout",
     "output_type": "stream",
     "text": [
      "\n",
      "0: 384x640 14 persons, 770.8ms\n",
      "Speed: 2.2ms preprocess, 770.8ms inference, 2.5ms postprocess per image at shape (1, 3, 384, 640)\n",
      "\n",
      "0: 384x640 12 persons, 711.0ms\n",
      "Speed: 2.2ms preprocess, 711.0ms inference, 2.3ms postprocess per image at shape (1, 3, 384, 640)\n"
     ]
    },
    {
     "name": "stderr",
     "output_type": "stream",
     "text": [
      "2025-05-30 10:53:04,500 - INFO - Кадр 440\n"
     ]
    },
    {
     "name": "stdout",
     "output_type": "stream",
     "text": [
      "\n",
      "0: 384x640 14 persons, 756.2ms\n",
      "Speed: 2.4ms preprocess, 756.2ms inference, 3.1ms postprocess per image at shape (1, 3, 384, 640)\n",
      "\n",
      "0: 384x640 13 persons, 667.4ms\n",
      "Speed: 2.1ms preprocess, 667.4ms inference, 2.3ms postprocess per image at shape (1, 3, 384, 640)\n"
     ]
    },
    {
     "name": "stderr",
     "output_type": "stream",
     "text": [
      "2025-05-30 10:53:06,149 - INFO - Кадр 441\n"
     ]
    },
    {
     "name": "stdout",
     "output_type": "stream",
     "text": [
      "\n",
      "0: 384x640 14 persons, 763.4ms\n",
      "Speed: 2.4ms preprocess, 763.4ms inference, 2.4ms postprocess per image at shape (1, 3, 384, 640)\n",
      "\n",
      "0: 384x640 10 persons, 674.9ms\n",
      "Speed: 2.3ms preprocess, 674.9ms inference, 2.2ms postprocess per image at shape (1, 3, 384, 640)\n"
     ]
    },
    {
     "name": "stderr",
     "output_type": "stream",
     "text": [
      "2025-05-30 10:53:07,801 - INFO - Кадр 442\n"
     ]
    },
    {
     "name": "stdout",
     "output_type": "stream",
     "text": [
      "\n",
      "0: 384x640 13 persons, 755.7ms\n",
      "Speed: 2.6ms preprocess, 755.7ms inference, 2.5ms postprocess per image at shape (1, 3, 384, 640)\n",
      "\n",
      "0: 384x640 11 persons, 667.1ms\n",
      "Speed: 2.1ms preprocess, 667.1ms inference, 2.3ms postprocess per image at shape (1, 3, 384, 640)\n"
     ]
    },
    {
     "name": "stderr",
     "output_type": "stream",
     "text": [
      "2025-05-30 10:53:09,442 - INFO - Кадр 443\n"
     ]
    },
    {
     "name": "stdout",
     "output_type": "stream",
     "text": [
      "\n",
      "0: 384x640 14 persons, 834.4ms\n",
      "Speed: 2.6ms preprocess, 834.4ms inference, 2.6ms postprocess per image at shape (1, 3, 384, 640)\n",
      "\n",
      "0: 384x640 12 persons, 670.4ms\n",
      "Speed: 2.0ms preprocess, 670.4ms inference, 2.2ms postprocess per image at shape (1, 3, 384, 640)\n"
     ]
    },
    {
     "name": "stderr",
     "output_type": "stream",
     "text": [
      "2025-05-30 10:53:11,170 - INFO - Кадр 444\n"
     ]
    },
    {
     "name": "stdout",
     "output_type": "stream",
     "text": [
      "\n",
      "0: 384x640 12 persons, 757.8ms\n",
      "Speed: 2.1ms preprocess, 757.8ms inference, 2.4ms postprocess per image at shape (1, 3, 384, 640)\n",
      "\n",
      "0: 384x640 12 persons, 679.1ms\n",
      "Speed: 2.1ms preprocess, 679.1ms inference, 2.4ms postprocess per image at shape (1, 3, 384, 640)\n"
     ]
    },
    {
     "name": "stderr",
     "output_type": "stream",
     "text": [
      "2025-05-30 10:53:12,844 - INFO - Кадр 445\n"
     ]
    },
    {
     "name": "stdout",
     "output_type": "stream",
     "text": [
      "\n",
      "0: 384x640 13 persons, 761.9ms\n",
      "Speed: 2.3ms preprocess, 761.9ms inference, 2.5ms postprocess per image at shape (1, 3, 384, 640)\n",
      "\n",
      "0: 384x640 13 persons, 673.6ms\n",
      "Speed: 1.9ms preprocess, 673.6ms inference, 2.1ms postprocess per image at shape (1, 3, 384, 640)\n"
     ]
    },
    {
     "name": "stderr",
     "output_type": "stream",
     "text": [
      "2025-05-30 10:53:14,474 - INFO - Кадр 446\n"
     ]
    },
    {
     "name": "stdout",
     "output_type": "stream",
     "text": [
      "\n",
      "0: 384x640 14 persons, 898.5ms\n",
      "Speed: 2.2ms preprocess, 898.5ms inference, 2.7ms postprocess per image at shape (1, 3, 384, 640)\n",
      "\n",
      "0: 384x640 12 persons, 669.6ms\n",
      "Speed: 2.1ms preprocess, 669.6ms inference, 2.4ms postprocess per image at shape (1, 3, 384, 640)\n"
     ]
    },
    {
     "name": "stderr",
     "output_type": "stream",
     "text": [
      "2025-05-30 10:53:16,250 - INFO - Кадр 447\n"
     ]
    },
    {
     "name": "stdout",
     "output_type": "stream",
     "text": [
      "\n",
      "0: 384x640 14 persons, 777.2ms\n",
      "Speed: 2.3ms preprocess, 777.2ms inference, 2.4ms postprocess per image at shape (1, 3, 384, 640)\n",
      "\n",
      "0: 384x640 12 persons, 667.4ms\n",
      "Speed: 2.1ms preprocess, 667.4ms inference, 2.4ms postprocess per image at shape (1, 3, 384, 640)\n"
     ]
    },
    {
     "name": "stderr",
     "output_type": "stream",
     "text": [
      "2025-05-30 10:53:17,910 - INFO - Кадр 448\n"
     ]
    },
    {
     "name": "stdout",
     "output_type": "stream",
     "text": [
      "\n",
      "0: 384x640 14 persons, 762.6ms\n",
      "Speed: 2.2ms preprocess, 762.6ms inference, 2.5ms postprocess per image at shape (1, 3, 384, 640)\n",
      "\n",
      "0: 384x640 12 persons, 667.5ms\n",
      "Speed: 2.3ms preprocess, 667.5ms inference, 2.3ms postprocess per image at shape (1, 3, 384, 640)\n"
     ]
    },
    {
     "name": "stderr",
     "output_type": "stream",
     "text": [
      "2025-05-30 10:53:19,559 - INFO - Кадр 449\n"
     ]
    },
    {
     "name": "stdout",
     "output_type": "stream",
     "text": [
      "\n",
      "0: 384x640 14 persons, 847.7ms\n",
      "Speed: 2.2ms preprocess, 847.7ms inference, 2.4ms postprocess per image at shape (1, 3, 384, 640)\n",
      "\n",
      "0: 384x640 12 persons, 684.8ms\n",
      "Speed: 2.2ms preprocess, 684.8ms inference, 2.3ms postprocess per image at shape (1, 3, 384, 640)\n"
     ]
    },
    {
     "name": "stderr",
     "output_type": "stream",
     "text": [
      "2025-05-30 10:53:21,308 - INFO - Кадр 450\n"
     ]
    },
    {
     "name": "stdout",
     "output_type": "stream",
     "text": [
      "\n",
      "0: 384x640 14 persons, 757.8ms\n",
      "Speed: 2.5ms preprocess, 757.8ms inference, 2.5ms postprocess per image at shape (1, 3, 384, 640)\n",
      "\n",
      "0: 384x640 11 persons, 666.5ms\n",
      "Speed: 2.1ms preprocess, 666.5ms inference, 2.2ms postprocess per image at shape (1, 3, 384, 640)\n"
     ]
    },
    {
     "name": "stderr",
     "output_type": "stream",
     "text": [
      "2025-05-30 10:53:22,953 - INFO - Кадр 451\n"
     ]
    },
    {
     "name": "stdout",
     "output_type": "stream",
     "text": [
      "\n",
      "0: 384x640 14 persons, 766.1ms\n",
      "Speed: 2.5ms preprocess, 766.1ms inference, 2.6ms postprocess per image at shape (1, 3, 384, 640)\n",
      "\n",
      "0: 384x640 12 persons, 676.4ms\n",
      "Speed: 2.0ms preprocess, 676.4ms inference, 3.2ms postprocess per image at shape (1, 3, 384, 640)\n"
     ]
    },
    {
     "name": "stderr",
     "output_type": "stream",
     "text": [
      "2025-05-30 10:53:24,606 - INFO - Кадр 452\n"
     ]
    },
    {
     "name": "stdout",
     "output_type": "stream",
     "text": [
      "\n",
      "0: 384x640 14 persons, 826.5ms\n",
      "Speed: 2.1ms preprocess, 826.5ms inference, 2.6ms postprocess per image at shape (1, 3, 384, 640)\n",
      "\n",
      "0: 384x640 13 persons, 673.5ms\n",
      "Speed: 2.1ms preprocess, 673.5ms inference, 2.3ms postprocess per image at shape (1, 3, 384, 640)\n"
     ]
    },
    {
     "name": "stderr",
     "output_type": "stream",
     "text": [
      "2025-05-30 10:53:26,333 - INFO - Кадр 453\n"
     ]
    },
    {
     "name": "stdout",
     "output_type": "stream",
     "text": [
      "\n",
      "0: 384x640 14 persons, 815.7ms\n",
      "Speed: 2.1ms preprocess, 815.7ms inference, 2.5ms postprocess per image at shape (1, 3, 384, 640)\n",
      "\n",
      "0: 384x640 12 persons, 689.3ms\n",
      "Speed: 2.2ms preprocess, 689.3ms inference, 2.5ms postprocess per image at shape (1, 3, 384, 640)\n"
     ]
    },
    {
     "name": "stderr",
     "output_type": "stream",
     "text": [
      "2025-05-30 10:53:28,062 - INFO - Кадр 454\n"
     ]
    },
    {
     "name": "stdout",
     "output_type": "stream",
     "text": [
      "\n",
      "0: 384x640 14 persons, 760.2ms\n",
      "Speed: 2.4ms preprocess, 760.2ms inference, 2.5ms postprocess per image at shape (1, 3, 384, 640)\n",
      "\n",
      "0: 384x640 12 persons, 681.4ms\n",
      "Speed: 2.0ms preprocess, 681.4ms inference, 2.3ms postprocess per image at shape (1, 3, 384, 640)\n"
     ]
    },
    {
     "name": "stderr",
     "output_type": "stream",
     "text": [
      "2025-05-30 10:53:29,712 - INFO - Кадр 455\n"
     ]
    },
    {
     "name": "stdout",
     "output_type": "stream",
     "text": [
      "\n",
      "0: 384x640 14 persons, 866.5ms\n",
      "Speed: 2.2ms preprocess, 866.5ms inference, 2.6ms postprocess per image at shape (1, 3, 384, 640)\n",
      "\n",
      "0: 384x640 12 persons, 667.7ms\n",
      "Speed: 2.3ms preprocess, 667.7ms inference, 2.4ms postprocess per image at shape (1, 3, 384, 640)\n"
     ]
    },
    {
     "name": "stderr",
     "output_type": "stream",
     "text": [
      "2025-05-30 10:53:31,475 - INFO - Кадр 456\n"
     ]
    },
    {
     "name": "stdout",
     "output_type": "stream",
     "text": [
      "\n",
      "0: 384x640 13 persons, 751.5ms\n",
      "Speed: 2.1ms preprocess, 751.5ms inference, 2.5ms postprocess per image at shape (1, 3, 384, 640)\n",
      "\n",
      "0: 384x640 10 persons, 683.4ms\n",
      "Speed: 2.1ms preprocess, 683.4ms inference, 2.5ms postprocess per image at shape (1, 3, 384, 640)\n"
     ]
    },
    {
     "name": "stderr",
     "output_type": "stream",
     "text": [
      "2025-05-30 10:53:33,141 - INFO - Кадр 457\n"
     ]
    },
    {
     "name": "stdout",
     "output_type": "stream",
     "text": [
      "\n",
      "0: 384x640 12 persons, 1059.7ms\n",
      "Speed: 2.3ms preprocess, 1059.7ms inference, 2.8ms postprocess per image at shape (1, 3, 384, 640)\n",
      "\n",
      "0: 384x640 10 persons, 894.7ms\n",
      "Speed: 3.5ms preprocess, 894.7ms inference, 2.3ms postprocess per image at shape (1, 3, 384, 640)\n"
     ]
    },
    {
     "name": "stderr",
     "output_type": "stream",
     "text": [
      "2025-05-30 10:53:35,339 - INFO - Кадр 458\n"
     ]
    },
    {
     "name": "stdout",
     "output_type": "stream",
     "text": [
      "\n",
      "0: 384x640 12 persons, 910.6ms\n",
      "Speed: 2.7ms preprocess, 910.6ms inference, 2.9ms postprocess per image at shape (1, 3, 384, 640)\n",
      "\n",
      "0: 384x640 10 persons, 721.0ms\n",
      "Speed: 2.2ms preprocess, 721.0ms inference, 2.6ms postprocess per image at shape (1, 3, 384, 640)\n"
     ]
    },
    {
     "name": "stderr",
     "output_type": "stream",
     "text": [
      "2025-05-30 10:53:37,205 - INFO - Кадр 459\n"
     ]
    },
    {
     "name": "stdout",
     "output_type": "stream",
     "text": [
      "\n",
      "0: 384x640 11 persons, 948.6ms\n",
      "Speed: 2.2ms preprocess, 948.6ms inference, 2.5ms postprocess per image at shape (1, 3, 384, 640)\n",
      "\n",
      "0: 384x640 10 persons, 689.5ms\n",
      "Speed: 2.3ms preprocess, 689.5ms inference, 2.3ms postprocess per image at shape (1, 3, 384, 640)\n"
     ]
    },
    {
     "name": "stderr",
     "output_type": "stream",
     "text": [
      "2025-05-30 10:53:39,065 - INFO - Кадр 460\n"
     ]
    },
    {
     "name": "stdout",
     "output_type": "stream",
     "text": [
      "\n",
      "0: 384x640 12 persons, 780.3ms\n",
      "Speed: 2.6ms preprocess, 780.3ms inference, 2.6ms postprocess per image at shape (1, 3, 384, 640)\n",
      "\n",
      "0: 384x640 10 persons, 688.7ms\n",
      "Speed: 2.7ms preprocess, 688.7ms inference, 2.4ms postprocess per image at shape (1, 3, 384, 640)\n"
     ]
    },
    {
     "name": "stderr",
     "output_type": "stream",
     "text": [
      "2025-05-30 10:53:40,753 - INFO - Кадр 461\n"
     ]
    },
    {
     "name": "stdout",
     "output_type": "stream",
     "text": [
      "\n",
      "0: 384x640 12 persons, 858.1ms\n",
      "Speed: 2.3ms preprocess, 858.1ms inference, 2.6ms postprocess per image at shape (1, 3, 384, 640)\n",
      "\n",
      "0: 384x640 10 persons, 686.1ms\n",
      "Speed: 2.1ms preprocess, 686.1ms inference, 2.4ms postprocess per image at shape (1, 3, 384, 640)\n"
     ]
    },
    {
     "name": "stderr",
     "output_type": "stream",
     "text": [
      "2025-05-30 10:53:42,531 - INFO - Кадр 462\n"
     ]
    },
    {
     "name": "stdout",
     "output_type": "stream",
     "text": [
      "\n",
      "0: 384x640 11 persons, 800.2ms\n",
      "Speed: 2.9ms preprocess, 800.2ms inference, 2.4ms postprocess per image at shape (1, 3, 384, 640)\n",
      "\n",
      "0: 384x640 10 persons, 699.8ms\n",
      "Speed: 2.1ms preprocess, 699.8ms inference, 2.4ms postprocess per image at shape (1, 3, 384, 640)\n"
     ]
    },
    {
     "name": "stderr",
     "output_type": "stream",
     "text": [
      "2025-05-30 10:53:44,258 - INFO - Кадр 463\n"
     ]
    },
    {
     "name": "stdout",
     "output_type": "stream",
     "text": [
      "\n",
      "0: 384x640 12 persons, 833.4ms\n",
      "Speed: 2.4ms preprocess, 833.4ms inference, 2.4ms postprocess per image at shape (1, 3, 384, 640)\n",
      "\n",
      "0: 384x640 10 persons, 720.2ms\n",
      "Speed: 2.3ms preprocess, 720.2ms inference, 2.2ms postprocess per image at shape (1, 3, 384, 640)\n"
     ]
    },
    {
     "name": "stderr",
     "output_type": "stream",
     "text": [
      "2025-05-30 10:53:46,042 - INFO - Кадр 464\n"
     ]
    },
    {
     "name": "stdout",
     "output_type": "stream",
     "text": [
      "\n",
      "0: 384x640 11 persons, 1009.2ms\n",
      "Speed: 2.8ms preprocess, 1009.2ms inference, 2.2ms postprocess per image at shape (1, 3, 384, 640)\n",
      "\n",
      "0: 384x640 10 persons, 799.5ms\n",
      "Speed: 2.2ms preprocess, 799.5ms inference, 2.4ms postprocess per image at shape (1, 3, 384, 640)\n"
     ]
    },
    {
     "name": "stderr",
     "output_type": "stream",
     "text": [
      "2025-05-30 10:53:48,084 - INFO - Кадр 465\n"
     ]
    },
    {
     "name": "stdout",
     "output_type": "stream",
     "text": [
      "\n",
      "0: 384x640 12 persons, 1060.6ms\n",
      "Speed: 2.7ms preprocess, 1060.6ms inference, 2.7ms postprocess per image at shape (1, 3, 384, 640)\n",
      "\n",
      "0: 384x640 10 persons, 850.9ms\n",
      "Speed: 2.0ms preprocess, 850.9ms inference, 2.3ms postprocess per image at shape (1, 3, 384, 640)\n"
     ]
    },
    {
     "name": "stderr",
     "output_type": "stream",
     "text": [
      "2025-05-30 10:53:50,222 - INFO - Кадр 466\n"
     ]
    },
    {
     "name": "stdout",
     "output_type": "stream",
     "text": [
      "\n",
      "0: 384x640 11 persons, 848.7ms\n",
      "Speed: 2.6ms preprocess, 848.7ms inference, 2.8ms postprocess per image at shape (1, 3, 384, 640)\n",
      "\n",
      "0: 384x640 10 persons, 798.0ms\n",
      "Speed: 2.8ms preprocess, 798.0ms inference, 2.4ms postprocess per image at shape (1, 3, 384, 640)\n"
     ]
    },
    {
     "name": "stderr",
     "output_type": "stream",
     "text": [
      "2025-05-30 10:53:52,098 - INFO - Кадр 467\n"
     ]
    },
    {
     "name": "stdout",
     "output_type": "stream",
     "text": [
      "\n",
      "0: 384x640 12 persons, 939.3ms\n",
      "Speed: 2.4ms preprocess, 939.3ms inference, 4.9ms postprocess per image at shape (1, 3, 384, 640)\n",
      "\n",
      "0: 384x640 9 persons, 1017.7ms\n",
      "Speed: 2.9ms preprocess, 1017.7ms inference, 2.5ms postprocess per image at shape (1, 3, 384, 640)\n"
     ]
    },
    {
     "name": "stderr",
     "output_type": "stream",
     "text": [
      "2025-05-30 10:53:54,297 - INFO - Кадр 468\n"
     ]
    },
    {
     "name": "stdout",
     "output_type": "stream",
     "text": [
      "\n",
      "0: 384x640 12 persons, 1209.1ms\n",
      "Speed: 2.7ms preprocess, 1209.1ms inference, 2.6ms postprocess per image at shape (1, 3, 384, 640)\n",
      "\n",
      "0: 384x640 9 persons, 772.4ms\n",
      "Speed: 4.3ms preprocess, 772.4ms inference, 2.2ms postprocess per image at shape (1, 3, 384, 640)\n"
     ]
    },
    {
     "name": "stderr",
     "output_type": "stream",
     "text": [
      "2025-05-30 10:53:56,515 - INFO - Кадр 469\n"
     ]
    },
    {
     "name": "stdout",
     "output_type": "stream",
     "text": [
      "\n",
      "0: 384x640 12 persons, 886.3ms\n",
      "Speed: 2.6ms preprocess, 886.3ms inference, 2.7ms postprocess per image at shape (1, 3, 384, 640)\n",
      "\n",
      "0: 384x640 9 persons, 723.3ms\n",
      "Speed: 2.1ms preprocess, 723.3ms inference, 2.7ms postprocess per image at shape (1, 3, 384, 640)\n"
     ]
    },
    {
     "name": "stderr",
     "output_type": "stream",
     "text": [
      "2025-05-30 10:53:58,334 - INFO - Кадр 470\n"
     ]
    },
    {
     "name": "stdout",
     "output_type": "stream",
     "text": [
      "\n",
      "0: 384x640 12 persons, 956.6ms\n",
      "Speed: 2.3ms preprocess, 956.6ms inference, 2.8ms postprocess per image at shape (1, 3, 384, 640)\n",
      "\n",
      "0: 384x640 9 persons, 715.4ms\n",
      "Speed: 2.2ms preprocess, 715.4ms inference, 2.3ms postprocess per image at shape (1, 3, 384, 640)\n"
     ]
    },
    {
     "name": "stderr",
     "output_type": "stream",
     "text": [
      "2025-05-30 10:54:00,231 - INFO - Кадр 471\n"
     ]
    },
    {
     "name": "stdout",
     "output_type": "stream",
     "text": [
      "\n",
      "0: 384x640 13 persons, 1233.0ms\n",
      "Speed: 2.3ms preprocess, 1233.0ms inference, 3.1ms postprocess per image at shape (1, 3, 384, 640)\n",
      "\n",
      "0: 384x640 9 persons, 1017.0ms\n",
      "Speed: 2.0ms preprocess, 1017.0ms inference, 3.0ms postprocess per image at shape (1, 3, 384, 640)\n"
     ]
    },
    {
     "name": "stderr",
     "output_type": "stream",
     "text": [
      "2025-05-30 10:54:02,717 - INFO - Кадр 472\n"
     ]
    },
    {
     "name": "stdout",
     "output_type": "stream",
     "text": [
      "\n",
      "0: 384x640 13 persons, 1185.1ms\n",
      "Speed: 3.1ms preprocess, 1185.1ms inference, 2.7ms postprocess per image at shape (1, 3, 384, 640)\n",
      "\n",
      "0: 384x640 11 persons, 724.7ms\n",
      "Speed: 2.3ms preprocess, 724.7ms inference, 2.5ms postprocess per image at shape (1, 3, 384, 640)\n"
     ]
    },
    {
     "name": "stderr",
     "output_type": "stream",
     "text": [
      "2025-05-30 10:54:04,868 - INFO - Кадр 473\n"
     ]
    },
    {
     "name": "stdout",
     "output_type": "stream",
     "text": [
      "\n",
      "0: 384x640 13 persons, 1119.5ms\n",
      "Speed: 2.4ms preprocess, 1119.5ms inference, 2.4ms postprocess per image at shape (1, 3, 384, 640)\n",
      "\n",
      "0: 384x640 11 persons, 728.5ms\n",
      "Speed: 4.1ms preprocess, 728.5ms inference, 2.3ms postprocess per image at shape (1, 3, 384, 640)\n"
     ]
    },
    {
     "name": "stderr",
     "output_type": "stream",
     "text": [
      "2025-05-30 10:54:06,965 - INFO - Кадр 474\n"
     ]
    },
    {
     "name": "stdout",
     "output_type": "stream",
     "text": [
      "\n",
      "0: 384x640 13 persons, 1352.4ms\n",
      "Speed: 2.4ms preprocess, 1352.4ms inference, 3.8ms postprocess per image at shape (1, 3, 384, 640)\n",
      "\n",
      "0: 384x640 12 persons, 873.2ms\n",
      "Speed: 2.5ms preprocess, 873.2ms inference, 2.3ms postprocess per image at shape (1, 3, 384, 640)\n"
     ]
    },
    {
     "name": "stderr",
     "output_type": "stream",
     "text": [
      "2025-05-30 10:54:09,438 - INFO - Кадр 475\n"
     ]
    },
    {
     "name": "stdout",
     "output_type": "stream",
     "text": [
      "\n",
      "0: 384x640 13 persons, 988.5ms\n",
      "Speed: 2.9ms preprocess, 988.5ms inference, 2.8ms postprocess per image at shape (1, 3, 384, 640)\n",
      "\n",
      "0: 384x640 11 persons, 1071.0ms\n",
      "Speed: 2.4ms preprocess, 1071.0ms inference, 2.6ms postprocess per image at shape (1, 3, 384, 640)\n"
     ]
    },
    {
     "name": "stderr",
     "output_type": "stream",
     "text": [
      "2025-05-30 10:54:11,746 - INFO - Кадр 476\n"
     ]
    },
    {
     "name": "stdout",
     "output_type": "stream",
     "text": [
      "\n",
      "0: 384x640 12 persons, 1016.1ms\n",
      "Speed: 2.3ms preprocess, 1016.1ms inference, 2.7ms postprocess per image at shape (1, 3, 384, 640)\n",
      "\n",
      "0: 384x640 12 persons, 737.9ms\n",
      "Speed: 2.2ms preprocess, 737.9ms inference, 2.3ms postprocess per image at shape (1, 3, 384, 640)\n"
     ]
    },
    {
     "name": "stderr",
     "output_type": "stream",
     "text": [
      "2025-05-30 10:54:13,738 - INFO - Кадр 477\n"
     ]
    },
    {
     "name": "stdout",
     "output_type": "stream",
     "text": [
      "\n",
      "0: 384x640 13 persons, 925.1ms\n",
      "Speed: 2.3ms preprocess, 925.1ms inference, 2.5ms postprocess per image at shape (1, 3, 384, 640)\n",
      "\n",
      "0: 384x640 10 persons, 715.6ms\n",
      "Speed: 2.4ms preprocess, 715.6ms inference, 2.5ms postprocess per image at shape (1, 3, 384, 640)\n"
     ]
    },
    {
     "name": "stderr",
     "output_type": "stream",
     "text": [
      "2025-05-30 10:54:15,619 - INFO - Кадр 478\n"
     ]
    },
    {
     "name": "stdout",
     "output_type": "stream",
     "text": [
      "\n",
      "0: 384x640 13 persons, 873.0ms\n",
      "Speed: 2.2ms preprocess, 873.0ms inference, 2.6ms postprocess per image at shape (1, 3, 384, 640)\n",
      "\n",
      "0: 384x640 11 persons, 733.1ms\n",
      "Speed: 2.2ms preprocess, 733.1ms inference, 2.4ms postprocess per image at shape (1, 3, 384, 640)\n"
     ]
    },
    {
     "name": "stderr",
     "output_type": "stream",
     "text": [
      "2025-05-30 10:54:17,455 - INFO - Кадр 479\n"
     ]
    },
    {
     "name": "stdout",
     "output_type": "stream",
     "text": [
      "\n",
      "0: 384x640 13 persons, 941.3ms\n",
      "Speed: 2.1ms preprocess, 941.3ms inference, 2.8ms postprocess per image at shape (1, 3, 384, 640)\n",
      "\n",
      "0: 384x640 11 persons, 743.1ms\n",
      "Speed: 2.4ms preprocess, 743.1ms inference, 2.3ms postprocess per image at shape (1, 3, 384, 640)\n"
     ]
    },
    {
     "name": "stderr",
     "output_type": "stream",
     "text": [
      "2025-05-30 10:54:19,375 - INFO - Кадр 480\n"
     ]
    },
    {
     "name": "stdout",
     "output_type": "stream",
     "text": [
      "\n",
      "0: 384x640 13 persons, 865.9ms\n",
      "Speed: 2.3ms preprocess, 865.9ms inference, 2.5ms postprocess per image at shape (1, 3, 384, 640)\n",
      "\n",
      "0: 384x640 10 persons, 770.7ms\n",
      "Speed: 2.4ms preprocess, 770.7ms inference, 2.4ms postprocess per image at shape (1, 3, 384, 640)\n"
     ]
    },
    {
     "name": "stderr",
     "output_type": "stream",
     "text": [
      "2025-05-30 10:54:21,244 - INFO - Кадр 481\n"
     ]
    },
    {
     "name": "stdout",
     "output_type": "stream",
     "text": [
      "\n",
      "0: 384x640 14 persons, 816.2ms\n",
      "Speed: 3.1ms preprocess, 816.2ms inference, 2.5ms postprocess per image at shape (1, 3, 384, 640)\n",
      "\n",
      "0: 384x640 11 persons, 872.1ms\n",
      "Speed: 2.1ms preprocess, 872.1ms inference, 2.3ms postprocess per image at shape (1, 3, 384, 640)\n"
     ]
    },
    {
     "name": "stderr",
     "output_type": "stream",
     "text": [
      "2025-05-30 10:54:23,153 - INFO - Кадр 482\n"
     ]
    },
    {
     "name": "stdout",
     "output_type": "stream",
     "text": [
      "\n",
      "0: 384x640 13 persons, 959.5ms\n",
      "Speed: 2.6ms preprocess, 959.5ms inference, 2.8ms postprocess per image at shape (1, 3, 384, 640)\n",
      "\n",
      "0: 384x640 11 persons, 822.9ms\n",
      "Speed: 2.3ms preprocess, 822.9ms inference, 2.6ms postprocess per image at shape (1, 3, 384, 640)\n"
     ]
    },
    {
     "name": "stderr",
     "output_type": "stream",
     "text": [
      "2025-05-30 10:54:25,174 - INFO - Кадр 483\n"
     ]
    },
    {
     "name": "stdout",
     "output_type": "stream",
     "text": [
      "\n",
      "0: 384x640 13 persons, 852.7ms\n",
      "Speed: 2.2ms preprocess, 852.7ms inference, 2.5ms postprocess per image at shape (1, 3, 384, 640)\n",
      "\n",
      "0: 384x640 10 persons, 786.2ms\n",
      "Speed: 2.0ms preprocess, 786.2ms inference, 2.4ms postprocess per image at shape (1, 3, 384, 640)\n"
     ]
    },
    {
     "name": "stderr",
     "output_type": "stream",
     "text": [
      "2025-05-30 10:54:27,034 - INFO - Кадр 484\n"
     ]
    },
    {
     "name": "stdout",
     "output_type": "stream",
     "text": [
      "\n",
      "0: 384x640 13 persons, 844.3ms\n",
      "Speed: 2.3ms preprocess, 844.3ms inference, 2.8ms postprocess per image at shape (1, 3, 384, 640)\n",
      "\n",
      "0: 384x640 10 persons, 873.0ms\n",
      "Speed: 2.4ms preprocess, 873.0ms inference, 2.4ms postprocess per image at shape (1, 3, 384, 640)\n"
     ]
    },
    {
     "name": "stderr",
     "output_type": "stream",
     "text": [
      "2025-05-30 10:54:28,986 - INFO - Кадр 485\n"
     ]
    },
    {
     "name": "stdout",
     "output_type": "stream",
     "text": [
      "\n",
      "0: 384x640 13 persons, 928.1ms\n",
      "Speed: 2.5ms preprocess, 928.1ms inference, 2.7ms postprocess per image at shape (1, 3, 384, 640)\n",
      "\n",
      "0: 384x640 10 persons, 808.5ms\n",
      "Speed: 2.2ms preprocess, 808.5ms inference, 3.4ms postprocess per image at shape (1, 3, 384, 640)\n"
     ]
    },
    {
     "name": "stderr",
     "output_type": "stream",
     "text": [
      "2025-05-30 10:54:30,962 - INFO - Кадр 486\n"
     ]
    },
    {
     "name": "stdout",
     "output_type": "stream",
     "text": [
      "\n",
      "0: 384x640 15 persons, 906.5ms\n",
      "Speed: 3.8ms preprocess, 906.5ms inference, 2.5ms postprocess per image at shape (1, 3, 384, 640)\n",
      "\n",
      "0: 384x640 10 persons, 726.9ms\n",
      "Speed: 2.2ms preprocess, 726.9ms inference, 2.4ms postprocess per image at shape (1, 3, 384, 640)\n"
     ]
    },
    {
     "name": "stderr",
     "output_type": "stream",
     "text": [
      "2025-05-30 10:54:32,818 - INFO - Кадр 487\n"
     ]
    },
    {
     "name": "stdout",
     "output_type": "stream",
     "text": [
      "\n",
      "0: 384x640 14 persons, 929.8ms\n",
      "Speed: 2.5ms preprocess, 929.8ms inference, 2.9ms postprocess per image at shape (1, 3, 384, 640)\n",
      "\n",
      "0: 384x640 9 persons, 708.0ms\n",
      "Speed: 2.3ms preprocess, 708.0ms inference, 2.3ms postprocess per image at shape (1, 3, 384, 640)\n"
     ]
    },
    {
     "name": "stderr",
     "output_type": "stream",
     "text": [
      "2025-05-30 10:54:34,692 - INFO - Кадр 488\n"
     ]
    },
    {
     "name": "stdout",
     "output_type": "stream",
     "text": [
      "\n",
      "0: 384x640 14 persons, 999.3ms\n",
      "Speed: 2.4ms preprocess, 999.3ms inference, 2.7ms postprocess per image at shape (1, 3, 384, 640)\n",
      "\n",
      "0: 384x640 9 persons, 808.3ms\n",
      "Speed: 2.4ms preprocess, 808.3ms inference, 2.2ms postprocess per image at shape (1, 3, 384, 640)\n"
     ]
    },
    {
     "name": "stderr",
     "output_type": "stream",
     "text": [
      "2025-05-30 10:54:36,728 - INFO - Кадр 489\n"
     ]
    },
    {
     "name": "stdout",
     "output_type": "stream",
     "text": [
      "\n",
      "0: 384x640 13 persons, 894.1ms\n",
      "Speed: 2.4ms preprocess, 894.1ms inference, 2.6ms postprocess per image at shape (1, 3, 384, 640)\n",
      "\n",
      "0: 384x640 9 persons, 780.3ms\n",
      "Speed: 2.7ms preprocess, 780.3ms inference, 2.7ms postprocess per image at shape (1, 3, 384, 640)\n"
     ]
    },
    {
     "name": "stderr",
     "output_type": "stream",
     "text": [
      "2025-05-30 10:54:38,649 - INFO - Кадр 490\n"
     ]
    },
    {
     "name": "stdout",
     "output_type": "stream",
     "text": [
      "\n",
      "0: 384x640 13 persons, 853.6ms\n",
      "Speed: 2.5ms preprocess, 853.6ms inference, 3.4ms postprocess per image at shape (1, 3, 384, 640)\n",
      "\n",
      "0: 384x640 9 persons, 762.9ms\n",
      "Speed: 2.6ms preprocess, 762.9ms inference, 2.4ms postprocess per image at shape (1, 3, 384, 640)\n"
     ]
    },
    {
     "name": "stderr",
     "output_type": "stream",
     "text": [
      "2025-05-30 10:54:40,507 - INFO - Кадр 491\n"
     ]
    },
    {
     "name": "stdout",
     "output_type": "stream",
     "text": [
      "\n",
      "0: 384x640 12 persons, 1011.3ms\n",
      "Speed: 2.4ms preprocess, 1011.3ms inference, 2.4ms postprocess per image at shape (1, 3, 384, 640)\n",
      "\n",
      "0: 384x640 9 persons, 714.8ms\n",
      "Speed: 2.3ms preprocess, 714.8ms inference, 2.4ms postprocess per image at shape (1, 3, 384, 640)\n"
     ]
    },
    {
     "name": "stderr",
     "output_type": "stream",
     "text": [
      "2025-05-30 10:54:42,458 - INFO - Кадр 492\n"
     ]
    },
    {
     "name": "stdout",
     "output_type": "stream",
     "text": [
      "\n",
      "0: 384x640 12 persons, 852.6ms\n",
      "Speed: 2.3ms preprocess, 852.6ms inference, 2.6ms postprocess per image at shape (1, 3, 384, 640)\n",
      "\n",
      "0: 384x640 9 persons, 822.7ms\n",
      "Speed: 2.1ms preprocess, 822.7ms inference, 2.4ms postprocess per image at shape (1, 3, 384, 640)\n"
     ]
    },
    {
     "name": "stderr",
     "output_type": "stream",
     "text": [
      "2025-05-30 10:54:44,362 - INFO - Кадр 493\n"
     ]
    },
    {
     "name": "stdout",
     "output_type": "stream",
     "text": [
      "\n",
      "0: 384x640 13 persons, 843.1ms\n",
      "Speed: 2.5ms preprocess, 843.1ms inference, 2.8ms postprocess per image at shape (1, 3, 384, 640)\n",
      "\n",
      "0: 384x640 9 persons, 690.8ms\n",
      "Speed: 2.0ms preprocess, 690.8ms inference, 2.4ms postprocess per image at shape (1, 3, 384, 640)\n"
     ]
    },
    {
     "name": "stderr",
     "output_type": "stream",
     "text": [
      "2025-05-30 10:54:46,111 - INFO - Кадр 494\n"
     ]
    },
    {
     "name": "stdout",
     "output_type": "stream",
     "text": [
      "\n",
      "0: 384x640 12 persons, 946.9ms\n",
      "Speed: 2.5ms preprocess, 946.9ms inference, 2.7ms postprocess per image at shape (1, 3, 384, 640)\n",
      "\n",
      "0: 384x640 9 persons, 689.2ms\n",
      "Speed: 2.2ms preprocess, 689.2ms inference, 2.3ms postprocess per image at shape (1, 3, 384, 640)\n"
     ]
    },
    {
     "name": "stderr",
     "output_type": "stream",
     "text": [
      "2025-05-30 10:54:47,985 - INFO - Кадр 495\n"
     ]
    },
    {
     "name": "stdout",
     "output_type": "stream",
     "text": [
      "\n",
      "0: 384x640 12 persons, 812.8ms\n",
      "Speed: 2.5ms preprocess, 812.8ms inference, 2.9ms postprocess per image at shape (1, 3, 384, 640)\n",
      "\n",
      "0: 384x640 8 persons, 830.7ms\n",
      "Speed: 4.1ms preprocess, 830.7ms inference, 2.5ms postprocess per image at shape (1, 3, 384, 640)\n"
     ]
    },
    {
     "name": "stderr",
     "output_type": "stream",
     "text": [
      "2025-05-30 10:54:49,863 - INFO - Кадр 496\n"
     ]
    },
    {
     "name": "stdout",
     "output_type": "stream",
     "text": [
      "\n",
      "0: 384x640 12 persons, 914.4ms\n",
      "Speed: 2.2ms preprocess, 914.4ms inference, 2.6ms postprocess per image at shape (1, 3, 384, 640)\n",
      "\n",
      "0: 384x640 9 persons, 815.5ms\n",
      "Speed: 2.1ms preprocess, 815.5ms inference, 2.3ms postprocess per image at shape (1, 3, 384, 640)\n"
     ]
    },
    {
     "name": "stderr",
     "output_type": "stream",
     "text": [
      "2025-05-30 10:54:51,816 - INFO - Кадр 497\n"
     ]
    },
    {
     "name": "stdout",
     "output_type": "stream",
     "text": [
      "\n",
      "0: 384x640 13 persons, 816.3ms\n",
      "Speed: 3.1ms preprocess, 816.3ms inference, 2.5ms postprocess per image at shape (1, 3, 384, 640)\n",
      "\n",
      "0: 384x640 7 persons, 702.1ms\n",
      "Speed: 2.3ms preprocess, 702.1ms inference, 2.3ms postprocess per image at shape (1, 3, 384, 640)\n"
     ]
    },
    {
     "name": "stderr",
     "output_type": "stream",
     "text": [
      "2025-05-30 10:54:53,552 - INFO - Кадр 498\n"
     ]
    },
    {
     "name": "stdout",
     "output_type": "stream",
     "text": [
      "\n",
      "0: 384x640 15 persons, 882.0ms\n",
      "Speed: 2.3ms preprocess, 882.0ms inference, 2.9ms postprocess per image at shape (1, 3, 384, 640)\n",
      "\n",
      "0: 384x640 8 persons, 733.1ms\n",
      "Speed: 2.0ms preprocess, 733.1ms inference, 2.3ms postprocess per image at shape (1, 3, 384, 640)\n"
     ]
    },
    {
     "name": "stderr",
     "output_type": "stream",
     "text": [
      "2025-05-30 10:54:55,396 - INFO - Кадр 499\n"
     ]
    },
    {
     "name": "stdout",
     "output_type": "stream",
     "text": [
      "\n",
      "0: 384x640 12 persons, 851.6ms\n",
      "Speed: 2.5ms preprocess, 851.6ms inference, 2.8ms postprocess per image at shape (1, 3, 384, 640)\n",
      "\n",
      "0: 384x640 8 persons, 914.0ms\n",
      "Speed: 2.2ms preprocess, 914.0ms inference, 2.4ms postprocess per image at shape (1, 3, 384, 640)\n"
     ]
    },
    {
     "name": "stderr",
     "output_type": "stream",
     "text": [
      "2025-05-30 10:54:57,389 - INFO - Кадр 500\n"
     ]
    },
    {
     "name": "stdout",
     "output_type": "stream",
     "text": [
      "\n",
      "0: 384x640 11 persons, 1151.2ms\n",
      "Speed: 2.4ms preprocess, 1151.2ms inference, 2.6ms postprocess per image at shape (1, 3, 384, 640)\n",
      "\n",
      "0: 384x640 8 persons, 919.1ms\n",
      "Speed: 2.2ms preprocess, 919.1ms inference, 2.7ms postprocess per image at shape (1, 3, 384, 640)\n"
     ]
    },
    {
     "name": "stderr",
     "output_type": "stream",
     "text": [
      "2025-05-30 10:54:59,694 - INFO - Кадр 501\n"
     ]
    },
    {
     "name": "stdout",
     "output_type": "stream",
     "text": [
      "\n",
      "0: 384x640 12 persons, 1459.2ms\n",
      "Speed: 2.4ms preprocess, 1459.2ms inference, 3.0ms postprocess per image at shape (1, 3, 384, 640)\n",
      "\n",
      "0: 384x640 9 persons, 922.4ms\n",
      "Speed: 2.9ms preprocess, 922.4ms inference, 2.7ms postprocess per image at shape (1, 3, 384, 640)\n"
     ]
    },
    {
     "name": "stderr",
     "output_type": "stream",
     "text": [
      "2025-05-30 10:55:02,328 - INFO - Кадр 502\n"
     ]
    },
    {
     "name": "stdout",
     "output_type": "stream",
     "text": [
      "\n",
      "0: 384x640 11 persons, 948.8ms\n",
      "Speed: 2.3ms preprocess, 948.8ms inference, 3.3ms postprocess per image at shape (1, 3, 384, 640)\n",
      "\n",
      "0: 384x640 9 persons, 854.8ms\n",
      "Speed: 2.4ms preprocess, 854.8ms inference, 2.4ms postprocess per image at shape (1, 3, 384, 640)\n"
     ]
    },
    {
     "name": "stderr",
     "output_type": "stream",
     "text": [
      "2025-05-30 10:55:04,368 - INFO - Кадр 503\n"
     ]
    },
    {
     "name": "stdout",
     "output_type": "stream",
     "text": [
      "\n",
      "0: 384x640 11 persons, 957.5ms\n",
      "Speed: 2.4ms preprocess, 957.5ms inference, 3.1ms postprocess per image at shape (1, 3, 384, 640)\n",
      "\n",
      "0: 384x640 9 persons, 930.4ms\n",
      "Speed: 2.5ms preprocess, 930.4ms inference, 2.5ms postprocess per image at shape (1, 3, 384, 640)\n"
     ]
    },
    {
     "name": "stderr",
     "output_type": "stream",
     "text": [
      "2025-05-30 10:55:06,487 - INFO - Кадр 504\n"
     ]
    },
    {
     "name": "stdout",
     "output_type": "stream",
     "text": [
      "\n",
      "0: 384x640 12 persons, 989.8ms\n",
      "Speed: 2.0ms preprocess, 989.8ms inference, 3.5ms postprocess per image at shape (1, 3, 384, 640)\n",
      "\n",
      "0: 384x640 8 persons, 1152.7ms\n",
      "Speed: 3.5ms preprocess, 1152.7ms inference, 2.4ms postprocess per image at shape (1, 3, 384, 640)\n"
     ]
    },
    {
     "name": "stderr",
     "output_type": "stream",
     "text": [
      "2025-05-30 10:55:08,882 - INFO - Кадр 505\n"
     ]
    },
    {
     "name": "stdout",
     "output_type": "stream",
     "text": [
      "\n",
      "0: 384x640 11 persons, 1058.5ms\n",
      "Speed: 2.6ms preprocess, 1058.5ms inference, 24.0ms postprocess per image at shape (1, 3, 384, 640)\n",
      "\n",
      "0: 384x640 9 persons, 896.4ms\n",
      "Speed: 10.7ms preprocess, 896.4ms inference, 2.3ms postprocess per image at shape (1, 3, 384, 640)\n"
     ]
    },
    {
     "name": "stderr",
     "output_type": "stream",
     "text": [
      "2025-05-30 10:55:11,105 - INFO - Кадр 506\n"
     ]
    },
    {
     "name": "stdout",
     "output_type": "stream",
     "text": [
      "\n",
      "0: 384x640 11 persons, 948.4ms\n",
      "Speed: 2.4ms preprocess, 948.4ms inference, 2.5ms postprocess per image at shape (1, 3, 384, 640)\n",
      "\n",
      "0: 384x640 9 persons, 842.8ms\n",
      "Speed: 2.6ms preprocess, 842.8ms inference, 2.4ms postprocess per image at shape (1, 3, 384, 640)\n"
     ]
    },
    {
     "name": "stderr",
     "output_type": "stream",
     "text": [
      "2025-05-30 10:55:13,128 - INFO - Кадр 507\n"
     ]
    },
    {
     "name": "stdout",
     "output_type": "stream",
     "text": [
      "\n",
      "0: 384x640 11 persons, 1257.2ms\n",
      "Speed: 2.7ms preprocess, 1257.2ms inference, 2.9ms postprocess per image at shape (1, 3, 384, 640)\n",
      "\n",
      "0: 384x640 8 persons, 1043.1ms\n",
      "Speed: 2.3ms preprocess, 1043.1ms inference, 2.5ms postprocess per image at shape (1, 3, 384, 640)\n"
     ]
    },
    {
     "name": "stderr",
     "output_type": "stream",
     "text": [
      "2025-05-30 10:55:15,668 - INFO - Кадр 508\n"
     ]
    },
    {
     "name": "stdout",
     "output_type": "stream",
     "text": [
      "\n",
      "0: 384x640 11 persons, 841.8ms\n",
      "Speed: 2.2ms preprocess, 841.8ms inference, 2.8ms postprocess per image at shape (1, 3, 384, 640)\n",
      "\n",
      "0: 384x640 8 persons, 1456.4ms\n",
      "Speed: 2.0ms preprocess, 1456.4ms inference, 2.4ms postprocess per image at shape (1, 3, 384, 640)\n"
     ]
    },
    {
     "name": "stderr",
     "output_type": "stream",
     "text": [
      "2025-05-30 10:55:18,199 - INFO - Кадр 509\n"
     ]
    },
    {
     "name": "stdout",
     "output_type": "stream",
     "text": [
      "\n",
      "0: 384x640 11 persons, 1158.3ms\n",
      "Speed: 2.5ms preprocess, 1158.3ms inference, 2.9ms postprocess per image at shape (1, 3, 384, 640)\n",
      "\n",
      "0: 384x640 7 persons, 852.1ms\n",
      "Speed: 2.7ms preprocess, 852.1ms inference, 2.3ms postprocess per image at shape (1, 3, 384, 640)\n"
     ]
    },
    {
     "name": "stderr",
     "output_type": "stream",
     "text": [
      "2025-05-30 10:55:20,449 - INFO - Кадр 510\n"
     ]
    },
    {
     "name": "stdout",
     "output_type": "stream",
     "text": [
      "\n",
      "0: 384x640 12 persons, 1023.1ms\n",
      "Speed: 2.6ms preprocess, 1023.1ms inference, 2.7ms postprocess per image at shape (1, 3, 384, 640)\n",
      "\n",
      "0: 384x640 8 persons, 801.6ms\n",
      "Speed: 2.3ms preprocess, 801.6ms inference, 2.7ms postprocess per image at shape (1, 3, 384, 640)\n"
     ]
    },
    {
     "name": "stderr",
     "output_type": "stream",
     "text": [
      "2025-05-30 10:55:22,518 - INFO - Кадр 511\n"
     ]
    },
    {
     "name": "stdout",
     "output_type": "stream",
     "text": [
      "\n",
      "0: 384x640 10 persons, 988.7ms\n",
      "Speed: 3.7ms preprocess, 988.7ms inference, 3.0ms postprocess per image at shape (1, 3, 384, 640)\n",
      "\n",
      "0: 384x640 8 persons, 1466.4ms\n",
      "Speed: 2.4ms preprocess, 1466.4ms inference, 2.2ms postprocess per image at shape (1, 3, 384, 640)\n"
     ]
    },
    {
     "name": "stderr",
     "output_type": "stream",
     "text": [
      "2025-05-30 10:55:25,229 - INFO - Кадр 512\n"
     ]
    },
    {
     "name": "stdout",
     "output_type": "stream",
     "text": [
      "\n",
      "0: 384x640 11 persons, 1556.7ms\n",
      "Speed: 9.8ms preprocess, 1556.7ms inference, 2.8ms postprocess per image at shape (1, 3, 384, 640)\n",
      "\n",
      "0: 384x640 9 persons, 842.4ms\n",
      "Speed: 2.5ms preprocess, 842.4ms inference, 2.4ms postprocess per image at shape (1, 3, 384, 640)\n"
     ]
    },
    {
     "name": "stderr",
     "output_type": "stream",
     "text": [
      "2025-05-30 10:55:27,879 - INFO - Кадр 513\n"
     ]
    },
    {
     "name": "stdout",
     "output_type": "stream",
     "text": [
      "\n",
      "0: 384x640 12 persons, 1033.9ms\n",
      "Speed: 3.8ms preprocess, 1033.9ms inference, 3.6ms postprocess per image at shape (1, 3, 384, 640)\n",
      "\n",
      "0: 384x640 8 persons, 703.2ms\n",
      "Speed: 2.6ms preprocess, 703.2ms inference, 2.3ms postprocess per image at shape (1, 3, 384, 640)\n"
     ]
    },
    {
     "name": "stderr",
     "output_type": "stream",
     "text": [
      "2025-05-30 10:55:29,867 - INFO - Кадр 514\n"
     ]
    },
    {
     "name": "stdout",
     "output_type": "stream",
     "text": [
      "\n",
      "0: 384x640 12 persons, 939.1ms\n",
      "Speed: 2.7ms preprocess, 939.1ms inference, 2.8ms postprocess per image at shape (1, 3, 384, 640)\n",
      "\n",
      "0: 384x640 8 persons, 993.6ms\n",
      "Speed: 2.6ms preprocess, 993.6ms inference, 2.4ms postprocess per image at shape (1, 3, 384, 640)\n"
     ]
    },
    {
     "name": "stderr",
     "output_type": "stream",
     "text": [
      "2025-05-30 10:55:32,071 - INFO - Кадр 515\n"
     ]
    },
    {
     "name": "stdout",
     "output_type": "stream",
     "text": [
      "\n",
      "0: 384x640 12 persons, 924.1ms\n",
      "Speed: 2.7ms preprocess, 924.1ms inference, 2.9ms postprocess per image at shape (1, 3, 384, 640)\n",
      "\n",
      "0: 384x640 8 persons, 807.1ms\n",
      "Speed: 3.1ms preprocess, 807.1ms inference, 2.8ms postprocess per image at shape (1, 3, 384, 640)\n"
     ]
    },
    {
     "name": "stderr",
     "output_type": "stream",
     "text": [
      "2025-05-30 10:55:34,054 - INFO - Кадр 516\n"
     ]
    },
    {
     "name": "stdout",
     "output_type": "stream",
     "text": [
      "\n",
      "0: 384x640 11 persons, 1070.4ms\n",
      "Speed: 2.3ms preprocess, 1070.4ms inference, 2.3ms postprocess per image at shape (1, 3, 384, 640)\n",
      "\n",
      "0: 384x640 8 persons, 1022.6ms\n",
      "Speed: 2.5ms preprocess, 1022.6ms inference, 2.6ms postprocess per image at shape (1, 3, 384, 640)\n"
     ]
    },
    {
     "name": "stderr",
     "output_type": "stream",
     "text": [
      "2025-05-30 10:55:36,416 - INFO - Кадр 517\n"
     ]
    },
    {
     "name": "stdout",
     "output_type": "stream",
     "text": [
      "\n",
      "0: 384x640 11 persons, 1007.8ms\n",
      "Speed: 56.9ms preprocess, 1007.8ms inference, 3.9ms postprocess per image at shape (1, 3, 384, 640)\n",
      "\n",
      "0: 384x640 8 persons, 826.0ms\n",
      "Speed: 9.5ms preprocess, 826.0ms inference, 2.6ms postprocess per image at shape (1, 3, 384, 640)\n"
     ]
    },
    {
     "name": "stderr",
     "output_type": "stream",
     "text": [
      "2025-05-30 10:55:38,568 - INFO - Кадр 518\n"
     ]
    },
    {
     "name": "stdout",
     "output_type": "stream",
     "text": [
      "\n",
      "0: 384x640 12 persons, 1186.8ms\n",
      "Speed: 2.7ms preprocess, 1186.8ms inference, 3.2ms postprocess per image at shape (1, 3, 384, 640)\n",
      "\n",
      "0: 384x640 8 persons, 991.3ms\n",
      "Speed: 2.4ms preprocess, 991.3ms inference, 2.9ms postprocess per image at shape (1, 3, 384, 640)\n"
     ]
    },
    {
     "name": "stderr",
     "output_type": "stream",
     "text": [
      "2025-05-30 10:55:41,016 - INFO - Кадр 519\n"
     ]
    },
    {
     "name": "stdout",
     "output_type": "stream",
     "text": [
      "\n",
      "0: 384x640 12 persons, 1432.7ms\n",
      "Speed: 3.2ms preprocess, 1432.7ms inference, 3.0ms postprocess per image at shape (1, 3, 384, 640)\n",
      "\n",
      "0: 384x640 8 persons, 905.9ms\n",
      "Speed: 2.6ms preprocess, 905.9ms inference, 2.3ms postprocess per image at shape (1, 3, 384, 640)\n"
     ]
    },
    {
     "name": "stderr",
     "output_type": "stream",
     "text": [
      "2025-05-30 10:55:43,611 - INFO - Кадр 520\n"
     ]
    },
    {
     "name": "stdout",
     "output_type": "stream",
     "text": [
      "\n",
      "0: 384x640 12 persons, 903.1ms\n",
      "Speed: 2.8ms preprocess, 903.1ms inference, 2.4ms postprocess per image at shape (1, 3, 384, 640)\n",
      "\n",
      "0: 384x640 7 persons, 825.2ms\n",
      "Speed: 2.5ms preprocess, 825.2ms inference, 2.3ms postprocess per image at shape (1, 3, 384, 640)\n"
     ]
    },
    {
     "name": "stderr",
     "output_type": "stream",
     "text": [
      "2025-05-30 10:55:45,587 - INFO - Кадр 521\n"
     ]
    },
    {
     "name": "stdout",
     "output_type": "stream",
     "text": [
      "\n",
      "0: 384x640 12 persons, 905.2ms\n",
      "Speed: 2.8ms preprocess, 905.2ms inference, 2.5ms postprocess per image at shape (1, 3, 384, 640)\n",
      "\n",
      "0: 384x640 6 persons, 1013.1ms\n",
      "Speed: 2.3ms preprocess, 1013.1ms inference, 2.4ms postprocess per image at shape (1, 3, 384, 640)\n"
     ]
    },
    {
     "name": "stderr",
     "output_type": "stream",
     "text": [
      "2025-05-30 10:55:47,755 - INFO - Кадр 522\n"
     ]
    },
    {
     "name": "stdout",
     "output_type": "stream",
     "text": [
      "\n",
      "0: 384x640 12 persons, 952.4ms\n",
      "Speed: 2.7ms preprocess, 952.4ms inference, 2.8ms postprocess per image at shape (1, 3, 384, 640)\n",
      "\n",
      "0: 384x640 8 persons, 825.8ms\n",
      "Speed: 2.5ms preprocess, 825.8ms inference, 2.3ms postprocess per image at shape (1, 3, 384, 640)\n"
     ]
    },
    {
     "name": "stderr",
     "output_type": "stream",
     "text": [
      "2025-05-30 10:55:49,789 - INFO - Кадр 523\n"
     ]
    },
    {
     "name": "stdout",
     "output_type": "stream",
     "text": [
      "\n",
      "0: 384x640 12 persons, 889.9ms\n",
      "Speed: 2.7ms preprocess, 889.9ms inference, 2.7ms postprocess per image at shape (1, 3, 384, 640)\n",
      "\n",
      "0: 384x640 8 persons, 905.3ms\n",
      "Speed: 2.4ms preprocess, 905.3ms inference, 2.2ms postprocess per image at shape (1, 3, 384, 640)\n"
     ]
    },
    {
     "name": "stderr",
     "output_type": "stream",
     "text": [
      "2025-05-30 10:55:51,839 - INFO - Кадр 524\n"
     ]
    },
    {
     "name": "stdout",
     "output_type": "stream",
     "text": [
      "\n",
      "0: 384x640 12 persons, 1101.2ms\n",
      "Speed: 2.8ms preprocess, 1101.2ms inference, 2.6ms postprocess per image at shape (1, 3, 384, 640)\n",
      "\n",
      "0: 384x640 7 persons, 807.0ms\n",
      "Speed: 4.7ms preprocess, 807.0ms inference, 2.4ms postprocess per image at shape (1, 3, 384, 640)\n"
     ]
    },
    {
     "name": "stderr",
     "output_type": "stream",
     "text": [
      "2025-05-30 10:55:53,994 - INFO - Кадр 525\n"
     ]
    },
    {
     "name": "stdout",
     "output_type": "stream",
     "text": [
      "\n",
      "0: 384x640 12 persons, 811.0ms\n",
      "Speed: 2.4ms preprocess, 811.0ms inference, 2.2ms postprocess per image at shape (1, 3, 384, 640)\n",
      "\n",
      "0: 384x640 6 persons, 962.3ms\n",
      "Speed: 2.1ms preprocess, 962.3ms inference, 2.4ms postprocess per image at shape (1, 3, 384, 640)\n"
     ]
    },
    {
     "name": "stderr",
     "output_type": "stream",
     "text": [
      "2025-05-30 10:55:55,998 - INFO - Кадр 526\n"
     ]
    },
    {
     "name": "stdout",
     "output_type": "stream",
     "text": [
      "\n",
      "0: 384x640 14 persons, 1183.1ms\n",
      "Speed: 2.6ms preprocess, 1183.1ms inference, 2.4ms postprocess per image at shape (1, 3, 384, 640)\n",
      "\n",
      "0: 384x640 7 persons, 1216.9ms\n",
      "Speed: 2.7ms preprocess, 1216.9ms inference, 2.8ms postprocess per image at shape (1, 3, 384, 640)\n"
     ]
    },
    {
     "name": "stderr",
     "output_type": "stream",
     "text": [
      "2025-05-30 10:55:58,654 - INFO - Кадр 527\n"
     ]
    },
    {
     "name": "stdout",
     "output_type": "stream",
     "text": [
      "\n",
      "0: 384x640 14 persons, 1471.6ms\n",
      "Speed: 2.5ms preprocess, 1471.6ms inference, 2.7ms postprocess per image at shape (1, 3, 384, 640)\n",
      "\n",
      "0: 384x640 8 persons, 984.9ms\n",
      "Speed: 2.7ms preprocess, 984.9ms inference, 3.0ms postprocess per image at shape (1, 3, 384, 640)\n"
     ]
    },
    {
     "name": "stderr",
     "output_type": "stream",
     "text": [
      "2025-05-30 10:56:01,396 - INFO - Кадр 528\n"
     ]
    },
    {
     "name": "stdout",
     "output_type": "stream",
     "text": [
      "\n",
      "0: 384x640 12 persons, 1219.6ms\n",
      "Speed: 3.9ms preprocess, 1219.6ms inference, 3.3ms postprocess per image at shape (1, 3, 384, 640)\n",
      "\n",
      "0: 384x640 7 persons, 1169.1ms\n",
      "Speed: 2.8ms preprocess, 1169.1ms inference, 3.0ms postprocess per image at shape (1, 3, 384, 640)\n"
     ]
    },
    {
     "name": "stderr",
     "output_type": "stream",
     "text": [
      "2025-05-30 10:56:04,076 - INFO - Кадр 529\n"
     ]
    },
    {
     "name": "stdout",
     "output_type": "stream",
     "text": [
      "\n",
      "0: 384x640 12 persons, 1091.9ms\n",
      "Speed: 2.6ms preprocess, 1091.9ms inference, 3.2ms postprocess per image at shape (1, 3, 384, 640)\n",
      "\n",
      "0: 384x640 8 persons, 857.7ms\n",
      "Speed: 2.8ms preprocess, 857.7ms inference, 2.3ms postprocess per image at shape (1, 3, 384, 640)\n"
     ]
    },
    {
     "name": "stderr",
     "output_type": "stream",
     "text": [
      "2025-05-30 10:56:06,271 - INFO - Кадр 530\n"
     ]
    },
    {
     "name": "stdout",
     "output_type": "stream",
     "text": [
      "\n",
      "0: 384x640 13 persons, 946.4ms\n",
      "Speed: 3.0ms preprocess, 946.4ms inference, 3.1ms postprocess per image at shape (1, 3, 384, 640)\n",
      "\n",
      "0: 384x640 7 persons, 938.2ms\n",
      "Speed: 2.6ms preprocess, 938.2ms inference, 2.4ms postprocess per image at shape (1, 3, 384, 640)\n"
     ]
    },
    {
     "name": "stderr",
     "output_type": "stream",
     "text": [
      "2025-05-30 10:56:08,406 - INFO - Кадр 531\n"
     ]
    },
    {
     "name": "stdout",
     "output_type": "stream",
     "text": [
      "\n",
      "0: 384x640 13 persons, 887.8ms\n",
      "Speed: 2.6ms preprocess, 887.8ms inference, 2.6ms postprocess per image at shape (1, 3, 384, 640)\n",
      "\n",
      "0: 384x640 7 persons, 787.6ms\n",
      "Speed: 2.4ms preprocess, 787.6ms inference, 2.6ms postprocess per image at shape (1, 3, 384, 640)\n"
     ]
    },
    {
     "name": "stderr",
     "output_type": "stream",
     "text": [
      "2025-05-30 10:56:10,325 - INFO - Кадр 532\n"
     ]
    },
    {
     "name": "stdout",
     "output_type": "stream",
     "text": [
      "\n",
      "0: 384x640 13 persons, 904.0ms\n",
      "Speed: 2.6ms preprocess, 904.0ms inference, 2.6ms postprocess per image at shape (1, 3, 384, 640)\n",
      "\n",
      "0: 384x640 8 persons, 777.9ms\n",
      "Speed: 2.4ms preprocess, 777.9ms inference, 2.3ms postprocess per image at shape (1, 3, 384, 640)\n"
     ]
    },
    {
     "name": "stderr",
     "output_type": "stream",
     "text": [
      "2025-05-30 10:56:12,266 - INFO - Кадр 533\n"
     ]
    },
    {
     "name": "stdout",
     "output_type": "stream",
     "text": [
      "\n",
      "0: 384x640 13 persons, 910.6ms\n",
      "Speed: 2.7ms preprocess, 910.6ms inference, 3.3ms postprocess per image at shape (1, 3, 384, 640)\n",
      "\n",
      "0: 384x640 8 persons, 890.2ms\n",
      "Speed: 4.5ms preprocess, 890.2ms inference, 2.3ms postprocess per image at shape (1, 3, 384, 640)\n"
     ]
    },
    {
     "name": "stderr",
     "output_type": "stream",
     "text": [
      "2025-05-30 10:56:14,332 - INFO - Кадр 534\n"
     ]
    },
    {
     "name": "stdout",
     "output_type": "stream",
     "text": [
      "\n",
      "0: 384x640 13 persons, 869.5ms\n",
      "Speed: 2.7ms preprocess, 869.5ms inference, 3.2ms postprocess per image at shape (1, 3, 384, 640)\n",
      "\n",
      "0: 384x640 10 persons, 701.8ms\n",
      "Speed: 2.3ms preprocess, 701.8ms inference, 2.3ms postprocess per image at shape (1, 3, 384, 640)\n"
     ]
    },
    {
     "name": "stderr",
     "output_type": "stream",
     "text": [
      "2025-05-30 10:56:16,135 - INFO - Кадр 535\n"
     ]
    },
    {
     "name": "stdout",
     "output_type": "stream",
     "text": [
      "\n",
      "0: 384x640 14 persons, 804.9ms\n",
      "Speed: 2.6ms preprocess, 804.9ms inference, 2.5ms postprocess per image at shape (1, 3, 384, 640)\n",
      "\n",
      "0: 384x640 9 persons, 722.9ms\n",
      "Speed: 2.5ms preprocess, 722.9ms inference, 2.3ms postprocess per image at shape (1, 3, 384, 640)\n"
     ]
    },
    {
     "name": "stderr",
     "output_type": "stream",
     "text": [
      "2025-05-30 10:56:17,894 - INFO - Кадр 536\n"
     ]
    },
    {
     "name": "stdout",
     "output_type": "stream",
     "text": [
      "\n",
      "0: 384x640 12 persons, 879.6ms\n",
      "Speed: 2.4ms preprocess, 879.6ms inference, 2.7ms postprocess per image at shape (1, 3, 384, 640)\n",
      "\n",
      "0: 384x640 9 persons, 720.4ms\n",
      "Speed: 2.1ms preprocess, 720.4ms inference, 2.4ms postprocess per image at shape (1, 3, 384, 640)\n"
     ]
    },
    {
     "name": "stderr",
     "output_type": "stream",
     "text": [
      "2025-05-30 10:56:19,729 - INFO - Кадр 537\n"
     ]
    },
    {
     "name": "stdout",
     "output_type": "stream",
     "text": [
      "\n",
      "0: 384x640 12 persons, 793.8ms\n",
      "Speed: 2.5ms preprocess, 793.8ms inference, 2.8ms postprocess per image at shape (1, 3, 384, 640)\n",
      "\n",
      "0: 384x640 9 persons, 707.0ms\n",
      "Speed: 2.2ms preprocess, 707.0ms inference, 2.6ms postprocess per image at shape (1, 3, 384, 640)\n"
     ]
    },
    {
     "name": "stderr",
     "output_type": "stream",
     "text": [
      "2025-05-30 10:56:21,458 - INFO - Кадр 538\n"
     ]
    },
    {
     "name": "stdout",
     "output_type": "stream",
     "text": [
      "\n",
      "0: 384x640 12 persons, 820.5ms\n",
      "Speed: 3.8ms preprocess, 820.5ms inference, 2.5ms postprocess per image at shape (1, 3, 384, 640)\n",
      "\n",
      "0: 384x640 9 persons, 839.9ms\n",
      "Speed: 2.4ms preprocess, 839.9ms inference, 3.5ms postprocess per image at shape (1, 3, 384, 640)\n"
     ]
    },
    {
     "name": "stderr",
     "output_type": "stream",
     "text": [
      "2025-05-30 10:56:23,391 - INFO - Кадр 539\n"
     ]
    },
    {
     "name": "stdout",
     "output_type": "stream",
     "text": [
      "\n",
      "0: 384x640 11 persons, 1242.6ms\n",
      "Speed: 3.3ms preprocess, 1242.6ms inference, 3.2ms postprocess per image at shape (1, 3, 384, 640)\n",
      "\n",
      "0: 384x640 9 persons, 727.3ms\n",
      "Speed: 2.2ms preprocess, 727.3ms inference, 2.4ms postprocess per image at shape (1, 3, 384, 640)\n"
     ]
    },
    {
     "name": "stderr",
     "output_type": "stream",
     "text": [
      "2025-05-30 10:56:25,601 - INFO - Кадр 540\n"
     ]
    },
    {
     "name": "stdout",
     "output_type": "stream",
     "text": [
      "\n",
      "0: 384x640 11 persons, 960.6ms\n",
      "Speed: 7.8ms preprocess, 960.6ms inference, 10.3ms postprocess per image at shape (1, 3, 384, 640)\n",
      "\n",
      "0: 384x640 9 persons, 860.4ms\n",
      "Speed: 2.3ms preprocess, 860.4ms inference, 2.6ms postprocess per image at shape (1, 3, 384, 640)\n"
     ]
    },
    {
     "name": "stderr",
     "output_type": "stream",
     "text": [
      "2025-05-30 10:56:27,677 - INFO - Кадр 541\n"
     ]
    },
    {
     "name": "stdout",
     "output_type": "stream",
     "text": [
      "\n",
      "0: 384x640 12 persons, 860.3ms\n",
      "Speed: 3.3ms preprocess, 860.3ms inference, 2.6ms postprocess per image at shape (1, 3, 384, 640)\n",
      "\n",
      "0: 384x640 10 persons, 1455.4ms\n",
      "Speed: 2.3ms preprocess, 1455.4ms inference, 2.4ms postprocess per image at shape (1, 3, 384, 640)\n"
     ]
    },
    {
     "name": "stderr",
     "output_type": "stream",
     "text": [
      "2025-05-30 10:56:30,229 - INFO - Кадр 542\n"
     ]
    },
    {
     "name": "stdout",
     "output_type": "stream",
     "text": [
      "\n",
      "0: 384x640 13 persons, 1238.9ms\n",
      "Speed: 4.3ms preprocess, 1238.9ms inference, 2.5ms postprocess per image at shape (1, 3, 384, 640)\n",
      "\n",
      "0: 384x640 9 persons, 1129.5ms\n",
      "Speed: 4.6ms preprocess, 1129.5ms inference, 2.9ms postprocess per image at shape (1, 3, 384, 640)\n"
     ]
    },
    {
     "name": "stderr",
     "output_type": "stream",
     "text": [
      "2025-05-30 10:56:32,863 - INFO - Кадр 543\n"
     ]
    },
    {
     "name": "stdout",
     "output_type": "stream",
     "text": [
      "\n",
      "0: 384x640 13 persons, 982.4ms\n",
      "Speed: 5.8ms preprocess, 982.4ms inference, 2.7ms postprocess per image at shape (1, 3, 384, 640)\n",
      "\n",
      "0: 384x640 9 persons, 1295.0ms\n",
      "Speed: 3.6ms preprocess, 1295.0ms inference, 2.3ms postprocess per image at shape (1, 3, 384, 640)\n"
     ]
    },
    {
     "name": "stderr",
     "output_type": "stream",
     "text": [
      "2025-05-30 10:56:35,391 - INFO - Кадр 544\n"
     ]
    },
    {
     "name": "stdout",
     "output_type": "stream",
     "text": [
      "\n",
      "0: 384x640 13 persons, 943.5ms\n",
      "Speed: 2.6ms preprocess, 943.5ms inference, 3.1ms postprocess per image at shape (1, 3, 384, 640)\n",
      "\n",
      "0: 384x640 11 persons, 1015.1ms\n",
      "Speed: 3.0ms preprocess, 1015.1ms inference, 3.3ms postprocess per image at shape (1, 3, 384, 640)\n"
     ]
    },
    {
     "name": "stderr",
     "output_type": "stream",
     "text": [
      "2025-05-30 10:56:37,637 - INFO - Кадр 545\n"
     ]
    },
    {
     "name": "stdout",
     "output_type": "stream",
     "text": [
      "\n",
      "0: 384x640 13 persons, 1376.0ms\n",
      "Speed: 3.0ms preprocess, 1376.0ms inference, 3.7ms postprocess per image at shape (1, 3, 384, 640)\n",
      "\n",
      "0: 384x640 11 persons, 1222.4ms\n",
      "Speed: 2.5ms preprocess, 1222.4ms inference, 2.7ms postprocess per image at shape (1, 3, 384, 640)\n"
     ]
    },
    {
     "name": "stderr",
     "output_type": "stream",
     "text": [
      "2025-05-30 10:56:40,528 - INFO - Кадр 546\n"
     ]
    },
    {
     "name": "stdout",
     "output_type": "stream",
     "text": [
      "\n",
      "0: 384x640 13 persons, 1124.7ms\n",
      "Speed: 3.0ms preprocess, 1124.7ms inference, 2.5ms postprocess per image at shape (1, 3, 384, 640)\n",
      "\n",
      "0: 384x640 11 persons, 815.4ms\n",
      "Speed: 2.5ms preprocess, 815.4ms inference, 2.4ms postprocess per image at shape (1, 3, 384, 640)\n"
     ]
    },
    {
     "name": "stderr",
     "output_type": "stream",
     "text": [
      "2025-05-30 10:56:42,727 - INFO - Кадр 547\n"
     ]
    },
    {
     "name": "stdout",
     "output_type": "stream",
     "text": [
      "\n",
      "0: 384x640 13 persons, 1195.3ms\n",
      "Speed: 3.1ms preprocess, 1195.3ms inference, 3.1ms postprocess per image at shape (1, 3, 384, 640)\n",
      "\n",
      "0: 384x640 11 persons, 1030.4ms\n",
      "Speed: 2.2ms preprocess, 1030.4ms inference, 2.5ms postprocess per image at shape (1, 3, 384, 640)\n"
     ]
    },
    {
     "name": "stderr",
     "output_type": "stream",
     "text": [
      "2025-05-30 10:56:45,198 - INFO - Кадр 548\n"
     ]
    },
    {
     "name": "stdout",
     "output_type": "stream",
     "text": [
      "\n",
      "0: 384x640 13 persons, 815.6ms\n",
      "Speed: 2.3ms preprocess, 815.6ms inference, 2.9ms postprocess per image at shape (1, 3, 384, 640)\n",
      "\n",
      "0: 384x640 10 persons, 744.8ms\n",
      "Speed: 2.2ms preprocess, 744.8ms inference, 2.6ms postprocess per image at shape (1, 3, 384, 640)\n"
     ]
    },
    {
     "name": "stderr",
     "output_type": "stream",
     "text": [
      "2025-05-30 10:56:47,013 - INFO - Кадр 549\n"
     ]
    },
    {
     "name": "stdout",
     "output_type": "stream",
     "text": [
      "\n",
      "0: 384x640 14 persons, 931.3ms\n",
      "Speed: 2.7ms preprocess, 931.3ms inference, 2.7ms postprocess per image at shape (1, 3, 384, 640)\n",
      "\n",
      "0: 384x640 11 persons, 849.7ms\n",
      "Speed: 2.4ms preprocess, 849.7ms inference, 2.6ms postprocess per image at shape (1, 3, 384, 640)\n"
     ]
    },
    {
     "name": "stderr",
     "output_type": "stream",
     "text": [
      "2025-05-30 10:56:49,048 - INFO - Кадр 550\n"
     ]
    },
    {
     "name": "stdout",
     "output_type": "stream",
     "text": [
      "\n",
      "0: 384x640 14 persons, 941.3ms\n",
      "Speed: 2.6ms preprocess, 941.3ms inference, 3.0ms postprocess per image at shape (1, 3, 384, 640)\n",
      "\n",
      "0: 384x640 11 persons, 958.3ms\n",
      "Speed: 5.9ms preprocess, 958.3ms inference, 2.4ms postprocess per image at shape (1, 3, 384, 640)\n"
     ]
    },
    {
     "name": "stderr",
     "output_type": "stream",
     "text": [
      "2025-05-30 10:56:51,208 - INFO - Кадр 551\n"
     ]
    },
    {
     "name": "stdout",
     "output_type": "stream",
     "text": [
      "\n",
      "0: 384x640 15 persons, 975.6ms\n",
      "Speed: 2.8ms preprocess, 975.6ms inference, 2.6ms postprocess per image at shape (1, 3, 384, 640)\n",
      "\n",
      "0: 384x640 9 persons, 922.7ms\n",
      "Speed: 3.2ms preprocess, 922.7ms inference, 2.3ms postprocess per image at shape (1, 3, 384, 640)\n"
     ]
    },
    {
     "name": "stderr",
     "output_type": "stream",
     "text": [
      "2025-05-30 10:56:53,354 - INFO - Кадр 552\n"
     ]
    },
    {
     "name": "stdout",
     "output_type": "stream",
     "text": [
      "\n",
      "0: 384x640 15 persons, 1217.5ms\n",
      "Speed: 2.5ms preprocess, 1217.5ms inference, 2.9ms postprocess per image at shape (1, 3, 384, 640)\n",
      "\n",
      "0: 384x640 11 persons, 1305.1ms\n",
      "Speed: 3.3ms preprocess, 1305.1ms inference, 4.6ms postprocess per image at shape (1, 3, 384, 640)\n"
     ]
    },
    {
     "name": "stderr",
     "output_type": "stream",
     "text": [
      "2025-05-30 10:56:56,160 - INFO - Кадр 553\n"
     ]
    },
    {
     "name": "stdout",
     "output_type": "stream",
     "text": [
      "\n",
      "0: 384x640 15 persons, 1254.4ms\n",
      "Speed: 4.3ms preprocess, 1254.4ms inference, 3.4ms postprocess per image at shape (1, 3, 384, 640)\n",
      "\n",
      "0: 384x640 12 persons, 1032.1ms\n",
      "Speed: 2.5ms preprocess, 1032.1ms inference, 2.8ms postprocess per image at shape (1, 3, 384, 640)\n"
     ]
    },
    {
     "name": "stderr",
     "output_type": "stream",
     "text": [
      "2025-05-30 10:56:58,715 - INFO - Кадр 554\n"
     ]
    },
    {
     "name": "stdout",
     "output_type": "stream",
     "text": [
      "\n",
      "0: 384x640 15 persons, 1270.0ms\n",
      "Speed: 2.6ms preprocess, 1270.0ms inference, 4.0ms postprocess per image at shape (1, 3, 384, 640)\n",
      "\n",
      "0: 384x640 12 persons, 1191.8ms\n",
      "Speed: 2.7ms preprocess, 1191.8ms inference, 2.7ms postprocess per image at shape (1, 3, 384, 640)\n"
     ]
    },
    {
     "name": "stderr",
     "output_type": "stream",
     "text": [
      "2025-05-30 10:57:01,464 - INFO - Кадр 555\n"
     ]
    },
    {
     "name": "stdout",
     "output_type": "stream",
     "text": [
      "\n",
      "0: 384x640 15 persons, 998.4ms\n",
      "Speed: 2.8ms preprocess, 998.4ms inference, 3.9ms postprocess per image at shape (1, 3, 384, 640)\n",
      "\n",
      "0: 384x640 12 persons, 751.3ms\n",
      "Speed: 2.1ms preprocess, 751.3ms inference, 2.5ms postprocess per image at shape (1, 3, 384, 640)\n"
     ]
    },
    {
     "name": "stderr",
     "output_type": "stream",
     "text": [
      "2025-05-30 10:57:03,447 - INFO - Кадр 556\n"
     ]
    },
    {
     "name": "stdout",
     "output_type": "stream",
     "text": [
      "\n",
      "0: 384x640 15 persons, 817.1ms\n",
      "Speed: 2.1ms preprocess, 817.1ms inference, 2.7ms postprocess per image at shape (1, 3, 384, 640)\n",
      "\n",
      "0: 384x640 12 persons, 712.1ms\n",
      "Speed: 2.1ms preprocess, 712.1ms inference, 2.3ms postprocess per image at shape (1, 3, 384, 640)\n"
     ]
    },
    {
     "name": "stderr",
     "output_type": "stream",
     "text": [
      "2025-05-30 10:57:05,205 - INFO - Кадр 557\n"
     ]
    },
    {
     "name": "stdout",
     "output_type": "stream",
     "text": [
      "\n",
      "0: 384x640 15 persons, 876.9ms\n",
      "Speed: 2.4ms preprocess, 876.9ms inference, 3.9ms postprocess per image at shape (1, 3, 384, 640)\n",
      "\n",
      "0: 384x640 12 persons, 717.1ms\n",
      "Speed: 2.1ms preprocess, 717.1ms inference, 2.3ms postprocess per image at shape (1, 3, 384, 640)\n"
     ]
    },
    {
     "name": "stderr",
     "output_type": "stream",
     "text": [
      "2025-05-30 10:57:07,027 - INFO - Кадр 558\n"
     ]
    },
    {
     "name": "stdout",
     "output_type": "stream",
     "text": [
      "\n",
      "0: 384x640 14 persons, 992.5ms\n",
      "Speed: 2.4ms preprocess, 992.5ms inference, 2.6ms postprocess per image at shape (1, 3, 384, 640)\n",
      "\n",
      "0: 384x640 12 persons, 709.6ms\n",
      "Speed: 2.1ms preprocess, 709.6ms inference, 2.2ms postprocess per image at shape (1, 3, 384, 640)\n"
     ]
    },
    {
     "name": "stderr",
     "output_type": "stream",
     "text": [
      "2025-05-30 10:57:08,958 - INFO - Кадр 559\n"
     ]
    },
    {
     "name": "stdout",
     "output_type": "stream",
     "text": [
      "\n",
      "0: 384x640 14 persons, 802.0ms\n",
      "Speed: 2.5ms preprocess, 802.0ms inference, 2.5ms postprocess per image at shape (1, 3, 384, 640)\n",
      "\n",
      "0: 384x640 12 persons, 716.1ms\n",
      "Speed: 2.1ms preprocess, 716.1ms inference, 2.4ms postprocess per image at shape (1, 3, 384, 640)\n"
     ]
    },
    {
     "name": "stderr",
     "output_type": "stream",
     "text": [
      "2025-05-30 10:57:10,702 - INFO - Кадр 560\n"
     ]
    },
    {
     "name": "stdout",
     "output_type": "stream",
     "text": [
      "\n",
      "0: 384x640 14 persons, 929.0ms\n",
      "Speed: 2.4ms preprocess, 929.0ms inference, 2.8ms postprocess per image at shape (1, 3, 384, 640)\n",
      "\n",
      "0: 384x640 12 persons, 714.2ms\n",
      "Speed: 2.3ms preprocess, 714.2ms inference, 2.6ms postprocess per image at shape (1, 3, 384, 640)\n"
     ]
    },
    {
     "name": "stderr",
     "output_type": "stream",
     "text": [
      "2025-05-30 10:57:12,592 - INFO - Кадр 561\n"
     ]
    },
    {
     "name": "stdout",
     "output_type": "stream",
     "text": [
      "\n",
      "0: 384x640 15 persons, 964.1ms\n",
      "Speed: 2.4ms preprocess, 964.1ms inference, 2.6ms postprocess per image at shape (1, 3, 384, 640)\n",
      "\n",
      "0: 384x640 13 persons, 701.6ms\n",
      "Speed: 2.2ms preprocess, 701.6ms inference, 2.2ms postprocess per image at shape (1, 3, 384, 640)\n"
     ]
    },
    {
     "name": "stderr",
     "output_type": "stream",
     "text": [
      "2025-05-30 10:57:14,478 - INFO - Кадр 562\n"
     ]
    },
    {
     "name": "stdout",
     "output_type": "stream",
     "text": [
      "\n",
      "0: 384x640 15 persons, 821.5ms\n",
      "Speed: 2.2ms preprocess, 821.5ms inference, 2.4ms postprocess per image at shape (1, 3, 384, 640)\n",
      "\n",
      "0: 384x640 13 persons, 825.0ms\n",
      "Speed: 2.0ms preprocess, 825.0ms inference, 3.0ms postprocess per image at shape (1, 3, 384, 640)\n"
     ]
    },
    {
     "name": "stderr",
     "output_type": "stream",
     "text": [
      "2025-05-30 10:57:16,370 - INFO - Кадр 563\n"
     ]
    },
    {
     "name": "stdout",
     "output_type": "stream",
     "text": [
      "\n",
      "0: 384x640 15 persons, 1268.9ms\n",
      "Speed: 2.9ms preprocess, 1268.9ms inference, 2.8ms postprocess per image at shape (1, 3, 384, 640)\n",
      "\n",
      "0: 384x640 12 persons, 743.8ms\n",
      "Speed: 2.3ms preprocess, 743.8ms inference, 2.4ms postprocess per image at shape (1, 3, 384, 640)\n"
     ]
    },
    {
     "name": "stderr",
     "output_type": "stream",
     "text": [
      "2025-05-30 10:57:18,617 - INFO - Кадр 564\n"
     ]
    },
    {
     "name": "stdout",
     "output_type": "stream",
     "text": [
      "\n",
      "0: 384x640 15 persons, 821.9ms\n",
      "Speed: 2.3ms preprocess, 821.9ms inference, 2.9ms postprocess per image at shape (1, 3, 384, 640)\n",
      "\n",
      "0: 384x640 13 persons, 838.2ms\n",
      "Speed: 2.3ms preprocess, 838.2ms inference, 2.6ms postprocess per image at shape (1, 3, 384, 640)\n"
     ]
    },
    {
     "name": "stderr",
     "output_type": "stream",
     "text": [
      "2025-05-30 10:57:20,525 - INFO - Кадр 565\n"
     ]
    },
    {
     "name": "stdout",
     "output_type": "stream",
     "text": [
      "\n",
      "0: 384x640 14 persons, 982.7ms\n",
      "Speed: 49.8ms preprocess, 982.7ms inference, 2.6ms postprocess per image at shape (1, 3, 384, 640)\n",
      "\n",
      "0: 384x640 12 persons, 957.9ms\n",
      "Speed: 3.0ms preprocess, 957.9ms inference, 3.0ms postprocess per image at shape (1, 3, 384, 640)\n"
     ]
    },
    {
     "name": "stderr",
     "output_type": "stream",
     "text": [
      "2025-05-30 10:57:22,771 - INFO - Кадр 566\n"
     ]
    },
    {
     "name": "stdout",
     "output_type": "stream",
     "text": [
      "\n",
      "0: 384x640 14 persons, 970.3ms\n",
      "Speed: 3.0ms preprocess, 970.3ms inference, 3.0ms postprocess per image at shape (1, 3, 384, 640)\n",
      "\n",
      "0: 384x640 11 persons, 928.6ms\n",
      "Speed: 2.1ms preprocess, 928.6ms inference, 2.3ms postprocess per image at shape (1, 3, 384, 640)\n"
     ]
    },
    {
     "name": "stderr",
     "output_type": "stream",
     "text": [
      "2025-05-30 10:57:24,911 - INFO - Кадр 567\n"
     ]
    },
    {
     "name": "stdout",
     "output_type": "stream",
     "text": [
      "\n",
      "0: 384x640 13 persons, 1087.3ms\n",
      "Speed: 3.1ms preprocess, 1087.3ms inference, 3.1ms postprocess per image at shape (1, 3, 384, 640)\n",
      "\n",
      "0: 384x640 11 persons, 711.8ms\n",
      "Speed: 2.3ms preprocess, 711.8ms inference, 2.4ms postprocess per image at shape (1, 3, 384, 640)\n"
     ]
    },
    {
     "name": "stderr",
     "output_type": "stream",
     "text": [
      "2025-05-30 10:57:26,988 - INFO - Кадр 568\n"
     ]
    },
    {
     "name": "stdout",
     "output_type": "stream",
     "text": [
      "\n",
      "0: 384x640 14 persons, 1052.1ms\n",
      "Speed: 4.7ms preprocess, 1052.1ms inference, 3.0ms postprocess per image at shape (1, 3, 384, 640)\n",
      "\n",
      "0: 384x640 11 persons, 836.0ms\n",
      "Speed: 2.2ms preprocess, 836.0ms inference, 2.5ms postprocess per image at shape (1, 3, 384, 640)\n"
     ]
    },
    {
     "name": "stderr",
     "output_type": "stream",
     "text": [
      "2025-05-30 10:57:29,103 - INFO - Кадр 569\n"
     ]
    },
    {
     "name": "stdout",
     "output_type": "stream",
     "text": [
      "\n",
      "0: 384x640 12 persons, 908.3ms\n",
      "Speed: 2.3ms preprocess, 908.3ms inference, 2.8ms postprocess per image at shape (1, 3, 384, 640)\n",
      "\n",
      "0: 384x640 11 persons, 814.0ms\n",
      "Speed: 2.1ms preprocess, 814.0ms inference, 2.3ms postprocess per image at shape (1, 3, 384, 640)\n"
     ]
    },
    {
     "name": "stderr",
     "output_type": "stream",
     "text": [
      "2025-05-30 10:57:31,045 - INFO - Кадр 570\n"
     ]
    },
    {
     "name": "stdout",
     "output_type": "stream",
     "text": [
      "\n",
      "0: 384x640 12 persons, 911.1ms\n",
      "Speed: 2.2ms preprocess, 911.1ms inference, 2.7ms postprocess per image at shape (1, 3, 384, 640)\n",
      "\n",
      "0: 384x640 11 persons, 791.1ms\n",
      "Speed: 3.4ms preprocess, 791.1ms inference, 2.4ms postprocess per image at shape (1, 3, 384, 640)\n"
     ]
    },
    {
     "name": "stderr",
     "output_type": "stream",
     "text": [
      "2025-05-30 10:57:32,980 - INFO - Кадр 571\n"
     ]
    },
    {
     "name": "stdout",
     "output_type": "stream",
     "text": [
      "\n",
      "0: 384x640 12 persons, 859.0ms\n",
      "Speed: 2.7ms preprocess, 859.0ms inference, 2.7ms postprocess per image at shape (1, 3, 384, 640)\n",
      "\n",
      "0: 384x640 11 persons, 756.5ms\n",
      "Speed: 2.3ms preprocess, 756.5ms inference, 2.3ms postprocess per image at shape (1, 3, 384, 640)\n"
     ]
    },
    {
     "name": "stderr",
     "output_type": "stream",
     "text": [
      "2025-05-30 10:57:34,822 - INFO - Кадр 572\n"
     ]
    },
    {
     "name": "stdout",
     "output_type": "stream",
     "text": [
      "\n",
      "0: 384x640 12 persons, 838.8ms\n",
      "Speed: 2.5ms preprocess, 838.8ms inference, 2.5ms postprocess per image at shape (1, 3, 384, 640)\n",
      "\n",
      "0: 384x640 11 persons, 722.1ms\n",
      "Speed: 2.2ms preprocess, 722.1ms inference, 2.4ms postprocess per image at shape (1, 3, 384, 640)\n"
     ]
    },
    {
     "name": "stderr",
     "output_type": "stream",
     "text": [
      "2025-05-30 10:57:36,610 - INFO - Кадр 573\n"
     ]
    },
    {
     "name": "stdout",
     "output_type": "stream",
     "text": [
      "\n",
      "0: 384x640 12 persons, 1019.2ms\n",
      "Speed: 2.5ms preprocess, 1019.2ms inference, 2.9ms postprocess per image at shape (1, 3, 384, 640)\n",
      "\n",
      "0: 384x640 11 persons, 895.1ms\n",
      "Speed: 2.1ms preprocess, 895.1ms inference, 5.3ms postprocess per image at shape (1, 3, 384, 640)\n"
     ]
    },
    {
     "name": "stderr",
     "output_type": "stream",
     "text": [
      "2025-05-30 10:57:38,783 - INFO - Кадр 574\n"
     ]
    },
    {
     "name": "stdout",
     "output_type": "stream",
     "text": [
      "\n",
      "0: 384x640 12 persons, 1831.0ms\n",
      "Speed: 2.6ms preprocess, 1831.0ms inference, 2.7ms postprocess per image at shape (1, 3, 384, 640)\n",
      "\n",
      "0: 384x640 11 persons, 1048.4ms\n",
      "Speed: 4.0ms preprocess, 1048.4ms inference, 2.7ms postprocess per image at shape (1, 3, 384, 640)\n"
     ]
    },
    {
     "name": "stderr",
     "output_type": "stream",
     "text": [
      "2025-05-30 10:57:41,931 - INFO - Кадр 575\n"
     ]
    },
    {
     "name": "stdout",
     "output_type": "stream",
     "text": [
      "\n",
      "0: 384x640 12 persons, 1157.2ms\n",
      "Speed: 4.1ms preprocess, 1157.2ms inference, 4.0ms postprocess per image at shape (1, 3, 384, 640)\n",
      "\n",
      "0: 384x640 11 persons, 1249.3ms\n",
      "Speed: 2.9ms preprocess, 1249.3ms inference, 2.7ms postprocess per image at shape (1, 3, 384, 640)\n"
     ]
    },
    {
     "name": "stderr",
     "output_type": "stream",
     "text": [
      "2025-05-30 10:57:44,593 - INFO - Кадр 576\n"
     ]
    },
    {
     "name": "stdout",
     "output_type": "stream",
     "text": [
      "\n",
      "0: 384x640 12 persons, 964.5ms\n",
      "Speed: 2.5ms preprocess, 964.5ms inference, 2.9ms postprocess per image at shape (1, 3, 384, 640)\n",
      "\n",
      "0: 384x640 11 persons, 728.2ms\n",
      "Speed: 2.1ms preprocess, 728.2ms inference, 2.7ms postprocess per image at shape (1, 3, 384, 640)\n"
     ]
    },
    {
     "name": "stderr",
     "output_type": "stream",
     "text": [
      "2025-05-30 10:57:46,509 - INFO - Кадр 577\n"
     ]
    },
    {
     "name": "stdout",
     "output_type": "stream",
     "text": [
      "\n",
      "0: 384x640 12 persons, 835.3ms\n",
      "Speed: 2.1ms preprocess, 835.3ms inference, 2.6ms postprocess per image at shape (1, 3, 384, 640)\n",
      "\n",
      "0: 384x640 11 persons, 790.6ms\n",
      "Speed: 2.2ms preprocess, 790.6ms inference, 2.4ms postprocess per image at shape (1, 3, 384, 640)\n"
     ]
    },
    {
     "name": "stderr",
     "output_type": "stream",
     "text": [
      "2025-05-30 10:57:48,346 - INFO - Кадр 578\n"
     ]
    },
    {
     "name": "stdout",
     "output_type": "stream",
     "text": [
      "\n",
      "0: 384x640 12 persons, 829.3ms\n",
      "Speed: 2.2ms preprocess, 829.3ms inference, 2.6ms postprocess per image at shape (1, 3, 384, 640)\n",
      "\n",
      "0: 384x640 10 persons, 806.7ms\n",
      "Speed: 2.1ms preprocess, 806.7ms inference, 2.4ms postprocess per image at shape (1, 3, 384, 640)\n"
     ]
    },
    {
     "name": "stderr",
     "output_type": "stream",
     "text": [
      "2025-05-30 10:57:50,221 - INFO - Кадр 579\n"
     ]
    },
    {
     "name": "stdout",
     "output_type": "stream",
     "text": [
      "\n",
      "0: 384x640 12 persons, 935.8ms\n",
      "Speed: 3.0ms preprocess, 935.8ms inference, 2.3ms postprocess per image at shape (1, 3, 384, 640)\n",
      "\n",
      "0: 384x640 10 persons, 712.3ms\n",
      "Speed: 2.2ms preprocess, 712.3ms inference, 2.4ms postprocess per image at shape (1, 3, 384, 640)\n"
     ]
    },
    {
     "name": "stderr",
     "output_type": "stream",
     "text": [
      "2025-05-30 10:57:52,092 - INFO - Кадр 580\n"
     ]
    },
    {
     "name": "stdout",
     "output_type": "stream",
     "text": [
      "\n",
      "0: 384x640 12 persons, 948.9ms\n",
      "Speed: 2.5ms preprocess, 948.9ms inference, 3.3ms postprocess per image at shape (1, 3, 384, 640)\n",
      "\n",
      "0: 384x640 10 persons, 729.6ms\n",
      "Speed: 2.2ms preprocess, 729.6ms inference, 2.5ms postprocess per image at shape (1, 3, 384, 640)\n"
     ]
    },
    {
     "name": "stderr",
     "output_type": "stream",
     "text": [
      "2025-05-30 10:57:53,998 - INFO - Кадр 581\n"
     ]
    },
    {
     "name": "stdout",
     "output_type": "stream",
     "text": [
      "\n",
      "0: 384x640 12 persons, 834.0ms\n",
      "Speed: 2.6ms preprocess, 834.0ms inference, 2.3ms postprocess per image at shape (1, 3, 384, 640)\n",
      "\n",
      "0: 384x640 10 persons, 722.9ms\n",
      "Speed: 2.6ms preprocess, 722.9ms inference, 2.4ms postprocess per image at shape (1, 3, 384, 640)\n"
     ]
    },
    {
     "name": "stderr",
     "output_type": "stream",
     "text": [
      "2025-05-30 10:57:55,779 - INFO - Кадр 582\n"
     ]
    },
    {
     "name": "stdout",
     "output_type": "stream",
     "text": [
      "\n",
      "0: 384x640 12 persons, 809.5ms\n",
      "Speed: 2.3ms preprocess, 809.5ms inference, 2.6ms postprocess per image at shape (1, 3, 384, 640)\n",
      "\n",
      "0: 384x640 10 persons, 720.6ms\n",
      "Speed: 2.2ms preprocess, 720.6ms inference, 2.4ms postprocess per image at shape (1, 3, 384, 640)\n"
     ]
    },
    {
     "name": "stderr",
     "output_type": "stream",
     "text": [
      "2025-05-30 10:57:57,536 - INFO - Кадр 583\n"
     ]
    },
    {
     "name": "stdout",
     "output_type": "stream",
     "text": [
      "\n",
      "0: 384x640 12 persons, 962.4ms\n",
      "Speed: 5.8ms preprocess, 962.4ms inference, 2.8ms postprocess per image at shape (1, 3, 384, 640)\n",
      "\n",
      "0: 384x640 10 persons, 703.8ms\n",
      "Speed: 2.1ms preprocess, 703.8ms inference, 2.4ms postprocess per image at shape (1, 3, 384, 640)\n"
     ]
    },
    {
     "name": "stderr",
     "output_type": "stream",
     "text": [
      "2025-05-30 10:57:59,436 - INFO - Кадр 584\n"
     ]
    },
    {
     "name": "stdout",
     "output_type": "stream",
     "text": [
      "\n",
      "0: 384x640 12 persons, 835.4ms\n",
      "Speed: 2.4ms preprocess, 835.4ms inference, 2.7ms postprocess per image at shape (1, 3, 384, 640)\n",
      "\n",
      "0: 384x640 10 persons, 702.0ms\n",
      "Speed: 2.1ms preprocess, 702.0ms inference, 2.3ms postprocess per image at shape (1, 3, 384, 640)\n"
     ]
    },
    {
     "name": "stderr",
     "output_type": "stream",
     "text": [
      "2025-05-30 10:58:01,193 - INFO - Кадр 585\n"
     ]
    },
    {
     "name": "stdout",
     "output_type": "stream",
     "text": [
      "\n",
      "0: 384x640 12 persons, 850.2ms\n",
      "Speed: 2.2ms preprocess, 850.2ms inference, 2.9ms postprocess per image at shape (1, 3, 384, 640)\n",
      "\n",
      "0: 384x640 10 persons, 702.7ms\n",
      "Speed: 2.0ms preprocess, 702.7ms inference, 2.3ms postprocess per image at shape (1, 3, 384, 640)\n"
     ]
    },
    {
     "name": "stderr",
     "output_type": "stream",
     "text": [
      "2025-05-30 10:58:02,968 - INFO - Кадр 586\n"
     ]
    },
    {
     "name": "stdout",
     "output_type": "stream",
     "text": [
      "\n",
      "0: 384x640 12 persons, 901.5ms\n",
      "Speed: 2.3ms preprocess, 901.5ms inference, 2.6ms postprocess per image at shape (1, 3, 384, 640)\n",
      "\n",
      "0: 384x640 10 persons, 714.9ms\n",
      "Speed: 2.0ms preprocess, 714.9ms inference, 2.3ms postprocess per image at shape (1, 3, 384, 640)\n"
     ]
    },
    {
     "name": "stderr",
     "output_type": "stream",
     "text": [
      "2025-05-30 10:58:04,807 - INFO - Кадр 587\n"
     ]
    },
    {
     "name": "stdout",
     "output_type": "stream",
     "text": [
      "\n",
      "0: 384x640 11 persons, 794.1ms\n",
      "Speed: 2.5ms preprocess, 794.1ms inference, 2.6ms postprocess per image at shape (1, 3, 384, 640)\n",
      "\n",
      "0: 384x640 10 persons, 723.7ms\n",
      "Speed: 2.0ms preprocess, 723.7ms inference, 2.3ms postprocess per image at shape (1, 3, 384, 640)\n"
     ]
    },
    {
     "name": "stderr",
     "output_type": "stream",
     "text": [
      "2025-05-30 10:58:06,556 - INFO - Кадр 588\n"
     ]
    },
    {
     "name": "stdout",
     "output_type": "stream",
     "text": [
      "\n",
      "0: 384x640 10 persons, 1124.3ms\n",
      "Speed: 2.9ms preprocess, 1124.3ms inference, 2.7ms postprocess per image at shape (1, 3, 384, 640)\n",
      "\n",
      "0: 384x640 9 persons, 710.3ms\n",
      "Speed: 2.1ms preprocess, 710.3ms inference, 2.3ms postprocess per image at shape (1, 3, 384, 640)\n"
     ]
    },
    {
     "name": "stderr",
     "output_type": "stream",
     "text": [
      "2025-05-30 10:58:08,616 - INFO - Кадр 589\n"
     ]
    },
    {
     "name": "stdout",
     "output_type": "stream",
     "text": [
      "\n",
      "0: 384x640 11 persons, 919.3ms\n",
      "Speed: 2.6ms preprocess, 919.3ms inference, 3.8ms postprocess per image at shape (1, 3, 384, 640)\n",
      "\n",
      "0: 384x640 9 persons, 713.1ms\n",
      "Speed: 2.2ms preprocess, 713.1ms inference, 2.3ms postprocess per image at shape (1, 3, 384, 640)\n"
     ]
    },
    {
     "name": "stderr",
     "output_type": "stream",
     "text": [
      "2025-05-30 10:58:10,481 - INFO - Кадр 590\n"
     ]
    },
    {
     "name": "stdout",
     "output_type": "stream",
     "text": [
      "\n",
      "0: 384x640 11 persons, 814.2ms\n",
      "Speed: 2.2ms preprocess, 814.2ms inference, 2.6ms postprocess per image at shape (1, 3, 384, 640)\n",
      "\n",
      "0: 384x640 9 persons, 693.7ms\n",
      "Speed: 2.2ms preprocess, 693.7ms inference, 2.5ms postprocess per image at shape (1, 3, 384, 640)\n"
     ]
    },
    {
     "name": "stderr",
     "output_type": "stream",
     "text": [
      "2025-05-30 10:58:12,217 - INFO - Кадр 591\n"
     ]
    },
    {
     "name": "stdout",
     "output_type": "stream",
     "text": [
      "\n",
      "0: 384x640 11 persons, 816.0ms\n",
      "Speed: 2.2ms preprocess, 816.0ms inference, 3.0ms postprocess per image at shape (1, 3, 384, 640)\n",
      "\n",
      "0: 384x640 9 persons, 703.9ms\n",
      "Speed: 2.2ms preprocess, 703.9ms inference, 2.3ms postprocess per image at shape (1, 3, 384, 640)\n"
     ]
    },
    {
     "name": "stderr",
     "output_type": "stream",
     "text": [
      "2025-05-30 10:58:13,962 - INFO - Кадр 592\n"
     ]
    },
    {
     "name": "stdout",
     "output_type": "stream",
     "text": [
      "\n",
      "0: 384x640 10 persons, 906.7ms\n",
      "Speed: 2.6ms preprocess, 906.7ms inference, 2.4ms postprocess per image at shape (1, 3, 384, 640)\n",
      "\n",
      "0: 384x640 9 persons, 980.6ms\n",
      "Speed: 2.3ms preprocess, 980.6ms inference, 3.1ms postprocess per image at shape (1, 3, 384, 640)\n"
     ]
    },
    {
     "name": "stderr",
     "output_type": "stream",
     "text": [
      "2025-05-30 10:58:16,098 - INFO - Кадр 593\n"
     ]
    },
    {
     "name": "stdout",
     "output_type": "stream",
     "text": [
      "\n",
      "0: 384x640 11 persons, 946.0ms\n",
      "Speed: 2.2ms preprocess, 946.0ms inference, 2.5ms postprocess per image at shape (1, 3, 384, 640)\n",
      "\n",
      "0: 384x640 9 persons, 820.0ms\n",
      "Speed: 2.1ms preprocess, 820.0ms inference, 2.4ms postprocess per image at shape (1, 3, 384, 640)\n"
     ]
    },
    {
     "name": "stderr",
     "output_type": "stream",
     "text": [
      "2025-05-30 10:58:18,091 - INFO - Кадр 594\n"
     ]
    },
    {
     "name": "stdout",
     "output_type": "stream",
     "text": [
      "\n",
      "0: 384x640 11 persons, 781.1ms\n",
      "Speed: 2.1ms preprocess, 781.1ms inference, 2.4ms postprocess per image at shape (1, 3, 384, 640)\n",
      "\n",
      "0: 384x640 9 persons, 992.1ms\n",
      "Speed: 5.5ms preprocess, 992.1ms inference, 2.4ms postprocess per image at shape (1, 3, 384, 640)\n"
     ]
    },
    {
     "name": "stderr",
     "output_type": "stream",
     "text": [
      "2025-05-30 10:58:20,093 - INFO - Кадр 595\n"
     ]
    },
    {
     "name": "stdout",
     "output_type": "stream",
     "text": [
      "\n",
      "0: 384x640 10 persons, 936.0ms\n",
      "Speed: 2.4ms preprocess, 936.0ms inference, 2.7ms postprocess per image at shape (1, 3, 384, 640)\n",
      "\n",
      "0: 384x640 9 persons, 844.8ms\n",
      "Speed: 2.4ms preprocess, 844.8ms inference, 2.5ms postprocess per image at shape (1, 3, 384, 640)\n"
     ]
    },
    {
     "name": "stderr",
     "output_type": "stream",
     "text": [
      "2025-05-30 10:58:22,109 - INFO - Кадр 596\n"
     ]
    },
    {
     "name": "stdout",
     "output_type": "stream",
     "text": [
      "\n",
      "0: 384x640 10 persons, 839.0ms\n",
      "Speed: 2.2ms preprocess, 839.0ms inference, 2.7ms postprocess per image at shape (1, 3, 384, 640)\n",
      "\n",
      "0: 384x640 9 persons, 732.5ms\n",
      "Speed: 2.0ms preprocess, 732.5ms inference, 2.7ms postprocess per image at shape (1, 3, 384, 640)\n"
     ]
    },
    {
     "name": "stderr",
     "output_type": "stream",
     "text": [
      "2025-05-30 10:58:23,904 - INFO - Кадр 597\n"
     ]
    },
    {
     "name": "stdout",
     "output_type": "stream",
     "text": [
      "\n",
      "0: 384x640 11 persons, 889.2ms\n",
      "Speed: 2.7ms preprocess, 889.2ms inference, 2.5ms postprocess per image at shape (1, 3, 384, 640)\n",
      "\n",
      "0: 384x640 9 persons, 692.2ms\n",
      "Speed: 2.3ms preprocess, 692.2ms inference, 2.4ms postprocess per image at shape (1, 3, 384, 640)\n"
     ]
    },
    {
     "name": "stderr",
     "output_type": "stream",
     "text": [
      "2025-05-30 10:58:25,705 - INFO - Кадр 598\n"
     ]
    },
    {
     "name": "stdout",
     "output_type": "stream",
     "text": [
      "\n",
      "0: 384x640 11 persons, 837.5ms\n",
      "Speed: 2.7ms preprocess, 837.5ms inference, 2.7ms postprocess per image at shape (1, 3, 384, 640)\n",
      "\n",
      "0: 384x640 9 persons, 710.5ms\n",
      "Speed: 2.0ms preprocess, 710.5ms inference, 2.3ms postprocess per image at shape (1, 3, 384, 640)\n"
     ]
    },
    {
     "name": "stderr",
     "output_type": "stream",
     "text": [
      "2025-05-30 10:58:27,475 - INFO - Кадр 599\n"
     ]
    },
    {
     "name": "stdout",
     "output_type": "stream",
     "text": [
      "\n",
      "0: 384x640 11 persons, 801.6ms\n",
      "Speed: 2.6ms preprocess, 801.6ms inference, 2.7ms postprocess per image at shape (1, 3, 384, 640)\n",
      "\n",
      "0: 384x640 9 persons, 976.7ms\n",
      "Speed: 2.3ms preprocess, 976.7ms inference, 2.7ms postprocess per image at shape (1, 3, 384, 640)\n"
     ]
    },
    {
     "name": "stderr",
     "output_type": "stream",
     "text": [
      "2025-05-30 10:58:29,498 - INFO - Кадр 600\n"
     ]
    },
    {
     "name": "stdout",
     "output_type": "stream",
     "text": [
      "\n",
      "0: 384x640 11 persons, 937.6ms\n",
      "Speed: 3.1ms preprocess, 937.6ms inference, 2.6ms postprocess per image at shape (1, 3, 384, 640)\n",
      "\n",
      "0: 384x640 9 persons, 773.0ms\n",
      "Speed: 2.7ms preprocess, 773.0ms inference, 2.4ms postprocess per image at shape (1, 3, 384, 640)\n"
     ]
    },
    {
     "name": "stderr",
     "output_type": "stream",
     "text": [
      "2025-05-30 10:58:31,458 - INFO - Кадр 601\n"
     ]
    },
    {
     "name": "stdout",
     "output_type": "stream",
     "text": [
      "\n",
      "0: 384x640 11 persons, 827.2ms\n",
      "Speed: 2.7ms preprocess, 827.2ms inference, 2.8ms postprocess per image at shape (1, 3, 384, 640)\n",
      "\n",
      "0: 384x640 10 persons, 705.3ms\n",
      "Speed: 2.4ms preprocess, 705.3ms inference, 2.2ms postprocess per image at shape (1, 3, 384, 640)\n"
     ]
    },
    {
     "name": "stderr",
     "output_type": "stream",
     "text": [
      "2025-05-30 10:58:33,216 - INFO - Кадр 602\n"
     ]
    },
    {
     "name": "stdout",
     "output_type": "stream",
     "text": [
      "\n",
      "0: 384x640 11 persons, 915.5ms\n",
      "Speed: 2.4ms preprocess, 915.5ms inference, 2.9ms postprocess per image at shape (1, 3, 384, 640)\n",
      "\n",
      "0: 384x640 10 persons, 1091.5ms\n",
      "Speed: 4.3ms preprocess, 1091.5ms inference, 2.2ms postprocess per image at shape (1, 3, 384, 640)\n"
     ]
    },
    {
     "name": "stderr",
     "output_type": "stream",
     "text": [
      "2025-05-30 10:58:35,472 - INFO - Кадр 603\n"
     ]
    },
    {
     "name": "stdout",
     "output_type": "stream",
     "text": [
      "\n",
      "0: 384x640 11 persons, 937.5ms\n",
      "Speed: 2.5ms preprocess, 937.5ms inference, 2.7ms postprocess per image at shape (1, 3, 384, 640)\n",
      "\n",
      "0: 384x640 10 persons, 872.5ms\n",
      "Speed: 2.2ms preprocess, 872.5ms inference, 3.3ms postprocess per image at shape (1, 3, 384, 640)\n"
     ]
    },
    {
     "name": "stderr",
     "output_type": "stream",
     "text": [
      "2025-05-30 10:58:37,658 - INFO - Кадр 604\n"
     ]
    },
    {
     "name": "stdout",
     "output_type": "stream",
     "text": [
      "\n",
      "0: 384x640 11 persons, 1240.9ms\n",
      "Speed: 3.7ms preprocess, 1240.9ms inference, 3.6ms postprocess per image at shape (1, 3, 384, 640)\n",
      "\n",
      "0: 384x640 10 persons, 997.9ms\n",
      "Speed: 2.4ms preprocess, 997.9ms inference, 4.1ms postprocess per image at shape (1, 3, 384, 640)\n"
     ]
    },
    {
     "name": "stderr",
     "output_type": "stream",
     "text": [
      "2025-05-30 10:58:40,165 - INFO - Кадр 605\n"
     ]
    },
    {
     "name": "stdout",
     "output_type": "stream",
     "text": [
      "\n",
      "0: 384x640 11 persons, 1277.9ms\n",
      "Speed: 2.6ms preprocess, 1277.9ms inference, 2.5ms postprocess per image at shape (1, 3, 384, 640)\n",
      "\n",
      "0: 384x640 10 persons, 721.5ms\n",
      "Speed: 2.6ms preprocess, 721.5ms inference, 2.5ms postprocess per image at shape (1, 3, 384, 640)\n"
     ]
    },
    {
     "name": "stderr",
     "output_type": "stream",
     "text": [
      "2025-05-30 10:58:42,396 - INFO - Кадр 606\n"
     ]
    },
    {
     "name": "stdout",
     "output_type": "stream",
     "text": [
      "\n",
      "0: 384x640 11 persons, 825.5ms\n",
      "Speed: 2.1ms preprocess, 825.5ms inference, 2.6ms postprocess per image at shape (1, 3, 384, 640)\n",
      "\n",
      "0: 384x640 10 persons, 770.8ms\n",
      "Speed: 2.2ms preprocess, 770.8ms inference, 2.5ms postprocess per image at shape (1, 3, 384, 640)\n"
     ]
    },
    {
     "name": "stderr",
     "output_type": "stream",
     "text": [
      "2025-05-30 10:58:44,223 - INFO - Кадр 607\n"
     ]
    },
    {
     "name": "stdout",
     "output_type": "stream",
     "text": [
      "\n",
      "0: 384x640 11 persons, 922.2ms\n",
      "Speed: 2.8ms preprocess, 922.2ms inference, 3.0ms postprocess per image at shape (1, 3, 384, 640)\n",
      "\n",
      "0: 384x640 10 persons, 749.8ms\n",
      "Speed: 2.6ms preprocess, 749.8ms inference, 2.2ms postprocess per image at shape (1, 3, 384, 640)\n"
     ]
    },
    {
     "name": "stderr",
     "output_type": "stream",
     "text": [
      "2025-05-30 10:58:46,136 - INFO - Кадр 608\n"
     ]
    },
    {
     "name": "stdout",
     "output_type": "stream",
     "text": [
      "\n",
      "0: 384x640 11 persons, 851.7ms\n",
      "Speed: 2.4ms preprocess, 851.7ms inference, 2.8ms postprocess per image at shape (1, 3, 384, 640)\n",
      "\n",
      "0: 384x640 10 persons, 978.3ms\n",
      "Speed: 2.1ms preprocess, 978.3ms inference, 3.7ms postprocess per image at shape (1, 3, 384, 640)\n"
     ]
    },
    {
     "name": "stderr",
     "output_type": "stream",
     "text": [
      "2025-05-30 10:58:48,221 - INFO - Кадр 609\n"
     ]
    },
    {
     "name": "stdout",
     "output_type": "stream",
     "text": [
      "\n",
      "0: 384x640 11 persons, 974.5ms\n",
      "Speed: 2.8ms preprocess, 974.5ms inference, 2.7ms postprocess per image at shape (1, 3, 384, 640)\n",
      "\n",
      "0: 384x640 10 persons, 1044.9ms\n",
      "Speed: 2.2ms preprocess, 1044.9ms inference, 13.8ms postprocess per image at shape (1, 3, 384, 640)\n"
     ]
    },
    {
     "name": "stderr",
     "output_type": "stream",
     "text": [
      "2025-05-30 10:58:50,544 - INFO - Кадр 610\n"
     ]
    },
    {
     "name": "stdout",
     "output_type": "stream",
     "text": [
      "\n",
      "0: 384x640 11 persons, 1268.2ms\n",
      "Speed: 2.7ms preprocess, 1268.2ms inference, 3.1ms postprocess per image at shape (1, 3, 384, 640)\n",
      "\n",
      "0: 384x640 10 persons, 752.6ms\n",
      "Speed: 2.4ms preprocess, 752.6ms inference, 2.3ms postprocess per image at shape (1, 3, 384, 640)\n"
     ]
    },
    {
     "name": "stderr",
     "output_type": "stream",
     "text": [
      "2025-05-30 10:58:52,830 - INFO - Кадр 611\n"
     ]
    },
    {
     "name": "stdout",
     "output_type": "stream",
     "text": [
      "\n",
      "0: 384x640 12 persons, 901.9ms\n",
      "Speed: 2.6ms preprocess, 901.9ms inference, 2.4ms postprocess per image at shape (1, 3, 384, 640)\n",
      "\n",
      "0: 384x640 10 persons, 836.6ms\n",
      "Speed: 2.8ms preprocess, 836.6ms inference, 2.6ms postprocess per image at shape (1, 3, 384, 640)\n"
     ]
    },
    {
     "name": "stderr",
     "output_type": "stream",
     "text": [
      "2025-05-30 10:58:54,807 - INFO - Кадр 612\n"
     ]
    },
    {
     "name": "stdout",
     "output_type": "stream",
     "text": [
      "\n",
      "0: 384x640 12 persons, 1076.5ms\n",
      "Speed: 6.9ms preprocess, 1076.5ms inference, 3.0ms postprocess per image at shape (1, 3, 384, 640)\n",
      "\n",
      "0: 384x640 10 persons, 966.6ms\n",
      "Speed: 3.0ms preprocess, 966.6ms inference, 2.4ms postprocess per image at shape (1, 3, 384, 640)\n"
     ]
    },
    {
     "name": "stderr",
     "output_type": "stream",
     "text": [
      "2025-05-30 10:58:57,108 - INFO - Кадр 613\n"
     ]
    },
    {
     "name": "stdout",
     "output_type": "stream",
     "text": [
      "\n",
      "0: 384x640 12 persons, 1080.7ms\n",
      "Speed: 2.8ms preprocess, 1080.7ms inference, 2.8ms postprocess per image at shape (1, 3, 384, 640)\n",
      "\n",
      "0: 384x640 11 persons, 1075.1ms\n",
      "Speed: 2.2ms preprocess, 1075.1ms inference, 3.2ms postprocess per image at shape (1, 3, 384, 640)\n"
     ]
    },
    {
     "name": "stderr",
     "output_type": "stream",
     "text": [
      "2025-05-30 10:58:59,493 - INFO - Кадр 614\n"
     ]
    },
    {
     "name": "stdout",
     "output_type": "stream",
     "text": [
      "\n",
      "0: 384x640 12 persons, 1047.5ms\n",
      "Speed: 2.4ms preprocess, 1047.5ms inference, 3.3ms postprocess per image at shape (1, 3, 384, 640)\n",
      "\n",
      "0: 384x640 11 persons, 864.1ms\n",
      "Speed: 2.4ms preprocess, 864.1ms inference, 2.3ms postprocess per image at shape (1, 3, 384, 640)\n"
     ]
    },
    {
     "name": "stderr",
     "output_type": "stream",
     "text": [
      "2025-05-30 10:59:01,639 - INFO - Кадр 615\n"
     ]
    },
    {
     "name": "stdout",
     "output_type": "stream",
     "text": [
      "\n",
      "0: 384x640 12 persons, 864.0ms\n",
      "Speed: 2.4ms preprocess, 864.0ms inference, 3.0ms postprocess per image at shape (1, 3, 384, 640)\n",
      "\n",
      "0: 384x640 11 persons, 1132.7ms\n",
      "Speed: 2.2ms preprocess, 1132.7ms inference, 3.1ms postprocess per image at shape (1, 3, 384, 640)\n"
     ]
    },
    {
     "name": "stderr",
     "output_type": "stream",
     "text": [
      "2025-05-30 10:59:03,879 - INFO - Кадр 616\n"
     ]
    },
    {
     "name": "stdout",
     "output_type": "stream",
     "text": [
      "\n",
      "0: 384x640 12 persons, 1010.8ms\n",
      "Speed: 2.4ms preprocess, 1010.8ms inference, 3.1ms postprocess per image at shape (1, 3, 384, 640)\n",
      "\n",
      "0: 384x640 11 persons, 929.1ms\n",
      "Speed: 2.2ms preprocess, 929.1ms inference, 2.6ms postprocess per image at shape (1, 3, 384, 640)\n"
     ]
    },
    {
     "name": "stderr",
     "output_type": "stream",
     "text": [
      "2025-05-30 10:59:06,091 - INFO - Кадр 617\n"
     ]
    },
    {
     "name": "stdout",
     "output_type": "stream",
     "text": [
      "\n",
      "0: 384x640 12 persons, 1214.7ms\n",
      "Speed: 2.7ms preprocess, 1214.7ms inference, 3.2ms postprocess per image at shape (1, 3, 384, 640)\n",
      "\n",
      "0: 384x640 11 persons, 928.2ms\n",
      "Speed: 3.2ms preprocess, 928.2ms inference, 3.8ms postprocess per image at shape (1, 3, 384, 640)\n"
     ]
    },
    {
     "name": "stderr",
     "output_type": "stream",
     "text": [
      "2025-05-30 10:59:08,494 - INFO - Кадр 618\n"
     ]
    },
    {
     "name": "stdout",
     "output_type": "stream",
     "text": [
      "\n",
      "0: 384x640 12 persons, 1161.5ms\n",
      "Speed: 3.3ms preprocess, 1161.5ms inference, 2.5ms postprocess per image at shape (1, 3, 384, 640)\n",
      "\n",
      "0: 384x640 11 persons, 760.3ms\n",
      "Speed: 2.3ms preprocess, 760.3ms inference, 2.3ms postprocess per image at shape (1, 3, 384, 640)\n"
     ]
    },
    {
     "name": "stderr",
     "output_type": "stream",
     "text": [
      "2025-05-30 10:59:10,643 - INFO - Кадр 619\n"
     ]
    },
    {
     "name": "stdout",
     "output_type": "stream",
     "text": [
      "\n",
      "0: 384x640 12 persons, 961.5ms\n",
      "Speed: 2.8ms preprocess, 961.5ms inference, 4.2ms postprocess per image at shape (1, 3, 384, 640)\n",
      "\n",
      "0: 384x640 11 persons, 827.5ms\n",
      "Speed: 2.9ms preprocess, 827.5ms inference, 2.7ms postprocess per image at shape (1, 3, 384, 640)\n"
     ]
    },
    {
     "name": "stderr",
     "output_type": "stream",
     "text": [
      "2025-05-30 10:59:12,687 - INFO - Кадр 620\n"
     ]
    },
    {
     "name": "stdout",
     "output_type": "stream",
     "text": [
      "\n",
      "0: 384x640 12 persons, 878.7ms\n",
      "Speed: 2.4ms preprocess, 878.7ms inference, 2.8ms postprocess per image at shape (1, 3, 384, 640)\n",
      "\n",
      "0: 384x640 11 persons, 725.5ms\n",
      "Speed: 2.3ms preprocess, 725.5ms inference, 2.6ms postprocess per image at shape (1, 3, 384, 640)\n"
     ]
    },
    {
     "name": "stderr",
     "output_type": "stream",
     "text": [
      "2025-05-30 10:59:14,538 - INFO - Кадр 621\n"
     ]
    },
    {
     "name": "stdout",
     "output_type": "stream",
     "text": [
      "\n",
      "0: 384x640 12 persons, 847.8ms\n",
      "Speed: 2.9ms preprocess, 847.8ms inference, 2.8ms postprocess per image at shape (1, 3, 384, 640)\n",
      "\n",
      "0: 384x640 11 persons, 704.6ms\n",
      "Speed: 2.2ms preprocess, 704.6ms inference, 2.4ms postprocess per image at shape (1, 3, 384, 640)\n"
     ]
    },
    {
     "name": "stderr",
     "output_type": "stream",
     "text": [
      "2025-05-30 10:59:16,323 - INFO - Кадр 622\n"
     ]
    },
    {
     "name": "stdout",
     "output_type": "stream",
     "text": [
      "\n",
      "0: 384x640 12 persons, 886.9ms\n",
      "Speed: 2.5ms preprocess, 886.9ms inference, 2.6ms postprocess per image at shape (1, 3, 384, 640)\n",
      "\n",
      "0: 384x640 11 persons, 709.3ms\n",
      "Speed: 2.4ms preprocess, 709.3ms inference, 2.4ms postprocess per image at shape (1, 3, 384, 640)\n"
     ]
    },
    {
     "name": "stderr",
     "output_type": "stream",
     "text": [
      "2025-05-30 10:59:18,157 - INFO - Кадр 623\n"
     ]
    },
    {
     "name": "stdout",
     "output_type": "stream",
     "text": [
      "\n",
      "0: 384x640 12 persons, 816.4ms\n",
      "Speed: 2.5ms preprocess, 816.4ms inference, 2.8ms postprocess per image at shape (1, 3, 384, 640)\n",
      "\n",
      "0: 384x640 11 persons, 706.3ms\n",
      "Speed: 2.3ms preprocess, 706.3ms inference, 2.3ms postprocess per image at shape (1, 3, 384, 640)\n"
     ]
    },
    {
     "name": "stderr",
     "output_type": "stream",
     "text": [
      "2025-05-30 10:59:19,900 - INFO - Кадр 624\n"
     ]
    },
    {
     "name": "stdout",
     "output_type": "stream",
     "text": [
      "\n",
      "0: 384x640 12 persons, 833.5ms\n",
      "Speed: 2.4ms preprocess, 833.5ms inference, 2.5ms postprocess per image at shape (1, 3, 384, 640)\n",
      "\n",
      "0: 384x640 11 persons, 727.6ms\n",
      "Speed: 2.3ms preprocess, 727.6ms inference, 2.4ms postprocess per image at shape (1, 3, 384, 640)\n"
     ]
    },
    {
     "name": "stderr",
     "output_type": "stream",
     "text": [
      "2025-05-30 10:59:21,701 - INFO - Кадр 625\n"
     ]
    },
    {
     "name": "stdout",
     "output_type": "stream",
     "text": [
      "\n",
      "0: 384x640 12 persons, 880.4ms\n",
      "Speed: 5.5ms preprocess, 880.4ms inference, 2.7ms postprocess per image at shape (1, 3, 384, 640)\n",
      "\n",
      "0: 384x640 10 persons, 703.9ms\n",
      "Speed: 2.1ms preprocess, 703.9ms inference, 2.5ms postprocess per image at shape (1, 3, 384, 640)\n"
     ]
    },
    {
     "name": "stderr",
     "output_type": "stream",
     "text": [
      "2025-05-30 10:59:23,510 - INFO - Кадр 626\n"
     ]
    },
    {
     "name": "stdout",
     "output_type": "stream",
     "text": [
      "\n",
      "0: 384x640 12 persons, 810.1ms\n",
      "Speed: 2.4ms preprocess, 810.1ms inference, 2.5ms postprocess per image at shape (1, 3, 384, 640)\n",
      "\n",
      "0: 384x640 9 persons, 717.5ms\n",
      "Speed: 2.4ms preprocess, 717.5ms inference, 2.4ms postprocess per image at shape (1, 3, 384, 640)\n"
     ]
    },
    {
     "name": "stderr",
     "output_type": "stream",
     "text": [
      "2025-05-30 10:59:25,263 - INFO - Кадр 627\n"
     ]
    },
    {
     "name": "stdout",
     "output_type": "stream",
     "text": [
      "\n",
      "0: 384x640 12 persons, 835.6ms\n",
      "Speed: 2.8ms preprocess, 835.6ms inference, 2.8ms postprocess per image at shape (1, 3, 384, 640)\n",
      "\n",
      "0: 384x640 10 persons, 719.4ms\n",
      "Speed: 2.9ms preprocess, 719.4ms inference, 2.3ms postprocess per image at shape (1, 3, 384, 640)\n"
     ]
    },
    {
     "name": "stderr",
     "output_type": "stream",
     "text": [
      "2025-05-30 10:59:27,049 - INFO - Кадр 628\n"
     ]
    },
    {
     "name": "stdout",
     "output_type": "stream",
     "text": [
      "\n",
      "0: 384x640 13 persons, 838.0ms\n",
      "Speed: 4.5ms preprocess, 838.0ms inference, 2.7ms postprocess per image at shape (1, 3, 384, 640)\n",
      "\n",
      "0: 384x640 10 persons, 722.2ms\n",
      "Speed: 2.3ms preprocess, 722.2ms inference, 2.4ms postprocess per image at shape (1, 3, 384, 640)\n"
     ]
    },
    {
     "name": "stderr",
     "output_type": "stream",
     "text": [
      "2025-05-30 10:59:28,852 - INFO - Кадр 629\n"
     ]
    },
    {
     "name": "stdout",
     "output_type": "stream",
     "text": [
      "\n",
      "0: 384x640 13 persons, 815.2ms\n",
      "Speed: 2.5ms preprocess, 815.2ms inference, 2.6ms postprocess per image at shape (1, 3, 384, 640)\n",
      "\n",
      "0: 384x640 11 persons, 698.6ms\n",
      "Speed: 2.3ms preprocess, 698.6ms inference, 2.3ms postprocess per image at shape (1, 3, 384, 640)\n"
     ]
    },
    {
     "name": "stderr",
     "output_type": "stream",
     "text": [
      "2025-05-30 10:59:30,603 - INFO - Кадр 630\n"
     ]
    },
    {
     "name": "stdout",
     "output_type": "stream",
     "text": [
      "\n",
      "0: 384x640 13 persons, 799.6ms\n",
      "Speed: 2.4ms preprocess, 799.6ms inference, 2.4ms postprocess per image at shape (1, 3, 384, 640)\n",
      "\n",
      "0: 384x640 12 persons, 811.5ms\n",
      "Speed: 2.3ms preprocess, 811.5ms inference, 2.3ms postprocess per image at shape (1, 3, 384, 640)\n"
     ]
    },
    {
     "name": "stderr",
     "output_type": "stream",
     "text": [
      "2025-05-30 10:59:32,441 - INFO - Кадр 631\n"
     ]
    },
    {
     "name": "stdout",
     "output_type": "stream",
     "text": [
      "\n",
      "0: 384x640 12 persons, 835.5ms\n",
      "Speed: 2.3ms preprocess, 835.5ms inference, 2.9ms postprocess per image at shape (1, 3, 384, 640)\n",
      "\n",
      "0: 384x640 12 persons, 740.3ms\n",
      "Speed: 2.3ms preprocess, 740.3ms inference, 2.3ms postprocess per image at shape (1, 3, 384, 640)\n"
     ]
    },
    {
     "name": "stderr",
     "output_type": "stream",
     "text": [
      "2025-05-30 10:59:34,237 - INFO - Кадр 632\n"
     ]
    },
    {
     "name": "stdout",
     "output_type": "stream",
     "text": [
      "\n",
      "0: 384x640 12 persons, 869.3ms\n",
      "Speed: 2.2ms preprocess, 869.3ms inference, 2.9ms postprocess per image at shape (1, 3, 384, 640)\n",
      "\n",
      "0: 384x640 12 persons, 763.8ms\n",
      "Speed: 2.1ms preprocess, 763.8ms inference, 2.5ms postprocess per image at shape (1, 3, 384, 640)\n"
     ]
    },
    {
     "name": "stderr",
     "output_type": "stream",
     "text": [
      "2025-05-30 10:59:36,096 - INFO - Кадр 633\n"
     ]
    },
    {
     "name": "stdout",
     "output_type": "stream",
     "text": [
      "\n",
      "0: 384x640 12 persons, 833.7ms\n",
      "Speed: 2.6ms preprocess, 833.7ms inference, 2.7ms postprocess per image at shape (1, 3, 384, 640)\n",
      "\n",
      "0: 384x640 11 persons, 850.5ms\n",
      "Speed: 2.2ms preprocess, 850.5ms inference, 2.3ms postprocess per image at shape (1, 3, 384, 640)\n"
     ]
    },
    {
     "name": "stderr",
     "output_type": "stream",
     "text": [
      "2025-05-30 10:59:38,008 - INFO - Кадр 634\n"
     ]
    },
    {
     "name": "stdout",
     "output_type": "stream",
     "text": [
      "\n",
      "0: 384x640 12 persons, 847.7ms\n",
      "Speed: 3.4ms preprocess, 847.7ms inference, 2.7ms postprocess per image at shape (1, 3, 384, 640)\n",
      "\n",
      "0: 384x640 11 persons, 724.6ms\n",
      "Speed: 2.1ms preprocess, 724.6ms inference, 2.4ms postprocess per image at shape (1, 3, 384, 640)\n"
     ]
    },
    {
     "name": "stderr",
     "output_type": "stream",
     "text": [
      "2025-05-30 10:59:39,817 - INFO - Кадр 635\n"
     ]
    },
    {
     "name": "stdout",
     "output_type": "stream",
     "text": [
      "\n",
      "0: 384x640 11 persons, 824.2ms\n",
      "Speed: 2.7ms preprocess, 824.2ms inference, 2.5ms postprocess per image at shape (1, 3, 384, 640)\n",
      "\n",
      "0: 384x640 11 persons, 745.3ms\n",
      "Speed: 2.0ms preprocess, 745.3ms inference, 2.4ms postprocess per image at shape (1, 3, 384, 640)\n"
     ]
    },
    {
     "name": "stderr",
     "output_type": "stream",
     "text": [
      "2025-05-30 10:59:41,610 - INFO - Кадр 636\n"
     ]
    },
    {
     "name": "stdout",
     "output_type": "stream",
     "text": [
      "\n",
      "0: 384x640 12 persons, 810.0ms\n",
      "Speed: 2.6ms preprocess, 810.0ms inference, 2.5ms postprocess per image at shape (1, 3, 384, 640)\n",
      "\n",
      "0: 384x640 11 persons, 823.6ms\n",
      "Speed: 2.2ms preprocess, 823.6ms inference, 2.7ms postprocess per image at shape (1, 3, 384, 640)\n"
     ]
    },
    {
     "name": "stderr",
     "output_type": "stream",
     "text": [
      "2025-05-30 10:59:43,477 - INFO - Кадр 637\n"
     ]
    },
    {
     "name": "stdout",
     "output_type": "stream",
     "text": [
      "\n",
      "0: 384x640 13 persons, 839.5ms\n",
      "Speed: 2.5ms preprocess, 839.5ms inference, 2.6ms postprocess per image at shape (1, 3, 384, 640)\n",
      "\n",
      "0: 384x640 10 persons, 723.4ms\n",
      "Speed: 2.2ms preprocess, 723.4ms inference, 2.5ms postprocess per image at shape (1, 3, 384, 640)\n"
     ]
    },
    {
     "name": "stderr",
     "output_type": "stream",
     "text": [
      "2025-05-30 10:59:45,249 - INFO - Кадр 638\n"
     ]
    },
    {
     "name": "stdout",
     "output_type": "stream",
     "text": [
      "\n",
      "0: 384x640 13 persons, 816.6ms\n",
      "Speed: 2.4ms preprocess, 816.6ms inference, 2.7ms postprocess per image at shape (1, 3, 384, 640)\n",
      "\n",
      "0: 384x640 10 persons, 717.5ms\n",
      "Speed: 2.1ms preprocess, 717.5ms inference, 2.3ms postprocess per image at shape (1, 3, 384, 640)\n"
     ]
    },
    {
     "name": "stderr",
     "output_type": "stream",
     "text": [
      "2025-05-30 10:59:47,016 - INFO - Кадр 639\n"
     ]
    },
    {
     "name": "stdout",
     "output_type": "stream",
     "text": [
      "\n",
      "0: 384x640 12 persons, 867.5ms\n",
      "Speed: 2.4ms preprocess, 867.5ms inference, 2.5ms postprocess per image at shape (1, 3, 384, 640)\n",
      "\n",
      "0: 384x640 10 persons, 717.1ms\n",
      "Speed: 3.1ms preprocess, 717.1ms inference, 2.4ms postprocess per image at shape (1, 3, 384, 640)\n"
     ]
    },
    {
     "name": "stderr",
     "output_type": "stream",
     "text": [
      "2025-05-30 10:59:48,828 - INFO - Кадр 640\n"
     ]
    },
    {
     "name": "stdout",
     "output_type": "stream",
     "text": [
      "\n",
      "0: 384x640 11 persons, 827.3ms\n",
      "Speed: 2.5ms preprocess, 827.3ms inference, 2.5ms postprocess per image at shape (1, 3, 384, 640)\n",
      "\n",
      "0: 384x640 10 persons, 743.0ms\n",
      "Speed: 2.4ms preprocess, 743.0ms inference, 2.4ms postprocess per image at shape (1, 3, 384, 640)\n"
     ]
    },
    {
     "name": "stderr",
     "output_type": "stream",
     "text": [
      "2025-05-30 10:59:50,633 - INFO - Кадр 641\n"
     ]
    },
    {
     "name": "stdout",
     "output_type": "stream",
     "text": [
      "\n",
      "0: 384x640 12 persons, 799.8ms\n",
      "Speed: 2.5ms preprocess, 799.8ms inference, 2.4ms postprocess per image at shape (1, 3, 384, 640)\n",
      "\n",
      "0: 384x640 11 persons, 704.5ms\n",
      "Speed: 2.3ms preprocess, 704.5ms inference, 2.4ms postprocess per image at shape (1, 3, 384, 640)\n"
     ]
    },
    {
     "name": "stderr",
     "output_type": "stream",
     "text": [
      "2025-05-30 10:59:52,361 - INFO - Кадр 642\n"
     ]
    },
    {
     "name": "stdout",
     "output_type": "stream",
     "text": [
      "\n",
      "0: 384x640 11 persons, 955.4ms\n",
      "Speed: 2.5ms preprocess, 955.4ms inference, 3.0ms postprocess per image at shape (1, 3, 384, 640)\n",
      "\n",
      "0: 384x640 11 persons, 743.4ms\n",
      "Speed: 2.7ms preprocess, 743.4ms inference, 2.3ms postprocess per image at shape (1, 3, 384, 640)\n"
     ]
    },
    {
     "name": "stderr",
     "output_type": "stream",
     "text": [
      "2025-05-30 10:59:54,301 - INFO - Кадр 643\n"
     ]
    },
    {
     "name": "stdout",
     "output_type": "stream",
     "text": [
      "\n",
      "0: 384x640 12 persons, 879.4ms\n",
      "Speed: 2.8ms preprocess, 879.4ms inference, 2.6ms postprocess per image at shape (1, 3, 384, 640)\n",
      "\n",
      "0: 384x640 11 persons, 728.1ms\n",
      "Speed: 2.2ms preprocess, 728.1ms inference, 2.7ms postprocess per image at shape (1, 3, 384, 640)\n"
     ]
    },
    {
     "name": "stderr",
     "output_type": "stream",
     "text": [
      "2025-05-30 10:59:56,136 - INFO - Кадр 644\n"
     ]
    },
    {
     "name": "stdout",
     "output_type": "stream",
     "text": [
      "\n",
      "0: 384x640 13 persons, 836.0ms\n",
      "Speed: 2.5ms preprocess, 836.0ms inference, 2.8ms postprocess per image at shape (1, 3, 384, 640)\n",
      "\n",
      "0: 384x640 11 persons, 720.5ms\n",
      "Speed: 2.9ms preprocess, 720.5ms inference, 2.5ms postprocess per image at shape (1, 3, 384, 640)\n"
     ]
    },
    {
     "name": "stderr",
     "output_type": "stream",
     "text": [
      "2025-05-30 10:59:57,929 - INFO - Кадр 645\n"
     ]
    },
    {
     "name": "stdout",
     "output_type": "stream",
     "text": [
      "\n",
      "0: 384x640 13 persons, 919.5ms\n",
      "Speed: 2.2ms preprocess, 919.5ms inference, 2.6ms postprocess per image at shape (1, 3, 384, 640)\n",
      "\n",
      "0: 384x640 11 persons, 722.0ms\n",
      "Speed: 2.3ms preprocess, 722.0ms inference, 2.3ms postprocess per image at shape (1, 3, 384, 640)\n"
     ]
    },
    {
     "name": "stderr",
     "output_type": "stream",
     "text": [
      "2025-05-30 10:59:59,794 - INFO - Кадр 646\n"
     ]
    },
    {
     "name": "stdout",
     "output_type": "stream",
     "text": [
      "\n",
      "0: 384x640 14 persons, 854.0ms\n",
      "Speed: 2.2ms preprocess, 854.0ms inference, 2.9ms postprocess per image at shape (1, 3, 384, 640)\n",
      "\n",
      "0: 384x640 11 persons, 720.8ms\n",
      "Speed: 2.0ms preprocess, 720.8ms inference, 2.2ms postprocess per image at shape (1, 3, 384, 640)\n"
     ]
    },
    {
     "name": "stderr",
     "output_type": "stream",
     "text": [
      "2025-05-30 11:00:01,594 - INFO - Кадр 647\n"
     ]
    },
    {
     "name": "stdout",
     "output_type": "stream",
     "text": [
      "\n",
      "0: 384x640 14 persons, 896.4ms\n",
      "Speed: 2.6ms preprocess, 896.4ms inference, 2.9ms postprocess per image at shape (1, 3, 384, 640)\n",
      "\n",
      "0: 384x640 11 persons, 741.7ms\n",
      "Speed: 2.4ms preprocess, 741.7ms inference, 2.4ms postprocess per image at shape (1, 3, 384, 640)\n"
     ]
    },
    {
     "name": "stderr",
     "output_type": "stream",
     "text": [
      "2025-05-30 11:00:03,483 - INFO - Кадр 648\n"
     ]
    },
    {
     "name": "stdout",
     "output_type": "stream",
     "text": [
      "\n",
      "0: 384x640 14 persons, 896.5ms\n",
      "Speed: 18.7ms preprocess, 896.5ms inference, 3.0ms postprocess per image at shape (1, 3, 384, 640)\n",
      "\n",
      "0: 384x640 11 persons, 747.8ms\n",
      "Speed: 2.4ms preprocess, 747.8ms inference, 2.4ms postprocess per image at shape (1, 3, 384, 640)\n"
     ]
    },
    {
     "name": "stderr",
     "output_type": "stream",
     "text": [
      "2025-05-30 11:00:05,446 - INFO - Кадр 649\n"
     ]
    },
    {
     "name": "stdout",
     "output_type": "stream",
     "text": [
      "\n",
      "0: 384x640 14 persons, 843.0ms\n",
      "Speed: 2.4ms preprocess, 843.0ms inference, 2.7ms postprocess per image at shape (1, 3, 384, 640)\n",
      "\n",
      "0: 384x640 10 persons, 734.9ms\n",
      "Speed: 2.4ms preprocess, 734.9ms inference, 2.4ms postprocess per image at shape (1, 3, 384, 640)\n"
     ]
    },
    {
     "name": "stderr",
     "output_type": "stream",
     "text": [
      "2025-05-30 11:00:07,251 - INFO - Кадр 650\n"
     ]
    },
    {
     "name": "stdout",
     "output_type": "stream",
     "text": [
      "\n",
      "0: 384x640 14 persons, 854.3ms\n",
      "Speed: 2.4ms preprocess, 854.3ms inference, 2.6ms postprocess per image at shape (1, 3, 384, 640)\n",
      "\n",
      "0: 384x640 10 persons, 805.0ms\n",
      "Speed: 2.1ms preprocess, 805.0ms inference, 2.5ms postprocess per image at shape (1, 3, 384, 640)\n"
     ]
    },
    {
     "name": "stderr",
     "output_type": "stream",
     "text": [
      "2025-05-30 11:00:09,146 - INFO - Кадр 651\n"
     ]
    },
    {
     "name": "stdout",
     "output_type": "stream",
     "text": [
      "\n",
      "0: 384x640 14 persons, 913.3ms\n",
      "Speed: 2.6ms preprocess, 913.3ms inference, 2.6ms postprocess per image at shape (1, 3, 384, 640)\n",
      "\n",
      "0: 384x640 10 persons, 733.6ms\n",
      "Speed: 2.3ms preprocess, 733.6ms inference, 2.4ms postprocess per image at shape (1, 3, 384, 640)\n"
     ]
    },
    {
     "name": "stderr",
     "output_type": "stream",
     "text": [
      "2025-05-30 11:00:11,016 - INFO - Кадр 652\n"
     ]
    },
    {
     "name": "stdout",
     "output_type": "stream",
     "text": [
      "\n",
      "0: 384x640 13 persons, 822.7ms\n",
      "Speed: 2.8ms preprocess, 822.7ms inference, 2.6ms postprocess per image at shape (1, 3, 384, 640)\n",
      "\n",
      "0: 384x640 10 persons, 739.5ms\n",
      "Speed: 2.2ms preprocess, 739.5ms inference, 2.4ms postprocess per image at shape (1, 3, 384, 640)\n"
     ]
    },
    {
     "name": "stderr",
     "output_type": "stream",
     "text": [
      "2025-05-30 11:00:12,799 - INFO - Кадр 653\n"
     ]
    },
    {
     "name": "stdout",
     "output_type": "stream",
     "text": [
      "\n",
      "0: 384x640 13 persons, 860.9ms\n",
      "Speed: 2.2ms preprocess, 860.9ms inference, 2.7ms postprocess per image at shape (1, 3, 384, 640)\n",
      "\n",
      "0: 384x640 11 persons, 826.6ms\n",
      "Speed: 2.1ms preprocess, 826.6ms inference, 2.3ms postprocess per image at shape (1, 3, 384, 640)\n"
     ]
    },
    {
     "name": "stderr",
     "output_type": "stream",
     "text": [
      "2025-05-30 11:00:14,702 - INFO - Кадр 654\n"
     ]
    },
    {
     "name": "stdout",
     "output_type": "stream",
     "text": [
      "\n",
      "0: 384x640 13 persons, 890.3ms\n",
      "Speed: 2.3ms preprocess, 890.3ms inference, 2.9ms postprocess per image at shape (1, 3, 384, 640)\n",
      "\n",
      "0: 384x640 10 persons, 732.7ms\n",
      "Speed: 2.4ms preprocess, 732.7ms inference, 2.5ms postprocess per image at shape (1, 3, 384, 640)\n"
     ]
    },
    {
     "name": "stderr",
     "output_type": "stream",
     "text": [
      "2025-05-30 11:00:16,560 - INFO - Кадр 655\n"
     ]
    },
    {
     "name": "stdout",
     "output_type": "stream",
     "text": [
      "\n",
      "0: 384x640 13 persons, 837.9ms\n",
      "Speed: 2.7ms preprocess, 837.9ms inference, 3.0ms postprocess per image at shape (1, 3, 384, 640)\n",
      "\n",
      "0: 384x640 10 persons, 718.7ms\n",
      "Speed: 2.1ms preprocess, 718.7ms inference, 2.5ms postprocess per image at shape (1, 3, 384, 640)\n"
     ]
    },
    {
     "name": "stderr",
     "output_type": "stream",
     "text": [
      "2025-05-30 11:00:18,354 - INFO - Кадр 656\n"
     ]
    },
    {
     "name": "stdout",
     "output_type": "stream",
     "text": [
      "\n",
      "0: 384x640 13 persons, 874.3ms\n",
      "Speed: 2.4ms preprocess, 874.3ms inference, 3.7ms postprocess per image at shape (1, 3, 384, 640)\n",
      "\n",
      "0: 384x640 10 persons, 754.4ms\n",
      "Speed: 3.0ms preprocess, 754.4ms inference, 2.8ms postprocess per image at shape (1, 3, 384, 640)\n"
     ]
    },
    {
     "name": "stderr",
     "output_type": "stream",
     "text": [
      "2025-05-30 11:00:20,235 - INFO - Кадр 657\n"
     ]
    },
    {
     "name": "stdout",
     "output_type": "stream",
     "text": [
      "\n",
      "0: 384x640 14 persons, 1161.6ms\n",
      "Speed: 2.7ms preprocess, 1161.6ms inference, 4.1ms postprocess per image at shape (1, 3, 384, 640)\n",
      "\n",
      "0: 384x640 11 persons, 997.6ms\n",
      "Speed: 2.3ms preprocess, 997.6ms inference, 3.0ms postprocess per image at shape (1, 3, 384, 640)\n"
     ]
    },
    {
     "name": "stderr",
     "output_type": "stream",
     "text": [
      "2025-05-30 11:00:22,654 - INFO - Кадр 658\n"
     ]
    },
    {
     "name": "stdout",
     "output_type": "stream",
     "text": [
      "\n",
      "0: 384x640 14 persons, 1128.6ms\n",
      "Speed: 2.9ms preprocess, 1128.6ms inference, 3.6ms postprocess per image at shape (1, 3, 384, 640)\n",
      "\n",
      "0: 384x640 10 persons, 986.6ms\n",
      "Speed: 11.6ms preprocess, 986.6ms inference, 2.3ms postprocess per image at shape (1, 3, 384, 640)\n"
     ]
    },
    {
     "name": "stderr",
     "output_type": "stream",
     "text": [
      "2025-05-30 11:00:25,055 - INFO - Кадр 659\n"
     ]
    },
    {
     "name": "stdout",
     "output_type": "stream",
     "text": [
      "\n",
      "0: 384x640 14 persons, 990.6ms\n",
      "Speed: 3.6ms preprocess, 990.6ms inference, 2.9ms postprocess per image at shape (1, 3, 384, 640)\n",
      "\n",
      "0: 384x640 10 persons, 793.0ms\n",
      "Speed: 2.3ms preprocess, 793.0ms inference, 2.3ms postprocess per image at shape (1, 3, 384, 640)\n"
     ]
    },
    {
     "name": "stderr",
     "output_type": "stream",
     "text": [
      "2025-05-30 11:00:27,067 - INFO - Кадр 660\n"
     ]
    },
    {
     "name": "stdout",
     "output_type": "stream",
     "text": [
      "\n",
      "0: 384x640 14 persons, 850.4ms\n",
      "Speed: 2.5ms preprocess, 850.4ms inference, 2.9ms postprocess per image at shape (1, 3, 384, 640)\n",
      "\n",
      "0: 384x640 10 persons, 773.9ms\n",
      "Speed: 2.5ms preprocess, 773.9ms inference, 2.7ms postprocess per image at shape (1, 3, 384, 640)\n"
     ]
    },
    {
     "name": "stderr",
     "output_type": "stream",
     "text": [
      "2025-05-30 11:00:28,924 - INFO - Кадр 661\n"
     ]
    },
    {
     "name": "stdout",
     "output_type": "stream",
     "text": [
      "\n",
      "0: 384x640 14 persons, 986.6ms\n",
      "Speed: 2.5ms preprocess, 986.6ms inference, 3.6ms postprocess per image at shape (1, 3, 384, 640)\n",
      "\n",
      "0: 384x640 10 persons, 1056.9ms\n",
      "Speed: 3.3ms preprocess, 1056.9ms inference, 2.7ms postprocess per image at shape (1, 3, 384, 640)\n"
     ]
    },
    {
     "name": "stderr",
     "output_type": "stream",
     "text": [
      "2025-05-30 11:00:31,223 - INFO - Кадр 662\n"
     ]
    },
    {
     "name": "stdout",
     "output_type": "stream",
     "text": [
      "\n",
      "0: 384x640 14 persons, 1305.7ms\n",
      "Speed: 2.4ms preprocess, 1305.7ms inference, 3.0ms postprocess per image at shape (1, 3, 384, 640)\n",
      "\n",
      "0: 384x640 10 persons, 754.0ms\n",
      "Speed: 3.0ms preprocess, 754.0ms inference, 2.3ms postprocess per image at shape (1, 3, 384, 640)\n"
     ]
    },
    {
     "name": "stderr",
     "output_type": "stream",
     "text": [
      "2025-05-30 11:00:33,529 - INFO - Кадр 663\n"
     ]
    },
    {
     "name": "stdout",
     "output_type": "stream",
     "text": [
      "\n",
      "0: 384x640 14 persons, 976.5ms\n",
      "Speed: 2.4ms preprocess, 976.5ms inference, 2.7ms postprocess per image at shape (1, 3, 384, 640)\n",
      "\n",
      "0: 384x640 10 persons, 1629.8ms\n",
      "Speed: 2.3ms preprocess, 1629.8ms inference, 3.3ms postprocess per image at shape (1, 3, 384, 640)\n"
     ]
    },
    {
     "name": "stderr",
     "output_type": "stream",
     "text": [
      "2025-05-30 11:00:36,391 - INFO - Кадр 664\n"
     ]
    },
    {
     "name": "stdout",
     "output_type": "stream",
     "text": [
      "\n",
      "0: 384x640 14 persons, 1012.6ms\n",
      "Speed: 2.7ms preprocess, 1012.6ms inference, 2.6ms postprocess per image at shape (1, 3, 384, 640)\n",
      "\n",
      "0: 384x640 10 persons, 764.2ms\n",
      "Speed: 2.1ms preprocess, 764.2ms inference, 2.4ms postprocess per image at shape (1, 3, 384, 640)\n"
     ]
    },
    {
     "name": "stderr",
     "output_type": "stream",
     "text": [
      "2025-05-30 11:00:38,394 - INFO - Кадр 665\n"
     ]
    },
    {
     "name": "stdout",
     "output_type": "stream",
     "text": [
      "\n",
      "0: 384x640 14 persons, 1418.6ms\n",
      "Speed: 2.5ms preprocess, 1418.6ms inference, 2.3ms postprocess per image at shape (1, 3, 384, 640)\n",
      "\n",
      "0: 384x640 10 persons, 976.4ms\n",
      "Speed: 2.4ms preprocess, 976.4ms inference, 2.5ms postprocess per image at shape (1, 3, 384, 640)\n"
     ]
    },
    {
     "name": "stderr",
     "output_type": "stream",
     "text": [
      "2025-05-30 11:00:41,027 - INFO - Кадр 666\n"
     ]
    },
    {
     "name": "stdout",
     "output_type": "stream",
     "text": [
      "\n",
      "0: 384x640 14 persons, 1001.1ms\n",
      "Speed: 2.6ms preprocess, 1001.1ms inference, 2.8ms postprocess per image at shape (1, 3, 384, 640)\n",
      "\n",
      "0: 384x640 11 persons, 1385.6ms\n",
      "Speed: 2.8ms preprocess, 1385.6ms inference, 2.7ms postprocess per image at shape (1, 3, 384, 640)\n"
     ]
    },
    {
     "name": "stderr",
     "output_type": "stream",
     "text": [
      "2025-05-30 11:00:43,677 - INFO - Кадр 667\n"
     ]
    },
    {
     "name": "stdout",
     "output_type": "stream",
     "text": [
      "\n",
      "0: 384x640 14 persons, 1551.8ms\n",
      "Speed: 6.5ms preprocess, 1551.8ms inference, 3.0ms postprocess per image at shape (1, 3, 384, 640)\n",
      "\n",
      "0: 384x640 11 persons, 2204.3ms\n",
      "Speed: 2.7ms preprocess, 2204.3ms inference, 2.9ms postprocess per image at shape (1, 3, 384, 640)\n"
     ]
    },
    {
     "name": "stderr",
     "output_type": "stream",
     "text": [
      "2025-05-30 11:00:47,697 - INFO - Кадр 668\n"
     ]
    },
    {
     "name": "stdout",
     "output_type": "stream",
     "text": [
      "\n",
      "0: 384x640 13 persons, 1299.2ms\n",
      "Speed: 2.6ms preprocess, 1299.2ms inference, 2.9ms postprocess per image at shape (1, 3, 384, 640)\n",
      "\n",
      "0: 384x640 11 persons, 1176.1ms\n",
      "Speed: 3.2ms preprocess, 1176.1ms inference, 2.7ms postprocess per image at shape (1, 3, 384, 640)\n"
     ]
    },
    {
     "name": "stderr",
     "output_type": "stream",
     "text": [
      "2025-05-30 11:00:50,442 - INFO - Кадр 669\n"
     ]
    },
    {
     "name": "stdout",
     "output_type": "stream",
     "text": [
      "\n",
      "0: 384x640 13 persons, 1324.9ms\n",
      "Speed: 2.6ms preprocess, 1324.9ms inference, 4.3ms postprocess per image at shape (1, 3, 384, 640)\n",
      "\n",
      "0: 384x640 11 persons, 1072.4ms\n",
      "Speed: 2.2ms preprocess, 1072.4ms inference, 3.0ms postprocess per image at shape (1, 3, 384, 640)\n"
     ]
    },
    {
     "name": "stderr",
     "output_type": "stream",
     "text": [
      "2025-05-30 11:00:53,102 - INFO - Кадр 670\n"
     ]
    },
    {
     "name": "stdout",
     "output_type": "stream",
     "text": [
      "\n",
      "0: 384x640 13 persons, 1331.5ms\n",
      "Speed: 2.5ms preprocess, 1331.5ms inference, 4.7ms postprocess per image at shape (1, 3, 384, 640)\n",
      "\n",
      "0: 384x640 11 persons, 1002.0ms\n",
      "Speed: 2.7ms preprocess, 1002.0ms inference, 2.9ms postprocess per image at shape (1, 3, 384, 640)\n"
     ]
    },
    {
     "name": "stderr",
     "output_type": "stream",
     "text": [
      "2025-05-30 11:00:55,693 - INFO - Кадр 671\n"
     ]
    },
    {
     "name": "stdout",
     "output_type": "stream",
     "text": [
      "\n",
      "0: 384x640 13 persons, 1264.2ms\n",
      "Speed: 2.9ms preprocess, 1264.2ms inference, 3.4ms postprocess per image at shape (1, 3, 384, 640)\n",
      "\n",
      "0: 384x640 10 persons, 949.6ms\n",
      "Speed: 2.2ms preprocess, 949.6ms inference, 3.5ms postprocess per image at shape (1, 3, 384, 640)\n"
     ]
    },
    {
     "name": "stderr",
     "output_type": "stream",
     "text": [
      "2025-05-30 11:00:58,154 - INFO - Кадр 672\n"
     ]
    },
    {
     "name": "stdout",
     "output_type": "stream",
     "text": [
      "\n",
      "0: 384x640 12 persons, 1219.4ms\n",
      "Speed: 3.3ms preprocess, 1219.4ms inference, 3.1ms postprocess per image at shape (1, 3, 384, 640)\n",
      "\n",
      "0: 384x640 11 persons, 1240.9ms\n",
      "Speed: 2.7ms preprocess, 1240.9ms inference, 3.2ms postprocess per image at shape (1, 3, 384, 640)\n"
     ]
    },
    {
     "name": "stderr",
     "output_type": "stream",
     "text": [
      "2025-05-30 11:01:00,876 - INFO - Кадр 673\n"
     ]
    },
    {
     "name": "stdout",
     "output_type": "stream",
     "text": [
      "\n",
      "0: 384x640 12 persons, 1207.8ms\n",
      "Speed: 2.3ms preprocess, 1207.8ms inference, 3.1ms postprocess per image at shape (1, 3, 384, 640)\n",
      "\n",
      "0: 384x640 11 persons, 1079.8ms\n",
      "Speed: 2.1ms preprocess, 1079.8ms inference, 2.9ms postprocess per image at shape (1, 3, 384, 640)\n"
     ]
    },
    {
     "name": "stderr",
     "output_type": "stream",
     "text": [
      "2025-05-30 11:01:03,408 - INFO - Кадр 674\n"
     ]
    },
    {
     "name": "stdout",
     "output_type": "stream",
     "text": [
      "\n",
      "0: 384x640 12 persons, 1468.2ms\n",
      "Speed: 2.3ms preprocess, 1468.2ms inference, 3.9ms postprocess per image at shape (1, 3, 384, 640)\n",
      "\n",
      "0: 384x640 10 persons, 1015.5ms\n",
      "Speed: 2.3ms preprocess, 1015.5ms inference, 2.9ms postprocess per image at shape (1, 3, 384, 640)\n"
     ]
    },
    {
     "name": "stderr",
     "output_type": "stream",
     "text": [
      "2025-05-30 11:01:06,145 - INFO - Кадр 675\n"
     ]
    },
    {
     "name": "stdout",
     "output_type": "stream",
     "text": [
      "\n",
      "0: 384x640 12 persons, 1193.9ms\n",
      "Speed: 2.8ms preprocess, 1193.9ms inference, 3.4ms postprocess per image at shape (1, 3, 384, 640)\n",
      "\n",
      "0: 384x640 10 persons, 921.1ms\n",
      "Speed: 2.5ms preprocess, 921.1ms inference, 3.0ms postprocess per image at shape (1, 3, 384, 640)\n"
     ]
    },
    {
     "name": "stderr",
     "output_type": "stream",
     "text": [
      "2025-05-30 11:01:08,512 - INFO - Кадр 676\n"
     ]
    },
    {
     "name": "stdout",
     "output_type": "stream",
     "text": [
      "\n",
      "0: 384x640 12 persons, 1104.5ms\n",
      "Speed: 2.9ms preprocess, 1104.5ms inference, 3.1ms postprocess per image at shape (1, 3, 384, 640)\n",
      "\n",
      "0: 384x640 10 persons, 914.0ms\n",
      "Speed: 2.4ms preprocess, 914.0ms inference, 2.8ms postprocess per image at shape (1, 3, 384, 640)\n"
     ]
    },
    {
     "name": "stderr",
     "output_type": "stream",
     "text": [
      "2025-05-30 11:01:10,784 - INFO - Кадр 677\n"
     ]
    },
    {
     "name": "stdout",
     "output_type": "stream",
     "text": [
      "\n",
      "0: 384x640 12 persons, 1073.6ms\n",
      "Speed: 2.8ms preprocess, 1073.6ms inference, 2.9ms postprocess per image at shape (1, 3, 384, 640)\n",
      "\n",
      "0: 384x640 10 persons, 985.5ms\n",
      "Speed: 4.9ms preprocess, 985.5ms inference, 3.1ms postprocess per image at shape (1, 3, 384, 640)\n"
     ]
    },
    {
     "name": "stderr",
     "output_type": "stream",
     "text": [
      "2025-05-30 11:01:13,091 - INFO - Кадр 678\n"
     ]
    },
    {
     "name": "stdout",
     "output_type": "stream",
     "text": [
      "\n",
      "0: 384x640 13 persons, 1091.4ms\n",
      "Speed: 2.6ms preprocess, 1091.4ms inference, 2.8ms postprocess per image at shape (1, 3, 384, 640)\n",
      "\n",
      "0: 384x640 11 persons, 1077.8ms\n",
      "Speed: 5.1ms preprocess, 1077.8ms inference, 2.6ms postprocess per image at shape (1, 3, 384, 640)\n"
     ]
    },
    {
     "name": "stderr",
     "output_type": "stream",
     "text": [
      "2025-05-30 11:01:15,503 - INFO - Кадр 679\n"
     ]
    },
    {
     "name": "stdout",
     "output_type": "stream",
     "text": [
      "\n",
      "0: 384x640 14 persons, 1138.0ms\n",
      "Speed: 2.7ms preprocess, 1138.0ms inference, 3.1ms postprocess per image at shape (1, 3, 384, 640)\n",
      "\n",
      "0: 384x640 11 persons, 1037.1ms\n",
      "Speed: 2.5ms preprocess, 1037.1ms inference, 2.8ms postprocess per image at shape (1, 3, 384, 640)\n"
     ]
    },
    {
     "name": "stderr",
     "output_type": "stream",
     "text": [
      "2025-05-30 11:01:17,922 - INFO - Кадр 680\n"
     ]
    },
    {
     "name": "stdout",
     "output_type": "stream",
     "text": [
      "\n",
      "0: 384x640 14 persons, 1106.4ms\n",
      "Speed: 2.3ms preprocess, 1106.4ms inference, 3.2ms postprocess per image at shape (1, 3, 384, 640)\n",
      "\n",
      "0: 384x640 11 persons, 934.3ms\n",
      "Speed: 2.2ms preprocess, 934.3ms inference, 3.0ms postprocess per image at shape (1, 3, 384, 640)\n"
     ]
    },
    {
     "name": "stderr",
     "output_type": "stream",
     "text": [
      "2025-05-30 11:01:20,213 - INFO - Кадр 681\n"
     ]
    },
    {
     "name": "stdout",
     "output_type": "stream",
     "text": [
      "\n",
      "0: 384x640 14 persons, 1090.2ms\n",
      "Speed: 3.1ms preprocess, 1090.2ms inference, 3.5ms postprocess per image at shape (1, 3, 384, 640)\n",
      "\n",
      "0: 384x640 11 persons, 957.6ms\n",
      "Speed: 2.6ms preprocess, 957.6ms inference, 3.2ms postprocess per image at shape (1, 3, 384, 640)\n"
     ]
    },
    {
     "name": "stderr",
     "output_type": "stream",
     "text": [
      "2025-05-30 11:01:22,530 - INFO - Кадр 682\n"
     ]
    },
    {
     "name": "stdout",
     "output_type": "stream",
     "text": [
      "\n",
      "0: 384x640 14 persons, 1130.3ms\n",
      "Speed: 4.5ms preprocess, 1130.3ms inference, 3.1ms postprocess per image at shape (1, 3, 384, 640)\n",
      "\n",
      "0: 384x640 11 persons, 981.1ms\n",
      "Speed: 2.9ms preprocess, 981.1ms inference, 2.7ms postprocess per image at shape (1, 3, 384, 640)\n"
     ]
    },
    {
     "name": "stderr",
     "output_type": "stream",
     "text": [
      "2025-05-30 11:01:24,910 - INFO - Кадр 683\n"
     ]
    },
    {
     "name": "stdout",
     "output_type": "stream",
     "text": [
      "\n",
      "0: 384x640 14 persons, 1402.8ms\n",
      "Speed: 3.1ms preprocess, 1402.8ms inference, 3.3ms postprocess per image at shape (1, 3, 384, 640)\n",
      "\n",
      "0: 384x640 11 persons, 944.3ms\n",
      "Speed: 2.2ms preprocess, 944.3ms inference, 3.1ms postprocess per image at shape (1, 3, 384, 640)\n"
     ]
    },
    {
     "name": "stderr",
     "output_type": "stream",
     "text": [
      "2025-05-30 11:01:27,504 - INFO - Кадр 684\n"
     ]
    },
    {
     "name": "stdout",
     "output_type": "stream",
     "text": [
      "\n",
      "0: 384x640 14 persons, 1155.2ms\n",
      "Speed: 2.5ms preprocess, 1155.2ms inference, 2.9ms postprocess per image at shape (1, 3, 384, 640)\n",
      "\n",
      "0: 384x640 10 persons, 939.4ms\n",
      "Speed: 2.9ms preprocess, 939.4ms inference, 2.6ms postprocess per image at shape (1, 3, 384, 640)\n"
     ]
    },
    {
     "name": "stderr",
     "output_type": "stream",
     "text": [
      "2025-05-30 11:01:29,841 - INFO - Кадр 685\n"
     ]
    },
    {
     "name": "stdout",
     "output_type": "stream",
     "text": [
      "\n",
      "0: 384x640 13 persons, 1083.6ms\n",
      "Speed: 2.5ms preprocess, 1083.6ms inference, 3.2ms postprocess per image at shape (1, 3, 384, 640)\n",
      "\n",
      "0: 384x640 11 persons, 940.2ms\n",
      "Speed: 2.3ms preprocess, 940.2ms inference, 3.2ms postprocess per image at shape (1, 3, 384, 640)\n"
     ]
    },
    {
     "name": "stderr",
     "output_type": "stream",
     "text": [
      "2025-05-30 11:01:32,114 - INFO - Кадр 686\n"
     ]
    },
    {
     "name": "stdout",
     "output_type": "stream",
     "text": [
      "\n",
      "0: 384x640 13 persons, 1172.0ms\n",
      "Speed: 2.7ms preprocess, 1172.0ms inference, 3.3ms postprocess per image at shape (1, 3, 384, 640)\n",
      "\n",
      "0: 384x640 10 persons, 983.9ms\n",
      "Speed: 2.3ms preprocess, 983.9ms inference, 3.2ms postprocess per image at shape (1, 3, 384, 640)\n"
     ]
    },
    {
     "name": "stderr",
     "output_type": "stream",
     "text": [
      "2025-05-30 11:01:34,515 - INFO - Кадр 687\n"
     ]
    },
    {
     "name": "stdout",
     "output_type": "stream",
     "text": [
      "\n",
      "0: 384x640 13 persons, 1112.2ms\n",
      "Speed: 2.2ms preprocess, 1112.2ms inference, 3.4ms postprocess per image at shape (1, 3, 384, 640)\n",
      "\n",
      "0: 384x640 10 persons, 932.2ms\n",
      "Speed: 2.2ms preprocess, 932.2ms inference, 3.1ms postprocess per image at shape (1, 3, 384, 640)\n"
     ]
    },
    {
     "name": "stderr",
     "output_type": "stream",
     "text": [
      "2025-05-30 11:01:36,797 - INFO - Кадр 688\n"
     ]
    },
    {
     "name": "stdout",
     "output_type": "stream",
     "text": [
      "\n",
      "0: 384x640 12 persons, 1113.2ms\n",
      "Speed: 2.7ms preprocess, 1113.2ms inference, 4.4ms postprocess per image at shape (1, 3, 384, 640)\n",
      "\n",
      "0: 384x640 10 persons, 971.9ms\n",
      "Speed: 2.6ms preprocess, 971.9ms inference, 3.4ms postprocess per image at shape (1, 3, 384, 640)\n"
     ]
    },
    {
     "name": "stderr",
     "output_type": "stream",
     "text": [
      "2025-05-30 11:01:39,123 - INFO - Кадр 689\n"
     ]
    },
    {
     "name": "stdout",
     "output_type": "stream",
     "text": [
      "\n",
      "0: 384x640 13 persons, 1103.7ms\n",
      "Speed: 2.2ms preprocess, 1103.7ms inference, 3.0ms postprocess per image at shape (1, 3, 384, 640)\n",
      "\n",
      "0: 384x640 10 persons, 943.9ms\n",
      "Speed: 2.6ms preprocess, 943.9ms inference, 2.9ms postprocess per image at shape (1, 3, 384, 640)\n"
     ]
    },
    {
     "name": "stderr",
     "output_type": "stream",
     "text": [
      "2025-05-30 11:01:41,415 - INFO - Кадр 690\n"
     ]
    },
    {
     "name": "stdout",
     "output_type": "stream",
     "text": [
      "\n",
      "0: 384x640 12 persons, 1098.0ms\n",
      "Speed: 2.4ms preprocess, 1098.0ms inference, 3.0ms postprocess per image at shape (1, 3, 384, 640)\n",
      "\n",
      "0: 384x640 10 persons, 1008.1ms\n",
      "Speed: 2.5ms preprocess, 1008.1ms inference, 2.4ms postprocess per image at shape (1, 3, 384, 640)\n"
     ]
    },
    {
     "name": "stderr",
     "output_type": "stream",
     "text": [
      "2025-05-30 11:01:43,769 - INFO - Кадр 691\n"
     ]
    },
    {
     "name": "stdout",
     "output_type": "stream",
     "text": [
      "\n",
      "0: 384x640 12 persons, 1088.7ms\n",
      "Speed: 2.5ms preprocess, 1088.7ms inference, 3.1ms postprocess per image at shape (1, 3, 384, 640)\n",
      "\n",
      "0: 384x640 10 persons, 931.4ms\n",
      "Speed: 2.1ms preprocess, 931.4ms inference, 2.8ms postprocess per image at shape (1, 3, 384, 640)\n"
     ]
    },
    {
     "name": "stderr",
     "output_type": "stream",
     "text": [
      "2025-05-30 11:01:46,025 - INFO - Кадр 692\n"
     ]
    },
    {
     "name": "stdout",
     "output_type": "stream",
     "text": [
      "\n",
      "0: 384x640 12 persons, 1116.9ms\n",
      "Speed: 2.5ms preprocess, 1116.9ms inference, 3.7ms postprocess per image at shape (1, 3, 384, 640)\n",
      "\n",
      "0: 384x640 11 persons, 917.5ms\n",
      "Speed: 2.2ms preprocess, 917.5ms inference, 2.7ms postprocess per image at shape (1, 3, 384, 640)\n"
     ]
    },
    {
     "name": "stderr",
     "output_type": "stream",
     "text": [
      "2025-05-30 11:01:48,311 - INFO - Кадр 693\n"
     ]
    },
    {
     "name": "stdout",
     "output_type": "stream",
     "text": [
      "\n",
      "0: 384x640 12 persons, 1300.1ms\n",
      "Speed: 2.3ms preprocess, 1300.1ms inference, 3.3ms postprocess per image at shape (1, 3, 384, 640)\n",
      "\n",
      "0: 384x640 11 persons, 1104.5ms\n",
      "Speed: 2.6ms preprocess, 1104.5ms inference, 2.2ms postprocess per image at shape (1, 3, 384, 640)\n"
     ]
    },
    {
     "name": "stderr",
     "output_type": "stream",
     "text": [
      "2025-05-30 11:01:50,981 - INFO - Кадр 694\n"
     ]
    },
    {
     "name": "stdout",
     "output_type": "stream",
     "text": [
      "\n",
      "0: 384x640 12 persons, 1103.7ms\n",
      "Speed: 2.8ms preprocess, 1103.7ms inference, 2.8ms postprocess per image at shape (1, 3, 384, 640)\n",
      "\n",
      "0: 384x640 10 persons, 807.6ms\n",
      "Speed: 2.3ms preprocess, 807.6ms inference, 2.7ms postprocess per image at shape (1, 3, 384, 640)\n"
     ]
    },
    {
     "name": "stderr",
     "output_type": "stream",
     "text": [
      "2025-05-30 11:01:53,139 - INFO - Кадр 695\n"
     ]
    },
    {
     "name": "stdout",
     "output_type": "stream",
     "text": [
      "\n",
      "0: 384x640 13 persons, 909.0ms\n",
      "Speed: 2.6ms preprocess, 909.0ms inference, 2.5ms postprocess per image at shape (1, 3, 384, 640)\n",
      "\n",
      "0: 384x640 11 persons, 763.5ms\n",
      "Speed: 2.4ms preprocess, 763.5ms inference, 2.4ms postprocess per image at shape (1, 3, 384, 640)\n"
     ]
    },
    {
     "name": "stderr",
     "output_type": "stream",
     "text": [
      "2025-05-30 11:01:55,045 - INFO - Кадр 696\n"
     ]
    },
    {
     "name": "stdout",
     "output_type": "stream",
     "text": [
      "\n",
      "0: 384x640 13 persons, 900.7ms\n",
      "Speed: 2.6ms preprocess, 900.7ms inference, 2.8ms postprocess per image at shape (1, 3, 384, 640)\n",
      "\n",
      "0: 384x640 10 persons, 757.3ms\n",
      "Speed: 2.5ms preprocess, 757.3ms inference, 2.5ms postprocess per image at shape (1, 3, 384, 640)\n"
     ]
    },
    {
     "name": "stderr",
     "output_type": "stream",
     "text": [
      "2025-05-30 11:01:56,933 - INFO - Кадр 697\n"
     ]
    },
    {
     "name": "stdout",
     "output_type": "stream",
     "text": [
      "\n",
      "0: 384x640 13 persons, 827.5ms\n",
      "Speed: 2.3ms preprocess, 827.5ms inference, 2.7ms postprocess per image at shape (1, 3, 384, 640)\n",
      "\n",
      "0: 384x640 9 persons, 730.2ms\n",
      "Speed: 2.1ms preprocess, 730.2ms inference, 2.6ms postprocess per image at shape (1, 3, 384, 640)\n"
     ]
    },
    {
     "name": "stderr",
     "output_type": "stream",
     "text": [
      "2025-05-30 11:01:58,702 - INFO - Кадр 698\n"
     ]
    },
    {
     "name": "stdout",
     "output_type": "stream",
     "text": [
      "\n",
      "0: 384x640 13 persons, 943.3ms\n",
      "Speed: 2.2ms preprocess, 943.3ms inference, 2.9ms postprocess per image at shape (1, 3, 384, 640)\n",
      "\n",
      "0: 384x640 9 persons, 736.3ms\n",
      "Speed: 2.5ms preprocess, 736.3ms inference, 2.4ms postprocess per image at shape (1, 3, 384, 640)\n"
     ]
    },
    {
     "name": "stderr",
     "output_type": "stream",
     "text": [
      "2025-05-30 11:02:00,599 - INFO - Кадр 699\n"
     ]
    },
    {
     "name": "stdout",
     "output_type": "stream",
     "text": [
      "\n",
      "0: 384x640 13 persons, 817.8ms\n",
      "Speed: 2.3ms preprocess, 817.8ms inference, 2.7ms postprocess per image at shape (1, 3, 384, 640)\n",
      "\n",
      "0: 384x640 10 persons, 710.4ms\n",
      "Speed: 2.2ms preprocess, 710.4ms inference, 2.2ms postprocess per image at shape (1, 3, 384, 640)\n"
     ]
    },
    {
     "name": "stderr",
     "output_type": "stream",
     "text": [
      "2025-05-30 11:02:02,352 - INFO - Кадр 700\n"
     ]
    },
    {
     "name": "stdout",
     "output_type": "stream",
     "text": [
      "\n",
      "0: 384x640 13 persons, 814.7ms\n",
      "Speed: 2.3ms preprocess, 814.7ms inference, 2.5ms postprocess per image at shape (1, 3, 384, 640)\n",
      "\n",
      "0: 384x640 10 persons, 736.6ms\n",
      "Speed: 2.0ms preprocess, 736.6ms inference, 2.6ms postprocess per image at shape (1, 3, 384, 640)\n"
     ]
    },
    {
     "name": "stderr",
     "output_type": "stream",
     "text": [
      "2025-05-30 11:02:04,128 - INFO - Кадр 701\n"
     ]
    },
    {
     "name": "stdout",
     "output_type": "stream",
     "text": [
      "\n",
      "0: 384x640 13 persons, 908.3ms\n",
      "Speed: 2.2ms preprocess, 908.3ms inference, 2.6ms postprocess per image at shape (1, 3, 384, 640)\n",
      "\n",
      "0: 384x640 11 persons, 708.7ms\n",
      "Speed: 2.2ms preprocess, 708.7ms inference, 2.6ms postprocess per image at shape (1, 3, 384, 640)\n"
     ]
    },
    {
     "name": "stderr",
     "output_type": "stream",
     "text": [
      "2025-05-30 11:02:05,962 - INFO - Кадр 702\n"
     ]
    },
    {
     "name": "stdout",
     "output_type": "stream",
     "text": [
      "\n",
      "0: 384x640 14 persons, 818.7ms\n",
      "Speed: 2.3ms preprocess, 818.7ms inference, 3.1ms postprocess per image at shape (1, 3, 384, 640)\n",
      "\n",
      "0: 384x640 11 persons, 725.2ms\n",
      "Speed: 2.3ms preprocess, 725.2ms inference, 2.4ms postprocess per image at shape (1, 3, 384, 640)\n"
     ]
    },
    {
     "name": "stderr",
     "output_type": "stream",
     "text": [
      "2025-05-30 11:02:07,728 - INFO - Кадр 703\n"
     ]
    },
    {
     "name": "stdout",
     "output_type": "stream",
     "text": [
      "\n",
      "0: 384x640 14 persons, 821.0ms\n",
      "Speed: 2.2ms preprocess, 821.0ms inference, 2.5ms postprocess per image at shape (1, 3, 384, 640)\n",
      "\n",
      "0: 384x640 9 persons, 708.1ms\n",
      "Speed: 2.2ms preprocess, 708.1ms inference, 2.4ms postprocess per image at shape (1, 3, 384, 640)\n"
     ]
    },
    {
     "name": "stderr",
     "output_type": "stream",
     "text": [
      "2025-05-30 11:02:09,486 - INFO - Кадр 704\n"
     ]
    },
    {
     "name": "stdout",
     "output_type": "stream",
     "text": [
      "\n",
      "0: 384x640 14 persons, 902.8ms\n",
      "Speed: 2.2ms preprocess, 902.8ms inference, 3.1ms postprocess per image at shape (1, 3, 384, 640)\n",
      "\n",
      "0: 384x640 9 persons, 716.6ms\n",
      "Speed: 2.2ms preprocess, 716.6ms inference, 2.3ms postprocess per image at shape (1, 3, 384, 640)\n"
     ]
    },
    {
     "name": "stderr",
     "output_type": "stream",
     "text": [
      "2025-05-30 11:02:11,336 - INFO - Кадр 705\n"
     ]
    },
    {
     "name": "stdout",
     "output_type": "stream",
     "text": [
      "\n",
      "0: 384x640 14 persons, 818.1ms\n",
      "Speed: 2.4ms preprocess, 818.1ms inference, 2.5ms postprocess per image at shape (1, 3, 384, 640)\n",
      "\n",
      "0: 384x640 9 persons, 719.2ms\n",
      "Speed: 2.2ms preprocess, 719.2ms inference, 2.4ms postprocess per image at shape (1, 3, 384, 640)\n"
     ]
    },
    {
     "name": "stderr",
     "output_type": "stream",
     "text": [
      "2025-05-30 11:02:13,386 - INFO - Кадр с максимальной разницей: frame_407.png\n",
      "2025-05-30 11:02:13,388 - INFO - YOLOv8x: Люди: 12.16, Std: 1.43, FPS: 0.98\n",
      "2025-05-30 11:02:13,388 - INFO - YOLO11x: Люди: 10.08, Std: 1.38, FPS: 1.12\n",
      "2025-05-30 11:02:13,393 - INFO - Результаты сохранены\n"
     ]
    }
   ],
   "source": [
    "def process_frame(model, frame):\n",
    "    \"\"\"Детекция и трекинг людей в кадре.\"\"\"\n",
    "    results = model.track(frame, persist=True, classes=[0], conf=0.4, iou=0.5, imgsz=640)\n",
    "    return results[0].boxes\n",
    "\n",
    "# Результаты\n",
    "results = {\"Model\": [], \"FPS\": [], \"Avg People\": [], \"People Std\": []}\n",
    "people_per_frame = {name: [] for name in models}\n",
    "confidences = {name: [] for name in models}  # Для подсказок\n",
    "max_diff_frame = {\"frame\": None, \"diff\": 0, \"number\": 0}\n",
    "\n",
    "# Видео\n",
    "cap = cv2.VideoCapture(video_path)\n",
    "frame_width = int(cap.get(cv2.CAP_PROP_FRAME_WIDTH))\n",
    "frame_height = int(cap.get(cv2.CAP_PROP_FRAME_HEIGHT))\n",
    "fps = int(cap.get(cv2.CAP_PROP_FPS)) or 30\n",
    "\n",
    "# Тепловые карты\n",
    "heatmap = {name: np.zeros((frame_height, frame_width)) for name in models}\n",
    "\n",
    "# Видеопотоки\n",
    "fourcc = cv2.VideoWriter_fourcc(*\"mp4v\")\n",
    "video_writers = {name: cv2.VideoWriter(output_paths[name], fourcc, fps, (frame_width, frame_height)) for name in models}\n",
    "comp_writer = cv2.VideoWriter(comparison_output, fourcc, fps, (frame_width * 2, frame_height))\n",
    "\n",
    "# Обработка\n",
    "frame_count = 0\n",
    "model_times = {name: 0 for name in models}\n",
    "while cap.isOpened():\n",
    "    ret, frame = cap.read()\n",
    "    if not ret:\n",
    "        break\n",
    "    frame_count += 1\n",
    "    logger.info(f\"Кадр {frame_count}\")\n",
    "\n",
    "    comp_frame = np.zeros((frame_height, frame_width * 2, 3), dtype=np.uint8)\n",
    "    people_counts = {}\n",
    "\n",
    "    for idx, (model_name, model) in enumerate(models.items()):\n",
    "        start_time = time.time()\n",
    "        frame_copy = frame.copy()\n",
    "\n",
    "        # Инференс\n",
    "        boxes = process_frame(model, frame_copy)\n",
    "\n",
    "        # Отрисовка\n",
    "        people_in_frame = 0\n",
    "        frame_confidences = []\n",
    "        for box in boxes:\n",
    "            x1, y1, x2, y2 = map(int, box.xyxy[0])\n",
    "            conf = box.conf[0]\n",
    "            label = f\"Person ({conf:.2f})\"\n",
    "            cv2.rectangle(frame_copy, (x1, y1), (x2, y2), (0, 255, 0), 2)\n",
    "            cv2.putText(frame_copy, label, (x1, y1 - 10), cv2.FONT_HERSHEY_SIMPLEX, 0.5, (0, 255, 0), 2)\n",
    "            people_in_frame += 1\n",
    "            frame_confidences.append(float(conf))\n",
    "            heatmap[model_name][y1:y2, x1:x2] += 1\n",
    "\n",
    "        people_per_frame[model_name].append(people_in_frame)\n",
    "        confidences[model_name].append(np.mean(frame_confidences) if frame_confidences else 0)\n",
    "        people_counts[model_name] = people_in_frame\n",
    "        video_writers[model_name].write(frame_copy)\n",
    "\n",
    "        # Комбинированный кадр\n",
    "        comp_frame[:, idx * frame_width:(idx + 1) * frame_width] = frame_copy\n",
    "        cv2.putText(comp_frame, model_name, (idx * frame_width + 10, 30), cv2.FONT_HERSHEY_SIMPLEX, 1, (255, 255, 255), 2)\n",
    "\n",
    "        model_times[model_name] += time.time() - start_time\n",
    "\n",
    "    # Ключевой кадр\n",
    "    diff = abs(people_counts[\"YOLOv8x\"] - people_counts[\"YOLO11x\"])\n",
    "    if diff > max_diff_frame[\"diff\"]:\n",
    "        max_diff_frame = {\"frame\": comp_frame.copy(), \"diff\": diff, \"number\": frame_count}\n",
    "\n",
    "    comp_writer.write(comp_frame)\n",
    "\n",
    "cap.release()\n",
    "for writer in video_writers.values():\n",
    "    writer.release()\n",
    "comp_writer.release()\n",
    "\n",
    "# Сохранение ключевого кадра\n",
    "cv2.imwrite(f\"max_diff_frame_{max_diff_frame['number']}.png\", max_diff_frame[\"frame\"])\n",
    "logger.info(f\"Кадр с максимальной разницей: frame_{max_diff_frame['number']}.png\")\n",
    "\n",
    "# Метрики\n",
    "for model_name in models:\n",
    "    avg_fps = frame_count / model_times[model_name]\n",
    "    avg_people = np.mean(people_per_frame[model_name])\n",
    "    people_std = np.std(people_per_frame[model_name])\n",
    "    results[\"Model\"].append(model_name)\n",
    "    results[\"FPS\"].append(avg_fps)\n",
    "    results[\"Avg People\"].append(avg_people)\n",
    "    results[\"People Std\"].append(people_std)\n",
    "    logger.info(f\"{model_name}: Люди: {avg_people:.2f}, Std: {people_std:.2f}, FPS: {avg_fps:.2f}\")\n",
    "\n",
    "# Сохранение\n",
    "results_df = pd.DataFrame(results)\n",
    "results_df.to_csv(\"model_comparison.csv\", index=False)\n",
    "logger.info(\"Результаты сохранены\")"
   ]
  },
  {
   "cell_type": "code",
   "execution_count": 6,
   "id": "0569ce20-951a-48b6-8825-1fbd43cd0e21",
   "metadata": {},
   "outputs": [
    {
     "data": {
      "application/vnd.plotly.v1+json": {
       "config": {
        "plotlyServerURL": "https://plot.ly"
       },
       "data": [
        {
         "hovertemplate": "<extra></extra>",
         "legendgroup": "",
         "line": {
          "color": "#636efa",
          "dash": "solid"
         },
         "marker": {
          "symbol": "circle"
         },
         "mode": "lines",
         "name": "",
         "orientation": "v",
         "showlegend": false,
         "type": "scatter",
         "xaxis": "x",
         "yaxis": "y"
        },
        {
         "customdata": [
          0.7478672464688619,
          0.6738596881429354,
          0.6460845332879287,
          0.6662731443842252,
          0.6618104924758276,
          0.6616980656981468,
          0.663240966697534,
          0.6624614348014196,
          0.6807875064286318,
          0.7107729822397232,
          0.6859965893355283,
          0.6960689506747506,
          0.6782737026611964,
          0.6744605700174967,
          0.6788948948184649,
          0.6518043990318592,
          0.656411159497041,
          0.665693863080098,
          0.6573034410293286,
          0.6767387067278227,
          0.6542739409666795,
          0.6614531874656677,
          0.6525163799524307,
          0.667138243263418,
          0.6573918759822845,
          0.6962263762950898,
          0.6960549652576447,
          0.6978584408760071,
          0.6831795781850815,
          0.6783400714397431,
          0.6849523246288299,
          0.6821619510650635,
          0.6809046417474747,
          0.6829477041959763,
          0.6806525528430939,
          0.6784419029951095,
          0.6500296890735626,
          0.6618664237585935,
          0.6585257974537936,
          0.6811563640832901,
          0.6327996874849001,
          0.6484567175308863,
          0.651521218319734,
          0.6544724280635515,
          0.6881940093907443,
          0.6959286494688555,
          0.7002573668956756,
          0.7001560449600219,
          0.7026055842638016,
          0.70083027780056,
          0.6985745638608932,
          0.7008508026599884,
          0.720266580581665,
          0.7319801714685228,
          0.7381662196583219,
          0.7344965868526034,
          0.7279559241400825,
          0.7184379365709093,
          0.7002116531133652,
          0.6847486943006516,
          0.6788744330406189,
          0.6812679171562195,
          0.6820156097412109,
          0.67189237204465,
          0.654780795176824,
          0.6789311658252369,
          0.6924355490641161,
          0.6844125498424877,
          0.7035048633813858,
          0.6902522173794833,
          0.6625141973296801,
          0.6552294741074244,
          0.6340591976275811,
          0.6495852768421173,
          0.6699454089005789,
          0.6771246005188335,
          0.6871059328317642,
          0.6533246771855787,
          0.6787284076213836,
          0.6876217126846313,
          0.6657197564840317,
          0.6535922686258951,
          0.642282064144428,
          0.6586999098459879,
          0.6960045129060746,
          0.6904574185609818,
          0.6614250143369039,
          0.7197604907883538,
          0.6976378291845322,
          0.6998547166585922,
          0.6883154571056366,
          0.7470817499690585,
          0.7488367160161337,
          0.7047744420441714,
          0.6969326165589419,
          0.6879423558712006,
          0.6704721053441366,
          0.6646701246500015,
          0.6646976868311564,
          0.6645627891023954,
          0.6743034720420837,
          0.6747105609286915,
          0.6803842945532366,
          0.668423593044281,
          0.6538444784554568,
          0.6742619544267654,
          0.6699315071105957,
          0.71396893925137,
          0.6660201907157898,
          0.6928639872507616,
          0.6770043589852073,
          0.699921112168919,
          0.6785283440893347,
          0.6809657351537184,
          0.7493913444605741,
          0.7451156757094644,
          0.736088595607064,
          0.7461618835275824,
          0.7391367012804205,
          0.7369741120121696,
          0.729728183963082,
          0.7517081607471813,
          0.7702631733634255,
          0.7635967243801464,
          0.7186057195067406,
          0.7110364735126495,
          0.7419545774658521,
          0.7584817657868067,
          0.7694269046187401,
          0.7996257651935924,
          0.7656832511226336,
          0.7344266588871295,
          0.7867147674163183,
          0.7648164903124174,
          0.7300032178560892,
          0.7170231814185778,
          0.7261933659513792,
          0.7248492240905762,
          0.779158067703247,
          0.7528104662895203,
          0.7913096338510514,
          0.7318986410444434,
          0.7276935550299558,
          0.7379419884898446,
          0.7063422753260686,
          0.7309002205729485,
          0.7546694522554224,
          0.7324812561273575,
          0.7635960633104498,
          0.7603612379594282,
          0.7468753904104233,
          0.7596755136143077,
          0.7231306880712509,
          0.703595771239354,
          0.7545109863082567,
          0.7592145974437395,
          0.7503669783473015,
          0.7316872890178974,
          0.7311840538795178,
          0.730605022265361,
          0.7347486592256106,
          0.7297531870695261,
          0.7200359564561111,
          0.7192868636204646,
          0.7400200019280115,
          0.74160252759854,
          0.7479010423024496,
          0.749379018942515,
          0.7416079143683115,
          0.73562074949344,
          0.7335458944241205,
          0.7326045855879784,
          0.7479561431841417,
          0.7645833546465094,
          0.6952109795350295,
          0.7396015226840973,
          0.72796880453825,
          0.7385821491479874,
          0.6917866766452789,
          0.7167397098881858,
          0.7682763362924258,
          0.7575112407406172,
          0.7532009780406952,
          0.7650002837181091,
          0.7716450840234756,
          0.7813998659451803,
          0.777341365814209,
          0.7494732806315789,
          0.743681380381951,
          0.7585374812285105,
          0.7646287779013315,
          0.7159625632422311,
          0.7251950594095083,
          0.7815126397392966,
          0.7691934975710782,
          0.7361127013961474,
          0.7408989295363426,
          0.7513019690910975,
          0.7122465830582839,
          0.7307951679596534,
          0.7376768107597644,
          0.7414328182737032,
          0.7873383272777904,
          0.7815347205508839,
          0.727325941507633,
          0.7064190677234105,
          0.7053276960338865,
          0.702028174485479,
          0.7149754975523267,
          0.704620748758316,
          0.702192880709966,
          0.7377030482658973,
          0.7095575375216348,
          0.6994595719235284,
          0.7209276854991913,
          0.7414789433990207,
          0.7236258367697398,
          0.7152567088603974,
          0.7372424098161551,
          0.7425296948506281,
          0.7123035086052758,
          0.7218549868890217,
          0.6999314171927316,
          0.7221995038645608,
          0.7102879007657369,
          0.7125295201937357,
          0.7024921830743551,
          0.6980019640177488,
          0.711252361536026,
          0.7244410652380723,
          0.7516709268093109,
          0.7527968138456345,
          0.7326534734322474,
          0.7233738119785602,
          0.7089042514562607,
          0.70419699379376,
          0.6823947812829699,
          0.6822222513811929,
          0.6713030146700996,
          0.6772397650139672,
          0.6596190524952752,
          0.6665857838732856,
          0.6884564885071346,
          0.6760800353118351,
          0.6621914718832288,
          0.6752289373141068,
          0.6615432638388413,
          0.6662878053528922,
          0.6755958199501038,
          0.6845743613583701,
          0.7382822185754776,
          0.7110198346468118,
          0.7109324634075165,
          0.7078358211687633,
          0.7202862990753991,
          0.723284655383655,
          0.7484381038409013,
          0.7539206513991723,
          0.7591161384032323,
          0.7822844684123993,
          0.7364751306863931,
          0.7436177363762488,
          0.7575015471531794,
          0.7339507107223783,
          0.7454954706705533,
          0.7426004455639765,
          0.7329298074428852,
          0.7397180543496058,
          0.7505802238980929,
          0.7518603280186653,
          0.7649008144031871,
          0.7451835349202156,
          0.7136740661584414,
          0.7107006380191216,
          0.7247752334390368,
          0.7045688331127167,
          0.6880888521671296,
          0.6965322415033977,
          0.7356609656260564,
          0.7533894603451093,
          0.77865239165046,
          0.7697139870036732,
          0.7661698406392877,
          0.7542337899406751,
          0.7441052570939064,
          0.721168763935566,
          0.6950270558396975,
          0.7143507202466329,
          0.7302596171696981,
          0.7014519646763802,
          0.700091135998567,
          0.6953718910614649,
          0.6359937936067581,
          0.6543664336204529,
          0.7116630698243777,
          0.7470873236656189,
          0.682256263991197,
          0.6933314129710197,
          0.708693653345108,
          0.7336614549160003,
          0.7664745867252349,
          0.7634788930416108,
          0.6816089500983556,
          0.6980516314506531,
          0.7375601232051849,
          0.7440541923046112,
          0.7353659212589264,
          0.7413198471069335,
          0.7415860950946808,
          0.7352967858314514,
          0.7182993346994574,
          0.7269042567773298,
          0.699813204507033,
          0.6854117636879286,
          0.6412737988508664,
          0.6557279527187347,
          0.6609559232989947,
          0.6951313291986784,
          0.6899102007349333,
          0.6888768697778384,
          0.7128164122502009,
          0.6855551625291506,
          0.6999806016683578,
          0.6759018439512986,
          0.6328659653663635,
          0.6516977126399676,
          0.6460069492459297,
          0.6510771463314692,
          0.6373814321481265,
          0.6599013236435977,
          0.635522373020649,
          0.6449481025338173,
          0.6381549338499705,
          0.6494262317816416,
          0.6212722318513053,
          0.6476680384232447,
          0.6514982237265661,
          0.6583147897170141,
          0.6456466838717461,
          0.676496398448944,
          0.6474956075350443,
          0.6467114612460136,
          0.6459201666025015,
          0.6779156487721664,
          0.683386318385601,
          0.6873136535286903,
          0.7111505459655415,
          0.6604497209191322,
          0.6639079948266348,
          0.6580402354399363,
          0.6870201230049133,
          0.6306215364199418,
          0.6390570860642654,
          0.663926587863402,
          0.6627508781173013,
          0.7114796174897088,
          0.7182716594802009,
          0.7041524618864059,
          0.6935533225536347,
          0.6619989682327617,
          0.6694306324828755,
          0.6841016411781311,
          0.6513651040467349,
          0.6703063050905863,
          0.6368135511875153,
          0.660425580210156,
          0.6370751976966857,
          0.6411431968212128,
          0.6251081499186429,
          0.6114755993088087,
          0.6242145001888275,
          0.6324159155289332,
          0.6575797552412207,
          0.6876692374547323,
          0.6838191615210639,
          0.6146892577409744,
          0.6478431075811386,
          0.6777111440896988,
          0.7429529769080025,
          0.6815330021911197,
          0.6790951460599899,
          0.7021743416786194,
          0.7378277646170722,
          0.6941842843185771,
          0.7035050121220675,
          0.7081291621381586,
          0.6753701682274158,
          0.6795685887336731,
          0.685579518477122,
          0.6860242038965225,
          0.7190217673778534,
          0.7174367633732882,
          0.6762570018569628,
          0.6637115975220998,
          0.6529445325334867,
          0.6490550289551417,
          0.6544783761103948,
          0.6484534765283266,
          0.642256331940492,
          0.6443865423401197,
          0.6780084893107414,
          0.6888457157395103,
          0.6948331215164878,
          0.6688254429743841,
          0.6637593301442953,
          0.6706332014157221,
          0.65634243616036,
          0.6732551317948562,
          0.6504243782588414,
          0.6491669820887702,
          0.6431483740989978,
          0.6597025188115927,
          0.6518691927194595,
          0.644245449701945,
          0.6478601694107056,
          0.6349915941556294,
          0.6595645298560461,
          0.6637956897417704,
          0.6710466345151266,
          0.6606760621070862,
          0.6658359050750733,
          0.6802527586619059,
          0.6746766408284505,
          0.6718504269917805,
          0.6851021464054401,
          0.68747822367228,
          0.6908008272831256,
          0.6887654753831717,
          0.7150545939803123,
          0.7129334832231203,
          0.6915104893537668,
          0.6830713473833524,
          0.6993599029687735,
          0.6569197396437327,
          0.6489841143290201,
          0.6931783235990084,
          0.6844070298331124,
          0.672704856310572,
          0.673470275742667,
          0.6826843683208738,
          0.6785098229135785,
          0.6968826124301324,
          0.6724508702754974,
          0.7001105273763338,
          0.6792914500603309,
          0.6874062035764966,
          0.7004897147417068,
          0.6892419670309339,
          0.6711882672139576,
          0.6789861768484116,
          0.6526014272655759,
          0.6613664201327732,
          0.6598729406084333,
          0.6352949908801487,
          0.6360775998660496,
          0.650940131682616,
          0.6569894229372343,
          0.686807838579019,
          0.6824588640169664,
          0.6648394986987114,
          0.6775307903687159,
          0.6801340200684287,
          0.6669707720478376,
          0.7022524936632677,
          0.6818015798926353,
          0.7137107063423503,
          0.6923296029369036,
          0.6946186224619547,
          0.7041378517945608,
          0.6995940084258715,
          0.6719558147283701,
          0.6792612488453205,
          0.676087131867042,
          0.6962595536158636,
          0.716177394756904,
          0.7418564880887667,
          0.719568330508012,
          0.7169876259106857,
          0.7185996793783628,
          0.7196900386076707,
          0.6996653548308781,
          0.7036217863743122,
          0.7051526743632096,
          0.7127293554636148,
          0.712065747151008,
          0.6647783895333608,
          0.6799222635371345,
          0.6693573189633233,
          0.6822974337981298,
          0.695963809123406,
          0.7064852664868037,
          0.7050844778617223,
          0.671719294327956,
          0.6892741049329439,
          0.6719798867901167,
          0.6882899651924769,
          0.6599779839699085,
          0.6232936998208364,
          0.6744501839081446,
          0.6922000267288901,
          0.6620920722683271,
          0.6805590391159058,
          0.683329083702781,
          0.6694234063227972,
          0.6888409311121161,
          0.6998476657000455,
          0.7034209289334037,
          0.6984241198409687,
          0.6891858767379414,
          0.6770500664909681,
          0.7070272028446197,
          0.6869617917320945,
          0.6757676725586256,
          0.6843155870834986,
          0.6832052866617838,
          0.6787213466384194,
          0.6838319301605225,
          0.6901606371005377,
          0.6548435787359873,
          0.6385014702876409,
          0.6630948459108671,
          0.6535780554016432,
          0.6078671862681707,
          0.6437398393948873,
          0.6254723568757375,
          0.6275078888450351,
          0.6141253518206733,
          0.6497307320435842,
          0.648590383430322,
          0.6428349109796377,
          0.641595354446998,
          0.6485162400282346,
          0.6499948730835547,
          0.6528303439800556,
          0.6362889153616769,
          0.6415267164508501,
          0.6821780229608218,
          0.6891918877760569,
          0.6940435712987726,
          0.7085538939996199,
          0.7111006279786428,
          0.680205727999027,
          0.6816327846967257,
          0.7042755736754491,
          0.6683811270273649,
          0.6616409650215735,
          0.6817634472480187,
          0.6797138360830454,
          0.6797979005745479,
          0.6769657454320362,
          0.657983124256134,
          0.6674123366673788,
          0.6650679767131805,
          0.6806686679522197,
          0.7081648826599121,
          0.6929913282394409,
          0.6867820282777151,
          0.7114717683621815,
          0.7016833232981818,
          0.7060011582715171,
          0.6953771154085795,
          0.6822381357351939,
          0.6668570717175801,
          0.6811394532521565,
          0.7035161746399743,
          0.7109588576214654,
          0.714171304152562,
          0.6958687220300946,
          0.7352317621310552,
          0.7459660172462463,
          0.7483953535556793,
          0.7569105674823126,
          0.7446150233348211,
          0.7263192633787791,
          0.7289795676867167,
          0.7414715265234312,
          0.7226645921667417,
          0.732992688814799,
          0.7302975753943125,
          0.7338540901740392,
          0.741238554318746,
          0.7384111732244492,
          0.7271000941594442,
          0.7349612613519033,
          0.7204543973008791,
          0.7173884486158689,
          0.7331683987920935,
          0.7659414410591125,
          0.7381862672892484,
          0.7395908534526825,
          0.7427202354777943,
          0.7797092080116272,
          0.7470350861549377,
          0.7339162393049761,
          0.7651714086532593,
          0.7702016174793244,
          0.7363956110043959,
          0.7335024719888513,
          0.7426601485772566,
          0.734930851242759,
          0.7215963358228857,
          0.7219111783937975,
          0.7284393446011976,
          0.7199358100240881,
          0.7259978272698142,
          0.7264599420807578,
          0.7302428917451338,
          0.7253712686625394,
          0.7250839309258894,
          0.725603461265564,
          0.7054485032955805,
          0.6940840805570284,
          0.7082301626602808,
          0.7068044766783714,
          0.6982249543070793,
          0.7160676444570223,
          0.6979276115695635,
          0.6958996752897898,
          0.7102137530843416,
          0.7121360724171003,
          0.7145949204762777,
          0.7151272321740786,
          0.7252201661467552,
          0.7247549692789713,
          0.6993738636374474,
          0.7005465726057688,
          0.7148833771546682,
          0.6969525401408856,
          0.6974406838417053,
          0.7028332856985239,
          0.7227941453456879,
          0.7254846195379893,
          0.7165562684337298,
          0.7087145149707794,
          0.7320471839471296,
          0.7053421512246132,
          0.678881938640888,
          0.695581452204631,
          0.7147533496220907,
          0.7352162220261313,
          0.711182102560997,
          0.741083107211373,
          0.7150382225712141,
          0.6836519241333008,
          0.6720398618624761,
          0.6673594287463597,
          0.6885422255311694,
          0.6938689414943967,
          0.6887685911996024,
          0.6893894033772605,
          0.6796704679727554,
          0.681124726167092,
          0.6946365466484656,
          0.7027739607370816,
          0.7032700158082522,
          0.6921290434323825,
          0.6842328522886548,
          0.6778929765735354,
          0.6701105428593499,
          0.6831463894673756,
          0.6858627668448857,
          0.7008471382515771,
          0.7016672896487373,
          0.697132055248533,
          0.6966748450483594,
          0.6931605530636651,
          0.6789660177060536,
          0.7191153489626371,
          0.7165116919920995,
          0.7206480709406046,
          0.7211132897780492,
          0.749669169386228,
          0.7491945872704188,
          0.7335856556892395,
          0.737132266163826,
          0.7452907512585322,
          0.742400457461675,
          0.7260509087489202,
          0.7209112771919796,
          0.7164070861680167,
          0.7213624460356576,
          0.7129536505256381,
          0.7093023508787155,
          0.6957928325448718,
          0.7041360323245709,
          0.7106283536324134,
          0.7085779721920307,
          0.70750925441583,
          0.6998117245160617,
          0.721961552898089,
          0.7167644600073496,
          0.7320763220389684,
          0.7304455414414406,
          0.7288968761761984,
          0.6937635357563312,
          0.6944966499622052,
          0.7117542028427124,
          0.7138431805830735,
          0.7084827881592971,
          0.7146067069127009,
          0.7161951110913203,
          0.6987927172865186,
          0.695166717682566,
          0.7054221885544913,
          0.7006062396935054
         ],
         "hovertemplate": "Frame: %{x}<br>People: %{y}<br>Model: YOLOv8x<br>Avg Confidence: %{customdata:.2f}",
         "mode": "lines",
         "name": "YOLOv8x",
         "type": "scatter",
         "x": [
          1,
          2,
          3,
          4,
          5,
          6,
          7,
          8,
          9,
          10,
          11,
          12,
          13,
          14,
          15,
          16,
          17,
          18,
          19,
          20,
          21,
          22,
          23,
          24,
          25,
          26,
          27,
          28,
          29,
          30,
          31,
          32,
          33,
          34,
          35,
          36,
          37,
          38,
          39,
          40,
          41,
          42,
          43,
          44,
          45,
          46,
          47,
          48,
          49,
          50,
          51,
          52,
          53,
          54,
          55,
          56,
          57,
          58,
          59,
          60,
          61,
          62,
          63,
          64,
          65,
          66,
          67,
          68,
          69,
          70,
          71,
          72,
          73,
          74,
          75,
          76,
          77,
          78,
          79,
          80,
          81,
          82,
          83,
          84,
          85,
          86,
          87,
          88,
          89,
          90,
          91,
          92,
          93,
          94,
          95,
          96,
          97,
          98,
          99,
          100,
          101,
          102,
          103,
          104,
          105,
          106,
          107,
          108,
          109,
          110,
          111,
          112,
          113,
          114,
          115,
          116,
          117,
          118,
          119,
          120,
          121,
          122,
          123,
          124,
          125,
          126,
          127,
          128,
          129,
          130,
          131,
          132,
          133,
          134,
          135,
          136,
          137,
          138,
          139,
          140,
          141,
          142,
          143,
          144,
          145,
          146,
          147,
          148,
          149,
          150,
          151,
          152,
          153,
          154,
          155,
          156,
          157,
          158,
          159,
          160,
          161,
          162,
          163,
          164,
          165,
          166,
          167,
          168,
          169,
          170,
          171,
          172,
          173,
          174,
          175,
          176,
          177,
          178,
          179,
          180,
          181,
          182,
          183,
          184,
          185,
          186,
          187,
          188,
          189,
          190,
          191,
          192,
          193,
          194,
          195,
          196,
          197,
          198,
          199,
          200,
          201,
          202,
          203,
          204,
          205,
          206,
          207,
          208,
          209,
          210,
          211,
          212,
          213,
          214,
          215,
          216,
          217,
          218,
          219,
          220,
          221,
          222,
          223,
          224,
          225,
          226,
          227,
          228,
          229,
          230,
          231,
          232,
          233,
          234,
          235,
          236,
          237,
          238,
          239,
          240,
          241,
          242,
          243,
          244,
          245,
          246,
          247,
          248,
          249,
          250,
          251,
          252,
          253,
          254,
          255,
          256,
          257,
          258,
          259,
          260,
          261,
          262,
          263,
          264,
          265,
          266,
          267,
          268,
          269,
          270,
          271,
          272,
          273,
          274,
          275,
          276,
          277,
          278,
          279,
          280,
          281,
          282,
          283,
          284,
          285,
          286,
          287,
          288,
          289,
          290,
          291,
          292,
          293,
          294,
          295,
          296,
          297,
          298,
          299,
          300,
          301,
          302,
          303,
          304,
          305,
          306,
          307,
          308,
          309,
          310,
          311,
          312,
          313,
          314,
          315,
          316,
          317,
          318,
          319,
          320,
          321,
          322,
          323,
          324,
          325,
          326,
          327,
          328,
          329,
          330,
          331,
          332,
          333,
          334,
          335,
          336,
          337,
          338,
          339,
          340,
          341,
          342,
          343,
          344,
          345,
          346,
          347,
          348,
          349,
          350,
          351,
          352,
          353,
          354,
          355,
          356,
          357,
          358,
          359,
          360,
          361,
          362,
          363,
          364,
          365,
          366,
          367,
          368,
          369,
          370,
          371,
          372,
          373,
          374,
          375,
          376,
          377,
          378,
          379,
          380,
          381,
          382,
          383,
          384,
          385,
          386,
          387,
          388,
          389,
          390,
          391,
          392,
          393,
          394,
          395,
          396,
          397,
          398,
          399,
          400,
          401,
          402,
          403,
          404,
          405,
          406,
          407,
          408,
          409,
          410,
          411,
          412,
          413,
          414,
          415,
          416,
          417,
          418,
          419,
          420,
          421,
          422,
          423,
          424,
          425,
          426,
          427,
          428,
          429,
          430,
          431,
          432,
          433,
          434,
          435,
          436,
          437,
          438,
          439,
          440,
          441,
          442,
          443,
          444,
          445,
          446,
          447,
          448,
          449,
          450,
          451,
          452,
          453,
          454,
          455,
          456,
          457,
          458,
          459,
          460,
          461,
          462,
          463,
          464,
          465,
          466,
          467,
          468,
          469,
          470,
          471,
          472,
          473,
          474,
          475,
          476,
          477,
          478,
          479,
          480,
          481,
          482,
          483,
          484,
          485,
          486,
          487,
          488,
          489,
          490,
          491,
          492,
          493,
          494,
          495,
          496,
          497,
          498,
          499,
          500,
          501,
          502,
          503,
          504,
          505,
          506,
          507,
          508,
          509,
          510,
          511,
          512,
          513,
          514,
          515,
          516,
          517,
          518,
          519,
          520,
          521,
          522,
          523,
          524,
          525,
          526,
          527,
          528,
          529,
          530,
          531,
          532,
          533,
          534,
          535,
          536,
          537,
          538,
          539,
          540,
          541,
          542,
          543,
          544,
          545,
          546,
          547,
          548,
          549,
          550,
          551,
          552,
          553,
          554,
          555,
          556,
          557,
          558,
          559,
          560,
          561,
          562,
          563,
          564,
          565,
          566,
          567,
          568,
          569,
          570,
          571,
          572,
          573,
          574,
          575,
          576,
          577,
          578,
          579,
          580,
          581,
          582,
          583,
          584,
          585,
          586,
          587,
          588,
          589,
          590,
          591,
          592,
          593,
          594,
          595,
          596,
          597,
          598,
          599,
          600,
          601,
          602,
          603,
          604,
          605,
          606,
          607,
          608,
          609,
          610,
          611,
          612,
          613,
          614,
          615,
          616,
          617,
          618,
          619,
          620,
          621,
          622,
          623,
          624,
          625,
          626,
          627,
          628,
          629,
          630,
          631,
          632,
          633,
          634,
          635,
          636,
          637,
          638,
          639,
          640,
          641,
          642,
          643,
          644,
          645,
          646,
          647,
          648,
          649,
          650,
          651,
          652,
          653,
          654,
          655,
          656,
          657,
          658,
          659,
          660,
          661,
          662,
          663,
          664,
          665,
          666,
          667,
          668,
          669,
          670,
          671,
          672,
          673,
          674,
          675,
          676,
          677,
          678,
          679,
          680,
          681,
          682,
          683,
          684,
          685,
          686,
          687,
          688,
          689,
          690,
          691,
          692,
          693,
          694,
          695,
          696,
          697,
          698,
          699,
          700,
          701,
          702,
          703,
          704,
          705
         ],
         "y": [
          6,
          12,
          13,
          12,
          12,
          12,
          12,
          12,
          11,
          10,
          11,
          11,
          12,
          12,
          12,
          13,
          13,
          13,
          13,
          12,
          13,
          12,
          12,
          11,
          11,
          10,
          10,
          10,
          10,
          10,
          10,
          10,
          10,
          10,
          10,
          10,
          11,
          11,
          11,
          10,
          12,
          12,
          12,
          12,
          11,
          11,
          10,
          10,
          10,
          10,
          10,
          10,
          9,
          9,
          9,
          9,
          9,
          9,
          10,
          10,
          10,
          10,
          10,
          11,
          12,
          11,
          11,
          11,
          10,
          11,
          12,
          12,
          13,
          13,
          12,
          11,
          10,
          11,
          10,
          9,
          10,
          12,
          13,
          12,
          10,
          10,
          12,
          9,
          10,
          10,
          10,
          9,
          9,
          11,
          11,
          11,
          12,
          12,
          12,
          12,
          11,
          11,
          11,
          11,
          11,
          10,
          10,
          9,
          10,
          11,
          11,
          11,
          11,
          11,
          11,
          11,
          11,
          11,
          11,
          11,
          11,
          11,
          11,
          11,
          12,
          13,
          12,
          12,
          12,
          11,
          12,
          13,
          12,
          12,
          12,
          12,
          12,
          12,
          10,
          10,
          10,
          11,
          11,
          11,
          13,
          12,
          11,
          12,
          11,
          11,
          12,
          11,
          12,
          13,
          12,
          12,
          12,
          13,
          13,
          13,
          13,
          13,
          13,
          13,
          12,
          12,
          12,
          12,
          12,
          12,
          12,
          12,
          11,
          11,
          13,
          12,
          12,
          12,
          15,
          14,
          12,
          12,
          12,
          12,
          12,
          12,
          12,
          13,
          13,
          12,
          12,
          14,
          13,
          11,
          11,
          12,
          12,
          12,
          13,
          13,
          13,
          12,
          11,
          11,
          13,
          14,
          14,
          14,
          14,
          15,
          15,
          13,
          14,
          14,
          14,
          14,
          15,
          15,
          13,
          13,
          14,
          14,
          14,
          14,
          15,
          15,
          16,
          16,
          14,
          13,
          12,
          12,
          13,
          13,
          14,
          14,
          14,
          14,
          14,
          14,
          14,
          14,
          14,
          14,
          14,
          13,
          13,
          14,
          14,
          14,
          12,
          13,
          13,
          14,
          14,
          14,
          13,
          13,
          13,
          12,
          13,
          13,
          13,
          14,
          13,
          13,
          13,
          13,
          12,
          12,
          11,
          12,
          13,
          13,
          14,
          15,
          15,
          15,
          13,
          12,
          11,
          11,
          11,
          12,
          12,
          12,
          12,
          12,
          12,
          12,
          12,
          12,
          12,
          12,
          12,
          10,
          12,
          12,
          10,
          10,
          10,
          10,
          12,
          11,
          10,
          10,
          10,
          10,
          10,
          10,
          11,
          11,
          12,
          12,
          13,
          12,
          12,
          12,
          12,
          12,
          12,
          12,
          12,
          13,
          13,
          12,
          12,
          12,
          13,
          11,
          12,
          12,
          12,
          12,
          14,
          13,
          13,
          13,
          12,
          10,
          12,
          12,
          13,
          13,
          12,
          12,
          11,
          12,
          12,
          12,
          10,
          13,
          13,
          11,
          11,
          9,
          9,
          10,
          10,
          11,
          11,
          11,
          11,
          9,
          10,
          9,
          10,
          10,
          11,
          12,
          12,
          12,
          11,
          9,
          9,
          10,
          10,
          10,
          7,
          9,
          10,
          10,
          9,
          11,
          11,
          11,
          13,
          12,
          12,
          12,
          11,
          11,
          12,
          12,
          12,
          12,
          12,
          12,
          12,
          12,
          12,
          11,
          11,
          13,
          13,
          13,
          14,
          13,
          14,
          14,
          13,
          13,
          14,
          15,
          14,
          15,
          12,
          12,
          12,
          13,
          15,
          15,
          15,
          15,
          13,
          13,
          13,
          13,
          12,
          12,
          13,
          13,
          13,
          15,
          15,
          13,
          14,
          14,
          14,
          14,
          14,
          13,
          14,
          12,
          13,
          14,
          14,
          14,
          14,
          14,
          14,
          14,
          14,
          14,
          14,
          13,
          12,
          12,
          11,
          12,
          12,
          11,
          12,
          11,
          12,
          11,
          12,
          12,
          12,
          12,
          13,
          13,
          13,
          13,
          13,
          12,
          13,
          13,
          13,
          13,
          14,
          13,
          13,
          13,
          13,
          15,
          14,
          14,
          13,
          13,
          12,
          12,
          13,
          12,
          12,
          12,
          13,
          15,
          12,
          11,
          12,
          11,
          11,
          12,
          11,
          11,
          11,
          11,
          11,
          12,
          10,
          11,
          12,
          12,
          12,
          11,
          11,
          12,
          12,
          12,
          12,
          12,
          12,
          12,
          12,
          14,
          14,
          12,
          12,
          13,
          13,
          13,
          13,
          13,
          14,
          12,
          12,
          12,
          11,
          11,
          12,
          13,
          13,
          13,
          13,
          13,
          13,
          13,
          14,
          14,
          15,
          15,
          15,
          15,
          15,
          15,
          15,
          14,
          14,
          14,
          15,
          15,
          15,
          15,
          14,
          14,
          13,
          14,
          12,
          12,
          12,
          12,
          12,
          12,
          12,
          12,
          12,
          12,
          12,
          12,
          12,
          12,
          12,
          12,
          12,
          12,
          11,
          10,
          11,
          11,
          11,
          10,
          11,
          11,
          10,
          10,
          11,
          11,
          11,
          11,
          11,
          11,
          11,
          11,
          11,
          11,
          11,
          11,
          11,
          11,
          12,
          12,
          12,
          12,
          12,
          12,
          12,
          12,
          12,
          12,
          12,
          12,
          12,
          12,
          12,
          12,
          12,
          13,
          13,
          13,
          12,
          12,
          12,
          12,
          11,
          12,
          13,
          13,
          12,
          11,
          12,
          11,
          12,
          13,
          13,
          14,
          14,
          14,
          14,
          14,
          14,
          13,
          13,
          13,
          13,
          13,
          14,
          14,
          14,
          14,
          14,
          14,
          14,
          14,
          14,
          14,
          14,
          13,
          13,
          13,
          13,
          12,
          12,
          12,
          12,
          12,
          12,
          13,
          14,
          14,
          14,
          14,
          14,
          14,
          13,
          13,
          13,
          12,
          13,
          12,
          12,
          12,
          12,
          12,
          13,
          13,
          13,
          13,
          13,
          13,
          13,
          14,
          14,
          14,
          14
         ]
        },
        {
         "customdata": [
          0.7655103087425232,
          0.7314046062529087,
          0.7359954863786697,
          0.7428452037274837,
          0.7389059066772461,
          0.7309453152120113,
          0.7392865903675556,
          0.739986389875412,
          0.7388046607375145,
          0.7474764436483383,
          0.7394085973501205,
          0.7006678382555643,
          0.6719022005796432,
          0.6996471153365241,
          0.7462893985211849,
          0.7442859299480915,
          0.7454700954258442,
          0.7087449398305681,
          0.7383566983044147,
          0.7358930520713329,
          0.7352315858006477,
          0.7037061187956068,
          0.7005911999278598,
          0.725561585277319,
          0.7651858670370919,
          0.7570506760052272,
          0.7613250613212585,
          0.7273739241063595,
          0.6972226136260562,
          0.6942559679349264,
          0.6936901410420736,
          0.69267937541008,
          0.7219512462615967,
          0.6834260192182329,
          0.7635385308946881,
          0.6794267396132151,
          0.6898775100708008,
          0.6973267859882779,
          0.6934039758311378,
          0.6994327240520053,
          0.6589797072940402,
          0.6809345260262489,
          0.6660390231344435,
          0.6777722603744931,
          0.669078571928872,
          0.6801253457864126,
          0.6910120323300362,
          0.6417649745941162,
          0.6611333698034286,
          0.7005889084604051,
          0.7123534679412842,
          0.7165231108665466,
          0.6853834986686707,
          0.6932007908821106,
          0.6995445013046264,
          0.6948592305183411,
          0.7161570025814904,
          0.6964553952217102,
          0.7273403737280104,
          0.724025030930837,
          0.7212822801536984,
          0.7168918881151412,
          0.7010718021127913,
          0.6890064269304276,
          0.6948712855577469,
          0.6765695160085504,
          0.6692650318145752,
          0.6695707494562323,
          0.6615634533492002,
          0.6555202847177332,
          0.655279506336559,
          0.720910906791687,
          0.6813954502344132,
          0.6789714455604553,
          0.7186462250020769,
          0.6711252570152283,
          0.7002885838349661,
          0.702077309290568,
          0.7079253064261543,
          0.703098734219869,
          0.7146442532539368,
          0.7509587151663644,
          0.7475070868219648,
          0.7366835900715419,
          0.6992787085473537,
          0.705706350505352,
          0.675217890077167,
          0.6724766161706712,
          0.6779817177189721,
          0.6841857565773858,
          0.6772647947072983,
          0.6749265849590301,
          0.7000972595479753,
          0.7004923158221774,
          0.7305996380746365,
          0.6974408149719238,
          0.7027176469564438,
          0.7369946075810326,
          0.6948593109846115,
          0.6959604620933533,
          0.6807649821043015,
          0.6993529200553894,
          0.656619668006897,
          0.7130516469478607,
          0.674387925863266,
          0.6911885076098971,
          0.6679927825927734,
          0.6565828293561935,
          0.7087063416838646,
          0.6786198019981384,
          0.6787762973043654,
          0.6531577209631602,
          0.6656893922222985,
          0.6899252699481117,
          0.6969511955976486,
          0.7303438915146722,
          0.725383440653483,
          0.7204339106877645,
          0.7259693112638261,
          0.745252807935079,
          0.7368568148877885,
          0.7786547210481432,
          0.7714797324604459,
          0.7421996146440506,
          0.7187504351139069,
          0.7384697526693345,
          0.7451668530702591,
          0.7513598740100861,
          0.7533363282680512,
          0.7469275534152985,
          0.7610382527112961,
          0.7635583728551865,
          0.7574526190757751,
          0.7350067526102066,
          0.7115835040807724,
          0.7158992290496826,
          0.7294320695930057,
          0.7252529710531235,
          0.720885568857193,
          0.7381181567907333,
          0.7379912734031677,
          0.7078431411222978,
          0.7314685761928559,
          0.7284530103206635,
          0.7234403220089999,
          0.7391217134215615,
          0.7450011237101122,
          0.7424786524339155,
          0.734649734063582,
          0.726214503700083,
          0.7532684922218322,
          0.7235503630204634,
          0.7283621024001729,
          0.7382728294892744,
          0.7279065115885301,
          0.7601817190647125,
          0.7599686920642853,
          0.7411087832667611,
          0.7006651759147644,
          0.7032459725936254,
          0.7231727215376768,
          0.7215153547850522,
          0.693755030632019,
          0.7233588180758737,
          0.7180598703297701,
          0.6727429007490476,
          0.6786560515562693,
          0.7017728361216459,
          0.7048354148864746,
          0.6824856226642927,
          0.7224591049281034,
          0.7211259386756204,
          0.6947360460956892,
          0.6643043433626493,
          0.6547423476974169,
          0.6736099819342295,
          0.6732934837539991,
          0.6744542320569357,
          0.6707591960827509,
          0.659985886170314,
          0.6796686832721417,
          0.6991157875611231,
          0.6904560740177448,
          0.6843065848717322,
          0.6996313631534576,
          0.6577884577787839,
          0.6732358982165655,
          0.6812264594164762,
          0.6717122718691826,
          0.679436648885409,
          0.6737816880146662,
          0.6842222784956297,
          0.689098541935285,
          0.67898940294981,
          0.682897629837195,
          0.6995903009718115,
          0.677665650844574,
          0.6881957460533489,
          0.7203897118568421,
          0.6948236985640093,
          0.7072462764653292,
          0.7128129384734414,
          0.7059015144001354,
          0.6867064779455011,
          0.7226321339607239,
          0.7437498271465302,
          0.7126615480943159,
          0.7101054029031233,
          0.7193527953191237,
          0.7286176437681372,
          0.7275089892474088,
          0.7296374060890891,
          0.7032386741854928,
          0.7185200290246443,
          0.7071739977056329,
          0.7412613413550637,
          0.7430605779994618,
          0.7189409484465917,
          0.7083873823285103,
          0.724842203160127,
          0.7186730752388636,
          0.6971961309512457,
          0.665280669927597,
          0.6733171435502859,
          0.6719760046555445,
          0.7063744217157364,
          0.7437886975028298,
          0.7290844321250916,
          0.6931146314510932,
          0.6957109685127552,
          0.6963324821912326,
          0.6885310824100788,
          0.7250447422266006,
          0.7280252873897552,
          0.7049456586440405,
          0.6859451830387115,
          0.6813195596138636,
          0.6821080893278122,
          0.6939812550942103,
          0.7062429854503045,
          0.7085190644631019,
          0.747151792049408,
          0.758933405081431,
          0.7064814154918377,
          0.7125871594135578,
          0.6762780524217166,
          0.6707499747474989,
          0.7095681862397627,
          0.6894446810086569,
          0.6839285070697466,
          0.7086392072114077,
          0.7514164328575135,
          0.6948467890421549,
          0.725428123365749,
          0.7258640256795016,
          0.703554667532444,
          0.7258459356698123,
          0.7265885309739546,
          0.7632659375667572,
          0.7673775970935821,
          0.7619810819625854,
          0.7511238217353821,
          0.759405106306076,
          0.7346263229846954,
          0.7360873005606912,
          0.7235026522116228,
          0.7575643122196197,
          0.6979260072112083,
          0.7062404031554858,
          0.7319160239263014,
          0.729082931171764,
          0.7238111550157721,
          0.7261507240208712,
          0.686497817436854,
          0.6902158397894639,
          0.7177030593156815,
          0.7195221756895384,
          0.7099665552377701,
          0.7087343633174896,
          0.6890321473280588,
          0.7254226744174957,
          0.7205892622470855,
          0.7104126811027527,
          0.7236499726772309,
          0.7163390934467315,
          0.7505708403057523,
          0.7179890407456292,
          0.6958378076553344,
          0.7062271237373352,
          0.7468756371074252,
          0.752467672030131,
          0.7391714453697205,
          0.7208682199319204,
          0.7240542504522536,
          0.6773514585061506,
          0.7201772729555765,
          0.7174850404262543,
          0.731245830655098,
          0.704321606291665,
          0.6968125171131558,
          0.7085185050964355,
          0.6986143787701925,
          0.6964446405569712,
          0.692981504731708,
          0.6929959588580661,
          0.7064572042889066,
          0.7009785506460402,
          0.7086052629682753,
          0.7132901151974996,
          0.7305647201008267,
          0.7367502583397759,
          0.7084502786397934,
          0.7017117351293564,
          0.7365462713771396,
          0.7080051064491272,
          0.6958994090557098,
          0.704668840765953,
          0.6961854547262192,
          0.6975900858640671,
          0.7001894533634185,
          0.6783094704151154,
          0.6771822923963721,
          0.7120824873447418,
          0.713862520456314,
          0.707795387506485,
          0.6973883748054505,
          0.7138752473725213,
          0.7039055360688103,
          0.7149522834353976,
          0.6927314168877072,
          0.7001314527458615,
          0.6948895421293046,
          0.6978165043724908,
          0.7260498470730252,
          0.714347607559628,
          0.7248840398258634,
          0.7351719604598151,
          0.7256457308928171,
          0.691955977678299,
          0.6911314964294434,
          0.6896513938903809,
          0.7021873626444075,
          0.6924629774358537,
          0.7182125846544901,
          0.6847587525844574,
          0.6749118357896805,
          0.7007187836700015,
          0.6721126867665185,
          0.6788201332092285,
          0.6766549514399635,
          0.6873022086090512,
          0.6969883475038741,
          0.7078706390327878,
          0.7088973224163055,
          0.7198471062713199,
          0.721220937040117,
          0.6909378707408905,
          0.6791350036859513,
          0.6627319872379303,
          0.6738077014684677,
          0.6812509059906006,
          0.6958680318461524,
          0.6577474342452155,
          0.6490660044882033,
          0.6377680434121026,
          0.6575622893869877,
          0.620561483502388,
          0.6594340614974499,
          0.7000442780554295,
          0.6547397941350936,
          0.6519710928201675,
          0.637774340131066,
          0.6397823095321655,
          0.6782998475763533,
          0.664542943239212,
          0.6712145298719406,
          0.641370952129364,
          0.6766406628820631,
          0.6739933159616258,
          0.6350313603878022,
          0.6673007547855377,
          0.6752753191524081,
          0.6387385249137878,
          0.6549056202173233,
          0.6499102264642715,
          0.6401920050382615,
          0.6842810644043816,
          0.6595380252057855,
          0.6741931330073964,
          0.6668915125456724,
          0.6549279310486533,
          0.6566424532370134,
          0.6558615402741865,
          0.6449549441987817,
          0.6281585530801252,
          0.6225887184793298,
          0.6139483831145547,
          0.6303470947525718,
          0.6626607676347097,
          0.6837940886616707,
          0.6526442070802053,
          0.6214964717626572,
          0.6160272061824799,
          0.6543828811910417,
          0.6907854378223419,
          0.7178669060979571,
          0.7289529953684125,
          0.6569197376569113,
          0.6707634255290031,
          0.6953576393425465,
          0.6758888810873032,
          0.6676796442932553,
          0.6317716836929321,
          0.5947539020668376,
          0.6165049292824485,
          0.6231732774864543,
          0.5981136018579657,
          0.6019354462623596,
          0.6144301810047843,
          0.6130306050181389,
          0.6500776320695877,
          0.6730243265628815,
          0.6681503385305405,
          0.6311488632972424,
          0.6430805896719297,
          0.6261251660493704,
          0.6491321374972662,
          0.6672612022269856,
          0.6692930676720359,
          0.6853125095367432,
          0.6882845640182496,
          0.6843671852892096,
          0.6878049969673157,
          0.6822791614315726,
          0.6832700832323595,
          0.6793845268813047,
          0.6754686398939653,
          0.6804881502281536,
          0.6739917124311129,
          0.6426955553201529,
          0.7136083692312241,
          0.6915056705474854,
          0.6708032165964445,
          0.6532289832830429,
          0.6618003249168396,
          0.6939118057489395,
          0.6824577401081721,
          0.6625903074940046,
          0.6489885300397873,
          0.6618115062063391,
          0.6274068256219228,
          0.624832407786296,
          0.6606328512231509,
          0.6628587866822878,
          0.6405778179566065,
          0.6791048049926758,
          0.6967450082302094,
          0.6974485814571381,
          0.7050686240196228,
          0.7086753398180008,
          0.7066118746995926,
          0.7094021916389466,
          0.7138353615999222,
          0.7091707468032837,
          0.7068819373846054,
          0.6954291075468063,
          0.7120433847109476,
          0.7190571824709574,
          0.7260925306214226,
          0.7138604323069254,
          0.7088499466578165,
          0.6565800146623091,
          0.6597327806732871,
          0.65979582319657,
          0.6667229722846638,
          0.6480028058091799,
          0.6841720134019852,
          0.6683988842097196,
          0.6646064953370527,
          0.6891269564628602,
          0.6653665439649061,
          0.6768116463314403,
          0.6870196282863616,
          0.6591662436723709,
          0.6600233525037765,
          0.6580250501632691,
          0.6819164554278055,
          0.6937785844008127,
          0.6871920890278287,
          0.6904653112093607,
          0.6835687988334231,
          0.6904846264256371,
          0.6702808671527438,
          0.6586597230699327,
          0.6781888827681541,
          0.6394395530223846,
          0.7030182182788849,
          0.6564975865185261,
          0.6433130018413067,
          0.6502966769039631,
          0.6140165461434258,
          0.6235810683833228,
          0.6186472144391801,
          0.6591922119259834,
          0.6503479116492801,
          0.6655212508307563,
          0.7028092592954636,
          0.6812339015305042,
          0.7044057037149157,
          0.6669172719120979,
          0.6796987429261208,
          0.6970862713125017,
          0.6879035606980324,
          0.7026728168129921,
          0.6739528253674507,
          0.677728746086359,
          0.6829989701509476,
          0.6750467605888844,
          0.6876610182225704,
          0.6893691803727832,
          0.7394183973471323,
          0.6891223639249802,
          0.6516531333327293,
          0.7004559678690774,
          0.748863011598587,
          0.7112660706043243,
          0.6775643490254879,
          0.7133842408657074,
          0.6512714326381683,
          0.6694312861987523,
          0.6398056192057473,
          0.597906019538641,
          0.6254502758383751,
          0.6047459602355957,
          0.6176421211825477,
          0.6380528344048394,
          0.624404768149058,
          0.6167957882086436,
          0.6157573031054603,
          0.6312252448664771,
          0.6202087432146073,
          0.6452663143475851,
          0.6567925777700212,
          0.6280144453048706,
          0.6089144918051633,
          0.5895936272361062,
          0.5948427671735937,
          0.6225182443857193,
          0.606231998313557,
          0.6006612127477472,
          0.6400247249338362,
          0.6018952971154993,
          0.5893433963259062,
          0.5923249498009682,
          0.5833562587698301,
          0.6008971109986305,
          0.6261266867319742,
          0.6239115297794342,
          0.6298556625843048,
          0.6312475626667341,
          0.6355348137708811,
          0.6186522520505465,
          0.621323324739933,
          0.5954331136666812,
          0.5984905362129211,
          0.6257438253272664,
          0.6485720656134866,
          0.6477430679581382,
          0.659512536092238,
          0.6584358513355255,
          0.6577670547095212,
          0.6663638570091941,
          0.6778538985685869,
          0.6846102719957178,
          0.6840525973926891,
          0.6747475185177543,
          0.6589665575460955,
          0.6595954954624176,
          0.6511692553758621,
          0.6516475558280945,
          0.6679160952568054,
          0.6577469050884247,
          0.6624425888061524,
          0.6572825193405152,
          0.6567165702581406,
          0.6504022270441056,
          0.6619000971317291,
          0.681371831231647,
          0.6853545904159546,
          0.705136819018258,
          0.7081851462523142,
          0.7026200658745236,
          0.702200346522861,
          0.7033557759390937,
          0.7041007181008657,
          0.7115432951185439,
          0.7203108800782098,
          0.7116410334904989,
          0.7192904750506083,
          0.7154519491725497,
          0.6816472291946412,
          0.6854169815778732,
          0.6956057667732238,
          0.7201833873987198,
          0.7038800925016403,
          0.6906702786684036,
          0.6916361451148987,
          0.6942761927843094,
          0.6950902998447418,
          0.6959251374006271,
          0.6919345140457154,
          0.6791171312332154,
          0.6585540256716989,
          0.6628985946828668,
          0.6740092824805867,
          0.6829457635229285,
          0.6883093958551233,
          0.6683229180899534,
          0.6591725484891371,
          0.6464052715084769,
          0.6620637205514041,
          0.6474429937926206,
          0.6573666415431283,
          0.6467028639533303,
          0.66687713265419,
          0.694126202000512,
          0.6700583428144455,
          0.6794636756181717,
          0.6736473982984369,
          0.6392893716692924,
          0.6331325496236483,
          0.6277398491899172,
          0.655422256751494,
          0.6591701507568359,
          0.6655688475478779,
          0.6511787040667101,
          0.6700337350368499,
          0.6606947720050812,
          0.6768762439489364,
          0.6704183608293534,
          0.6387116773561998,
          0.6268320652571592,
          0.6612383398142728,
          0.6464966427196156,
          0.6511271108280529,
          0.6639497171748768,
          0.6608213592659343,
          0.6568641906434839,
          0.6781599402427674,
          0.6679815232753754,
          0.6708753377199173,
          0.6858979612588882,
          0.6628753515807065,
          0.6745387434959411,
          0.668511375784874,
          0.6802777945995331,
          0.6557088169184598,
          0.6674314260482788,
          0.6750492215156555,
          0.6987275362014771,
          0.6968388736248017,
          0.680083042383194,
          0.6889237880706787,
          0.7122215688228607,
          0.7152586698532104,
          0.6992717195640911,
          0.6987119127403606,
          0.6955101191997528,
          0.6839888231320814,
          0.6432213729078119,
          0.6775589942932129,
          0.661366506056352,
          0.6509648019617255,
          0.6743580728769303,
          0.6786971509456634,
          0.6735463440418243,
          0.6599411636590957,
          0.6364197785204108,
          0.6564160016450015,
          0.6454819142818451,
          0.6448148109696128,
          0.6483028178865259,
          0.6416540118781003,
          0.673787659406662,
          0.6335219957611777,
          0.6769008010625839,
          0.6786154627799987,
          0.679478645324707,
          0.6863991349935532,
          0.6791891992092133,
          0.6663022458553314,
          0.6427671936425295,
          0.6328529471700842,
          0.6635124236345291,
          0.6478631306778301,
          0.669344961643219,
          0.7038199239306979,
          0.7000539898872375,
          0.6804808050394058,
          0.6851179599761963,
          0.6674725250764326,
          0.662512944503264,
          0.7107812696033053,
          0.7116195758183798,
          0.7125657200813293
         ],
         "hovertemplate": "Frame: %{x}<br>People: %{y}<br>Model: YOLO11x<br>Avg Confidence: %{customdata:.2f}",
         "mode": "lines",
         "name": "YOLO11x",
         "type": "scatter",
         "x": [
          1,
          2,
          3,
          4,
          5,
          6,
          7,
          8,
          9,
          10,
          11,
          12,
          13,
          14,
          15,
          16,
          17,
          18,
          19,
          20,
          21,
          22,
          23,
          24,
          25,
          26,
          27,
          28,
          29,
          30,
          31,
          32,
          33,
          34,
          35,
          36,
          37,
          38,
          39,
          40,
          41,
          42,
          43,
          44,
          45,
          46,
          47,
          48,
          49,
          50,
          51,
          52,
          53,
          54,
          55,
          56,
          57,
          58,
          59,
          60,
          61,
          62,
          63,
          64,
          65,
          66,
          67,
          68,
          69,
          70,
          71,
          72,
          73,
          74,
          75,
          76,
          77,
          78,
          79,
          80,
          81,
          82,
          83,
          84,
          85,
          86,
          87,
          88,
          89,
          90,
          91,
          92,
          93,
          94,
          95,
          96,
          97,
          98,
          99,
          100,
          101,
          102,
          103,
          104,
          105,
          106,
          107,
          108,
          109,
          110,
          111,
          112,
          113,
          114,
          115,
          116,
          117,
          118,
          119,
          120,
          121,
          122,
          123,
          124,
          125,
          126,
          127,
          128,
          129,
          130,
          131,
          132,
          133,
          134,
          135,
          136,
          137,
          138,
          139,
          140,
          141,
          142,
          143,
          144,
          145,
          146,
          147,
          148,
          149,
          150,
          151,
          152,
          153,
          154,
          155,
          156,
          157,
          158,
          159,
          160,
          161,
          162,
          163,
          164,
          165,
          166,
          167,
          168,
          169,
          170,
          171,
          172,
          173,
          174,
          175,
          176,
          177,
          178,
          179,
          180,
          181,
          182,
          183,
          184,
          185,
          186,
          187,
          188,
          189,
          190,
          191,
          192,
          193,
          194,
          195,
          196,
          197,
          198,
          199,
          200,
          201,
          202,
          203,
          204,
          205,
          206,
          207,
          208,
          209,
          210,
          211,
          212,
          213,
          214,
          215,
          216,
          217,
          218,
          219,
          220,
          221,
          222,
          223,
          224,
          225,
          226,
          227,
          228,
          229,
          230,
          231,
          232,
          233,
          234,
          235,
          236,
          237,
          238,
          239,
          240,
          241,
          242,
          243,
          244,
          245,
          246,
          247,
          248,
          249,
          250,
          251,
          252,
          253,
          254,
          255,
          256,
          257,
          258,
          259,
          260,
          261,
          262,
          263,
          264,
          265,
          266,
          267,
          268,
          269,
          270,
          271,
          272,
          273,
          274,
          275,
          276,
          277,
          278,
          279,
          280,
          281,
          282,
          283,
          284,
          285,
          286,
          287,
          288,
          289,
          290,
          291,
          292,
          293,
          294,
          295,
          296,
          297,
          298,
          299,
          300,
          301,
          302,
          303,
          304,
          305,
          306,
          307,
          308,
          309,
          310,
          311,
          312,
          313,
          314,
          315,
          316,
          317,
          318,
          319,
          320,
          321,
          322,
          323,
          324,
          325,
          326,
          327,
          328,
          329,
          330,
          331,
          332,
          333,
          334,
          335,
          336,
          337,
          338,
          339,
          340,
          341,
          342,
          343,
          344,
          345,
          346,
          347,
          348,
          349,
          350,
          351,
          352,
          353,
          354,
          355,
          356,
          357,
          358,
          359,
          360,
          361,
          362,
          363,
          364,
          365,
          366,
          367,
          368,
          369,
          370,
          371,
          372,
          373,
          374,
          375,
          376,
          377,
          378,
          379,
          380,
          381,
          382,
          383,
          384,
          385,
          386,
          387,
          388,
          389,
          390,
          391,
          392,
          393,
          394,
          395,
          396,
          397,
          398,
          399,
          400,
          401,
          402,
          403,
          404,
          405,
          406,
          407,
          408,
          409,
          410,
          411,
          412,
          413,
          414,
          415,
          416,
          417,
          418,
          419,
          420,
          421,
          422,
          423,
          424,
          425,
          426,
          427,
          428,
          429,
          430,
          431,
          432,
          433,
          434,
          435,
          436,
          437,
          438,
          439,
          440,
          441,
          442,
          443,
          444,
          445,
          446,
          447,
          448,
          449,
          450,
          451,
          452,
          453,
          454,
          455,
          456,
          457,
          458,
          459,
          460,
          461,
          462,
          463,
          464,
          465,
          466,
          467,
          468,
          469,
          470,
          471,
          472,
          473,
          474,
          475,
          476,
          477,
          478,
          479,
          480,
          481,
          482,
          483,
          484,
          485,
          486,
          487,
          488,
          489,
          490,
          491,
          492,
          493,
          494,
          495,
          496,
          497,
          498,
          499,
          500,
          501,
          502,
          503,
          504,
          505,
          506,
          507,
          508,
          509,
          510,
          511,
          512,
          513,
          514,
          515,
          516,
          517,
          518,
          519,
          520,
          521,
          522,
          523,
          524,
          525,
          526,
          527,
          528,
          529,
          530,
          531,
          532,
          533,
          534,
          535,
          536,
          537,
          538,
          539,
          540,
          541,
          542,
          543,
          544,
          545,
          546,
          547,
          548,
          549,
          550,
          551,
          552,
          553,
          554,
          555,
          556,
          557,
          558,
          559,
          560,
          561,
          562,
          563,
          564,
          565,
          566,
          567,
          568,
          569,
          570,
          571,
          572,
          573,
          574,
          575,
          576,
          577,
          578,
          579,
          580,
          581,
          582,
          583,
          584,
          585,
          586,
          587,
          588,
          589,
          590,
          591,
          592,
          593,
          594,
          595,
          596,
          597,
          598,
          599,
          600,
          601,
          602,
          603,
          604,
          605,
          606,
          607,
          608,
          609,
          610,
          611,
          612,
          613,
          614,
          615,
          616,
          617,
          618,
          619,
          620,
          621,
          622,
          623,
          624,
          625,
          626,
          627,
          628,
          629,
          630,
          631,
          632,
          633,
          634,
          635,
          636,
          637,
          638,
          639,
          640,
          641,
          642,
          643,
          644,
          645,
          646,
          647,
          648,
          649,
          650,
          651,
          652,
          653,
          654,
          655,
          656,
          657,
          658,
          659,
          660,
          661,
          662,
          663,
          664,
          665,
          666,
          667,
          668,
          669,
          670,
          671,
          672,
          673,
          674,
          675,
          676,
          677,
          678,
          679,
          680,
          681,
          682,
          683,
          684,
          685,
          686,
          687,
          688,
          689,
          690,
          691,
          692,
          693,
          694,
          695,
          696,
          697,
          698,
          699,
          700,
          701,
          702,
          703,
          704,
          705
         ],
         "y": [
          5,
          8,
          8,
          8,
          8,
          8,
          8,
          8,
          8,
          8,
          8,
          9,
          10,
          9,
          8,
          8,
          8,
          9,
          8,
          8,
          8,
          9,
          9,
          8,
          7,
          7,
          7,
          8,
          9,
          9,
          9,
          9,
          8,
          9,
          7,
          9,
          9,
          9,
          9,
          9,
          9,
          8,
          9,
          9,
          9,
          9,
          8,
          10,
          10,
          9,
          9,
          9,
          10,
          10,
          10,
          10,
          9,
          10,
          9,
          9,
          9,
          9,
          9,
          10,
          10,
          11,
          11,
          11,
          11,
          11,
          11,
          9,
          10,
          10,
          9,
          10,
          9,
          9,
          9,
          9,
          8,
          7,
          7,
          7,
          8,
          8,
          9,
          9,
          9,
          9,
          10,
          10,
          9,
          9,
          8,
          10,
          10,
          9,
          10,
          10,
          10,
          9,
          10,
          8,
          10,
          9,
          10,
          10,
          8,
          9,
          9,
          9,
          9,
          9,
          10,
          9,
          9,
          9,
          9,
          9,
          9,
          9,
          9,
          10,
          10,
          10,
          10,
          10,
          10,
          10,
          10,
          10,
          10,
          10,
          10,
          10,
          9,
          10,
          10,
          10,
          10,
          11,
          10,
          10,
          11,
          11,
          11,
          11,
          11,
          11,
          10,
          11,
          11,
          11,
          11,
          10,
          10,
          11,
          12,
          12,
          11,
          11,
          12,
          11,
          11,
          12,
          12,
          11,
          11,
          12,
          11,
          11,
          12,
          12,
          12,
          12,
          12,
          12,
          12,
          13,
          13,
          13,
          13,
          13,
          12,
          13,
          12,
          11,
          12,
          12,
          12,
          12,
          12,
          12,
          12,
          11,
          12,
          11,
          10,
          11,
          11,
          11,
          11,
          11,
          10,
          10,
          11,
          11,
          11,
          11,
          11,
          11,
          11,
          11,
          11,
          11,
          11,
          12,
          12,
          12,
          12,
          12,
          13,
          13,
          13,
          12,
          11,
          12,
          13,
          13,
          13,
          13,
          12,
          12,
          12,
          12,
          12,
          12,
          12,
          13,
          13,
          12,
          12,
          13,
          13,
          13,
          12,
          11,
          12,
          12,
          11,
          10,
          12,
          11,
          11,
          12,
          11,
          11,
          10,
          10,
          10,
          10,
          10,
          11,
          11,
          11,
          10,
          12,
          12,
          11,
          11,
          11,
          11,
          12,
          13,
          12,
          12,
          12,
          12,
          12,
          10,
          10,
          10,
          10,
          10,
          9,
          9,
          10,
          10,
          9,
          9,
          9,
          9,
          9,
          11,
          9,
          9,
          8,
          9,
          9,
          9,
          9,
          9,
          9,
          9,
          9,
          9,
          9,
          9,
          9,
          9,
          10,
          10,
          9,
          10,
          10,
          10,
          10,
          10,
          10,
          11,
          11,
          10,
          10,
          10,
          10,
          9,
          9,
          9,
          9,
          9,
          9,
          9,
          9,
          9,
          9,
          9,
          9,
          10,
          10,
          10,
          9,
          9,
          9,
          10,
          10,
          9,
          9,
          9,
          9,
          9,
          9,
          9,
          9,
          9,
          9,
          10,
          10,
          10,
          10,
          10,
          9,
          9,
          9,
          9,
          8,
          10,
          8,
          8,
          10,
          10,
          11,
          11,
          9,
          10,
          10,
          10,
          9,
          9,
          10,
          10,
          9,
          10,
          10,
          10,
          10,
          9,
          11,
          11,
          11,
          11,
          11,
          11,
          11,
          11,
          11,
          11,
          11,
          9,
          8,
          9,
          10,
          10,
          9,
          7,
          7,
          7,
          9,
          8,
          8,
          8,
          9,
          10,
          11,
          11,
          11,
          11,
          11,
          11,
          12,
          10,
          10,
          10,
          13,
          12,
          13,
          12,
          11,
          11,
          10,
          10,
          11,
          11,
          11,
          11,
          11,
          11,
          11,
          12,
          13,
          10,
          11,
          12,
          12,
          13,
          12,
          12,
          12,
          12,
          11,
          12,
          13,
          12,
          12,
          12,
          10,
          10,
          10,
          10,
          10,
          10,
          10,
          10,
          10,
          10,
          10,
          9,
          9,
          9,
          9,
          9,
          11,
          11,
          12,
          11,
          12,
          10,
          11,
          11,
          10,
          11,
          11,
          10,
          10,
          10,
          10,
          9,
          9,
          9,
          9,
          9,
          9,
          9,
          9,
          8,
          9,
          7,
          8,
          8,
          8,
          9,
          9,
          9,
          8,
          9,
          9,
          8,
          8,
          7,
          8,
          8,
          9,
          8,
          8,
          8,
          8,
          8,
          8,
          8,
          7,
          6,
          8,
          8,
          7,
          6,
          7,
          8,
          7,
          8,
          7,
          7,
          8,
          8,
          10,
          9,
          9,
          9,
          9,
          9,
          9,
          10,
          9,
          9,
          11,
          11,
          11,
          11,
          10,
          11,
          11,
          9,
          11,
          12,
          12,
          12,
          12,
          12,
          12,
          12,
          12,
          13,
          13,
          12,
          13,
          12,
          11,
          11,
          11,
          11,
          11,
          11,
          11,
          11,
          11,
          11,
          11,
          11,
          10,
          10,
          10,
          10,
          10,
          10,
          10,
          10,
          10,
          10,
          9,
          9,
          9,
          9,
          9,
          9,
          9,
          9,
          9,
          9,
          9,
          9,
          9,
          10,
          10,
          10,
          10,
          10,
          10,
          10,
          10,
          10,
          10,
          10,
          10,
          11,
          11,
          11,
          11,
          11,
          11,
          11,
          11,
          11,
          11,
          11,
          11,
          10,
          9,
          10,
          10,
          11,
          12,
          12,
          12,
          11,
          11,
          11,
          11,
          10,
          10,
          10,
          10,
          11,
          11,
          11,
          11,
          11,
          11,
          11,
          11,
          10,
          10,
          10,
          10,
          11,
          10,
          10,
          10,
          11,
          10,
          10,
          10,
          10,
          10,
          10,
          10,
          10,
          11,
          11,
          11,
          11,
          11,
          10,
          11,
          11,
          10,
          10,
          10,
          10,
          11,
          11,
          11,
          11,
          11,
          11,
          10,
          11,
          10,
          10,
          10,
          10,
          10,
          10,
          11,
          11,
          10,
          11,
          10,
          9,
          9,
          10,
          10,
          11,
          11,
          9,
          9,
          9
         ]
        }
       ],
       "layout": {
        "annotations": [
         {
          "showarrow": false,
          "text": "Max Diff",
          "x": 407,
          "xanchor": "center",
          "xref": "x",
          "y": 1,
          "yanchor": "bottom",
          "yref": "y domain"
         }
        ],
        "legend": {
         "tracegroupgap": 0
        },
        "shapes": [
         {
          "line": {
           "dash": "dash"
          },
          "type": "line",
          "x0": 407,
          "x1": 407,
          "xref": "x",
          "y0": 0,
          "y1": 1,
          "yref": "y domain"
         }
        ],
        "template": {
         "data": {
          "bar": [
           {
            "error_x": {
             "color": "#2a3f5f"
            },
            "error_y": {
             "color": "#2a3f5f"
            },
            "marker": {
             "line": {
              "color": "#E5ECF6",
              "width": 0.5
             },
             "pattern": {
              "fillmode": "overlay",
              "size": 10,
              "solidity": 0.2
             }
            },
            "type": "bar"
           }
          ],
          "barpolar": [
           {
            "marker": {
             "line": {
              "color": "#E5ECF6",
              "width": 0.5
             },
             "pattern": {
              "fillmode": "overlay",
              "size": 10,
              "solidity": 0.2
             }
            },
            "type": "barpolar"
           }
          ],
          "carpet": [
           {
            "aaxis": {
             "endlinecolor": "#2a3f5f",
             "gridcolor": "white",
             "linecolor": "white",
             "minorgridcolor": "white",
             "startlinecolor": "#2a3f5f"
            },
            "baxis": {
             "endlinecolor": "#2a3f5f",
             "gridcolor": "white",
             "linecolor": "white",
             "minorgridcolor": "white",
             "startlinecolor": "#2a3f5f"
            },
            "type": "carpet"
           }
          ],
          "choropleth": [
           {
            "colorbar": {
             "outlinewidth": 0,
             "ticks": ""
            },
            "type": "choropleth"
           }
          ],
          "contour": [
           {
            "colorbar": {
             "outlinewidth": 0,
             "ticks": ""
            },
            "colorscale": [
             [
              0,
              "#0d0887"
             ],
             [
              0.1111111111111111,
              "#46039f"
             ],
             [
              0.2222222222222222,
              "#7201a8"
             ],
             [
              0.3333333333333333,
              "#9c179e"
             ],
             [
              0.4444444444444444,
              "#bd3786"
             ],
             [
              0.5555555555555556,
              "#d8576b"
             ],
             [
              0.6666666666666666,
              "#ed7953"
             ],
             [
              0.7777777777777778,
              "#fb9f3a"
             ],
             [
              0.8888888888888888,
              "#fdca26"
             ],
             [
              1,
              "#f0f921"
             ]
            ],
            "type": "contour"
           }
          ],
          "contourcarpet": [
           {
            "colorbar": {
             "outlinewidth": 0,
             "ticks": ""
            },
            "type": "contourcarpet"
           }
          ],
          "heatmap": [
           {
            "colorbar": {
             "outlinewidth": 0,
             "ticks": ""
            },
            "colorscale": [
             [
              0,
              "#0d0887"
             ],
             [
              0.1111111111111111,
              "#46039f"
             ],
             [
              0.2222222222222222,
              "#7201a8"
             ],
             [
              0.3333333333333333,
              "#9c179e"
             ],
             [
              0.4444444444444444,
              "#bd3786"
             ],
             [
              0.5555555555555556,
              "#d8576b"
             ],
             [
              0.6666666666666666,
              "#ed7953"
             ],
             [
              0.7777777777777778,
              "#fb9f3a"
             ],
             [
              0.8888888888888888,
              "#fdca26"
             ],
             [
              1,
              "#f0f921"
             ]
            ],
            "type": "heatmap"
           }
          ],
          "histogram": [
           {
            "marker": {
             "pattern": {
              "fillmode": "overlay",
              "size": 10,
              "solidity": 0.2
             }
            },
            "type": "histogram"
           }
          ],
          "histogram2d": [
           {
            "colorbar": {
             "outlinewidth": 0,
             "ticks": ""
            },
            "colorscale": [
             [
              0,
              "#0d0887"
             ],
             [
              0.1111111111111111,
              "#46039f"
             ],
             [
              0.2222222222222222,
              "#7201a8"
             ],
             [
              0.3333333333333333,
              "#9c179e"
             ],
             [
              0.4444444444444444,
              "#bd3786"
             ],
             [
              0.5555555555555556,
              "#d8576b"
             ],
             [
              0.6666666666666666,
              "#ed7953"
             ],
             [
              0.7777777777777778,
              "#fb9f3a"
             ],
             [
              0.8888888888888888,
              "#fdca26"
             ],
             [
              1,
              "#f0f921"
             ]
            ],
            "type": "histogram2d"
           }
          ],
          "histogram2dcontour": [
           {
            "colorbar": {
             "outlinewidth": 0,
             "ticks": ""
            },
            "colorscale": [
             [
              0,
              "#0d0887"
             ],
             [
              0.1111111111111111,
              "#46039f"
             ],
             [
              0.2222222222222222,
              "#7201a8"
             ],
             [
              0.3333333333333333,
              "#9c179e"
             ],
             [
              0.4444444444444444,
              "#bd3786"
             ],
             [
              0.5555555555555556,
              "#d8576b"
             ],
             [
              0.6666666666666666,
              "#ed7953"
             ],
             [
              0.7777777777777778,
              "#fb9f3a"
             ],
             [
              0.8888888888888888,
              "#fdca26"
             ],
             [
              1,
              "#f0f921"
             ]
            ],
            "type": "histogram2dcontour"
           }
          ],
          "mesh3d": [
           {
            "colorbar": {
             "outlinewidth": 0,
             "ticks": ""
            },
            "type": "mesh3d"
           }
          ],
          "parcoords": [
           {
            "line": {
             "colorbar": {
              "outlinewidth": 0,
              "ticks": ""
             }
            },
            "type": "parcoords"
           }
          ],
          "pie": [
           {
            "automargin": true,
            "type": "pie"
           }
          ],
          "scatter": [
           {
            "fillpattern": {
             "fillmode": "overlay",
             "size": 10,
             "solidity": 0.2
            },
            "type": "scatter"
           }
          ],
          "scatter3d": [
           {
            "line": {
             "colorbar": {
              "outlinewidth": 0,
              "ticks": ""
             }
            },
            "marker": {
             "colorbar": {
              "outlinewidth": 0,
              "ticks": ""
             }
            },
            "type": "scatter3d"
           }
          ],
          "scattercarpet": [
           {
            "marker": {
             "colorbar": {
              "outlinewidth": 0,
              "ticks": ""
             }
            },
            "type": "scattercarpet"
           }
          ],
          "scattergeo": [
           {
            "marker": {
             "colorbar": {
              "outlinewidth": 0,
              "ticks": ""
             }
            },
            "type": "scattergeo"
           }
          ],
          "scattergl": [
           {
            "marker": {
             "colorbar": {
              "outlinewidth": 0,
              "ticks": ""
             }
            },
            "type": "scattergl"
           }
          ],
          "scattermap": [
           {
            "marker": {
             "colorbar": {
              "outlinewidth": 0,
              "ticks": ""
             }
            },
            "type": "scattermap"
           }
          ],
          "scattermapbox": [
           {
            "marker": {
             "colorbar": {
              "outlinewidth": 0,
              "ticks": ""
             }
            },
            "type": "scattermapbox"
           }
          ],
          "scatterpolar": [
           {
            "marker": {
             "colorbar": {
              "outlinewidth": 0,
              "ticks": ""
             }
            },
            "type": "scatterpolar"
           }
          ],
          "scatterpolargl": [
           {
            "marker": {
             "colorbar": {
              "outlinewidth": 0,
              "ticks": ""
             }
            },
            "type": "scatterpolargl"
           }
          ],
          "scatterternary": [
           {
            "marker": {
             "colorbar": {
              "outlinewidth": 0,
              "ticks": ""
             }
            },
            "type": "scatterternary"
           }
          ],
          "surface": [
           {
            "colorbar": {
             "outlinewidth": 0,
             "ticks": ""
            },
            "colorscale": [
             [
              0,
              "#0d0887"
             ],
             [
              0.1111111111111111,
              "#46039f"
             ],
             [
              0.2222222222222222,
              "#7201a8"
             ],
             [
              0.3333333333333333,
              "#9c179e"
             ],
             [
              0.4444444444444444,
              "#bd3786"
             ],
             [
              0.5555555555555556,
              "#d8576b"
             ],
             [
              0.6666666666666666,
              "#ed7953"
             ],
             [
              0.7777777777777778,
              "#fb9f3a"
             ],
             [
              0.8888888888888888,
              "#fdca26"
             ],
             [
              1,
              "#f0f921"
             ]
            ],
            "type": "surface"
           }
          ],
          "table": [
           {
            "cells": {
             "fill": {
              "color": "#EBF0F8"
             },
             "line": {
              "color": "white"
             }
            },
            "header": {
             "fill": {
              "color": "#C8D4E3"
             },
             "line": {
              "color": "white"
             }
            },
            "type": "table"
           }
          ]
         },
         "layout": {
          "annotationdefaults": {
           "arrowcolor": "#2a3f5f",
           "arrowhead": 0,
           "arrowwidth": 1
          },
          "autotypenumbers": "strict",
          "coloraxis": {
           "colorbar": {
            "outlinewidth": 0,
            "ticks": ""
           }
          },
          "colorscale": {
           "diverging": [
            [
             0,
             "#8e0152"
            ],
            [
             0.1,
             "#c51b7d"
            ],
            [
             0.2,
             "#de77ae"
            ],
            [
             0.3,
             "#f1b6da"
            ],
            [
             0.4,
             "#fde0ef"
            ],
            [
             0.5,
             "#f7f7f7"
            ],
            [
             0.6,
             "#e6f5d0"
            ],
            [
             0.7,
             "#b8e186"
            ],
            [
             0.8,
             "#7fbc41"
            ],
            [
             0.9,
             "#4d9221"
            ],
            [
             1,
             "#276419"
            ]
           ],
           "sequential": [
            [
             0,
             "#0d0887"
            ],
            [
             0.1111111111111111,
             "#46039f"
            ],
            [
             0.2222222222222222,
             "#7201a8"
            ],
            [
             0.3333333333333333,
             "#9c179e"
            ],
            [
             0.4444444444444444,
             "#bd3786"
            ],
            [
             0.5555555555555556,
             "#d8576b"
            ],
            [
             0.6666666666666666,
             "#ed7953"
            ],
            [
             0.7777777777777778,
             "#fb9f3a"
            ],
            [
             0.8888888888888888,
             "#fdca26"
            ],
            [
             1,
             "#f0f921"
            ]
           ],
           "sequentialminus": [
            [
             0,
             "#0d0887"
            ],
            [
             0.1111111111111111,
             "#46039f"
            ],
            [
             0.2222222222222222,
             "#7201a8"
            ],
            [
             0.3333333333333333,
             "#9c179e"
            ],
            [
             0.4444444444444444,
             "#bd3786"
            ],
            [
             0.5555555555555556,
             "#d8576b"
            ],
            [
             0.6666666666666666,
             "#ed7953"
            ],
            [
             0.7777777777777778,
             "#fb9f3a"
            ],
            [
             0.8888888888888888,
             "#fdca26"
            ],
            [
             1,
             "#f0f921"
            ]
           ]
          },
          "colorway": [
           "#636efa",
           "#EF553B",
           "#00cc96",
           "#ab63fa",
           "#FFA15A",
           "#19d3f3",
           "#FF6692",
           "#B6E880",
           "#FF97FF",
           "#FECB52"
          ],
          "font": {
           "color": "#2a3f5f"
          },
          "geo": {
           "bgcolor": "white",
           "lakecolor": "white",
           "landcolor": "#E5ECF6",
           "showlakes": true,
           "showland": true,
           "subunitcolor": "white"
          },
          "hoverlabel": {
           "align": "left"
          },
          "hovermode": "closest",
          "mapbox": {
           "style": "light"
          },
          "paper_bgcolor": "white",
          "plot_bgcolor": "#E5ECF6",
          "polar": {
           "angularaxis": {
            "gridcolor": "white",
            "linecolor": "white",
            "ticks": ""
           },
           "bgcolor": "#E5ECF6",
           "radialaxis": {
            "gridcolor": "white",
            "linecolor": "white",
            "ticks": ""
           }
          },
          "scene": {
           "xaxis": {
            "backgroundcolor": "#E5ECF6",
            "gridcolor": "white",
            "gridwidth": 2,
            "linecolor": "white",
            "showbackground": true,
            "ticks": "",
            "zerolinecolor": "white"
           },
           "yaxis": {
            "backgroundcolor": "#E5ECF6",
            "gridcolor": "white",
            "gridwidth": 2,
            "linecolor": "white",
            "showbackground": true,
            "ticks": "",
            "zerolinecolor": "white"
           },
           "zaxis": {
            "backgroundcolor": "#E5ECF6",
            "gridcolor": "white",
            "gridwidth": 2,
            "linecolor": "white",
            "showbackground": true,
            "ticks": "",
            "zerolinecolor": "white"
           }
          },
          "shapedefaults": {
           "line": {
            "color": "#2a3f5f"
           }
          },
          "ternary": {
           "aaxis": {
            "gridcolor": "white",
            "linecolor": "white",
            "ticks": ""
           },
           "baxis": {
            "gridcolor": "white",
            "linecolor": "white",
            "ticks": ""
           },
           "bgcolor": "#E5ECF6",
           "caxis": {
            "gridcolor": "white",
            "linecolor": "white",
            "ticks": ""
           }
          },
          "title": {
           "x": 0.05
          },
          "xaxis": {
           "automargin": true,
           "gridcolor": "white",
           "linecolor": "white",
           "ticks": "",
           "title": {
            "standoff": 15
           },
           "zerolinecolor": "white",
           "zerolinewidth": 2
          },
          "yaxis": {
           "automargin": true,
           "gridcolor": "white",
           "linecolor": "white",
           "ticks": "",
           "title": {
            "standoff": 15
           },
           "zerolinecolor": "white",
           "zerolinewidth": 2
          }
         }
        },
        "title": {
         "text": "People Count Comparison"
        },
        "xaxis": {
         "anchor": "y",
         "domain": [
          0,
          1
         ],
         "title": {
          "text": "Frame"
         }
        },
        "yaxis": {
         "anchor": "x",
         "domain": [
          0,
          1
         ],
         "title": {
          "text": "People"
         }
        }
       }
      }
     },
     "metadata": {},
     "output_type": "display_data"
    },
    {
     "data": {
      "image/png": "[encoded data removed]",
      "text/plain": [
       "<Figure size 1200x500 with 4 Axes>"
      ]
     },
     "metadata": {},
     "output_type": "display_data"
    },
    {
     "name": "stdout",
     "output_type": "stream",
     "text": [
      "\n",
      "Results:\n",
      "     Model       FPS  Avg People  People Std\n",
      "0  YOLOv8x  0.982834   12.161702    1.427971\n",
      "1  YOLO11x  1.115919   10.082270    1.379294\n"
     ]
    }
   ],
   "source": [
    "# Интерактивный график\n",
    "fig = px.line(title=\"People Count Comparison\")\n",
    "for model_name in models:\n",
    "    fig.add_scatter(\n",
    "        x=list(range(1, len(people_per_frame[model_name]) + 1)),\n",
    "        y=people_per_frame[model_name],\n",
    "        name=model_name,\n",
    "        mode='lines',\n",
    "        hovertemplate=f\"Frame: %{{x}}<br>People: %{{y}}<br>Model: {model_name}<br>Avg Confidence: %{{customdata:.2f}}\",\n",
    "        customdata=confidences[model_name]\n",
    "    )\n",
    "fig.update_layout(xaxis_title=\"Frame\", yaxis_title=\"People\")\n",
    "\n",
    "# Аннотация ключевого кадра\n",
    "fig.add_vline(x=max_diff_frame[\"number\"], line_dash=\"dash\", annotation_text=\"Max Diff\", annotation_position=\"top\")\n",
    "fig.write_html(\"people_count_comparison.html\")\n",
    "fig.show()\n",
    "\n",
    "# Тепловые карты\n",
    "plt.figure(figsize=(12, 5))\n",
    "for idx, model_name in enumerate(models, 1):\n",
    "    plt.subplot(1, 2, idx)\n",
    "    plt.imshow(heatmap[model_name], cmap=\"hot\", interpolation=\"nearest\")\n",
    "    plt.colorbar(label=\"Density\")\n",
    "    plt.title(f\"Heatmap ({model_name})\")\n",
    "plt.tight_layout()\n",
    "plt.savefig(\"heatmaps_comparison.png\")\n",
    "plt.show()\n",
    "\n",
    "# Таблица\n",
    "print(\"\\nResults:\")\n",
    "print(results_df)"
   ]
  },
  {
   "cell_type": "code",
   "execution_count": null,
   "id": "899e2bea-ee55-4145-a766-b3cbd4fafaf9",
   "metadata": {},
   "outputs": [],
   "source": []
  }
 ],
 "metadata": {
  "kernelspec": {
   "display_name": "Python 3 (ipykernel)",
   "language": "python",
   "name": "python3"
  },
  "language_info": {
   "codemirror_mode": {
    "name": "ipython",
    "version": 3
   },
   "file_extension": ".py",
   "mimetype": "text/x-python",
   "name": "python",
   "nbconvert_exporter": "python",
   "pygments_lexer": "ipython3",
   "version": "3.11.1"
  }
 },
 "nbformat": 4,
 "nbformat_minor": 5
}
